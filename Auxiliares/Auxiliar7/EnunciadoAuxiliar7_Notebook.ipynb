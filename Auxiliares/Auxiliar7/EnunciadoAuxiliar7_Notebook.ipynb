{
  "nbformat": 4,
  "nbformat_minor": 0,
  "metadata": {
    "colab": {
      "name": "EnunciadoAuxiliar7_Notebook.ipynb",
      "provenance": [],
      "include_colab_link": true
    },
    "kernelspec": {
      "name": "python3",
      "display_name": "Python 3"
    }
  },
  "cells": [
    {
      "cell_type": "markdown",
      "metadata": {
        "id": "view-in-github",
        "colab_type": "text"
      },
      "source": [
        "<a href=\"https://colab.research.google.com/github/bpoblete/CC1002/blob/master/Auxiliares/Auxiliar7/EnunciadoAuxiliar7_Notebook.ipynb\" target=\"_parent\"><img src=\"https://colab.research.google.com/assets/colab-badge.svg\" alt=\"Open In Colab\"/></a>"
      ]
    },
    {
      "cell_type": "markdown",
      "metadata": {
        "id": "qzvnqBjjO_q7"
      },
      "source": [
        "# Auxiliar 7"
      ]
    },
    {
      "cell_type": "code",
      "metadata": {
        "id": "-m-WwQRJzXb1"
      },
      "source": [
        "from estructura import *\n",
        "from lista import *\n",
        "from abb import *"
      ],
      "execution_count": null,
      "outputs": []
    },
    {
      "cell_type": "markdown",
      "metadata": {
        "id": "dbfifW5VPFJQ"
      },
      "source": [
        "**P1**\n",
        "\n",
        "Cree la función ***filtrarXY(abb, x, y)***, que dado un árbol de búsqueda binaria *abb*, retorna un nuevo árbol de búsqueda binaria que contenga solo aquellos valores de *abb* que están en el rango [x, y] (ambos incluidos). Recuerde realizar la receta de diseño y los asserts de su función"
      ]
    },
    {
      "cell_type": "code",
      "metadata": {
        "id": "jwcfm7CVw6Ni"
      },
      "source": [
        ""
      ],
      "execution_count": null,
      "outputs": []
    },
    {
      "cell_type": "markdown",
      "metadata": {
        "id": "q98NcQvXRJe3"
      },
      "source": [
        "**P2**\n",
        "\n",
        "Programe la función ***multiplos(abb, k)***, que dado un ABB de números enteros y un entero *k*, retorne una lista enlazada ordenada con todos aquellos valores de *abb* que sean múltiplo de *k*. Recuerde realizar la receta de diseño y los asserts de su función"
      ]
    },
    {
      "cell_type": "code",
      "metadata": {
        "id": "CLfEwqxKxuFo"
      },
      "source": [
        ""
      ],
      "execution_count": null,
      "outputs": []
    },
    {
      "cell_type": "markdown",
      "metadata": {
        "id": "tzl0g5tCSPO7"
      },
      "source": [
        "**P3**\n",
        "\n",
        "En esta pregunta simularemos una agenda telefónica en formato ABB, por lo que cada valor del árbol será una persona (que tiene nombre, apellido y número telefónico). Usted debe considerar que el árbol se ordena en base al apellido de la persona, si dos personas tienen el mismo apellido entonces habrá que ordenar en base al nombre. Además, no habrán dos personas con mismo nombre y apellido en la agenda telefónica.\n",
        "\n",
        "En base a lo anterior, usted deberá programar 3 funciones que permitirán simular ciertas funcionalidades de una agenda telefónica:\n",
        "\n",
        "\n",
        "\n",
        "1.   Cree la estructura *Persona*, la cual debe tener *nombre*, *apellido* y *telefono*\n",
        "2.   Cree la función ***agregarContacto(abb, p)***, la cual retorna un nuevo ABB pero con la persona *p* insertada en este.\n",
        "3.   Cree la función ***listaTelefonicaPorApellido(abb, apellido)*** que retorna una lista enlazada ordenada con todos los contactos (personas) que tengan dicho apellido.\n",
        "4.   Cree la función ***ConsultarTelefono(abb, apellido, nombre)***, que dado el nombre y apellido de una persona retorne el número telefónico de dicha persona.\n",
        "\n"
      ]
    },
    {
      "cell_type": "code",
      "metadata": {
        "id": "KbdFIkIFUDaH"
      },
      "source": [
        "# 1.\n"
      ],
      "execution_count": null,
      "outputs": []
    },
    {
      "cell_type": "code",
      "metadata": {
        "id": "Szjklg6mxIdV"
      },
      "source": [
        "# 2.\n"
      ],
      "execution_count": null,
      "outputs": []
    },
    {
      "cell_type": "code",
      "metadata": {
        "id": "HrIDgLzkTNOW"
      },
      "source": [
        "# 3.\n"
      ],
      "execution_count": null,
      "outputs": []
    },
    {
      "cell_type": "code",
      "metadata": {
        "id": "Z9OKzXUEUqK6"
      },
      "source": [
        "# 4. \n"
      ],
      "execution_count": null,
      "outputs": []
    }
  ]
}