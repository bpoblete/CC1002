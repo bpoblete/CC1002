{
  "nbformat": 4,
  "nbformat_minor": 0,
  "metadata": {
    "kernelspec": {
      "name": "python3",
      "display_name": "Python 3"
    },
    "colab": {
      "name": "Clase_01_Expresiones_y_Tipos_Datos.ipynb",
      "provenance": [],
      "collapsed_sections": [],
      "include_colab_link": true
    }
  },
  "cells": [
    {
      "cell_type": "markdown",
      "metadata": {
        "id": "view-in-github",
        "colab_type": "text"
      },
      "source": [
        "<a href=\"https://colab.research.google.com/github/bpoblete/CC1002/blob/master/Clases/Clase_01_Expresiones_y_Tipos_Datos.ipynb\" target=\"_parent\"><img src=\"https://colab.research.google.com/assets/colab-badge.svg\" alt=\"Open In Colab\"/></a>"
      ]
    },
    {
      "cell_type": "markdown",
      "metadata": {
        "id": "dQ_uW2m8qJLj"
      },
      "source": [
        "# Clase 1: Expresiones y Tipos de Datos Básicos\n",
        "\n",
        "\n",
        "## Objetivos del curso\n",
        "\n",
        "- Base de razonamiento lógico y algorítmico.\n",
        "- Modelamiento y abstracción.\n",
        "- Importante para resolver problemas!\n",
        "\n",
        "\n",
        "## ¿Qué es un algoritmo?\n",
        "\n",
        "Un algoritmo es una secuencia finita de pasos que permiten ejecutar cualquier tarea (como por ejemplo, hacer un huevo frito). La palabra algoritmo viene de la transcripción latina del nombre de _Abu Abdallah Muhammad ibn Musa al-Khwarizmi_, un famoso matemático, astrónomo y geógrafo persa del siglo IX, padre del álgebra y quien introdujo el concepto matemático de algoritmo.\n",
        "\n",
        "\n",
        "### Ejemplo \"cocinar un huevo frito\".\n",
        "\n",
        "- Problema?\n",
        "- Elementos?\n",
        "\n",
        "- Pasos de ejecución (romper el problema en unidades básicas):\n",
        "\n",
        "1. Encender un `fósforo`\n",
        "2. Con el `fósforo`, prender un quemador de la `cocina`\n",
        "3. Colocar la `sartén` sobre el quemador de la `cocina`\n",
        "4. Poner unas gotas de `aceite` sobre la `sartén`\n",
        "5. Tomar un `huevo` y quebrarlo\n",
        "6. Colocar el huevo quebrado sobre la `sartén`\n",
        "7. Esperar hasta que el `huevo` esté listo\n",
        "\n",
        "\n",
        "\n"
      ]
    },
    {
      "cell_type": "markdown",
      "metadata": {
        "id": "HtHzgBsKqJLk"
      },
      "source": [
        "## ¿Qué es un programa?\n",
        "\n",
        "- Especificación ejecutable de un algoritmo.\n",
        "- Para representar un programa en un computador utilizamos un lenguaje de programación (Python)\n",
        "- Comenzaremos a trabajar con su interprete: lee las expresiones, las evalua e imprime su resultado.\n",
        "- Python es una herramienta no es un fin, el objetivo es aprender a resolver problemas.\n",
        "\n",
        "***\n",
        "\n",
        "\n",
        "# Programas simples\n",
        "\n",
        "\n",
        "## Tipos de datos básicos\n",
        "\n",
        "Indica al computador las características de los datos con los que va a trabajar. Esto incluye imponer restricciones sobre los datos, tales como qué valores puede tomar o qué operaciones se pueden realizar sobre éste. Todos los valores en un programa tienen un tipo.\n",
        "\n",
        "**Enteros (int)**:\n",
        "`-1, -2, -3,.., 0, 1, 2, ..`\n",
        "\n",
        "**Reales (float)**:\n",
        "`0.3456`, cualquier número con punto decimal.\n",
        "\n",
        "**Texto (str)**:\n",
        "`'hola'`, `\"Mi mascota es un ñandú\"`, `'123'` etc.\n",
        "\n"
      ]
    },
    {
      "cell_type": "markdown",
      "metadata": {
        "id": "Ud9qHdjRqJLk"
      },
      "source": [
        "## Evaluación de expresiones\n",
        "\n",
        "Con los tipos de datos explicados anteriormente, podemos realizar operaciones entre ellos utilizando operadores específicos en cada caso. Así, para datos numéricos (enteros y reales), podemos usar los operadores de suma (`+`), resta (`-`), multiplicación (`*`) y división (`/`). Las prioridades de los operadores es la misma usada en álgebra"
      ]
    },
    {
      "cell_type": "code",
      "metadata": {
        "id": "tE-ayZosqJLl"
      },
      "source": [
        "3+5"
      ],
      "execution_count": null,
      "outputs": []
    },
    {
      "cell_type": "code",
      "metadata": {
        "id": "88uW82cTqJLr"
      },
      "source": [
        "3+2*5"
      ],
      "execution_count": null,
      "outputs": []
    },
    {
      "cell_type": "code",
      "metadata": {
        "id": "hq5nX-6zqJLt"
      },
      "source": [
        "(3 + 2) * 5"
      ],
      "execution_count": null,
      "outputs": []
    },
    {
      "cell_type": "markdown",
      "metadata": {
        "id": "MjEWheSzqJLv"
      },
      "source": [
        "Operador de potencia (`**`):"
      ]
    },
    {
      "cell_type": "code",
      "metadata": {
        "id": "95VX2E-WqJLv"
      },
      "source": [
        "2 ** 3"
      ],
      "execution_count": null,
      "outputs": []
    },
    {
      "cell_type": "code",
      "metadata": {
        "id": "veqpypsaqJLx"
      },
      "source": [
        "4**0.5"
      ],
      "execution_count": null,
      "outputs": []
    },
    {
      "cell_type": "markdown",
      "metadata": {
        "id": "lBL_rtB3_57S"
      },
      "source": [
        " Y calcular el resto de una división entera (`%`):"
      ]
    },
    {
      "cell_type": "code",
      "metadata": {
        "id": "zofxl8vCqJLz"
      },
      "source": [
        "10%3"
      ],
      "execution_count": null,
      "outputs": []
    },
    {
      "cell_type": "markdown",
      "metadata": {
        "id": "kH093gtoqJL1"
      },
      "source": [
        "Operaciones con texto, concatenación (unir o sumar '`+`') y repetir '`*`':"
      ]
    },
    {
      "cell_type": "code",
      "metadata": {
        "id": "SFNnuqH_qJL3"
      },
      "source": [
        "'abra' +    'cadabra'"
      ],
      "execution_count": null,
      "outputs": []
    },
    {
      "cell_type": "code",
      "metadata": {
        "id": "ljmhIbw9qJL6"
      },
      "source": [
        "'ja'*3\n"
      ],
      "execution_count": null,
      "outputs": []
    },
    {
      "cell_type": "markdown",
      "metadata": {
        "id": "wbWSY2XuAdH9"
      },
      "source": [
        "En muchos lenguajes de programación el tipo de dato del resultado de evaluar una expresión dependerá de los operandos. Por ejemplo, en el caso del operador `+` (suma), si la expresión está compuesta por enteros el resultado también será  entero:"
      ]
    },
    {
      "cell_type": "code",
      "metadata": {
        "id": "1VzlEavWBKd0"
      },
      "source": [
        "1+2"
      ],
      "execution_count": null,
      "outputs": []
    },
    {
      "cell_type": "code",
      "metadata": {
        "id": "qCL2gjjkBPcC"
      },
      "source": [
        "1.0+2.0"
      ],
      "execution_count": null,
      "outputs": []
    },
    {
      "cell_type": "code",
      "metadata": {
        "id": "lrJDWcOGBPmi"
      },
      "source": [
        "1+2.0"
      ],
      "execution_count": null,
      "outputs": []
    },
    {
      "cell_type": "code",
      "metadata": {
        "id": "eDK6t-MzBWlF"
      },
      "source": [
        "1.0+2"
      ],
      "execution_count": null,
      "outputs": []
    },
    {
      "cell_type": "markdown",
      "metadata": {
        "id": "zWkRvW-wBjCK"
      },
      "source": [
        "El único operador que no sigue la regla anterior es '`/`' (división), que siempre produce números flotantes:"
      ]
    },
    {
      "cell_type": "code",
      "metadata": {
        "id": "aFDgwQj4Bapv"
      },
      "source": [
        "1/2"
      ],
      "execution_count": null,
      "outputs": []
    },
    {
      "cell_type": "markdown",
      "metadata": {
        "id": "6huzgf-EqJL8"
      },
      "source": [
        "Si quiero que la división entregue sólo la parte entera del resultado debo usar el operador '`//`' (división entera):"
      ]
    },
    {
      "cell_type": "code",
      "metadata": {
        "id": "Nts24w0-qJL9"
      },
      "source": [
        "1//2"
      ],
      "execution_count": null,
      "outputs": []
    },
    {
      "cell_type": "code",
      "metadata": {
        "id": "1PqChjwHqJL_"
      },
      "source": [
        "1.0//2.0"
      ],
      "execution_count": null,
      "outputs": []
    },
    {
      "cell_type": "markdown",
      "metadata": {
        "id": "ilIDp_Q7qJME"
      },
      "source": [
        "Finalmente, si queremos juntar valores de tipo texto con valores de tipo numérico, debemos convertir estos últimos previamente a valores de tipo texto. Por ejemplo, si queremos transformar un valor **`n`** a un valor equivalente de tipo texto, utilizamos la función de Python **`str`**. De igual manera, si tenemos un valor de tipo texto que se puede entender como número, por ejemplo '103', podemos convertir el valor en tipo numérico usando las funciones int y float. Así:"
      ]
    },
    {
      "cell_type": "code",
      "metadata": {
        "id": "Xt-EbEY3qJME"
      },
      "source": [
        "'En el curso hay '+ str(30) +' alumnos'"
      ],
      "execution_count": null,
      "outputs": []
    },
    {
      "cell_type": "code",
      "metadata": {
        "id": "N4oeFDLoqJMG"
      },
      "source": [
        "'100'+'1'"
      ],
      "execution_count": null,
      "outputs": []
    },
    {
      "cell_type": "code",
      "metadata": {
        "id": "EZJjiuMtqJMI"
      },
      "source": [
        "int('100') + 1"
      ],
      "execution_count": null,
      "outputs": []
    },
    {
      "cell_type": "markdown",
      "metadata": {
        "id": "QQ8tA5WgqJMM"
      },
      "source": [
        "\n",
        "# Variables\n",
        "\n",
        "Sirven para guardar resultados de evaluaciones de expresiones.\n",
        "\n"
      ]
    },
    {
      "cell_type": "code",
      "metadata": {
        "id": "hPJfNDwmqJMN"
      },
      "source": [
        "a = 8 # la variable a contiene el valor 8"
      ],
      "execution_count": null,
      "outputs": []
    },
    {
      "cell_type": "code",
      "metadata": {
        "id": "AYOBRFqtqJMQ"
      },
      "source": [
        "b = 12 # la variable b contiene el valor 12"
      ],
      "execution_count": null,
      "outputs": []
    },
    {
      "cell_type": "code",
      "metadata": {
        "id": "8VKna6gcqJMU"
      },
      "source": [
        "a # mostramos el valor de a"
      ],
      "execution_count": null,
      "outputs": []
    },
    {
      "cell_type": "code",
      "metadata": {
        "id": "5hWGXei1qJMW"
      },
      "source": [
        "a+b # creamos una expresión y mostramos su valor\n"
      ],
      "execution_count": null,
      "outputs": []
    },
    {
      "cell_type": "code",
      "metadata": {
        "id": "Rnn6lTw5qJMY"
      },
      "source": [
        "c = a + 2 * b # creamos una expresión, se evalúa y se define c con su valor"
      ],
      "execution_count": null,
      "outputs": []
    },
    {
      "cell_type": "code",
      "metadata": {
        "id": "2gkZBdykqJMZ"
      },
      "source": [
        "c # mostramos el valor de c"
      ],
      "execution_count": null,
      "outputs": []
    },
    {
      "cell_type": "code",
      "metadata": {
        "id": "6737faF6qJMb"
      },
      "source": [
        "a = 10 # redefinimos a"
      ],
      "execution_count": null,
      "outputs": []
    },
    {
      "cell_type": "code",
      "metadata": {
        "id": "fyd-WgCiqJMd"
      },
      "source": [
        "a + b"
      ],
      "execution_count": null,
      "outputs": []
    },
    {
      "cell_type": "code",
      "metadata": {
        "id": "Lys7h0oeqJMf"
      },
      "source": [
        "c # el valor no cambia ya que lo cambiamos antes de la re-definición de a"
      ],
      "execution_count": null,
      "outputs": []
    },
    {
      "cell_type": "markdown",
      "metadata": {
        "id": "7pnMq1M1qJMg"
      },
      "source": [
        "**\\#** sirve para introducir comentarios\n",
        "\n",
        "# Usar nombres descriptivos para las variables\n",
        "\n",
        "Mal ejemplo:"
      ]
    },
    {
      "cell_type": "code",
      "metadata": {
        "id": "kYQO4aIaqJMh"
      },
      "source": [
        "a = 8\n",
        "b = 12\n",
        "c = a * b"
      ],
      "execution_count": null,
      "outputs": []
    },
    {
      "cell_type": "markdown",
      "metadata": {
        "id": "2HNNGhQ9qJMi"
      },
      "source": [
        "\n",
        "Mejor:"
      ]
    },
    {
      "cell_type": "code",
      "metadata": {
        "id": "7WwoCxenqJMj"
      },
      "source": [
        "ancho = 8\n",
        "largo = 12\n",
        "area = ancho*largo\n",
        "area"
      ],
      "execution_count": null,
      "outputs": []
    },
    {
      "cell_type": "code",
      "metadata": {
        "id": "qoZg7vYfqJMl"
      },
      "source": [
        "dia='12'; mes='marzo'; agno='2018'\n",
        "hoy = dia +' de '+ mes + ' de '+ agno\n",
        "hoy"
      ],
      "execution_count": null,
      "outputs": []
    },
    {
      "cell_type": "markdown",
      "metadata": {
        "collapsed": true,
        "id": "Epzb_FH9qJMn"
      },
      "source": [
        "\n",
        "# Errores\n",
        "\n",
        "\n",
        "Errores de tipo"
      ]
    },
    {
      "cell_type": "code",
      "metadata": {
        "id": "DdLqLIIBqJMo"
      },
      "source": [
        "dia = 13\n",
        "mes = 'marzo'\n",
        "'Hoy es ' + dia + ' de ' + mes"
      ],
      "execution_count": null,
      "outputs": []
    },
    {
      "cell_type": "code",
      "metadata": {
        "id": "iLIXLTSZqJMq"
      },
      "source": [
        "dia = 13\n",
        "mes = 'marzo'\n",
        "'Hoy es ' + str(dia) + ' de ' + mes"
      ],
      "execution_count": null,
      "outputs": []
    },
    {
      "cell_type": "markdown",
      "metadata": {
        "collapsed": true,
        "id": "--NFLNiTqJMt"
      },
      "source": [
        "\n",
        "Errores de indentación\n",
        "\n"
      ]
    },
    {
      "cell_type": "code",
      "metadata": {
        "id": "T2IYLSMIqJMu"
      },
      "source": [
        "x = 3\n",
        "    x\n"
      ],
      "execution_count": null,
      "outputs": []
    },
    {
      "cell_type": "markdown",
      "metadata": {
        "id": "5kSFKTydqJMw"
      },
      "source": [
        "Errores de sintaxis"
      ]
    },
    {
      "cell_type": "code",
      "metadata": {
        "id": "VP6U0NCZqJMx"
      },
      "source": [
        "numero = 15\n",
        "antecesor = (numero - 1))"
      ],
      "execution_count": null,
      "outputs": []
    },
    {
      "cell_type": "markdown",
      "metadata": {
        "collapsed": true,
        "id": "tZl-AXApqJMz"
      },
      "source": [
        "Errores de nombre"
      ]
    },
    {
      "cell_type": "code",
      "metadata": {
        "id": "KeNkAGVtqJM0"
      },
      "source": [
        "lado1 = 15\n",
        "area = lado1/lado2"
      ],
      "execution_count": null,
      "outputs": []
    },
    {
      "cell_type": "markdown",
      "metadata": {
        "id": "RDXa_zLcCoPG"
      },
      "source": [
        "# Ejercicio 0: \n",
        "<mark>Ahora que revisaste todo el material ¡No olvides realizar el **Ejercicio 1 publicado en la sección Tareas de [U-Cursos](https://www.u-cursos.cl/)**!</mark>"
      ]
    }
  ]
}