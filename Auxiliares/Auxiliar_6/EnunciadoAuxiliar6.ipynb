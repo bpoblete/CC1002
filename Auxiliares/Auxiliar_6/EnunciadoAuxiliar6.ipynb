{
  "nbformat": 4,
  "nbformat_minor": 0,
  "metadata": {
    "colab": {
      "name": "EnunciadoAuxiliar6.ipynb",
      "provenance": [],
      "collapsed_sections": [],
      "authorship_tag": "ABX9TyOlBTBxdMY7xrYGriSorCES",
      "include_colab_link": true
    },
    "kernelspec": {
      "name": "python3",
      "display_name": "Python 3"
    },
    "language_info": {
      "name": "python"
    }
  },
  "cells": [
    {
      "cell_type": "markdown",
      "metadata": {
        "id": "view-in-github",
        "colab_type": "text"
      },
      "source": [
        "<a href=\"https://colab.research.google.com/github/bpoblete/CC1002/blob/master/Auxiliares/Auxiliar_6/EnunciadoAuxiliar6.ipynb\" target=\"_parent\"><img src=\"https://colab.research.google.com/assets/colab-badge.svg\" alt=\"Open In Colab\"/></a>"
      ]
    },
    {
      "cell_type": "markdown",
      "metadata": {
        "id": "x7qhwCehMzsL"
      },
      "source": [
        "# Auxiliar 6 - Estructuras Recursivas y Abstracción funcional\n"
      ]
    },
    {
      "cell_type": "markdown",
      "metadata": {
        "id": "pUXgPOHYNJHf"
      },
      "source": [
        "## Pregunta 1"
      ]
    },
    {
      "cell_type": "markdown",
      "metadata": {
        "id": "-1HaQzvUNPye"
      },
      "source": [
        "A un profesor de la universidad le gustaría tener información acerca de las evaluaciones entregadas de sus alumnos. Además de esto le gustaría saber el total de alumnos aprobados y reprobados en el curso, esto dependiendo de la cantidad de evaluaciones entregadas. Usted decide ayudarlo, por lo que debe crear una función que realice esta tarea. Para esto siga los siguientes pasos:\n",
        "\n",
        "- Cree una estructura **alumno** que posea los campos **nombre** y **cantidad_evaluaciones_entregadas**.\n",
        "- Los alumnos deben ser guardados en una lista.\n",
        "- Implementar la función recursiva **cantidad_alumnos_aprobados** que dada una lista de alumnos y un número que representa la cantidad de evaluaciones para aprobar, nos entregue la cantidad de alumnos aprobados en el curso."
      ]
    },
    {
      "cell_type": "code",
      "metadata": {
        "id": "sJushP9JWo7v"
      },
      "source": [
        "# Receta diseño estructura aquí\n",
        "# Cree su estructura aquí\n",
        "\n",
        "# Inserte receta de diseño de la función\n",
        "def cantidad_alumnos_aprobados(lista_alumnos, evaluaciones_para aprobar):\n",
        "  # Cuerpo de su función\n",
        "\n",
        "# Tests"
      ],
      "execution_count": null,
      "outputs": []
    },
    {
      "cell_type": "markdown",
      "metadata": {
        "id": "CGXXcpBNNR0E"
      },
      "source": [
        "## Pregunta 2"
      ]
    },
    {
      "cell_type": "markdown",
      "metadata": {
        "id": "Bjq8buA8U-tF"
      },
      "source": [
        "El profesor de la Pregunta 1, además le gustaría saber que alumnos son los que aprueban y reprueban en su curso. Es por esto que debe implementar las funciónes **alumnos_aprobados()** y **alumnos_reprobados()**, que reciban una lista con alumnos y la cantidad de evaluaciones para aprobar, y que entreguen una lista con los alumnos que aprueban y reprueban respectivamente. NOTA: No utilice las funciones de abstracción funcional"
      ]
    },
    {
      "cell_type": "code",
      "metadata": {
        "id": "LeIHvqU6WqMj"
      },
      "source": [
        "# Inserte Receta de diseño\n",
        "def alumnos_aprobados(lista_alumnos, evaluaciones_para_aprobar):\n",
        "  # Su codigo\n",
        "\n",
        "# Tests"
      ],
      "execution_count": null,
      "outputs": []
    },
    {
      "cell_type": "code",
      "metadata": {
        "id": "QbmgTYSKZc8Y"
      },
      "source": [
        "# Inserte Receta de diseño\n",
        "def alumnos_reprobados(lista_alumnos, evaluaciones_para_aprobar):\n",
        "  # Su codigo\n",
        "\n",
        "# Tests"
      ],
      "execution_count": null,
      "outputs": []
    },
    {
      "cell_type": "markdown",
      "metadata": {
        "id": "CN5V7W_7NT1f"
      },
      "source": [
        "## Pregunta 3"
      ]
    },
    {
      "cell_type": "markdown",
      "metadata": {
        "id": "W8ssqVcZT8r5"
      },
      "source": [
        "- Implemente la pregunta 2, pero utilizando la función filtro de abstracción funcional. Para ello cree una función que dado un alumno, entregue true o false dependiendo de si el estudiante aprobó o no el curso.\n",
        "Deberá modificar un poco la función filtro entregada en la clase 11, para que reciba un parametro para ser usado en el 'operador'."
      ]
    },
    {
      "cell_type": "code",
      "metadata": {
        "id": "1um-HAd_WqmX"
      },
      "source": [
        "## Recuerde realizar la modificacion\n",
        "\n",
        "# filtro: (X -> bool) lista(X) -> lista(X)\n",
        "# devuelve lista con todos los valores donde operador devuelve True \n",
        "def filtro(operador , unaLista):\n",
        "    if vacia(unaLista): \n",
        "        return listaVacia\n",
        "    else:\n",
        "        if operador(cabeza(unaLista)):\n",
        "            return lista(cabeza(unaLista), filtro(operador, cola(unaLista)))\n",
        "        else:\n",
        "            return filtro(operador , cola(unaLista))"
      ],
      "execution_count": null,
      "outputs": []
    },
    {
      "cell_type": "code",
      "metadata": {
        "id": "Gq5zVpK4aXLR"
      },
      "source": [
        "# Receta de su función\n",
        "def esta_aprobado(alumno, evaluaciones_para_aprobar):\n",
        "  # Su codigo\n",
        "\n",
        "# Tests\n",
        "\n",
        "# Inserte Receta de diseño\n",
        "def alumnos_aprobados(lista_alumnos, evaluaciones_para_aprobar):\n",
        "  # Su codigo\n",
        "\n",
        "# Tests"
      ],
      "execution_count": null,
      "outputs": []
    },
    {
      "cell_type": "code",
      "metadata": {
        "id": "UlS5RgIgasR4"
      },
      "source": [
        "# Receta de su función\n",
        "def esta_reprobado(alumno, evaluaciones_para_aprobar):\n",
        "  # Su codigo\n",
        "\n",
        "# Tests\n",
        "\n",
        "# Inserte Receta de diseño\n",
        "def alumnos_reprobados(lista_alumnos, evaluaciones_para_aprobar):\n",
        "  # Su codigo\n",
        "\n",
        "# Tests"
      ],
      "execution_count": null,
      "outputs": []
    },
    {
      "cell_type": "markdown",
      "metadata": {
        "id": "hJ30S41UWt9k"
      },
      "source": [
        "## Pregunta 4\n",
        "- Implemente nuevamente la función **cantidad_alumnos_aprobados** de la Pregunta 1, pero ahora utilizando la función de la pregunta 3."
      ]
    },
    {
      "cell_type": "code",
      "metadata": {
        "id": "hs3nKrZPWvN0"
      },
      "source": [
        "# Inserte Receta de diseño\n",
        "def contar_elementos(lista):\n",
        "  # Su codigo\n",
        "\n",
        "# Tests\n",
        "\n",
        "# Inserte Receta de diseño\n",
        "def cantidad_alumnos_aprobados(lista_alumnos, evaluaciones_para_aprobar):\n",
        "  # Su codigo\n",
        "\n",
        "# Tests"
      ],
      "execution_count": null,
      "outputs": []
    },
    {
      "cell_type": "markdown",
      "metadata": {
        "id": "pwwtYjE4XlII"
      },
      "source": [
        "- Vuelva a implementar el punto 2 de la Pregunta 1, pero ahora utilizando la función map y fold. Para esto dado una lista, aplique la función map con una función que retorna 1 si el alumno esta aprobado, y 0 si esta reprobado. Luego con la función fold sume los valores de la lista (puede utilizar la función sumar de la clase 11). Deberá modificar un poco la función map entregada en la clase 11, para que reciba un parametro para ser usado en el 'operador'."
      ]
    },
    {
      "cell_type": "code",
      "metadata": {
        "id": "d60TDMYTa9Ie"
      },
      "source": [
        "#### Recuerde realizar la modificación\n",
        "\n",
        "# mapa : (X -> Y) lista(X) -> lista(Y)\n",
        "# devuelve lista con funcion aplicada a todos sus elementos\n",
        "def mapa(funcion, unaLista): \n",
        "    if vacia(unaLista): \n",
        "        return listaVacia\n",
        "    else:\n",
        "        return lista(funcion(cabeza(unaLista)), mapa(funcion, cola(unaLista)))\n",
        "\n",
        "# fold: (X X -> X) X lista(X) -> X\n",
        "# procesa la lista con funcion y devuelve un unico valor\n",
        "# el valor init se usa como valor inicial para procesar el primer\n",
        "# valor de la lista y como acumulador para los resultados\n",
        "# parciales\n",
        "# pre-condicion: la lista debe tener al menos un valor\n",
        "\n",
        "def fold(funcion, init, unaLista):\n",
        "    if vacia(cola(unaLista)): # un solo valor\n",
        "        return funcion(init, cabeza(unaLista))\n",
        "    else:\n",
        "        return fold(funcion, funcion(init, cabeza(unaLista)), cola(unaLista))"
      ],
      "execution_count": null,
      "outputs": []
    },
    {
      "cell_type": "code",
      "metadata": {
        "id": "osOaVGwfbFDk"
      },
      "source": [
        "# Receta de su función\n",
        "def esta_aprobado(alumno, evaluaciones_para aprobar):\n",
        "  # Su codigo\n",
        "\n",
        "# Tests\n",
        "\n",
        "\n",
        "\n",
        "\n",
        "\n",
        "# Inserte receta de diseño de la función\n",
        "def cantidad_alumnos_aprobados(lista_alumnos, evaluaciones_para_aprobar):\n",
        "  # Cuerpo de su función\n",
        "\n",
        "# Tests"
      ],
      "execution_count": null,
      "outputs": []
    }
  ]
}