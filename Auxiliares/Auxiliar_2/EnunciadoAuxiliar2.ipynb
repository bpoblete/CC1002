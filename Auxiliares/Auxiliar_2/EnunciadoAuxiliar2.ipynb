{
  "nbformat": 4,
  "nbformat_minor": 0,
  "metadata": {
    "colab": {
      "name": "EnunciadoAuxiliar2.ipynb",
      "provenance": [],
      "include_colab_link": true
    },
    "kernelspec": {
      "display_name": "Python 3",
      "language": "python",
      "name": "python3"
    },
    "language_info": {
      "codemirror_mode": {
        "name": "ipython",
        "version": 3
      },
      "file_extension": ".py",
      "mimetype": "text/x-python",
      "name": "python",
      "nbconvert_exporter": "python",
      "pygments_lexer": "ipython3",
      "version": "3.8.3"
    }
  },
  "cells": [
    {
      "cell_type": "markdown",
      "metadata": {
        "id": "view-in-github",
        "colab_type": "text"
      },
      "source": [
        "<a href=\"https://colab.research.google.com/github/bpoblete/CC1002/blob/master/Auxiliares/Auxiliar_2/EnunciadoAuxiliar2.ipynb\" target=\"_parent\"><img src=\"https://colab.research.google.com/assets/colab-badge.svg\" alt=\"Open In Colab\"/></a>"
      ]
    },
    {
      "cell_type": "markdown",
      "metadata": {
        "id": "1ez0Dvt5tXrQ"
      },
      "source": [
        "# Auxiliar 2\n",
        "\n"
      ]
    },
    {
      "cell_type": "markdown",
      "metadata": {
        "id": "lslI5ErE9uyp"
      },
      "source": [
        "### Pregunta 1 - El juego de la oca\n",
        " \n",
        "En el \"juego de la oca\" un jugador avanza su ficha por un tablero lineal de 63 casillas, lanzando en cada turno dos dados de 6 caras simultáneamente. El objetivo del juego es llegar a la casilla 63, pero sin pasarse. Esto es, si el jugador no cae exactamente en la meta, entonces se devuelve tantas casillas como las que se pasó. Además, en el tablero existen casillas especiales que se llaman \"ocas\" (que corresponden a la 9, 18, 27, 36, 45, 54 y 63) y hacen que el jugador se mueva automáticamente desde una \"oca\" a la siguiente.\n",
        "\n",
        "Cree un archivo .ipynb o .py y escriba la función de nombre **mover** con su receta de diseño. Esta recibe como entrada el número de la casilla en que está el jugador y los valores de cada dado lanzado, y devuelve el número de la casilla en la que queda al terminar su turno.\n",
        "\n",
        "Ejemplos:\n",
        "- Si estaba en la casilla 1 y saca 9, entonces se mueve a la 10. Así, mover(1,4,5) entrega 10.\n",
        "- Si estaba en la 1 y saca 8, entonces se mueve a la 9, pero como es oca, termina en la 18 (que es la oca que sigue al 9). De esta forma, mover(1,4,4) entrega 18.\n",
        "- Si estaba en la 55 y saca 10, entonces se mueve a la 61, porque al llegar a la 63 le sobraron 2 casillas por mover, y entonces se devuelve esas 2 casillas. Esto implica que, mover(55,4,6) devuelve 61.\n",
        "- Si estaba en la 62 y saca 10, entonces cae en la 54, pero como es oca, termina en la 63. Entonces, mover(62,5,5) entrega 63.\n",
        "\n"
      ]
    },
    {
      "cell_type": "markdown",
      "metadata": {
        "id": "cyUlx8ubttXS"
      },
      "source": [
        "Ahora pruebe su función con dos lanzamientos generados aleatoriamente importando el módulo donde se encuentra la función mover.\n",
        "\n",
        "**Hint**: Para simular el lanzamiento de un dado use la función randint del módulo random. Por ejemplo, random.randint(13,21) devuelve un número entero N al azar, tal que 13<=N<=21.\n",
        "\n"
      ]
    },
    {
      "cell_type": "code",
      "metadata": {
        "id": "QoHbkkdguZ1N"
      },
      "source": [
        "#Aquí las instrucciones del programa de prueba"
      ],
      "execution_count": null,
      "outputs": []
    },
    {
      "cell_type": "markdown",
      "metadata": {
        "id": "arukfEjg9uPR"
      },
      "source": [
        "### Pregunta 2 -  Pokemon GO forever\n",
        "\n",
        "Considere un escenario donde usted es adicto a Pokémon GO en el 2021 y todos sus amig@s dejaron de jugar. Resulta que ya no le puede preguntar a su mejor amigo las debilidades de cada tipo de Pokémon (para simplificar el problema supondremos que solo hay tres tipos: hierba, fuego y agua). Entonces, usted decide escribir un programa interactivo para saber cuál tipo es débil contra otro. El diálogo que debe establecer el programa es el siguiente:\n",
        "\n",
        "```\n",
        "Ingrese el tipo de Pokémon: fuego\n",
        "\n",
        "hierba es débil contra fuego\n",
        "```\n",
        "\n",
        "Para resolver el problema debes construir un módulo llamado 'debilidades_tipos', este contendrá tres funciones, una por cada tipo. Cada una de ellas recibirá un tipo y verificará si el correspondiente a la función es fuerte contra el recibido como parámetro.\n",
        "\n",
        "Datos: \n",
        "- Agua es fuerte contra fuego\n",
        "- Hierba es fuerte contra agua\n",
        "- Fuego es fuerte contra hierba \n"
      ]
    },
    {
      "cell_type": "code",
      "metadata": {
        "id": "nraSTvDH9t42"
      },
      "source": [
        "#Aquí las instrucciones del programa interactivo"
      ],
      "execution_count": null,
      "outputs": []
    },
    {
      "cell_type": "markdown",
      "metadata": {
        "id": "glZkzdIo8dy6"
      },
      "source": [
        "### Pregunta 3 - Romanos por doquier\n",
        "Considere la función decimal \n",
        "\n",
        "```\n",
        "def decimal(x):              \t\n",
        "    if x=='I': \n",
        "      return 1\t\t\n",
        "    if x=='V': \n",
        "      return 5\t\t\n",
        "    if x=='X': \n",
        "      return 10\t\t\n",
        "    if x=='L': \n",
        "      return 50\t\t\n",
        "    if x=='C': \n",
        "      return 100\t\n",
        "    if x=='D': \n",
        "      return 500\t\n",
        "    if x=='M': \n",
        "      return 1000\t\n",
        "    return 0 \t\n",
        "```\n",
        "Escriba la función decimal2 que entrega el valor decimal de un número romano de dos dígitos. Esta debe llevar receta de diseño y al menos dos casos de prueba.\n",
        "\n",
        "Por ejemplo: decimal2('V','I') entrega 6.\n",
        "\n",
        "Observaciones:\n",
        "- El primer dígito se resta del segundo dígito si su valor es menor y se suma al segundo si su valor no es menor.\n",
        "- La función debe entregar el valor cero en caso de que alguno de los parámetros no sea un dígito romano.\n"
      ]
    },
    {
      "cell_type": "code",
      "metadata": {
        "id": "rSkjlD0itUHC"
      },
      "source": [
        "def decimal(x):                  \n",
        "    if x=='I': \n",
        "      return 1        \n",
        "    if x=='V': \n",
        "      return 5        \n",
        "    if x=='X': \n",
        "      return 10        \n",
        "    if x=='L': \n",
        "      return 50        \n",
        "    if x=='C': \n",
        "      return 100    \n",
        "    if x=='D': \n",
        "      return 500    \n",
        "    if x=='M': \n",
        "      return 1000    \n",
        "    return 0     \n",
        "\n",
        "#Receta\n",
        "def decimal2(x,y):"
      ],
      "execution_count": null,
      "outputs": []
    }
  ]
}