{
  "nbformat": 4,
  "nbformat_minor": 0,
  "metadata": {
    "colab": {
      "name": "Pauta_Auxiliar_10.ipynb",
      "provenance": [],
      "collapsed_sections": [
        "bO3bxk23RJ2m",
        "S8mm1Ni4ROJc",
        "rPLsa33IDkf2"
      ],
      "include_colab_link": true
    },
    "kernelspec": {
      "name": "python3",
      "display_name": "Python 3"
    },
    "language_info": {
      "name": "python"
    }
  },
  "cells": [
    {
      "cell_type": "markdown",
      "metadata": {
        "id": "view-in-github",
        "colab_type": "text"
      },
      "source": [
        "<a href=\"https://colab.research.google.com/github/bpoblete/CC1002/blob/master/Auxiliares/Auxiliar_10/PautaAuxiliar10.ipynb\" target=\"_parent\"><img src=\"https://colab.research.google.com/assets/colab-badge.svg\" alt=\"Open In Colab\"/></a>"
      ]
    },
    {
      "cell_type": "markdown",
      "metadata": {
        "id": "wOM9UqAxREgx"
      },
      "source": [
        "# Pauta Auxiliar 10\n",
        "## Estructuras Mutables y Listas de Python"
      ]
    },
    {
      "cell_type": "markdown",
      "metadata": {
        "id": "bO3bxk23RJ2m"
      },
      "source": [
        "### P1 ONU\n",
        "\n",
        "La ONU requiere su ayuda manteniendo un registro de los países del mundo.\n",
        "Para esto le solicitan a usted que cree la estructura país, la cual permite almacenar el nombre, continente y número de habitantes de un país."
      ]
    },
    {
      "cell_type": "markdown",
      "metadata": {
        "id": "wNqmOd7ACQqo"
      },
      "source": [
        "##### A) Cree la estructura 'Pais' con los atributos necesarios."
      ]
    },
    {
      "cell_type": "code",
      "metadata": {
        "id": "W3UuYD3VCPxi"
      },
      "source": [
        "import estructura\n",
        "# Pais: nombre(string) continente(string) habitantes(int)\n",
        "estructura.crear(\"Pais\", \"nombre continente habitantes\")"
      ],
      "execution_count": null,
      "outputs": []
    },
    {
      "cell_type": "markdown",
      "metadata": {
        "id": "ay3IE6gZCWfv"
      },
      "source": [
        "##### B) Cree la estructura mutable PaisMut con los atribuos necesarios."
      ]
    },
    {
      "cell_type": "code",
      "metadata": {
        "id": "4PsKPM6ZCX0p"
      },
      "source": [
        "# PaisMut: nombre(string) continente(string) habitantes(int)\n",
        "estructura.mutable(\"PaisMut\", \"nombre continente habitantes\")"
      ],
      "execution_count": null,
      "outputs": []
    },
    {
      "cell_type": "markdown",
      "metadata": {
        "id": "GN1NVFY6Cfva"
      },
      "source": [
        "##### C) Defina la función cambiarHabitantes, que recibe un Pais y una cantidad de habitantes y actualiza la cantidad de habitantes del Pais en cuestión."
      ]
    },
    {
      "cell_type": "code",
      "metadata": {
        "id": "37en7kLjChGF"
      },
      "source": [
        "#cambiarHabitantes: Pais, int -> Pais\n",
        "#Cambia la cantidad de habitantes del pais por n\n",
        "#Ej: cambiarHabitantes(Pais(\"Chile\", \"America\", 1), 100) entrega Pais(\"Chile\", \"America\", 100)\n",
        "def cambiarHabitantes(pais, n):\n",
        "  return Pais(pais.nombre, pais.continente, n)\n",
        "\n",
        "assert cambiarHabitantes(Pais(\"Chile\", \"America\", 1), 100) == Pais(\"Chile\", \"America\", 100)"
      ],
      "execution_count": null,
      "outputs": []
    },
    {
      "cell_type": "markdown",
      "metadata": {
        "id": "0HL37R3VCi6M"
      },
      "source": [
        "##### D) Defina la función cambiarHabitantesMut, que recibe un PaisMut y una cantidad de habitantes y actualiza la cantidad de habitantes del PaisMut en cuestión."
      ]
    },
    {
      "cell_type": "code",
      "metadata": {
        "id": "-hJxVSocCnTW"
      },
      "source": [
        "#cambiarHabitantesMut: PaisMut, int -> None\n",
        "#efecto: Cambia la cantidad de habitantes del pais por n\n",
        "#Ej: cambiarHabitantesMut(PaisMut(\"Chile\", \"America\", 1), 100) muta pais a PaisMut(\"Chile\", \"America\", 100)\n",
        "def cambiarHabitantesMut(pais, n):\n",
        "  pais.habitantes = n\n",
        "  \n",
        "pais = PaisMut(\"Chile\", \"America\", 1)\n",
        "cambiarHabitantesMut(pais, 100)\n",
        "assert pais == PaisMut(\"Chile\", \"America\", 100)"
      ],
      "execution_count": null,
      "outputs": []
    },
    {
      "cell_type": "markdown",
      "metadata": {
        "id": "2xiXM0-ICpRF"
      },
      "source": [
        "##### E) Defina la función cantidadHabitantes, la cual toma como argumento un Pais y retorna la cantidad de habitantes que posee."
      ]
    },
    {
      "cell_type": "code",
      "metadata": {
        "id": "SJqQqoVdCvvk"
      },
      "source": [
        "#cantidadHabitantes: Pais -> int\n",
        "#Entrega la cantidad de habitantes del pais\n",
        "#Ej cantidadHabitantes(Pais(\"Chile\", \"America\", 100)) -> 100\n",
        "def cantidadHabitantes(pais):\n",
        "  return pais.habitantes\n",
        "\n",
        "assert cantidadHabitantes(Pais(\"Chile\", \"America\", 100))\n"
      ],
      "execution_count": null,
      "outputs": []
    },
    {
      "cell_type": "markdown",
      "metadata": {
        "id": "pHw8Lra0Cxi-"
      },
      "source": [
        "#### F) Defina la función cantidadHabitantesMut, la cual toma como argumento un Pais y retorna la cantidad de habitantes que posee."
      ]
    },
    {
      "cell_type": "code",
      "metadata": {
        "id": "5b_2gXHhC5_X"
      },
      "source": [
        "#cantidadHabitantes: PaisMut -> int\n",
        "#Entrega la cantidad de habitantes del pais\n",
        "#Ej cantidadHabitantesMut(PaisMut(\"Chile\", \"America\", 100)) -> 100\n",
        "def cantidadHabitantesMut(pais):\n",
        "  return cantidadHabitantes(pais)\n",
        "\n",
        "assert cantidadHabitantesMut(PaisMut(\"Chile\", \"America\", 100)) == 100"
      ],
      "execution_count": null,
      "outputs": []
    },
    {
      "cell_type": "markdown",
      "metadata": {
        "id": "S8mm1Ni4ROJc"
      },
      "source": [
        "### P2 Listas Mutables\n"
      ]
    },
    {
      "cell_type": "markdown",
      "metadata": {
        "id": "YW0p4H-RDMEt"
      },
      "source": [
        "##### A) Defina una estructura mutable (lista) que corresponda a una lista mutable."
      ]
    },
    {
      "cell_type": "code",
      "metadata": {
        "id": "0y7mduIADK2H"
      },
      "source": [
        "# lista: valor(any) siguiente(lista)\n",
        "estructura.mutable(\"lista\", \"valor siguiente\")"
      ],
      "execution_count": null,
      "outputs": []
    },
    {
      "cell_type": "markdown",
      "metadata": {
        "id": "LDKzheapDQZV"
      },
      "source": [
        "##### B) Cree la función concatenar, que reciba como parámetros una lista A, una lista B y modifique la lista A para que sea la concatenación de A y B. La función no debe retornar nada."
      ]
    },
    {
      "cell_type": "code",
      "metadata": {
        "id": "ky1EL-obDJAl"
      },
      "source": [
        "#concatenar: lista, lista -> None\n",
        "#efecto: Muta la primera lista para que sea la concatenacion de ambas\n",
        "#Ej concatenar(lista(1,None), lista(2,None)) hace que la primera lista valga lista(1,lista(2,None))\n",
        "def concatenar(l1, l2):\n",
        "  if l1 == None:\n",
        "    l1 = l2\n",
        "  \n",
        "  elif l1.siguiente == None:\n",
        "    l1.siguiente = l2\n",
        "  \n",
        "  else:\n",
        "    concatenar(l1.siguiente, l2)\n",
        "    \n",
        "l1 = lista(1, lista(2, None))\n",
        "l2 = lista(4, lista(6,None))\n",
        "concatenar(l1,l2)\n",
        "assert l1 == lista(1, lista(2, lista(4, lista(6, None))))"
      ],
      "execution_count": null,
      "outputs": []
    },
    {
      "cell_type": "markdown",
      "metadata": {
        "id": "XOjVeGrsDYjc"
      },
      "source": [
        "##### C) Cree la función 'EliminarDesde' que recibe una lista mutable, un número de índice entero positivo y elimine todos los elementos a partir del índice de la lista retornando una lista con los elementos eliminados.\n",
        "\n",
        "*Indicación: como n es entero positivo, no puede eliminarse toda la lista*"
      ]
    },
    {
      "cell_type": "code",
      "metadata": {
        "id": "o665HfI_DcN8"
      },
      "source": [
        "#eliminarDesde: lista, int -> lista\n",
        "#efecto: elimina los elementos desde la posición n (entero positivo) en adelante de la lista L\n",
        "# Ej: eliminarDesde(lista(1,None), 0) -> lista(1,None) y la lista ahora es vacía\n",
        "def eliminarDesde(L, n):\n",
        "  if L == None:\n",
        "    return None\n",
        "\n",
        "  if n == 1:\n",
        "    borrados = L.siguiente\n",
        "    L.siguiente = None\n",
        "    return borrados\n",
        "  \n",
        "  return eliminarDesde(L.siguiente, n-1)\n",
        "\n",
        "l1 = lista(1,lista(2,None))\n",
        "assert eliminarDesde(l1, 1) == lista(2,None)\n",
        "assert l1 == lista(1,None)\n",
        "  "
      ],
      "execution_count": null,
      "outputs": []
    },
    {
      "cell_type": "markdown",
      "metadata": {
        "id": "rPLsa33IDkf2"
      },
      "source": [
        "### P3"
      ]
    },
    {
      "cell_type": "markdown",
      "metadata": {
        "id": "4nxQbpAkDdjh"
      },
      "source": [
        "Escribir las instrucciones para:\n",
        "\n",
        "**A)** Definir una lista con la cantidad de días de cada mes (sin considerar años bisiestos). Ej:[31,28,…,31]\n",
        "\n",
        "**B)** Definir una lista con los nombres de los meses Ej: [“enero”,…]\n",
        "\n",
        "**C)** Calcular y mostrar el total de días del año\n",
        "\n",
        "**D)** Mostrar el número del mes con menos días\n",
        "\n",
        "**E)** Mostrar los números de los meses más largos (con más días)\n",
        "\n",
        "**F)** Mostrar la lista de meses con sus días (ordenados cronológicamente)\n",
        "\n",
        "**G)** Una función (masCorto) que reciba las dos listas (nombres y cantidad de días) y devuelva el nombre del mes más corto (asuma que solo existe 1)\n",
        "\n",
        "**H)** Una función (masLargos) que reciba las dos listas y devuelva una lista con los nombres de los meses más largos (puede existir mas de uno)\n"
      ]
    },
    {
      "cell_type": "code",
      "metadata": {
        "colab": {
          "base_uri": "https://localhost:8080/"
        },
        "id": "H_jy5tpdDp-4",
        "outputId": "7b1d315c-9663-46f8-c0d7-54f5aebbf1d8"
      },
      "source": [
        "#Parte A\n",
        "L = [31, 28, 31, 30, 31, 30, 31, 31, 30, 31, 30, 31]\n",
        "\n",
        "#Parte B\n",
        "M = [\"enero\", \"febrero\", \"marzo\", \"abril\", \"mayo\", \"junio\", \"julio\", \"agosto\", \"septiembre\", \"octubre\", \"noviembre\", \"diciembre\"]\n",
        "\n",
        "#Parte C\n",
        "total_dias = 0\n",
        "for i in L:\n",
        "    total_dias += i\n",
        "print(total_dias)\n",
        "\n",
        "#Parte D\n",
        "print(min(L))\n",
        "\n",
        "#Parte E\n",
        "print(max(L))\n",
        "\n",
        "#Parte F\n",
        "for i in range(len(L)):\n",
        "    print(M[i], L[i])\n",
        "\n",
        "#Parte G\n",
        "#masCorto: lista<int> lista<String> -> String\n",
        "#Entrega el nombre del mes mas corto.\n",
        "#Ej: masCorto(L, M) == \"febrero\"\n",
        "def masCorto(L, M):\n",
        "    for i in range(len(L)):\n",
        "        if L[i] == min(L):\n",
        "            return M[i]\n",
        "\n",
        "assert masCorto(L, M) == \"febrero\"\n",
        "\n",
        "#Parte H\n",
        "#masLargos: lista<int> lista<String> -> lista<String>\n",
        "#Entrega lista con los nombres de los meses mas largos.\n",
        "#Ej: masLargos(L, M) == ['enero', 'marzo', 'mayo', 'julio', 'agosto', 'octubre', 'diciembre']\n",
        "def masLargos(L, M):\n",
        "    resp = []\n",
        "    for i in range(len(L)):\n",
        "        if L[i] == max(L):\n",
        "            resp.append(M[i])\n",
        "    return resp\n",
        "\n",
        "assert masLargos(L, M) == ['enero', 'marzo', 'mayo', 'julio', 'agosto', 'octubre', 'diciembre']"
      ],
      "execution_count": null,
      "outputs": [
        {
          "output_type": "stream",
          "name": "stdout",
          "text": [
            "365\n",
            "28\n",
            "31\n",
            "enero 31\n",
            "febrero 28\n",
            "marzo 31\n",
            "abril 30\n",
            "mayo 31\n",
            "junio 30\n",
            "julio 31\n",
            "agosto 31\n",
            "septiembre 30\n",
            "octubre 31\n",
            "noviembre 30\n",
            "diciembre 31\n"
          ]
        }
      ]
    }
  ]
}