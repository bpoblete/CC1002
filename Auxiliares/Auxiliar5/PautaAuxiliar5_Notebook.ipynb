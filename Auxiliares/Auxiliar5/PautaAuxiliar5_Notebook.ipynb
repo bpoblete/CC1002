{
  "nbformat": 4,
  "nbformat_minor": 0,
  "metadata": {
    "colab": {
      "name": "PautaAuxiliar5_Notebook.ipynb",
      "provenance": [],
      "include_colab_link": true
    },
    "kernelspec": {
      "name": "python3",
      "display_name": "Python 3"
    }
  },
  "cells": [
    {
      "cell_type": "markdown",
      "metadata": {
        "id": "view-in-github",
        "colab_type": "text"
      },
      "source": [
        "<a href=\"https://colab.research.google.com/github/bpoblete/CC1002/blob/master/Auxiliares/Auxiliar5/PautaAuxiliar5_Notebook.ipynb\" target=\"_parent\"><img src=\"https://colab.research.google.com/assets/colab-badge.svg\" alt=\"Open In Colab\"/></a>"
      ]
    },
    {
      "cell_type": "markdown",
      "metadata": {
        "id": "8VunSDhqub7R"
      },
      "source": [
        "# **Auxiliar 5 pauta**"
      ]
    },
    {
      "cell_type": "markdown",
      "metadata": {
        "id": "7Us8_2srug_9"
      },
      "source": [
        "# Pregunta 1"
      ]
    },
    {
      "cell_type": "markdown",
      "metadata": {
        "id": "X-SPafD0qLnQ"
      },
      "source": [
        "En esta pregunta usted deberá crear una función que determine la cantidad de puntos que pertenecen a una cierta circunferencia. Para esto deberá seguir los siguientes pasos:\n",
        "\n",
        "\n",
        "1.   Cree la estructura **punto2D**, que contenga 2 parámetros (x, y).\n",
        "2.   Programe la función **distancia(p1, p2)**, que dado dos puntos2D determine la distancia entre ambos puntos.\n",
        "3.   Programe la función **pertenece(c, r, p)**, que dado un punto2D *p*, determine si este pertenece a la circunferencia de radio *r* y centro *c* (también de tipo punto2D). Un punto pertenece a una circunferencia, si este se encuentra dentro de la circunferencia o sobre su contorno.\n",
        "4.   Programe la función **cuantosPertenecen(c, r, l)**, que dado una lista de punto2D (*l*), determine la cantidad de punto2D que pertenecen a la circunferencia de radio *r* y centro *c*.\n",
        "\n",
        "\n",
        "\n",
        "\n"
      ]
    },
    {
      "cell_type": "code",
      "metadata": {
        "id": "6CP1XrsMqB3E"
      },
      "source": [
        "# P1.1\n",
        "\n",
        "import estructura\n",
        "\n",
        "# punto2D: x (float) y (float)\n",
        "estructura.crear(\"punto2D\", \"x y\")"
      ],
      "execution_count": null,
      "outputs": []
    },
    {
      "cell_type": "code",
      "metadata": {
        "id": "YlCSIBVRrjUs"
      },
      "source": [
        "# P1.2\n",
        "\n",
        "import math\n",
        "\n",
        "# distancia: punto2D punto2D -> float\n",
        "# Calcula la distancia entre dos puntos\n",
        "# ej.: distancia(punto2D(6,3), punto2D(3,-1)) debe retornar 5\n",
        "def distancia(p1, p2):\n",
        "    assert type(p1) == punto2D and type(p2) == punto2D\n",
        "\n",
        "    return math.sqrt((p1.x - p2.x)**2 + (p1.y - p2.y)**2)\n",
        "\n",
        "\n",
        "assert abs(distancia(punto2D(6,3), punto2D(3,-1)) - 5) <= 0.001\n",
        "assert abs(distancia(punto2D(4,-3), punto2D(6,2)) - 5.385) <= 0.001"
      ],
      "execution_count": null,
      "outputs": []
    },
    {
      "cell_type": "code",
      "metadata": {
        "id": "vm_6dPjqrkjm"
      },
      "source": [
        "# P1.3\n",
        "\n",
        "# pertenece: punto2D float punto2D -> boolean\n",
        "# determina si un determinado punto pertenece a una circunferencia dada\n",
        "# ej.: pertenece(punto2D(0,0), 10, punto2D(0,9)) debe retornar True\n",
        "def pertenece(c, r, p):\n",
        "    assert type(c) == punto2D and type(p) == punto2D and r > 0\n",
        "\n",
        "    return distancia(c,p) <= r\n",
        "\n",
        "assert pertenece(punto2D(0,0), 10, punto2D(0,9))\n",
        "assert not pertenece(punto2D(0,0), 10, punto2D(-5,15))"
      ],
      "execution_count": null,
      "outputs": []
    },
    {
      "cell_type": "code",
      "metadata": {
        "id": "8W05YMkVrl4I"
      },
      "source": [
        "# P1.4\n",
        "\n",
        "from lista import *\n",
        "\n",
        "# cuantosPertenecen: punto2D float list(punto2D) -> int\n",
        "# determina cuantos puntos de una lista pertenecen a una cierta circunferencia\n",
        "# ej.: cuantosPertenecen(punto2D(0,0), 10, lista(punto2D(0,9), lista(punto2D(2,12), listaVacia))) debe retornar 1\n",
        "def cuantosPertenecen(c, r, l, contador=0):\n",
        "    assert type(c) == punto2D and r > 0 and (type(l) == lista or vacia(l))\n",
        "\n",
        "    if vacia(l): # caso base\n",
        "        return contador\n",
        "    else: # caso recursivo\n",
        "        if pertenece(c, r, cabeza(l)):\n",
        "            contador += 1\n",
        "        return cuantosPertenecen(c, r, cola(l), contador)\n",
        "\n",
        "\n",
        "L1 = crearLista(punto2D(0,9), crearLista(punto2D(2,15), crearLista(punto2D(-3,5), listaVacia)))\n",
        "L2 = crearLista(punto2D(7,-9), crearLista(punto2D(-5,15), listaVacia))\n",
        "\n",
        "assert cuantosPertenecen(punto2D(0,0), 10, L1) == 2\n",
        "assert cuantosPertenecen(punto2D(0,0), 10, L2) == 0\n",
        "assert cuantosPertenecen(punto2D(0,0), 10, listaVacia) == 0"
      ],
      "execution_count": null,
      "outputs": []
    },
    {
      "cell_type": "markdown",
      "metadata": {
        "id": "-dLWxN8FukIw"
      },
      "source": [
        "# Pregunta 2"
      ]
    },
    {
      "cell_type": "markdown",
      "metadata": {
        "id": "OSpxzImJrotr"
      },
      "source": [
        "Programe la función recursiva **evaluarPolinomio(l, x)**, la cual recibe una lista de números reales (que representan los coeficientes de un polinomio), y un número *x*, retornando el valor del polinomio al evaluarlo en *x*.\n",
        "\n",
        "Por ejemplo, sea la lista:\n",
        "\n",
        "*L = crearLista(0, crearLista(-1, crearLista(1, listaVacia)))*\n",
        "\n",
        "la cual representa al polinomio *-x + x^2*, entonces **evaluarPolinomio(L, 2)** debe retornar 2."
      ]
    },
    {
      "cell_type": "code",
      "metadata": {
        "id": "7W1SYarqrngN"
      },
      "source": [
        "# P2\n",
        "\n",
        "import math\n",
        "\n",
        "# evaluarPolinomio: lista(float) float -> float\n",
        "# Retorna el valor del polinomio al evaluardo en cierto numero\n",
        "# ej.: evaluarPolinomio(crearLista(1, crearLista(5, listaVacia)), 2) debe retornar 11\n",
        "def evaluarPolinomio(l, x, evaluacion=0, exp=0):\n",
        "    assert type(l) == lista or vacia(l)\n",
        "\n",
        "    if vacia(l): # caso base\n",
        "        return evaluacion\n",
        "    else: # caso recursivo\n",
        "        evaluacion += cabeza(l) * math.pow(x,exp)\n",
        "        return evaluarPolinomio(cola(l), x, evaluacion, exp+1)\n",
        "\n",
        "L1 = crearLista(1, crearLista(5, listaVacia))\n",
        "L2 = crearLista(1, crearLista(0, crearLista(-3, listaVacia)))\n",
        "\n",
        "assert evaluarPolinomio(L1, 2) == 11\n",
        "assert evaluarPolinomio(L2, 3) == -26\n",
        "assert evaluarPolinomio(listaVacia, 1231234) == 0"
      ],
      "execution_count": null,
      "outputs": []
    }
  ]
}