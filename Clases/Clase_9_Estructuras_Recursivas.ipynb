{
  "nbformat": 4,
  "nbformat_minor": 0,
  "metadata": {
    "kernelspec": {
      "name": "python3",
      "display_name": "Python 3"
    },
    "colab": {
      "name": "Clase 9 Estructuras Recursivas.ipynb",
      "provenance": [],
      "include_colab_link": true
    }
  },
  "cells": [
    {
      "cell_type": "markdown",
      "metadata": {
        "id": "view-in-github",
        "colab_type": "text"
      },
      "source": [
        "<a href=\"https://colab.research.google.com/github/bpoblete/CC1002/blob/master/Clases/Clase_9_Estructuras_Recursivas.ipynb\" target=\"_parent\"><img src=\"https://colab.research.google.com/assets/colab-badge.svg\" alt=\"Open In Colab\"/></a>"
      ]
    },
    {
      "cell_type": "markdown",
      "metadata": {
        "id": "SOlfZcF6h6aH"
      },
      "source": [
        "# Estructuras de Datos Recursivas (Cap. 9 - Leer)\n",
        "\n",
        "Tal como lo vimos en el capítulo anterior, una de las maneras para\n",
        "representar información compuesta es usando estructuras.  En efecto, las\n",
        "estructuras son útiles cuando sabemos cuántos datos queremos combinar.  Sin\n",
        "embargo, en muchos otros casos, no sabemos cuántas cosas queremos enumerar,\n",
        "y entonces formamos una **lista**.  Una lista puede tener un largo\n",
        "arbitrario, esto es, contiene una cantidad finita pero indeterminada de\n",
        "elementos.\n",
        "\n",
        "\n",
        "\n",
        "## Listas\n",
        "\n",
        "Para manejar listas ocuparemos el módulo `lista.py` (en material docente)\n",
        "\n",
        "```python\n",
        "from lista import *\n",
        "```\n",
        "\n",
        "La definición de una lista es **recursiva**:\n",
        "\n",
        "  1. una lista puede ser **vacía**: no contiene ningún elemento (**`listaVacia`**).  \n",
        "  2. una lista puede estar compuesta por elementos que contienen un **valor** y un enlace al resto de la lista.\n",
        "\n",
        "\n",
        "Esto permite crear una lista larga concatenando listas, lo podemos entender como ir armando una cadena con dos campos en su estructura: \n",
        "\n",
        "  1. **`valor`** \n",
        "  2. la lista **`siguiente`**.  \n",
        "  \n",
        "El campo **valor** puede ser de cualquier tipo (básico o compuesto), mientras que el campo **siguiente** es precisamente una lista\n",
        "\n",
        "La definición de la estructura para listas está incluida en el\n",
        "módulo `lista.py`, note en particular en el contrato de la estructura\n",
        "su definición recursiva:\n",
        "\n",
        "```python\n",
        "# Diseno de la estructura\n",
        "# lista : valor (cualquier tipo) siguiente (lista)\n",
        "estructura.crear(\"lista\", \"valor siguiente\")\n",
        "```\n",
        "\n",
        "Para crear una lista nueva, el módulo provee la función\n",
        "**`crearLista`** que recibe dos parámetros: el `valor`\n",
        "del primer elemento de la lista y el `resto` de la lista.\n"
      ]
    },
    {
      "cell_type": "code",
      "metadata": {
        "id": "6IVW5B5Mh6aI"
      },
      "source": [
        "import estructura\n",
        "# Diseno de la estructura\n",
        "# lista : valor (cualquier tipo) siguiente (lista)\n",
        "estructura.crear(\"lista\", \"valor siguiente\")\n"
      ],
      "execution_count": null,
      "outputs": []
    },
    {
      "cell_type": "code",
      "metadata": {
        "id": "VeWOfFtPh6aM"
      },
      "source": [
        "L = crearLista(4, None)\n",
        "L"
      ],
      "execution_count": null,
      "outputs": []
    },
    {
      "cell_type": "code",
      "metadata": {
        "id": "Hb2kfnFbh6aP"
      },
      "source": [
        "L.valor"
      ],
      "execution_count": null,
      "outputs": []
    },
    {
      "cell_type": "code",
      "metadata": {
        "id": "0H5qQFx-h6aS"
      },
      "source": [
        "L.siguiente"
      ],
      "execution_count": null,
      "outputs": []
    },
    {
      "cell_type": "markdown",
      "metadata": {
        "id": "MeLaCKXSh6aU"
      },
      "source": [
        "**Ejemplo:** Lista con 2 valores"
      ]
    },
    {
      "cell_type": "code",
      "metadata": {
        "id": "xzmnUA5xh6aV"
      },
      "source": [
        "L = crearLista(4, crearLista(5,None))"
      ],
      "execution_count": null,
      "outputs": []
    },
    {
      "cell_type": "code",
      "metadata": {
        "id": "D9l_ksOeh6aX"
      },
      "source": [
        "L"
      ],
      "execution_count": null,
      "outputs": []
    },
    {
      "cell_type": "code",
      "metadata": {
        "id": "lH9lszoeh6aa"
      },
      "source": [
        "L.siguiente"
      ],
      "execution_count": null,
      "outputs": []
    },
    {
      "cell_type": "code",
      "metadata": {
        "id": "8tUda6Nzh6ad"
      },
      "source": [
        ""
      ],
      "execution_count": null,
      "outputs": []
    },
    {
      "cell_type": "markdown",
      "metadata": {
        "id": "h-nad47Bh6af"
      },
      "source": [
        "\n",
        "\n",
        "### Ejemplo: \n",
        "\n",
        "Supongamos que queremos formar una lista con los planetas del\n",
        "sistema solar.  Primero comenzamos con un eslabón de la lista que sólo\n",
        "contiene a Mercurio: \n",
        "\n"
      ]
    },
    {
      "cell_type": "code",
      "metadata": {
        "id": "wjpnlWcJh6ag"
      },
      "source": [
        "crearLista(\"Mercurio\", listaVacia)"
      ],
      "execution_count": null,
      "outputs": []
    },
    {
      "cell_type": "markdown",
      "metadata": {
        "id": "hc2r5Xqch6ai"
      },
      "source": [
        "Luego viene el planeta Venus:"
      ]
    },
    {
      "cell_type": "code",
      "metadata": {
        "id": "pyvslqPzh6ai"
      },
      "source": [
        "crearLista(\"Venus\", crearLista(\"Mercurio\", listaVacia))"
      ],
      "execution_count": null,
      "outputs": []
    },
    {
      "cell_type": "markdown",
      "metadata": {
        "id": "bqQgQ0och6ak"
      },
      "source": [
        "A continuación la Tierra, y así sucesivamente:\n",
        "\n"
      ]
    },
    {
      "cell_type": "code",
      "metadata": {
        "id": "V2ac4u8Ih6al"
      },
      "source": [
        "crearLista(\"Tierra\", crearLista(\"Venus\", crearLista(\"Mercurio\", listaVacia)))"
      ],
      "execution_count": null,
      "outputs": []
    },
    {
      "cell_type": "markdown",
      "metadata": {
        "id": "MXj7rKMnh6an"
      },
      "source": [
        "\n",
        "\n",
        "En toda lista distinguimos dos elementos: \n",
        "\n",
        "1. **cabeza**: valor que está al frente de la lista (primer valor disponible)\n",
        "2. **cola**: todo lo que va encadenado a la cabeza\n",
        "\n",
        "En nuestro último ejemplo, la\n",
        "**cabeza** de la lista es el string `\"Tierra\"`, mientras que la\n",
        "**cola** es la lista formada por el eslabón `(Venus, (Mercurio,\n",
        "(listaVacia)))`.\n",
        "\n",
        "\n"
      ]
    },
    {
      "cell_type": "code",
      "metadata": {
        "id": "avBYIYyRh6ao"
      },
      "source": [
        "L = crearLista(\"Tierra\", crearLista(\"Venus\",crearLista(\"Mercurio\", listaVacia)))\n",
        "cabeza(L)"
      ],
      "execution_count": null,
      "outputs": []
    },
    {
      "cell_type": "code",
      "metadata": {
        "id": "yJacMQkmh6aq"
      },
      "source": [
        "cola(L)"
      ],
      "execution_count": null,
      "outputs": []
    },
    {
      "cell_type": "code",
      "metadata": {
        "id": "FQZFyP_6h6as"
      },
      "source": [
        ""
      ],
      "execution_count": null,
      "outputs": []
    },
    {
      "cell_type": "code",
      "metadata": {
        "id": "FC7CqMB7h6av"
      },
      "source": [
        "#modulo: lista.py\n",
        "import estructura\n",
        "\n",
        "# Diseno de la estructura\n",
        "# lista : valor (any = cualquier tipo) siguiente (lista)\n",
        "estructura.crear(\"lista\", \"valor siguiente\")\n",
        "\n",
        "# identificador para listas vacias\n",
        "listaVacia = None\n",
        "\n",
        "# crearLista: any lista -> lista\n",
        "# devuelve una lista cuya cabeza es valor\n",
        "# y la cola es resto\n",
        "def crearLista(valor, resto):\n",
        "        return lista(valor, resto)\n",
        "\n",
        "# cabeza: lista -> any\n",
        "# devuelve la cabeza de una lista (un valor)\n",
        "def cabeza(lista):\n",
        "        return lista.valor\n",
        "\n",
        "# cola: lista -> lista\n",
        "# devuelve la cola de una lista (una lista)\n",
        "def cola(lista):\n",
        "        return lista.siguiente\n",
        "\n",
        "# vacia: lista -> bool\n",
        "# devuelve True si la lista esta vacia\n",
        "def vacia(lista):\n",
        "        return lista == listaVacia\n",
        "\n",
        "\n",
        "# Tests\n",
        "\n",
        "test_lista = lista(1, lista(2, lista(3, listaVacia)))\n",
        "\n",
        "assert cabeza(test_lista) == 1\n",
        "assert cabeza(cola(test_lista)) == 2\n",
        "assert cabeza(cola(cola(test_lista))) == 3\n",
        "assert cola(cola(test_lista)) == lista(3, listaVacia)\n",
        "\n",
        "assert vacia(listaVacia)\n",
        "assert not vacia(test_lista)\n",
        "assert vacia(cola(cola(cola(test_lista))))\n"
      ],
      "execution_count": null,
      "outputs": []
    },
    {
      "cell_type": "code",
      "metadata": {
        "id": "dlxDW2WKh6ax"
      },
      "source": [
        "from lista import * #todas las funciones\n",
        "L=lista(4,lista(2,lista(3,None)))\n",
        "cabeza(L)"
      ],
      "execution_count": null,
      "outputs": []
    },
    {
      "cell_type": "code",
      "metadata": {
        "id": "8vuFSgCLh6az"
      },
      "source": [
        "cola(L)"
      ],
      "execution_count": null,
      "outputs": []
    },
    {
      "cell_type": "markdown",
      "metadata": {
        "id": "iJ2CvX7hh6a2"
      },
      "source": [
        "Agregamos una función para ver si algo es una lista:"
      ]
    },
    {
      "cell_type": "code",
      "metadata": {
        "id": "yLDkKn0Xh6a3"
      },
      "source": [
        "#esLista: any -> bool\n",
        "#True si L es una lista\n",
        "#ej: esLista(lista(1,None))->True\n",
        "\n",
        "def esLista(L):\n",
        "    \n",
        "    if (vacia(L)):\n",
        "        return True\n",
        "    if (type(L)==lista):\n",
        "        return True\n",
        "    return False\n",
        "\n",
        "assert esLista(lista(1,None))\n"
      ],
      "execution_count": null,
      "outputs": []
    },
    {
      "cell_type": "code",
      "metadata": {
        "id": "7nlidRnWh6a5"
      },
      "source": [
        "from lista import *\n",
        "\n",
        "\n",
        "# sumaTres: listaDeTresNumeros -> num\n",
        "# suma los tres numeros en unaLista\n",
        "# sumaTres(crearLista(2, crearLista(1, crearLista(0, listaVacia))))\n",
        "# devuelve 3\n",
        "# sumaTres(crearLista(0, crearLista(1, crearLista(0, listaVacia)))) # devuelve 1\n",
        "def sumaTres(unaLista):\n",
        "    # separamos los 3 valores\n",
        "    valor1 = cabeza(unaLista)\n",
        "    listaRestante = cola(unaLista)\n",
        "    valor2 = cabeza(listaRestante)\n",
        "    listaRestante = cola(listaRestante)\n",
        "    valor3 = cabeza(listaRestante)\n",
        "\n",
        "    return valor1 + valor2 + valor3\n",
        "\n",
        "# Test\n",
        "primerValor=crearLista(10,listaVacia)\n",
        "segundoValor=crearLista(20,primerValor)\n",
        "tercerValor=crearLista(30,segundoValor)\n",
        "assert sumaTres(tercerValor)==60\n",
        "\n",
        "# Ejercicio sumar una lista de tamanno arbitrario \n"
      ],
      "execution_count": null,
      "outputs": []
    },
    {
      "cell_type": "markdown",
      "metadata": {
        "id": "63oIGCpjh6a7"
      },
      "source": [
        "\n",
        "***\n",
        "\n",
        "### Ejemplo: inventario de una juguetería"
      ]
    },
    {
      "cell_type": "code",
      "metadata": {
        "id": "Ow8J6mSeh6a7"
      },
      "source": [
        "from lista import *\n",
        "\n",
        "# hayPelotas: lista(str) -> bool\n",
        "# determinar si el string \"pelota\" esta en la lista unaLista \n",
        "# def hayPelotas(unaLista):\n",
        "#       if vacia(unaLista): \n",
        "#               ...\n",
        "#       else:\n",
        "#               ... cabeza(unaLista)\n",
        "#               ... cola(unaLista) ...\n",
        "\n",
        "def hayPelotas(unaLista):\n",
        "    if(vacia(unaLista)):\n",
        "        # CASO LISTA ES VACIA\n",
        "        ## COMPLETAR\n",
        "        \n",
        "        \n",
        "        \n",
        "        \n",
        "    else:\n",
        "        # CASO LISTA NO ES VACIA\n",
        "        ## COMPLETAR\n",
        "        \n",
        "        \n",
        "        \n",
        "        \n",
        "        \n",
        "# Test\n",
        "juguetes = crearLista(\"soldadito\", crearLista(\"pelota\", crearLista(\"oso\", listaVacia)))\n",
        "assert hayPelotas(juguetes)"
      ],
      "execution_count": null,
      "outputs": []
    },
    {
      "cell_type": "code",
      "metadata": {
        "id": "mCRqkIQgh6a9"
      },
      "source": [
        "\n",
        "# contarJuguetes: lista(str) -> int\n",
        "# determinar cuantos juguetes hay en la lista unaLista \n",
        "# def contarJuguetes(unaLista):\n",
        "#       if vacia(unaLista): \n",
        "#               ...\n",
        "#       else:\n",
        "#               ... cabeza(unaLista)\n",
        "#               ... cola(unaLista) ...\n",
        "\n",
        "def contarJuguetes(unaLista):\n",
        "    if(vacia(unaLista)):\n",
        "        # CASO LISTA ES VACIA\n",
        "        ## COMPLETAR\n",
        "        \n",
        "        \n",
        "        \n",
        "        \n",
        "    else:\n",
        "        # CASO LISTA NO ES VACIA\n",
        "        ## COMPLETAR\n",
        "        \n",
        "        \n",
        "        \n",
        "        \n",
        "    "
      ],
      "execution_count": null,
      "outputs": []
    }
  ]
}