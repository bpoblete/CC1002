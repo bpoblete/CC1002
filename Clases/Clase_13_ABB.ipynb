{
  "nbformat": 4,
  "nbformat_minor": 0,
  "metadata": {
    "kernelspec": {
      "name": "python3",
      "display_name": "Python 3"
    },
    "colab": {
      "name": "Clase_13_ABB.ipynb",
      "provenance": [],
      "collapsed_sections": [],
      "include_colab_link": true
    }
  },
  "cells": [
    {
      "cell_type": "markdown",
      "metadata": {
        "id": "view-in-github",
        "colab_type": "text"
      },
      "source": [
        "<a href=\"https://colab.research.google.com/github/bpoblete/CC1002/blob/master/Clases/Clase_13_ABB.ipynb\" target=\"_parent\"><img src=\"https://colab.research.google.com/assets/colab-badge.svg\" alt=\"Open In Colab\"/></a>"
      ]
    },
    {
      "cell_type": "markdown",
      "metadata": {
        "id": "3gL6DnZPZgRN"
      },
      "source": [
        "# Clase 13: AB y ABB (Árbol de Búsqueda Binaria)\n",
        "(Capítulo 9.9 del Apunte)\n",
        "\n"
      ]
    },
    {
      "cell_type": "markdown",
      "metadata": {
        "id": "FE5L6EDoZgQu"
      },
      "source": [
        "## Recuerdo Árboles Binarios (AB)\n",
        "\n",
        "<div>\n",
        "<img src=\"https://github.com/bpoblete/CC1002/raw/master/Clases/ab.png\" alt=\"Ejemplo de AB\" width=300 height=240 />\n",
        "</div>\n",
        "\n",
        "Cumplen alguna de las siguientes condiciones:\n",
        "- Un AB es vacío, o\n",
        "- Tiene un valor, un AB a la izquierda, y otro AB a la derecha\n"
      ]
    },
    {
      "cell_type": "markdown",
      "metadata": {
        "id": "838ExzCjZgQw"
      },
      "source": [
        "### Creación de un AB\n",
        "\n",
        "Un AB es una estructura recursiva pues un **AB** contiene un valor (llamado raíz) y dos **AB**s adentro! \n",
        "\n",
        "**AB** = **valor** + **AB izquierdo** + **AB derecho**"
      ]
    },
    {
      "cell_type": "code",
      "metadata": {
        "id": "e-ZLDx1GZgQy"
      },
      "source": [
        "import estructura\n",
        "\n",
        "\n",
        "#Arbol Binario\n",
        "#AB: valor(any), izq(AB), der(AB)\n",
        "estructura.crear(\"AB\",\"valor izq der\")\n",
        "\n",
        "\n",
        "# creamos un AB\n",
        "\n",
        "ab=AB(\"F\",\\\n",
        "    AB(\"B\",\\\n",
        "        AB(\"A\",None,None),\\\n",
        "        AB(\"D\",\\\n",
        "            AB(\"C\",None,None),\\\n",
        "            AB(\"E\",None,None))),\\\n",
        "    AB(\"G\",\\\n",
        "        None,\\\n",
        "        AB(\"I\",\\\n",
        "            AB(\"H\", None, None),\\\n",
        "            None)))  \n"
      ],
      "execution_count": null,
      "outputs": []
    },
    {
      "cell_type": "code",
      "metadata": {
        "id": "GeptaSUfy2JA"
      },
      "source": [
        "print(ab)"
      ],
      "execution_count": null,
      "outputs": []
    },
    {
      "cell_type": "code",
      "metadata": {
        "id": "yDa6BD4KzDww"
      },
      "source": [
        "print(ab.valor)\n",
        "print(ab.izq)\n",
        "print(ab.der)"
      ],
      "execution_count": null,
      "outputs": []
    },
    {
      "cell_type": "code",
      "metadata": {
        "id": "ppvtox540UEJ"
      },
      "source": [
        "print(ab.izq.valor) # dentro del sub-arbol izquierdo: la raiz\n",
        "print(ab.izq.izq) # dentro del sub-arbol izquierdo: su sub-arbol izquierdo\n",
        "print(ab.izq.der) # dentro del sub-arbol izquierdo: su sub-arbol izquierdo"
      ],
      "execution_count": null,
      "outputs": []
    },
    {
      "cell_type": "markdown",
      "metadata": {
        "id": "nPL9Z0f-xjcJ"
      },
      "source": [
        "\n",
        "### Vimos tareas típicas sobre un AB\n",
        "\n",
        "\n",
        "- Crear un AB\n",
        "- Contar los nodos de un AB\n",
        "- Calcular la altura de un AB\n",
        "- Contar las hojas de un AB"
      ]
    },
    {
      "cell_type": "markdown",
      "metadata": {
        "id": "Bws6E8h2ZgRO"
      },
      "source": [
        "### Un tipo de Árbol Binario: **Un AB de expresiones aritméticas**\n",
        "\n",
        "<div>\n",
        "<img src=\"https://github.com/bpoblete/CC1002/raw/master/Clases/ab_expresion.png\" alt=\"AB de  expresion aritmetica\" width=180 height=180 />\n",
        "</div>"
      ]
    },
    {
      "cell_type": "code",
      "metadata": {
        "id": "KbVx35DVZgRP"
      },
      "source": [
        "#arbol expresión\n",
        "#AB con numeros en los valores de las hojas\n",
        "#   y operadores en los valores de las no-hojas\n",
        "\n",
        "\n",
        "ae=AB(\"-\", \\\n",
        "      AB(2,None,None),\\\n",
        "      AB(\"*\",\\\n",
        "         AB(3,None,None),\\\n",
        "         AB(4,None,None)))\n"
      ],
      "execution_count": null,
      "outputs": []
    },
    {
      "cell_type": "code",
      "metadata": {
        "id": "Lk9pTYwZZgRU"
      },
      "source": [
        "#evaluar: AB -> num\n",
        "#evalua expresión representada en AB\n",
        "#ej: evaluar(ae) -> -10\n",
        "def evaluar(A):\n",
        "\n",
        "    assert type(A)==AB\n",
        "    \n",
        "    if A.izq==None and A.der==None: \n",
        "        return A.valor   \n",
        "    \n",
        "    a=evaluar(A.izq) #primer operando\n",
        "    b=evaluar(A.der) #segundo operando\n",
        "    op=A.valor       #operador\n",
        "\n",
        "  \n",
        "    if op==\"+\": \n",
        "        return a+b\n",
        "    if op==\"-\": \n",
        "        return a-b\n",
        "    if op==\"*\": \n",
        "        return a*b\n",
        "    if op==\"/\": \n",
        "        return a/b\n",
        "\n",
        "assert evaluar(ae)==-10\n"
      ],
      "execution_count": null,
      "outputs": []
    },
    {
      "cell_type": "code",
      "metadata": {
        "id": "--XZ6cWc4jB4"
      },
      "source": [
        "otroAE = AB(\"*\",AB(\"+\",AB(3,None,None),AB(4,None,None)),AB(\"/\",AB(10,None,None),AB(5,None,None)))\n",
        "print(otroAE)"
      ],
      "execution_count": null,
      "outputs": []
    },
    {
      "cell_type": "code",
      "metadata": {
        "id": "nSa98--E4oAY"
      },
      "source": [
        "print(evaluar(otroAE))"
      ],
      "execution_count": null,
      "outputs": []
    },
    {
      "cell_type": "markdown",
      "metadata": {
        "id": "R0YOnUKa6CcI"
      },
      "source": [
        "**Propuesto 1:**: Modificar la función anterior para que permita evaluar AB que representen expresiones aritméticas con exponenciación, como por ejemplo: \n",
        "```5+2**3```\n",
        "\n",
        "En otras palabras, si \n",
        "\n",
        "```\n",
        "ae2 = AB(\"+\",AB(5,None,None),AB(\"**\",AB(2,None,None),AB(3,None,None)))\n",
        "```\n",
        "entonces \n",
        "\n",
        "\n",
        "```\n",
        "evaluar(ae2)\n",
        "```\n",
        "retorna 13."
      ]
    },
    {
      "cell_type": "markdown",
      "metadata": {
        "id": "DvMQULGB8ehc"
      },
      "source": [
        "**Propuesto 2:**: Modificar la función anterior para que permita evaluar AB que representen expresiones aritméticas con números negativos, como por ejemplo:  \n",
        "```7+2*-3```\n",
        "\n",
        "En otras palabras, si \n",
        "\n",
        "```\n",
        "ae3 = AB(\"+\",AB(5,None,None),AB(\"*\",AB(2,None,None),AB(\"-\",None,AB(3,None,None))))\n",
        "```\n",
        "entonces \n",
        "\n",
        "\n",
        "```\n",
        "evaluar(ae3)\n",
        "```\n",
        "retorna 1.\n",
        "\n",
        "*Pista*: Fijarse que el árbol de expresión aritmético para `-3` es el árbol para `0-3` pero reemplazando el subárbol con la hoja `0` por un `None`. Entonces, para evaluar árboles con negativos, sólo tiene que modificar la función para detectar si un árbol con \"-\" en la raíz representa (a) una resta (caso ya listo) o (b)  un número negativo. "
      ]
    },
    {
      "cell_type": "markdown",
      "metadata": {
        "id": "fnz1o765ZgRX"
      },
      "source": [
        "## ABB: Árbol de Búsqueda Binaria\n",
        "\n",
        "Un ABB es un árbol binario tal que:\n",
        "\n",
        "- es un árbol vacío (None)\n",
        "\n",
        "o sino,\n",
        "\n",
        "- valores en el AB **izquierdo** son **menores** que el valor\n",
        "- valores en el AB **derecho** son **mayores** que el valor\n",
        "- AB izquierdo y AB derecho son también ABB\n",
        "\n",
        "![ab](ab.png)\n"
      ]
    },
    {
      "cell_type": "code",
      "metadata": {
        "id": "ed_1-VozZgRY"
      },
      "source": [
        "import estructura\n",
        "#Arbol Binario\n",
        "#AB: valor(any), izq(AB), der(AB)\n",
        "estructura.crear(\"AB\",\"valor izq der\")\n",
        "\n",
        "abb=AB(\"F\",\\\n",
        "    AB(\"B\",\\\n",
        "        AB(\"A\",None,None),\\\n",
        "        AB(\"D\",\\\n",
        "            AB(\"C\",None,None),\\\n",
        "            AB(\"E\",None,None))),\\\n",
        "    AB(\"G\",\\\n",
        "        None,\\\n",
        "        AB(\"I\",\\\n",
        "            AB(\"H\", None, None),\\\n",
        "            None)))  \n"
      ],
      "execution_count": null,
      "outputs": []
    },
    {
      "cell_type": "markdown",
      "metadata": {
        "id": "3lercGcSZgRd"
      },
      "source": [
        "### Cómo encontrar un valor en un ABB"
      ]
    },
    {
      "cell_type": "code",
      "metadata": {
        "id": "w4eF4t_xZgRe"
      },
      "source": [
        "#buscaValor: any AB -> bool\n",
        "#True si x está en arbol\n",
        "#ej: buscaValor(\"A\",abb)->True\n",
        "\n",
        "def buscaValor(x,arbol):\n",
        "    \n",
        "    assert arbol==None or type(arbol)==AB\n",
        "    if arbol==None: \n",
        "        return False\n",
        "      \n",
        "    elif arbol.valor==x:\n",
        "        return True\n",
        "    elif x < arbol.valor: \n",
        "        return buscaValor(x,arbol.izq)\n",
        "    elif x > arbol.valor: \n",
        "        return buscaValor(x,arbol.der)\n",
        "    \n",
        "assert buscaValor(\"A\",abb)\n"
      ],
      "execution_count": null,
      "outputs": []
    },
    {
      "cell_type": "markdown",
      "metadata": {
        "id": "hqrcUx7jZgRj"
      },
      "source": [
        "### Ejemplo: Cómo saber si un AB es un ABB?\n",
        "Es decir, cómo sabemos si un árbol binario cumple con las condiciones para ser un árbol de búsqueda binario?"
      ]
    },
    {
      "cell_type": "code",
      "metadata": {
        "id": "ieDtU01yZgRj"
      },
      "source": [
        "#esABB: AB -> bool\n",
        "#True si AB es un ABB\n",
        "#ej: esABB(abb)->True\n",
        "\n",
        "def esABB(arbol):\n",
        "        \n",
        "    assert arbol==None or type(arbol)==AB\n",
        "    if arbol==None: \n",
        "        return True\n",
        "\n",
        "    # debemos revisar que AB izquierdo sea ABB\n",
        "    if esABBMenor(arbol.valor,arbol.izq) and esABBMayor(arbol.valor,arbol.der):\n",
        "            return True\n",
        "    else:\n",
        "        return False\n",
        "    \n",
        "assert esABB(abb)\n",
        "assert not esABB(AB(\"B\",AB(\"C\",None,AB(\"A\",None,None)),None))\n"
      ],
      "execution_count": null,
      "outputs": []
    },
    {
      "cell_type": "code",
      "metadata": {
        "id": "3OS9G0_DZgRm"
      },
      "source": [
        "def esABBMenor(valor,arbol):\n",
        "    if arbol == None:\n",
        "        return True\n",
        "    elif (arbol.valor < valor)\\\n",
        "             and esABBMenor(arbol.valor,arbol.izq)\\\n",
        "             and esABBMayor(arbol.valor,arbol.der):\n",
        "        return True\n",
        "    else:\n",
        "        return False\n",
        "    \n",
        "assert esABBMenor(\"F\", AB(\"B\",\\\n",
        "                            AB(\"A\",None,None),\\\n",
        "                            AB(\"D\",\\\n",
        "                                AB(\"C\",None,None),\\\n",
        "                                AB(\"E\",None,None))))"
      ],
      "execution_count": null,
      "outputs": []
    },
    {
      "cell_type": "code",
      "metadata": {
        "id": "pOvZ2xOrZgRq"
      },
      "source": [
        "def esABBMayor(valor,arbol):\n",
        "    if arbol == None:\n",
        "        return True\n",
        "    elif (arbol.valor > valor) \\\n",
        "        and esABBMenor(arbol.valor,arbol.izq)\\\n",
        "        and esABBMayor(arbol.valor,arbol.der):\n",
        "        return True\n",
        "    else:\n",
        "        return False\n",
        "    \n",
        "assert esABBMayor(\"F\",AB(\"G\",\\\n",
        "                            None,\\\n",
        "                            AB(\"I\",\\\n",
        "                                  AB(\"H\", None, None),\\\n",
        "                                  None)))"
      ],
      "execution_count": null,
      "outputs": []
    },
    {
      "cell_type": "code",
      "metadata": {
        "id": "GSLCUOduZgRv"
      },
      "source": [
        "#escribir: AB -> None\n",
        "#escribir valores de ABB A en orden ...\n",
        "#ej: escribir(abb) -> ...\n",
        "\n",
        "def escribir(arbol):\n",
        "    assert arbol==None or type(arbol)==AB\n",
        "    if arbol==None: \n",
        "        return\n",
        "    \n",
        "    escribir(arbol.izq)\n",
        "    print(arbol.valor)\n",
        "    escribir(arbol.der)\n",
        "\n",
        "    \n"
      ],
      "execution_count": null,
      "outputs": []
    },
    {
      "cell_type": "code",
      "metadata": {
        "id": "n3oOUuK4ZgRx"
      },
      "source": [
        "escribir(abb)"
      ],
      "execution_count": null,
      "outputs": []
    },
    {
      "cell_type": "code",
      "metadata": {
        "id": "Fe3jp51CZgR3"
      },
      "source": [
        "#insertar: any, AB -> AB\n",
        "#nuevo ABB insertando x en ABB A\n",
        "#ej: insertar(\"A\",AB(\"B\",None,None))->\n",
        "#                 AB(\"B\",AB(\"A\",None,None),None)\n",
        "def insertar(x,arbol):\n",
        "   \n",
        "    assert arbol==None or type(arbol)==AB\n",
        "    if arbol==None: \n",
        "        return AB(x,None,None)\n",
        "    \n",
        "    assert x!=arbol.valor\n",
        "    if x<arbol.valor: \n",
        "        return AB(arbol.valor, insertar(x,arbol.izq), arbol.der)\n",
        "    if x>arbol.valor: \n",
        "        return AB(arbol.valor, arbol.izq, insertar(x,arbol.der) )\n",
        "\n",
        "assert insertar(\"A\",AB(\"B\",None,None))== \\\n",
        "               AB(\"B\",AB(\"A\",None,None),None)\n"
      ],
      "execution_count": null,
      "outputs": []
    }
  ]
}