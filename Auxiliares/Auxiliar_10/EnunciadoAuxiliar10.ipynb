{
  "nbformat": 4,
  "nbformat_minor": 0,
  "metadata": {
    "colab": {
      "name": "Auxiliar_10.ipynb",
      "provenance": [],
      "collapsed_sections": [],
      "include_colab_link": true
    },
    "kernelspec": {
      "name": "python3",
      "display_name": "Python 3"
    },
    "language_info": {
      "name": "python"
    }
  },
  "cells": [
    {
      "cell_type": "markdown",
      "metadata": {
        "id": "view-in-github",
        "colab_type": "text"
      },
      "source": [
        "<a href=\"https://colab.research.google.com/github/bpoblete/CC1002/blob/master/Auxiliares/Auxiliar_10/EnunciadoAuxiliar10.ipynb\" target=\"_parent\"><img src=\"https://colab.research.google.com/assets/colab-badge.svg\" alt=\"Open In Colab\"/></a>"
      ]
    },
    {
      "cell_type": "markdown",
      "metadata": {
        "id": "wOM9UqAxREgx"
      },
      "source": [
        "# Auxiliar 10\n",
        "## Estructuras Mutables y Listas de Python"
      ]
    },
    {
      "cell_type": "markdown",
      "metadata": {
        "id": "bO3bxk23RJ2m"
      },
      "source": [
        "### P1 ONU\n",
        "\n",
        "La ONU requiere su ayuda manteniendo un registro de los países del mundo.\n",
        "Para esto le solicitan a usted que cree la estructura país, la cual permite almacenar el nombre, continente y número de habitantes de un país."
      ]
    },
    {
      "cell_type": "markdown",
      "metadata": {
        "id": "wNqmOd7ACQqo"
      },
      "source": [
        "##### A) Cree la estructura 'Pais' con los atributos necesarios."
      ]
    },
    {
      "cell_type": "code",
      "metadata": {
        "id": "W3UuYD3VCPxi"
      },
      "source": [
        ""
      ],
      "execution_count": null,
      "outputs": []
    },
    {
      "cell_type": "markdown",
      "metadata": {
        "id": "ay3IE6gZCWfv"
      },
      "source": [
        "##### B) Cree la estructura mutable PaisMut con los atribuos necesarios."
      ]
    },
    {
      "cell_type": "code",
      "metadata": {
        "id": "4PsKPM6ZCX0p"
      },
      "source": [
        ""
      ],
      "execution_count": null,
      "outputs": []
    },
    {
      "cell_type": "markdown",
      "metadata": {
        "id": "GN1NVFY6Cfva"
      },
      "source": [
        "##### C) Defina la función cambiarHabitantes, que recibe un Pais y una cantidad de habitantes y actualiza la cantidad de habitantes del Pais en cuestión."
      ]
    },
    {
      "cell_type": "code",
      "metadata": {
        "id": "37en7kLjChGF"
      },
      "source": [
        ""
      ],
      "execution_count": null,
      "outputs": []
    },
    {
      "cell_type": "markdown",
      "metadata": {
        "id": "0HL37R3VCi6M"
      },
      "source": [
        "##### D) Defina la función cambiarHabitantesMut, que recibe un PaisMut y una cantidad de habitantes y actualiza la cantidad de habitantes del PaisMut en cuestión."
      ]
    },
    {
      "cell_type": "code",
      "metadata": {
        "id": "-hJxVSocCnTW"
      },
      "source": [
        ""
      ],
      "execution_count": null,
      "outputs": []
    },
    {
      "cell_type": "markdown",
      "metadata": {
        "id": "2xiXM0-ICpRF"
      },
      "source": [
        "##### E) Defina la función cantidadHabitantes, la cual toma como argumento un Pais y retorna la cantidad de habitantes que posee."
      ]
    },
    {
      "cell_type": "code",
      "metadata": {
        "id": "SJqQqoVdCvvk"
      },
      "source": [
        ""
      ],
      "execution_count": null,
      "outputs": []
    },
    {
      "cell_type": "markdown",
      "metadata": {
        "id": "pHw8Lra0Cxi-"
      },
      "source": [
        "#### F) Defina la función cantidadHabitantesMut, la cual toma como argumento un Pais y retorna la cantidad de habitantes que posee."
      ]
    },
    {
      "cell_type": "code",
      "metadata": {
        "id": "5b_2gXHhC5_X"
      },
      "source": [
        ""
      ],
      "execution_count": null,
      "outputs": []
    },
    {
      "cell_type": "markdown",
      "metadata": {
        "id": "S8mm1Ni4ROJc"
      },
      "source": [
        "### P2 Listas Mutables\n"
      ]
    },
    {
      "cell_type": "markdown",
      "metadata": {
        "id": "YW0p4H-RDMEt"
      },
      "source": [
        "##### A) Defina una estructura mutable (lista) que corresponda a una lista mutable."
      ]
    },
    {
      "cell_type": "code",
      "metadata": {
        "id": "0y7mduIADK2H"
      },
      "source": [
        ""
      ],
      "execution_count": null,
      "outputs": []
    },
    {
      "cell_type": "markdown",
      "metadata": {
        "id": "LDKzheapDQZV"
      },
      "source": [
        "##### B) Cree la función concatenar, que reciba como parámetros una lista A, una lista B y modifique la lista A para que sea la concatenación de A y B. La función no debe retornar nada."
      ]
    },
    {
      "cell_type": "code",
      "metadata": {
        "id": "ky1EL-obDJAl"
      },
      "source": [
        ""
      ],
      "execution_count": null,
      "outputs": []
    },
    {
      "cell_type": "markdown",
      "metadata": {
        "id": "XOjVeGrsDYjc"
      },
      "source": [
        "##### C) Cree la función 'EliminarDesde' que recibe una lista mutable, un número de índice entero positivo y elimine todos los elementos a partir del índice de la lista retornando una lista con los elementos eliminados.\n",
        "\n",
        "*Indicación: como n es entero positivo, no puede eliminarse toda la lista*"
      ]
    },
    {
      "cell_type": "code",
      "metadata": {
        "id": "o665HfI_DcN8"
      },
      "source": [
        ""
      ],
      "execution_count": null,
      "outputs": []
    },
    {
      "cell_type": "markdown",
      "metadata": {
        "id": "rPLsa33IDkf2"
      },
      "source": [
        "### P3"
      ]
    },
    {
      "cell_type": "markdown",
      "metadata": {
        "id": "4nxQbpAkDdjh"
      },
      "source": [
        "Escribir las instrucciones para:\n",
        "\n",
        "**A)** Definir una lista con la cantidad de días de cada mes (sin considerar años bisiestos). Ej:[31,28,…,31]\n",
        "\n",
        "**B)** Definir una lista con los nombres de los meses Ej: [“enero”,…]\n",
        "\n",
        "**C)** Calcular y mostrar el total de días del año\n",
        "\n",
        "**D)** Mostrar el número del mes con menos días\n",
        "\n",
        "**E)** Mostrar los números de los meses más largos (con más días)\n",
        "\n",
        "**F)** Mostrar la lista de meses con sus días (ordenados cronológicamente)\n",
        "\n",
        "**G)** Una función (masCorto) que reciba las dos listas (nombres y cantidad de días) y devuelva el nombre del mes más corto (asuma que solo existe 1)\n",
        "\n",
        "**H)** Una función (masLargos) que reciba las dos listas y devuelva una lista con los nombres de los meses más largos (puede existir mas de uno)\n"
      ]
    },
    {
      "cell_type": "code",
      "metadata": {
        "id": "H_jy5tpdDp-4"
      },
      "source": [
        "#Parte A\n",
        "\n",
        "\n",
        "#Parte B\n",
        "\n",
        "#Parte C\n",
        "\n",
        "#Parte D\n",
        "\n",
        "#Parte E\n",
        "\n",
        "#Parte F\n",
        "\n",
        "#Parte G\n",
        "\n",
        "#Parte H\n"
      ],
      "execution_count": null,
      "outputs": []
    }
  ]
}