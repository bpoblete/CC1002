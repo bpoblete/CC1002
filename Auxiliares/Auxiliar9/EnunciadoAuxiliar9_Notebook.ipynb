{
  "nbformat": 4,
  "nbformat_minor": 0,
  "metadata": {
    "colab": {
      "name": "EnunciadoAuxiliar9_Notebook.ipynb",
      "provenance": [],
      "collapsed_sections": [],
      "include_colab_link": true
    },
    "kernelspec": {
      "name": "python3",
      "display_name": "Python 3"
    }
  },
  "cells": [
    {
      "cell_type": "markdown",
      "metadata": {
        "id": "view-in-github",
        "colab_type": "text"
      },
      "source": [
        "<a href=\"https://colab.research.google.com/github/bpoblete/CC1002/blob/master/Auxiliares/Auxiliar9/EnunciadoAuxiliar9_Notebook.ipynb\" target=\"_parent\"><img src=\"https://colab.research.google.com/assets/colab-badge.svg\" alt=\"Open In Colab\"/></a>"
      ]
    },
    {
      "cell_type": "markdown",
      "metadata": {
        "id": "aUcBpcmZJ26R"
      },
      "source": [
        "Auxiliar 9\n",
        "\n",
        "\n",
        "\n",
        "\n",
        "\n",
        "P1) Cree la función quitar(a,b), que recibe como parámetros dos números enteros a y b, que indican dos índices de una lista de python (a <=b). La función debe modificar la lista global L, eliminando todos los elementos ubicados entre los  índices a y b (inclusive). La función entrega como resultado,la cantidad de elementos que fueron borrados de la lista. Si alguno de los índices se encuentra fuera del rango de la lista, la función solo elimina los valores que estén dentro del rango. Ejemplos:\n",
        "\n",
        "```\n",
        "\n",
        "L = [79, 45, 18, 64, 17, 24, 51] \n",
        "\n",
        "quitar(7,9)-> entrega 0, y L queda como: L= [79,45, 18, 64, 17, 24, 51]\n",
        "\n",
        "quitar(3,5)-> entrega 3, y L queda como: L= [79,45,18,51]\n",
        "\n",
        "\n",
        "L = [79,45,18,64,17,24,51] \n",
        "\n",
        "quitar(5,8)-> entrega 2, y L queda como: L= [79. 45,18,64,17] \n",
        "\n",
        "quitar(2,2)-> entrega 1, y L queda como: L= [79,45,64,17]\n",
        "\n",
        "```"
      ]
    },
    {
      "cell_type": "markdown",
      "metadata": {
        "id": "ctdj9fd3Kayz"
      },
      "source": [
        ""
      ]
    },
    {
      "cell_type": "code",
      "metadata": {
        "id": "kwcoybP2KU-s"
      },
      "source": [
        "# Codigo"
      ],
      "execution_count": null,
      "outputs": []
    },
    {
      "cell_type": "markdown",
      "metadata": {
        "id": "8APw2x6IPrry"
      },
      "source": [
        "P2) Se le pide crear un sistema de notas interactivos para el curso de programación con el cual debe poder agregar notas de alumnos, quitar, consultar notas por alumno, mostrar todas las notas del curso o sacar el promedio. Para esto debe manejar dos listas (una de los nombres y otra de las notas). Programe las siguientes funciones:\n",
        "\n",
        "**insertarNota(alumno, nota):** Inserta el nombre del alumno con su respectiva nota.\n",
        "\n",
        "**quitarNota(nombre):** Quita la nota y al alumno, retornando que nota fue retirada\n",
        "\n",
        "**consultarNota(nombre):** Entrega la nota correspondiente al alumno.\n",
        "\n",
        "**mostrarNotas():** Imprime en pantalla todas las notas del curso\n",
        "\n",
        "**promedio()**: Entrega el promedio del curso\n",
        "\n",
        "Las listas son del tipo global\n",
        "\n",
        "Luego cree un programa interactivo de sistema de notas que se comporte de la siguiente manera:\n",
        "\n",
        "\n",
        "\n"
      ]
    },
    {
      "cell_type": "markdown",
      "metadata": {
        "id": "ySV_9iMBqwvY"
      },
      "source": [
        "\n",
        "\n",
        "```\n",
        "Sistema de notas\n",
        "Opciones: 1-Agregar nota, 2-Quitar nota, 3-Consultar nota, 4-Mostrar notas, 5-Promedio\n",
        "Eliga que opcion quiere ejecutar: 1\n",
        "Inserte nombre del alumno; Pepe\n",
        "Ingrese nota del alumno: 50\n",
        "Opciones: 1-Agregar nota, 2-Quitar nota, 3-Consultar nota, 4-Mostrar notas, 5-Promedio\n",
        "Eliga que opcion quiere ejecutar: 1\n",
        "Inserte nombre del alumno: Juan\n",
        "Ingrese nota del alumno: 30\n",
        "Opciones: 1-Agregar nota, 2-Quitar nota, 3-Consultar nota, 4-Mostrar notas, 5-Promedio\n",
        "Eliga que opcion quiere ejecutar: 4\n",
        "Alumno: Pepe Nota: 50.0\n",
        "Alumno: Juan Nota: 30.0\n",
        "Opciones: 1-Agregar nota, 2-Quitar nota, 3-Consultar nota, 4-Mostrar notas, 5-Promedio\n",
        "Eliga que opcion quiere ejecutar: 5\n",
        "40.0\n",
        "Opciones: 1-Agregar nota, 2-Quitar nota, 3-Consultar nota, 4-Mostrar notas, 5-Promedio\n",
        "\n",
        "Eliga que opcion quiere ejecutar \n",
        "```\n",
        "\n"
      ]
    },
    {
      "cell_type": "code",
      "metadata": {
        "id": "TmXCY5EiRm7A"
      },
      "source": [
        "\n",
        "#Codigo\n"
      ],
      "execution_count": null,
      "outputs": []
    },
    {
      "cell_type": "code",
      "metadata": {
        "id": "kssldQlgXiS-"
      },
      "source": [
        "# Programa interactivo\n"
      ],
      "execution_count": null,
      "outputs": []
    },
    {
      "cell_type": "markdown",
      "metadata": {
        "id": "HxLGtjgrrOwM"
      },
      "source": [
        "P3) Un palíndromo, es una palabra o frase que se lee igual en un sentido que en otro. Cree una función esPalindromo que verifique si un string es un palindromo o no. Para esto no puede crear un nuevo string, debe manejar dos variables, una que lea desde el inicio y otra desde el final."
      ]
    },
    {
      "cell_type": "code",
      "metadata": {
        "id": "7eRqc5Z5ty-9"
      },
      "source": [
        "# Codigo\n",
        "\n"
      ],
      "execution_count": null,
      "outputs": []
    }
  ]
}