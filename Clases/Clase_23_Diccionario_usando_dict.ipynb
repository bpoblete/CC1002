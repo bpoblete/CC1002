{
  "nbformat": 4,
  "nbformat_minor": 0,
  "metadata": {
    "kernelspec": {
      "display_name": "Python 2",
      "language": "python",
      "name": "python2"
    },
    "language_info": {
      "codemirror_mode": {
        "name": "ipython",
        "version": 2
      },
      "file_extension": ".py",
      "mimetype": "text/x-python",
      "name": "python",
      "nbconvert_exporter": "python",
      "pygments_lexer": "ipython2",
      "version": "2.7.13"
    },
    "colab": {
      "name": "Clase_23_Diccionario_usando_dict.ipynb",
      "provenance": [],
      "collapsed_sections": [],
      "include_colab_link": true
    }
  },
  "cells": [
    {
      "cell_type": "markdown",
      "metadata": {
        "id": "view-in-github",
        "colab_type": "text"
      },
      "source": [
        "<a href=\"https://colab.research.google.com/github/bpoblete/CC1002/blob/master/Clases/Clase_23_Diccionario_usando_dict.ipynb\" target=\"_parent\"><img src=\"https://colab.research.google.com/assets/colab-badge.svg\" alt=\"Open In Colab\"/></a>"
      ]
    },
    {
      "cell_type": "markdown",
      "metadata": {
        "id": "N_G4xJvsT4DH"
      },
      "source": [
        "# Clase Diccionario\n",
        "\n",
        "Solución utilizando dict de Python"
      ]
    },
    {
      "cell_type": "code",
      "metadata": {
        "id": "TtIXolHZT4DW"
      },
      "source": [
        "# Clase Diccionario\n",
        "# Campos:\n",
        "# __D : dict de items palabra(str):significado(str)\n",
        "class Diccionario:\n",
        "    \n",
        "    # __init__ : None -> dict\n",
        "    #crea diccionario con palabras en archivo x\n",
        "    #ej: D=Diccionario(\"diccionario.txt\")\n",
        "    def __init__(self,x):\n",
        "        assert type(x)==str\n",
        "        self.__D={} #dict()\n",
        "        f=open(x)\n",
        "        for linea in f:\n",
        "            i=linea.index(\".\")\n",
        "            palabra=linea[0:i]\n",
        "            significado=linea[i+1:-1]\n",
        "            self.__D[palabra] = significado\n",
        "        f.close()\n",
        "        \n",
        "        \n",
        "    #buscar: str -> str\n",
        "    #entrega significado de palabra x \n",
        "    #None si x no está\n",
        "    #ej: D.buscar(x)\n",
        "    def buscar(self,x):\n",
        "        if (x in self.__D): \n",
        "            return self.__D[x]\n",
        "        else: \n",
        "            return None\n",
        "\n",
        "    #agregar: str str -> bool\n",
        "    #agrega palabra x con significado y \n",
        "    #True si ok y False si x ya existe\n",
        "    #ej: D.agregar(x,y)\n",
        "    def agregar(self,x,y):\n",
        "        if x in self.__D:\n",
        "            return False\n",
        "        else:\n",
        "            self.__D[x]=y \n",
        "            return True\n",
        "\n",
        "        \n",
        "    #borrar: str -> bool\n",
        "    #borra palabra x \n",
        "    #True si ok y False si x no existe\n",
        "    #ej: D.borrar(x)\n",
        "    def borrar(self,x):\n",
        "        if x in self.__D:\n",
        "            del self.__D[x]\n",
        "            return True\n",
        "        else: \n",
        "            return False\n",
        "\n",
        "        \n",
        "    #cambiar: str str -> bool\n",
        "    #y a significado de palabra x \n",
        "    #True si ok y False si x no existe\n",
        "    #ej: D.cambiar(x,y)\n",
        "    def cambiar(self,x,y):\n",
        "        if x in self.__D: \n",
        "            self.__D[x]=y\n",
        "            return True\n",
        "        else:\n",
        "            return False\n",
        "\n",
        "\n",
        "    #grabar: str -> None\n",
        "    #graba diccionario en archivo de nombre x\n",
        "    #ej: D.grabar(\"diccionario.txt\")\n",
        "    def grabar(self,x):\n",
        "        f=open(x,\"w\")\n",
        "        for palabra in self.__D:\n",
        "            significado=self.__D[palabra] \n",
        "            f.write(palabra+\".\"+significado+\"\\n\")\n",
        "        f.close() \n"
      ],
      "execution_count": null,
      "outputs": []
    },
    {
      "cell_type": "code",
      "metadata": {
        "id": "Thbsi4_oT4Db"
      },
      "source": [
        "class TestDiccionario:\n",
        "    def __init__(self):  \n",
        "        a=open(\"D.txt\",\"w\")\n",
        "        a.write(\"hola.hi\\n\")\n",
        "        a.close()\n",
        "        self.__D=Diccionario(\"D.txt\")\n",
        "    \n",
        "    def test(self):\n",
        "        assert self.__D.buscar(\"hola\")==\"hi\"\n",
        "        assert self.__D.cambiar(\"hola\",\"hello\")\n",
        "        assert self.__D.buscar(\"hola\")==\"hello\"\n",
        "        assert self.__D.borrar(\"hola\")\n",
        "        assert self.__D.buscar(\"hola\")==None\n",
        "        assert self.__D.agregar(\"hola\",\"hi\")\n",
        "        assert self.__D.buscar(\"hola\")==\"hi\"\n",
        "        self.__D.grabar(\"D.txt\")\n",
        "    \n",
        "        for l in open(\"D.txt\"): \n",
        "            assert l==\"hola.hi\\n\" \n",
        "TestDiccionario().test()    \n"
      ],
      "execution_count": null,
      "outputs": []
    }
  ]
}