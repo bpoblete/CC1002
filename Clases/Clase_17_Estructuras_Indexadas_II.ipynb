{
  "nbformat": 4,
  "nbformat_minor": 0,
  "metadata": {
    "kernelspec": {
      "name": "python3",
      "display_name": "Python 3"
    },
    "colab": {
      "name": "C17 - Estructuras Indexadas II.ipynb",
      "provenance": [],
      "collapsed_sections": [],
      "include_colab_link": true
    }
  },
  "cells": [
    {
      "cell_type": "markdown",
      "metadata": {
        "id": "view-in-github",
        "colab_type": "text"
      },
      "source": [
        "<a href=\"https://colab.research.google.com/github/bpoblete/CC1002/blob/master/Clases/Clase_17_Estructuras_Indexadas_II.ipynb\" target=\"_parent\"><img src=\"https://colab.research.google.com/assets/colab-badge.svg\" alt=\"Open In Colab\"/></a>"
      ]
    },
    {
      "cell_type": "markdown",
      "metadata": {
        "id": "gI11V-Oh0I3R"
      },
      "source": [
        "# Clase 17: Estructuras Indexadas (parte II)\n",
        "\n",
        "\n",
        "\n",
        "\n",
        "\n"
      ]
    },
    {
      "cell_type": "markdown",
      "metadata": {
        "id": "vuY1CpWiC6kK"
      },
      "source": [
        "## Funciones para listas\n",
        "\n",
        "Notas:\n",
        "- L se considera un alias del argumento\n",
        "- si se modifica parámetro L dentro de la función afecta también al argumento (lista) utilizado en la invocación"
      ]
    },
    {
      "cell_type": "markdown",
      "metadata": {
        "id": "DIRmFVvl-CwH"
      },
      "source": [
        "### Ejemplo: Sumar valores de una lista"
      ]
    },
    {
      "cell_type": "code",
      "metadata": {
        "id": "0d-ecO6tC6kL"
      },
      "source": [
        "#suma: list (num) -> num\n",
        "#sumar numeros de una lista\n",
        "#ej: suma([20,30,10])->60\n",
        "\n",
        "def suma(L):\n",
        "    assert type(L)==list\n",
        "    total=0\n",
        "    for valor in L:\n",
        "        total = total + valor # total+=valor\n",
        "    return total\n",
        "\n",
        "assert suma([20,30,10])==60"
      ],
      "execution_count": 1,
      "outputs": []
    },
    {
      "cell_type": "code",
      "metadata": {
        "id": "9DDmlIMvC6kN"
      },
      "source": [
        "# usando range\n",
        "def suma(L):\n",
        "    assert type(L)==list\n",
        "    total=0\n",
        "    for i in range(len(L)): # [0,1,..,len(L)-1]\n",
        "        total = total + L[i]\n",
        "    return total\n",
        "\n",
        "assert suma([20,30,10])==60"
      ],
      "execution_count": 2,
      "outputs": []
    },
    {
      "cell_type": "markdown",
      "metadata": {
        "id": "WMwgDeM73t1U"
      },
      "source": [
        "### Ej. Indicar el índice de una lista donde se encuentra cierto valor"
      ]
    },
    {
      "cell_type": "code",
      "metadata": {
        "id": "CUYuGye1C6kP"
      },
      "source": [
        "#indice: any list(any) -> int\n",
        "#indice (desde 0) de 1ª aparición de x en L\n",
        "#-1 si no está\n",
        "#ej: indice(30,[20,30,10])->1\n",
        "\n",
        "def indice(x,L):\n",
        "    assert type(L)==list\n",
        "    for i in range(len(L)): #[0,1,..,len(L)-1]->[0,1,2]\n",
        "        if L[i]==x: return i\n",
        "    return -1\n",
        "\n",
        "assert indice(30,[20,30,10]) == 1\n",
        "assert indice(40,[20,30,10]) == -1\n"
      ],
      "execution_count": 3,
      "outputs": []
    },
    {
      "cell_type": "markdown",
      "metadata": {
        "id": "Cvn0eAJI3ZP8"
      },
      "source": [
        "### ¿Cómo imprimir los valores de una lista?"
      ]
    },
    {
      "cell_type": "code",
      "metadata": {
        "id": "v01a3j_L0I4r",
        "outputId": "92f6742a-4a71-4d9c-d49a-83e488d03f06",
        "colab": {
          "base_uri": "https://localhost:8080/",
          "height": 0
        }
      },
      "source": [
        "L = [10, 20, 30, 40, 50,60,70]\n",
        "for valor in L:\n",
        "  print(valor)\n"
      ],
      "execution_count": 4,
      "outputs": [
        {
          "output_type": "stream",
          "text": [
            "10\n",
            "20\n",
            "30\n",
            "40\n",
            "50\n",
            "60\n",
            "70\n"
          ],
          "name": "stdout"
        }
      ]
    },
    {
      "cell_type": "markdown",
      "metadata": {
        "id": "vyEs5L2I3iO_"
      },
      "source": [
        "### Ej. Realizar una copia 'efectiva' de una lista"
      ]
    },
    {
      "cell_type": "code",
      "metadata": {
        "id": "Lz58W8570I4w"
      },
      "source": [
        "#copia: list -> list\n",
        "def copia(L):\n",
        "    assert type(L)==list\n",
        "    duplicado=[]\n",
        "    for valor in L:\n",
        "      duplicado.append(valor)\n",
        "    return duplicado\n",
        "    \n",
        "\n",
        "assert copia([8,9,7,9])==[8,9,7,9]\n",
        "\n"
      ],
      "execution_count": 5,
      "outputs": []
    },
    {
      "cell_type": "markdown",
      "metadata": {
        "id": "WCeQt1xU0I5d"
      },
      "source": [
        "## Instrucción 'while'\n",
        "\n",
        "Esta instrucción es más general que la instrucción **`for`** y permite iterar sobre un bloque de instrucciónes, su sintaxis es:\n",
        "\n",
        "```python\n",
        "while condicion: # condición es de tipo boolean\n",
        "    # bloque de instrucciones\n",
        "    \n",
        "```\n",
        "\n",
        "las instrucciones del ciclo **`while`** se ejecutarán mientras **`condición`** sea igual a **`True`**."
      ]
    },
    {
      "cell_type": "code",
      "metadata": {
        "id": "TPGKeDaC0I5f",
        "outputId": "fbfb7f1b-d1c2-4c95-dff3-acea596aaf0f",
        "colab": {
          "base_uri": "https://localhost:8080/",
          "height": 0
        }
      },
      "source": [
        "lista = [10,20 ,30, 40, 50]\n",
        "indice = 0\n",
        "while indice < len(lista):\n",
        "    print (lista[indice])\n",
        "    indice = indice +1"
      ],
      "execution_count": 6,
      "outputs": [
        {
          "output_type": "stream",
          "text": [
            "10\n",
            "20\n",
            "30\n",
            "40\n",
            "50\n"
          ],
          "name": "stdout"
        }
      ]
    },
    {
      "cell_type": "code",
      "metadata": {
        "id": "ckaGwBL30I5j"
      },
      "source": [
        "#suma: list(int) -> int\n",
        "def suma(L):\n",
        "    assert type(L)==list\n",
        "    suma = 0\n",
        "    indice = 0\n",
        "    while indice < len(L):\n",
        "        suma+= L[indice]\n",
        "        indice+=1\n",
        "    return suma\n",
        "\n",
        "assert suma([8,9,7,9])==33\n",
        "\n"
      ],
      "execution_count": 7,
      "outputs": []
    },
    {
      "cell_type": "markdown",
      "metadata": {
        "id": "p8WOsuhy0I5k"
      },
      "source": [
        "## Strings son listas inmutables\n",
        "\n",
        "Los strings operan como una estructura indexada de caracteres. Es decir, una lista de caracteres inmutable:"
      ]
    },
    {
      "cell_type": "code",
      "metadata": {
        "id": "sDGRoUX30I5l",
        "outputId": "0f64d665-67a4-4dfa-bf64-a99d0c492d8d",
        "colab": {
          "base_uri": "https://localhost:8080/",
          "height": 35
        }
      },
      "source": [
        "palabra = \"algoritmo\"\n",
        "palabra[2]"
      ],
      "execution_count": 8,
      "outputs": [
        {
          "output_type": "execute_result",
          "data": {
            "application/vnd.google.colaboratory.intrinsic+json": {
              "type": "string"
            },
            "text/plain": [
              "'g'"
            ]
          },
          "metadata": {
            "tags": []
          },
          "execution_count": 8
        }
      ]
    },
    {
      "cell_type": "code",
      "metadata": {
        "id": "L0b9Ic3P0I5o",
        "outputId": "7adc7037-454d-48e3-c260-19de3f7f9bd7",
        "colab": {
          "base_uri": "https://localhost:8080/",
          "height": 35
        }
      },
      "source": [
        "otrapalabra = \"ALGORITMO\"\n",
        "palabra+otrapalabra"
      ],
      "execution_count": 9,
      "outputs": [
        {
          "output_type": "execute_result",
          "data": {
            "application/vnd.google.colaboratory.intrinsic+json": {
              "type": "string"
            },
            "text/plain": [
              "'algoritmoALGORITMO'"
            ]
          },
          "metadata": {
            "tags": []
          },
          "execution_count": 9
        }
      ]
    },
    {
      "cell_type": "code",
      "metadata": {
        "id": "pHOri8w90I5q",
        "outputId": "6fc8659b-817d-4d77-f54b-12cadd4153fa",
        "colab": {
          "base_uri": "https://localhost:8080/",
          "height": 0
        }
      },
      "source": [
        "len(palabra)"
      ],
      "execution_count": 10,
      "outputs": [
        {
          "output_type": "execute_result",
          "data": {
            "text/plain": [
              "9"
            ]
          },
          "metadata": {
            "tags": []
          },
          "execution_count": 10
        }
      ]
    },
    {
      "cell_type": "code",
      "metadata": {
        "id": "N4LLBSn90I5u",
        "outputId": "6148ffa3-82ed-4cdf-e75c-883207ebd85d",
        "colab": {
          "base_uri": "https://localhost:8080/",
          "height": 0
        }
      },
      "source": [
        "palabra < otrapalabra"
      ],
      "execution_count": 11,
      "outputs": [
        {
          "output_type": "execute_result",
          "data": {
            "text/plain": [
              "False"
            ]
          },
          "metadata": {
            "tags": []
          },
          "execution_count": 11
        }
      ]
    },
    {
      "cell_type": "code",
      "metadata": {
        "id": "lSAkYxXL0I5v",
        "outputId": "fcf3af04-ba6e-4293-c6af-37a6e34b6af3",
        "colab": {
          "base_uri": "https://localhost:8080/",
          "height": 0
        }
      },
      "source": [
        "'a'>'A'"
      ],
      "execution_count": 12,
      "outputs": [
        {
          "output_type": "execute_result",
          "data": {
            "text/plain": [
              "True"
            ]
          },
          "metadata": {
            "tags": []
          },
          "execution_count": 12
        }
      ]
    },
    {
      "cell_type": "code",
      "metadata": {
        "id": "RMc8KfJs0I5x",
        "outputId": "4f5f1ba5-5241-416d-ac79-8f0b3492feaf",
        "colab": {
          "base_uri": "https://localhost:8080/",
          "height": 35
        }
      },
      "source": [
        "palabra[2:len(palabra)]"
      ],
      "execution_count": 13,
      "outputs": [
        {
          "output_type": "execute_result",
          "data": {
            "application/vnd.google.colaboratory.intrinsic+json": {
              "type": "string"
            },
            "text/plain": [
              "'goritmo'"
            ]
          },
          "metadata": {
            "tags": []
          },
          "execution_count": 13
        }
      ]
    },
    {
      "cell_type": "code",
      "metadata": {
        "id": "T6yDRukX0I5z",
        "outputId": "899be8a7-8b13-430d-e9a9-99cb478cee02",
        "colab": {
          "base_uri": "https://localhost:8080/",
          "height": 0
        }
      },
      "source": [
        "'a' in palabra"
      ],
      "execution_count": 14,
      "outputs": [
        {
          "output_type": "execute_result",
          "data": {
            "text/plain": [
              "True"
            ]
          },
          "metadata": {
            "tags": []
          },
          "execution_count": 14
        }
      ]
    },
    {
      "cell_type": "code",
      "metadata": {
        "id": "hAM3GsGN0I50",
        "outputId": "22c59189-3c99-4401-ec83-502de5fa6c05",
        "colab": {
          "base_uri": "https://localhost:8080/",
          "height": 0
        }
      },
      "source": [
        "palabra = \"algoritmo\"\n",
        "for caracter in palabra:\n",
        "    print (caracter)"
      ],
      "execution_count": 15,
      "outputs": [
        {
          "output_type": "stream",
          "text": [
            "a\n",
            "l\n",
            "g\n",
            "o\n",
            "r\n",
            "i\n",
            "t\n",
            "m\n",
            "o\n"
          ],
          "name": "stdout"
        }
      ]
    },
    {
      "cell_type": "code",
      "metadata": {
        "id": "A0FyXI_40I51"
      },
      "source": [
        "def inverso(x):\n",
        "    s = ''\n",
        "    for i in  range(len(x)-1,-1, -1):\n",
        "        s = s + x[i]\n",
        "    return s\n",
        "assert inverso(\"roma\")==\"amor\"\n"
      ],
      "execution_count": 16,
      "outputs": []
    },
    {
      "cell_type": "code",
      "metadata": {
        "id": "OhFkkNa90I53",
        "outputId": "a2a1531d-7a91-467e-ef08-dea3aa89740c",
        "colab": {
          "base_uri": "https://localhost:8080/",
          "height": 35
        }
      },
      "source": [
        "inverso('hola')"
      ],
      "execution_count": 17,
      "outputs": [
        {
          "output_type": "execute_result",
          "data": {
            "application/vnd.google.colaboratory.intrinsic+json": {
              "type": "string"
            },
            "text/plain": [
              "'aloh'"
            ]
          },
          "metadata": {
            "tags": []
          },
          "execution_count": 17
        }
      ]
    },
    {
      "cell_type": "code",
      "metadata": {
        "id": "RBKXwabH0I54"
      },
      "source": [
        "def inverso(x):\n",
        "    s =''\n",
        "    for c in x: \n",
        "      s=c+s \n",
        "    return s\n",
        "\n",
        "assert inverso(\"roma\")==\"amor\"\n"
      ],
      "execution_count": 18,
      "outputs": []
    },
    {
      "cell_type": "code",
      "metadata": {
        "id": "s54IPGWc0I55"
      },
      "source": [
        "def capicua(x): \n",
        "    return x==inverso(x)\n",
        "assert capicua(\"reconocer\")\n"
      ],
      "execution_count": 19,
      "outputs": []
    },
    {
      "cell_type": "markdown",
      "metadata": {
        "id": "CEO3Z9BU0I56"
      },
      "source": [
        "### otras funciones de python para strings"
      ]
    },
    {
      "cell_type": "code",
      "metadata": {
        "id": "0uG2ZPQd0I57"
      },
      "source": [
        "x = \"operaciones de strings en python\""
      ],
      "execution_count": 20,
      "outputs": []
    },
    {
      "cell_type": "code",
      "metadata": {
        "id": "ufDc_qaN0I58",
        "outputId": "e24de66e-0bed-4cd1-cbbe-dd23ab5be40a",
        "colab": {
          "base_uri": "https://localhost:8080/",
          "height": 0
        }
      },
      "source": [
        "x.find(\"s\")"
      ],
      "execution_count": 21,
      "outputs": [
        {
          "output_type": "execute_result",
          "data": {
            "text/plain": [
              "10"
            ]
          },
          "metadata": {
            "tags": []
          },
          "execution_count": 21
        }
      ]
    },
    {
      "cell_type": "code",
      "metadata": {
        "id": "wwjHuL920I5-",
        "outputId": "d2b4632d-c77e-492b-9ba8-1b2f48929b58",
        "colab": {
          "base_uri": "https://localhost:8080/",
          "height": 0
        }
      },
      "source": [
        "x.count(\"s\")"
      ],
      "execution_count": 22,
      "outputs": [
        {
          "output_type": "execute_result",
          "data": {
            "text/plain": [
              "3"
            ]
          },
          "metadata": {
            "tags": []
          },
          "execution_count": 22
        }
      ]
    },
    {
      "cell_type": "code",
      "metadata": {
        "id": "eucmq3Ga0I6A",
        "outputId": "88ae6a12-797a-416d-ff42-1f020d301690",
        "colab": {
          "base_uri": "https://localhost:8080/",
          "height": 0
        }
      },
      "source": [
        "x.isalpha()"
      ],
      "execution_count": 23,
      "outputs": [
        {
          "output_type": "execute_result",
          "data": {
            "text/plain": [
              "False"
            ]
          },
          "metadata": {
            "tags": []
          },
          "execution_count": 23
        }
      ]
    },
    {
      "cell_type": "code",
      "metadata": {
        "id": "Haf6X8oU0I6B",
        "outputId": "84ff4309-4585-4374-9573-1625645d2f66",
        "colab": {
          "base_uri": "https://localhost:8080/",
          "height": 0
        }
      },
      "source": [
        "x.islower()"
      ],
      "execution_count": 24,
      "outputs": [
        {
          "output_type": "execute_result",
          "data": {
            "text/plain": [
              "True"
            ]
          },
          "metadata": {
            "tags": []
          },
          "execution_count": 24
        }
      ]
    },
    {
      "cell_type": "code",
      "metadata": {
        "id": "aqfCyaBB0I6E",
        "outputId": "a3b08f2c-12b3-4fb9-f013-f8d2f1a76282",
        "colab": {
          "base_uri": "https://localhost:8080/",
          "height": 0
        }
      },
      "source": [
        "x.isupper()"
      ],
      "execution_count": 25,
      "outputs": [
        {
          "output_type": "execute_result",
          "data": {
            "text/plain": [
              "False"
            ]
          },
          "metadata": {
            "tags": []
          },
          "execution_count": 25
        }
      ]
    },
    {
      "cell_type": "code",
      "metadata": {
        "id": "Mlu71LKi0I6H",
        "outputId": "b87cdcf1-8bad-4caf-8ad2-d66fc3eeb9d0",
        "colab": {
          "base_uri": "https://localhost:8080/",
          "height": 35
        }
      },
      "source": [
        "x.upper()"
      ],
      "execution_count": 26,
      "outputs": [
        {
          "output_type": "execute_result",
          "data": {
            "application/vnd.google.colaboratory.intrinsic+json": {
              "type": "string"
            },
            "text/plain": [
              "'OPERACIONES DE STRINGS EN PYTHON'"
            ]
          },
          "metadata": {
            "tags": []
          },
          "execution_count": 26
        }
      ]
    },
    {
      "cell_type": "code",
      "metadata": {
        "id": "vXuwp9yl0I6I",
        "outputId": "d40f13e4-320b-4232-ff40-ce09c74a997b",
        "colab": {
          "base_uri": "https://localhost:8080/",
          "height": 35
        }
      },
      "source": [
        "x.lower()"
      ],
      "execution_count": 27,
      "outputs": [
        {
          "output_type": "execute_result",
          "data": {
            "application/vnd.google.colaboratory.intrinsic+json": {
              "type": "string"
            },
            "text/plain": [
              "'operaciones de strings en python'"
            ]
          },
          "metadata": {
            "tags": []
          },
          "execution_count": 27
        }
      ]
    },
    {
      "cell_type": "code",
      "metadata": {
        "id": "Aj3edFTy0I6J",
        "outputId": "6be022d6-6819-45f4-b988-1cc2d53ce7be",
        "colab": {
          "base_uri": "https://localhost:8080/",
          "height": 35
        }
      },
      "source": [
        "y = \" \" + x + \" \"\n",
        "y"
      ],
      "execution_count": 28,
      "outputs": [
        {
          "output_type": "execute_result",
          "data": {
            "application/vnd.google.colaboratory.intrinsic+json": {
              "type": "string"
            },
            "text/plain": [
              "' operaciones de strings en python '"
            ]
          },
          "metadata": {
            "tags": []
          },
          "execution_count": 28
        }
      ]
    },
    {
      "cell_type": "code",
      "metadata": {
        "id": "Ddz_aHKX0I6L",
        "outputId": "78258cba-4ff9-417f-9826-fb708e91f953",
        "colab": {
          "base_uri": "https://localhost:8080/",
          "height": 35
        }
      },
      "source": [
        "y.strip()"
      ],
      "execution_count": 29,
      "outputs": [
        {
          "output_type": "execute_result",
          "data": {
            "application/vnd.google.colaboratory.intrinsic+json": {
              "type": "string"
            },
            "text/plain": [
              "'operaciones de strings en python'"
            ]
          },
          "metadata": {
            "tags": []
          },
          "execution_count": 29
        }
      ]
    },
    {
      "cell_type": "code",
      "metadata": {
        "id": "y6DEbkhT0I6N",
        "outputId": "846e024c-058a-4c88-85c4-798ef9abfdb3",
        "colab": {
          "base_uri": "https://localhost:8080/",
          "height": 35
        }
      },
      "source": [
        "x.replace(\"o\",\"s\")"
      ],
      "execution_count": 30,
      "outputs": [
        {
          "output_type": "execute_result",
          "data": {
            "application/vnd.google.colaboratory.intrinsic+json": {
              "type": "string"
            },
            "text/plain": [
              "'speracisnes de strings en pythsn'"
            ]
          },
          "metadata": {
            "tags": []
          },
          "execution_count": 30
        }
      ]
    },
    {
      "cell_type": "markdown",
      "metadata": {
        "id": "ToyVd-Yy0I6Q"
      },
      "source": [
        "### Ej. ¿Cómo ver si una frase es capicúa?"
      ]
    },
    {
      "cell_type": "code",
      "metadata": {
        "id": "Lr8F5VX20I6Q"
      },
      "source": [
        "def fraseCapicua(frase):\n",
        "    frase=frase.replace(\" \", \"\") #eliminar espacios\n",
        "    frase=frase.lower()  #todo a minusculas\n",
        "    return capicua(frase)\n",
        "assert fraseCapicua(\"Anita lava la tina\")\n"
      ],
      "execution_count": 31,
      "outputs": []
    },
    {
      "cell_type": "markdown",
      "metadata": {
        "id": "xWwpgsKa0I6T"
      },
      "source": [
        "## Lista de listas (lista de 2 dimensiones o tabla o matriz)\n",
        "\n"
      ]
    },
    {
      "cell_type": "code",
      "metadata": {
        "id": "3pmVEEUA0I6T",
        "outputId": "3301764c-3f10-458d-b422-1e47f7a881ff",
        "colab": {
          "base_uri": "https://localhost:8080/",
          "height": 0
        }
      },
      "source": [
        "\n",
        "T=[[\"gabriela\",\"jose\",\"rosa\",\"matias\"],\\\n",
        "   [62,48,56,49],\\\n",
        "   [45,52,35,48]]\n",
        "#promedios por pregunta (por filas)\n",
        "for i in range(1,len(T)):\n",
        "    print (\"promedio pregunta\",i,float(sum(T[i]))/len(T[i]))\n",
        "\n",
        "#promedios por alumno (por columnas)\n",
        "for j in range(len(T[0])):\n",
        "    s=0.0\n",
        "    for i in range(1,len(T)):\n",
        "        s+=T[i][j]\n",
        "    print (\"promedio: \",T[0][j],s/(len(T)-1))\n"
      ],
      "execution_count": 32,
      "outputs": [
        {
          "output_type": "stream",
          "text": [
            "promedio pregunta 1 53.75\n",
            "promedio pregunta 2 45.0\n",
            "promedio:  gabriela 53.5\n",
            "promedio:  jose 50.0\n",
            "promedio:  rosa 45.5\n",
            "promedio:  matias 48.5\n"
          ],
          "name": "stdout"
        }
      ]
    }
  ]
}