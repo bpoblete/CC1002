{
  "nbformat": 4,
  "nbformat_minor": 0,
  "metadata": {
    "colab": {
      "name": "PautaAuxiliar3.ipynb",
      "provenance": [],
      "collapsed_sections": [
        "R7txztj4BXdW"
      ],
      "include_colab_link": true
    },
    "kernelspec": {
      "name": "python3",
      "display_name": "Python 3"
    },
    "language_info": {
      "name": "python"
    }
  },
  "cells": [
    {
      "cell_type": "markdown",
      "metadata": {
        "id": "view-in-github",
        "colab_type": "text"
      },
      "source": [
        "<a href=\"https://colab.research.google.com/github/bpoblete/CC1002/blob/master/Auxiliares/Auxiliar_3/PautaAuxiliar3.ipynb\" target=\"_parent\"><img src=\"https://colab.research.google.com/assets/colab-badge.svg\" alt=\"Open In Colab\"/></a>"
      ]
    },
    {
      "cell_type": "markdown",
      "metadata": {
        "id": "wOM9UqAxREgx"
      },
      "source": [
        "# Pauta Auxiliar 3\n",
        "## Recursión, testing y depuración"
      ]
    },
    {
      "cell_type": "markdown",
      "metadata": {
        "id": "bO3bxk23RJ2m"
      },
      "source": [
        "### Pregunta 1 \n",
        "\n",
        "Se define la función recursiva $Fun$ de la siguiente manera:\n",
        "\n",
        "\\begin{equation*}\n",
        "    Fun(n) = \\left \\{ \\begin{matrix} 1 & \\mbox{si }n=1\n",
        "   \\\\ 3 & \\mbox{si } n=2 \n",
        "\\\\ Fun(n-1) - Fun(n-2) & \\mbox{si }n>2\\end{matrix}\\right.\n",
        "\\end{equation*}\n",
        "\n",
        "Para esta pregunta usted deberá resolver el problema de encontrar $\\sum_{i=1}^n Fun(i)$ recursivamente. Para esto usted implementará las siguientes **funciones recursivas**:\n",
        "- Fun(x): Devuelve el resultado de la fórmula recursiva\n",
        "- suma_Fun(x): Devuelve el resultado de la fórmula $\\sum_{i=1}^n Fun(i)$\n",
        "\n",
        "Ambas funciones solo reciben números enteros positivos $(>0)$ (debe verificarlo). Además, debe realizar el testing con al menos 3 casos.\n",
        "\n",
        "\n",
        "\n"
      ]
    },
    {
      "cell_type": "code",
      "metadata": {
        "id": "KBF6aZDrREHT"
      },
      "source": [
        "# fun: int -> int\n",
        "# Retorna el resultado de la funcion recursiva \"fun\"\n",
        "# Ejemplo: fun(1) retorna 1\n",
        "def fun(x):\n",
        "  assert type(x)==int and x>0\n",
        "  if x==1:\n",
        "    return 1\n",
        "  elif x==2:\n",
        "    return 3\n",
        "  else:\n",
        "    return fun(x-1)-fun(x-2)\n",
        "# Test\n",
        "assert fun(1)==1\n",
        "assert fun(5)==-3\n",
        "assert fun(15)==2"
      ],
      "execution_count": null,
      "outputs": []
    },
    {
      "cell_type": "code",
      "metadata": {
        "id": "2mFy2EMPaIj0"
      },
      "source": [
        "# suma_fun: int -> int\n",
        "# Retorna la suma de los primeros x numeros de la sucesion \"fun\"\n",
        "# Ejemplo: suma_fun(2) retorna 4\n",
        "def suma_fun(x):\n",
        "  assert type(x)==int and x>0\n",
        "  if x == 1:\n",
        "    return fun(x)\n",
        "  else:\n",
        "    return fun(x) + suma_fun(x-1)\n",
        "# Test\n",
        "assert suma_fun(1)==1\n",
        "assert suma_fun(15)==6\n",
        "assert suma_fun(20)==4"
      ],
      "execution_count": null,
      "outputs": []
    },
    {
      "cell_type": "markdown",
      "metadata": {
        "id": "S8mm1Ni4ROJc"
      },
      "source": [
        "### Pregunta 2\n",
        "\n",
        "Programe la función (de manera **recursiva**) que resuelva la siguiente recurrencia (debe verificar que tanto m como n sean enteros y no negativos):\n",
        "\n",
        "\\begin{equation*}\n",
        "    funcion\\_recursiva(m,n) = \\left \\{ \\begin{matrix} funcion\\_recursiva(m-1,n)\n",
        "    +1 & \\mbox{si }n=0\\mbox{ y } m>0\n",
        "\\\\ funcion\\_recursiva(m,n-1)+n & \\mbox{si }n>0\\end{matrix}\\right.\n",
        "\\end{equation*}\n",
        "\n",
        "Donde $funcion\\_recursiva(0,0) = 0$\n",
        "\n",
        "Note que la $funcion\\_recursiva$ es equivalente a $f(m,n) = m+ n(n+1)/2$, lo anterior le podría ser útil para los test."
      ]
    },
    {
      "cell_type": "code",
      "metadata": {
        "id": "3NiOpuE87WzN"
      },
      "source": [
        "# funcion_recursiva: int int -> int\n",
        "# Retorna el resultado de la funcion recursiva \"funcion_recursiva\"\n",
        "# Ejemplo: funcion_recursiva(1,1) retorna 2\n",
        "def funcion_recursiva(m,n):\n",
        "  assert type(m)==int and type(n)==int and m >= 0 and n >= 0\n",
        "\n",
        "  #Caso base\n",
        "  if (m == 0 and n==0):\n",
        "    return 0\n",
        "  #Caso 1  \n",
        "  elif (n==0 and m > 0):\n",
        "    return funcion_recursiva(m-1, n) + 1\n",
        "  # Caso 2\n",
        "  else:\n",
        "    return funcion_recursiva(m,n-1) + n\n",
        "\n",
        "# Test\n",
        "assert funcion_recursiva(0,0) == 0\n",
        "assert funcion_recursiva(0,1) == 1\n",
        "assert funcion_recursiva(5,1) == 6"
      ],
      "execution_count": null,
      "outputs": []
    },
    {
      "cell_type": "markdown",
      "metadata": {
        "id": "ICG1dRrDROVI"
      },
      "source": [
        "### Pregunta 3\n",
        "#### Parte A\n",
        "Implemente la función `numeros_de_catalan(n)`, la cual recibe un entero no negativo $n$ y retorna el número de catalan asociado.\n",
        "\n",
        "\\begin{equation*}\n",
        "    C_n = \\left \\{ \\begin{matrix} 1 & \\mbox{si }n=0\n",
        "\\\\  \\displaystyle\\frac{2(2n-1)}{n+1}\\cdot C_{n-1}& \\text{en caso contrario}\\end{matrix}\\right.\n",
        "\\end{equation*}"
      ]
    },
    {
      "cell_type": "code",
      "metadata": {
        "id": "ds0j6MaBEhFT"
      },
      "source": [
        "# numeros_de_catalan: int -> int\n",
        "# Retorna el resultado de la funcion recursiva \"numeros de catalan\"\n",
        "# Ejemplo: numeros_de_catalan(5) retorna 42\n",
        "def numeros_de_catalan(n):\n",
        "  assert type(n) == int and n >= 0\n",
        "  if n == 0:\n",
        "    return 1\n",
        "  return 2*(2*n-1)/(n+1) * numeros_de_catalan(n-1)\n",
        "\n",
        "# Test\n",
        "assert numeros_de_catalan(0)==1\n",
        "assert numeros_de_catalan(1)==1\n",
        "assert numeros_de_catalan(5)==42\n",
        "assert numeros_de_catalan(18)==477638700\n",
        "assert numeros_de_catalan(25)==4861946401452"
      ],
      "execution_count": null,
      "outputs": []
    },
    {
      "cell_type": "markdown",
      "metadata": {
        "id": "3Dswn78AFPhc"
      },
      "source": [
        "### Parte B\n",
        "Implemente una función recursiva llamada `mcd(a,b)`, la cual calcule el máximo común divisor por el método de euclides. (Verifique que sean numeros enteros no negativos)\n",
        "\n",
        "Método de Euclides para obtener el máximo común divisor entre A y B:\n",
        "- Si B es 0 entonces el resultado es A.\n",
        "- En otro caso, el resultado debe ser el máximo común divisor entre B y R. Donde R es el resto entre A y B, es decir, A=B$\\cdot$k+R.\n",
        "\n"
      ]
    },
    {
      "cell_type": "code",
      "metadata": {
        "id": "Y5W59u2SXp3F"
      },
      "source": [
        "# mcd_euclides: int int -> int\n",
        "# Retorna el mcd entre a y b, usando el algoritmo de euclides\n",
        "# Ejemplo: mcd_euclides(2,1000) retorna 2\n",
        "def mcd_euclides(a,b):\n",
        "  assert type(a) == int and a >= 0\n",
        "  assert type(b) == int and b >= 0\n",
        "  if b==0:\n",
        "    return a\n",
        "  return mcd_euclides(b, a%b )\n",
        "\n",
        "# Test\n",
        "assert mcd_euclides(1000,0) == 1000\n",
        "assert mcd_euclides(0,1000) == 1000\n",
        "assert mcd_euclides(2,1000) == 2\n",
        "assert mcd_euclides(1,238231) == 1\n",
        "assert mcd_euclides(7,19) == 1\n",
        "assert mcd_euclides(8232,13377) == 1029\n"
      ],
      "execution_count": null,
      "outputs": []
    },
    {
      "cell_type": "markdown",
      "metadata": {
        "id": "R7txztj4BXdW"
      },
      "source": [
        "### Pregunta 4\n"
      ]
    },
    {
      "cell_type": "markdown",
      "metadata": {
        "id": "GmxLej4uZGvB"
      },
      "source": [
        "### El Juego de la Oca 2.0\n",
        "En la auxiliar 2, usted vio el juego de la Oca y programó la función mover:\n",
        "```\n",
        "# mover: int -> int\n",
        "# desde la casilla actual, mueve al jugador por el tablero y entrega la casilla resultante\n",
        "# ejemplo: mover(1) entrega 8 si es que la suma de los dos dados da 7\n",
        "def mover(casilla, dado1, dado2):\n",
        "  suma=dado1+dado2+casilla   \n",
        "  if suma>63:                                 \n",
        "      nuevaCasilla=63-(suma-63)  \n",
        "  else:                          \n",
        "      nuevaCasilla=suma          \n",
        "  if nuevaCasilla==63:            \n",
        "      return 63                  \n",
        "  elif nuevaCasilla%9==0:         \n",
        "      return nuevaCasilla + 9     \n",
        "  else:                           \n",
        "      return nuevaCasilla         \n",
        "assert mover(1,4,3)==8\n",
        "assert mover(55,5,5)==61\n",
        "```\n",
        "Además, posee la función tirar_datos(), la cual retorna un entero que representa la suma de 2 dados lanzados al azar.\n",
        "```\n",
        "import random\n",
        "\n",
        "def lanzar_dado():\n",
        "  return random.randint(1,6)\n",
        "```\n",
        "\n",
        "Su objetivo en esta pregunta será simular la partida de solo 1 jugador y devolver la cantidad de turnos que utilizó. Esto lo debe realizar implementando la función recursiva `turnos_jugados_oca(n)`, la cual recibe como parámetro la posición actual del jugador y retorna la cantidad de turnos que le llevó terminar el juego. \n",
        "\n",
        "*Nota: Para esta pregunta, no es necesario que realice testing debido a la aleatoriedad de los dados.*"
      ]
    },
    {
      "cell_type": "code",
      "metadata": {
        "id": "r5kjJPMgZGGf"
      },
      "source": [
        "import random\n",
        "\n",
        "# mover: int -> int\n",
        "# desde la casilla actual, mueve al jugador por el tablero y entrega la casilla resultante\n",
        "# ejemplo: mover(1) entrega 8 si es que la suma de los dos dados da 7\n",
        "def mover(casilla, dado1, dado2):\n",
        "  suma=dado1+dado2+casilla   \n",
        "  if suma>63:                                 \n",
        "      nuevaCasilla=63-(suma-63)  \n",
        "  else:                          \n",
        "      nuevaCasilla=suma          \n",
        "  if nuevaCasilla==63:            \n",
        "      return 63                  \n",
        "  elif nuevaCasilla%9==0:         \n",
        "      return nuevaCasilla + 9     \n",
        "  else:                           \n",
        "      return nuevaCasilla         \n",
        "\n",
        "# Test\n",
        "assert mover(1,4,3)==8\n",
        "assert mover(55,5,5)==61\n",
        "\n",
        "# lanzar_dado: -> int \n",
        "# retorna un numero entero (aleatorio) entre 1 y 6\n",
        "def lanzar_dado():\n",
        "  return random.randint(1,6)"
      ],
      "execution_count": 2,
      "outputs": []
    },
    {
      "cell_type": "code",
      "metadata": {
        "colab": {
          "base_uri": "https://localhost:8080/"
        },
        "id": "unLYVg_najcX",
        "outputId": "9b679096-7fe6-4f1a-9c6e-bb97280c1d09"
      },
      "source": [
        "# turnos_jugados_oca: int -> int\n",
        "# retorna el numero de juegos que se puede dar en \n",
        "# el juego de la oca a partir de la posicion n\n",
        "def turnos_jugados_oca(n):\n",
        "\n",
        "  if n == 63:\n",
        "    return 0\n",
        "\n",
        "  dado1 = lanzar_dado()\n",
        "  dado2 = lanzar_dado()\n",
        "\n",
        "  n = mover(n, dado1, dado2)\n",
        "\n",
        "  return 1 + turnos_jugados_oca(n)\n",
        "\n",
        "print(turnos_jugados_oca(0))"
      ],
      "execution_count": 8,
      "outputs": [
        {
          "output_type": "stream",
          "name": "stdout",
          "text": [
            "9\n"
          ]
        }
      ]
    }
  ]
}