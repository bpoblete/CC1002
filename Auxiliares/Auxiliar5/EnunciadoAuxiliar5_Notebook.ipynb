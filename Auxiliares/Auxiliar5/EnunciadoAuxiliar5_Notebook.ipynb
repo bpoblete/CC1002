{
  "nbformat": 4,
  "nbformat_minor": 0,
  "metadata": {
    "colab": {
      "name": "EnunciadoAuxiliar5_Notebook.ipynb",
      "provenance": [],
      "include_colab_link": true
    },
    "kernelspec": {
      "name": "python3",
      "display_name": "Python 3"
    }
  },
  "cells": [
    {
      "cell_type": "markdown",
      "metadata": {
        "id": "view-in-github",
        "colab_type": "text"
      },
      "source": [
        "<a href=\"https://colab.research.google.com/github/bpoblete/CC1002/blob/master/Auxiliares/Auxiliar5/EnunciadoAuxiliar5_Notebook.ipynb\" target=\"_parent\"><img src=\"https://colab.research.google.com/assets/colab-badge.svg\" alt=\"Open In Colab\"/></a>"
      ]
    },
    {
      "cell_type": "markdown",
      "metadata": {
        "id": "fekH16b2t7fo"
      },
      "source": [
        "## **Auxiliar 5**"
      ]
    },
    {
      "cell_type": "markdown",
      "metadata": {
        "id": "ZzgljuJKuGFr"
      },
      "source": [
        "## Pregunta 1"
      ]
    },
    {
      "cell_type": "markdown",
      "metadata": {
        "id": "X-SPafD0qLnQ"
      },
      "source": [
        "En esta pregunta usted deberá crear una función que determine la cantidad de puntos que pertenecen a una cierta circunferencia. Para esto deberá seguir los siguientes pasos:\n",
        "\n",
        "\n",
        "1.   Cree la estructura **punto2D**, que contenga 2 parámetros (x, y).\n",
        "2.   Programe la función **distancia(p1, p2)**, que dado dos puntos2D determine la distancia entre ambos puntos.\n",
        "3.   Programe la función **pertenece(c, r, p)**, que dado un punto2D *p*, determine si este pertenece a la circunferencia de radio *r* y centro *c* (también de tipo punto2D). Un punto pertenece a una circunferencia, si este se encuentra dentro de la circunferencia o sobre su contorno.\n",
        "4.   Programe la función **cuantosPertenecen(c, r, l)**, que dado una lista de punto2D (*l*), determine la cantidad de punto2D que pertenecen a la circunferencia de radio *r* y centro *c*.\n",
        "\n",
        "\n",
        "\n",
        "\n"
      ]
    },
    {
      "cell_type": "code",
      "metadata": {
        "id": "6CP1XrsMqB3E"
      },
      "source": [
        "# P1.1"
      ],
      "execution_count": null,
      "outputs": []
    },
    {
      "cell_type": "code",
      "metadata": {
        "id": "YlCSIBVRrjUs"
      },
      "source": [
        "# P1.2"
      ],
      "execution_count": null,
      "outputs": []
    },
    {
      "cell_type": "code",
      "metadata": {
        "id": "vm_6dPjqrkjm"
      },
      "source": [
        "# P1.3"
      ],
      "execution_count": null,
      "outputs": []
    },
    {
      "cell_type": "code",
      "metadata": {
        "id": "8W05YMkVrl4I"
      },
      "source": [
        "# P1.4"
      ],
      "execution_count": null,
      "outputs": []
    },
    {
      "cell_type": "markdown",
      "metadata": {
        "id": "Hk_5pSU9uNqV"
      },
      "source": [
        "## Pregunta 2"
      ]
    },
    {
      "cell_type": "markdown",
      "metadata": {
        "id": "OSpxzImJrotr"
      },
      "source": [
        "Programe la función recursiva **evaluarPolinomio(l, x)**, la cual recibe una lista de números reales (que representan los coeficientes de un polinomio), y un número *x*, retornando el valor del polinomio al evaluarlo en *x*.\n",
        "\n",
        "Por ejemplo, sea la lista:\n",
        "\n",
        "*L = crearLista(0, crearLista(-1, crearLista(1, listaVacia)))*\n",
        "\n",
        "la cual representa al polinomio *-x + x^2*, entonces **evaluarPolinomio(L, 2)** debe retornar 2."
      ]
    },
    {
      "cell_type": "code",
      "metadata": {
        "id": "7W1SYarqrngN"
      },
      "source": [
        "# P2"
      ],
      "execution_count": null,
      "outputs": []
    }
  ]
}