{
  "nbformat": 4,
  "nbformat_minor": 0,
  "metadata": {
    "colab": {
      "name": "PautaAuxiliar10_Notebook.ipynb",
      "provenance": [],
      "collapsed_sections": [],
      "toc_visible": true,
      "include_colab_link": true
    },
    "kernelspec": {
      "name": "python3",
      "display_name": "Python 3"
    }
  },
  "cells": [
    {
      "cell_type": "markdown",
      "metadata": {
        "id": "view-in-github",
        "colab_type": "text"
      },
      "source": [
        "<a href=\"https://colab.research.google.com/github/bpoblete/CC1002/blob/master/Auxiliares/Auxiliar10/PautaAuxiliar10_Notebook.ipynb\" target=\"_parent\"><img src=\"https://colab.research.google.com/assets/colab-badge.svg\" alt=\"Open In Colab\"/></a>"
      ]
    },
    {
      "cell_type": "markdown",
      "metadata": {
        "id": "Xw80lrPrXxcl"
      },
      "source": [
        "#Auxiliar 10 - Archivos y Diccionarios "
      ]
    },
    {
      "cell_type": "markdown",
      "metadata": {
        "id": "DaVzoP5-UqM_"
      },
      "source": [
        "### P1 Lectura/Escritura de Archivos\n",
        "El archivo notas.txt contiene una lista con los nombres de los estudiantes y sus respectivas notas. Cada linea del archivo corresponde a un alumno, donde primero se tiene el nombre, seguido por sus notas, separando cada valor con una coma.\n",
        "\n",
        "Programe la función promedio, la cual a partir del archivo notas.txt genere un nuevo archivo llamado promedio_notas.txt el cual contenga los nombres y el promedio de notas de cada alumno.\n",
        "\n",
        "Puede asumir que los datos serán entregados en un formato correcto.\n",
        "\n"
      ]
    },
    {
      "cell_type": "code",
      "metadata": {
        "id": "3HxandckcQb7"
      },
      "source": [
        "# promedio: None -> None\n",
        "# Esta función lee el archivo notas.txt, el cual contiene una lista de estudiantes con sus respesctivas notas, \n",
        "# y escribe un archivo que contiene a los mismos alumnos con el promedio de sus notas.\n",
        "# Ej: La linea que tiene escrito Sherry,6.5,6.0,7.0 deberá escribir en el otro archivo Sherry,6.5.\n",
        "def promedio():\n",
        "    archivo= open(\"notas.txt\", \"r\")\n",
        "    nuevas_lineas=[]\n",
        "    for linea in archivo:\n",
        "        linea=linea.strip()\n",
        "        valores=linea.split(\",\")\n",
        "        nombre=valores[0]\n",
        "        notas=valores[1:]\n",
        "        sum_notas=0\n",
        "        for nota in notas:\n",
        "          sum_notas=float(nota)+sum_notas\n",
        "        promedio=round(sum_notas/len(notas),1)\n",
        "        nueva_linea=nombre+\" \"+str(promedio)+\"\\n\"\n",
        "        nuevas_lineas.append(nueva_linea)\n",
        "    archivo.close()\n",
        "    nuevo_archivo=open(\"promedio_notas.txt\", \"w\")\n",
        "    for linea in nuevas_lineas:\n",
        "      nuevo_archivo.write(linea)\n",
        "    nuevo_archivo.close()\n",
        "promedio()\n"
      ],
      "execution_count": null,
      "outputs": []
    },
    {
      "cell_type": "markdown",
      "metadata": {
        "id": "zjdjFuc42qNx"
      },
      "source": [
        "### P2. Diccionarios\n",
        "Para comunicarnos secretamente con nuestros amigos, vamos a crear un programa que reemplace las letras del alfabeto por otra letra del mismo. \n",
        "Para ello debemos definir un alfabeto y su sustitución.\n",
        "\n",
        "Por ejemplo:\n",
        "\n",
        "alfabeto = \"ABCDEFGHIJKLMNOPQRSTUVWXYZ\"\n",
        "\n",
        "substitución = \"QWERTYUIOPASDFGHJKLZXCVBNM\"\n",
        "\n",
        "Para los valores anteriores, tendremos que la letra A es reemplazada por la letra Q, la B por W, la C por la E y así sucesivamente.\n",
        "\n",
        "Programaremos las siguientes funciones que nos permitirán cifrar y decifrar nuestros mensajes."
      ]
    },
    {
      "cell_type": "markdown",
      "metadata": {
        "id": "fH2Oy0EhlqZV"
      },
      "source": [
        "### A) \n",
        "Defina la función crearDiccionario, esta debe recibir dos strings, uno correspondiente al alfabeto y el otro a la substitución que utilizaremos. \n",
        "\n",
        "A partir de estos valores debe devolver un diccionario que contenga todas las letras del alfabeto con sus respectivas subtituciones.\n",
        "\n",
        "Por ejemplo: \n",
        "\n",
        "alfabeto = \"ABCDEFGHIJKLMNOPQRSTUVWXYZ\"\n",
        "\n",
        "substitución = \"QWERTYUIOPASDFGHJKLZXCVBNM\"\n",
        "\n",
        "crearDiccionario(alfabeto, substitucion) devolverá:\n",
        "\n",
        "{'A': 'Q', 'B': 'W', 'C': 'E', 'D': 'R', 'E': 'T',\n",
        " 'F': 'Y', 'G': 'U', 'H': 'I', 'I': 'O', 'J': 'P',\n",
        " 'K': 'A', 'L': 'S', 'M': 'D', 'N': 'F', 'O': 'G',\n",
        " 'P': 'H', 'Q': 'J', 'R': 'K', 'S': 'L', 'T': 'Z', \n",
        " 'U': 'X', 'V': 'C', 'W': 'V', 'X': 'B', 'Y': 'N', 'Z': 'M'}\n",
        " \n"
      ]
    },
    {
      "cell_type": "code",
      "metadata": {
        "id": "iKsGn1ful0Lq"
      },
      "source": [
        "# crearDiccionario: str str -> dict \n",
        "# Crea un diccionario a partir del alfabeto y las sustitución que se le pasa como parámetro, \n",
        "# donde cada letra será una llave y su valor será su respectiva substitución.\n",
        "# Ejemplo: \n",
        "# alfabeto = \"ABCDEFGHIJKLMNOPQRSTUVWXYZ\"\n",
        "# substitución = \"QWERTYUIOPASDFGHJKLZXCVBNM\"\n",
        "# crearDiccionario(alfabeto, substitucion) devolverá:\n",
        "#{'A': 'Q', 'B': 'W', 'C': 'E', 'D': 'R', 'E': 'T',\n",
        "# 'F': 'Y', 'G': 'U', 'H': 'I', 'I': 'O', 'J': 'P',\n",
        "# 'K': 'A', 'L': 'S', 'M': 'D', 'N': 'F', 'O': 'G',\n",
        "# 'P': 'H', 'Q': 'J', 'R': 'K', 'S': 'L', 'T': 'Z', \n",
        "# 'U': 'X', 'V': 'C', 'W': 'V', 'X': 'B', 'Y': 'N', 'Z': 'M'}\n",
        "\n",
        "def crearDiccionario(alfabeto, substitucion):\n",
        "  diccionario={}\n",
        "  largo=len(alfabeto)\n",
        "  for indice in range(largo):\n",
        "    letra=alfabeto[indice]\n",
        "    reemplazo=substitucion[indice]\n",
        "    diccionario[letra]=reemplazo\n",
        "  return diccionario\n",
        "\n",
        "original = \"ABCDEFGHIJKLMNOPQRSTUVWXYZ\" \n",
        "substitucion = \"QWERTYUIOPASDFGHJKLZXCVBNM\"\n",
        "diccionario = {'A': 'Q', 'B': 'W', 'C': 'E', 'D': 'R', 'E': 'T',\n",
        " 'F': 'Y', 'G': 'U', 'H': 'I', 'I': 'O', 'J': 'P',\n",
        " 'K': 'A', 'L': 'S', 'M': 'D', 'N': 'F', 'O': 'G',\n",
        " 'P': 'H', 'Q': 'J', 'R': 'K', 'S': 'L', 'T': 'Z', \n",
        " 'U': 'X', 'V': 'C', 'W': 'V', 'X': 'B', 'Y': 'N', 'Z': 'M'}\n",
        "\n",
        "assert crearDiccionario(original, substitucion)==diccionario\n"
      ],
      "execution_count": null,
      "outputs": []
    },
    {
      "cell_type": "markdown",
      "metadata": {
        "id": "GATCErZul18r"
      },
      "source": [
        "### B)\n",
        "Programe la función cifrarTexto, esta recibirá un diccionario y un string correspondiente al mensaje que queremos cifrar.La función deberá devolver el mensaje cifrado a partir del diccionario que recibió. Además, si alguna de las letras del mensaje no se encuentra en el diccionario, deberá agregarlas sin substituir su valor.\n",
        " \n",
        "Por ejemplo, si utilizamos el diccionario del ejemplo anterior y el texto \"HOLA UWU\" debemos recibir como respuesta \"IGSQ XVX\", además, en este caso deberíamos agregar \" \" al diccionario."
      ]
    },
    {
      "cell_type": "code",
      "metadata": {
        "id": "I2WrbvA1l4n2"
      },
      "source": [
        "# cifrarTexto: dict str -> str\n",
        "# Devuelve el texto cifrado a partir del diccionario entregado como parámetro. \n",
        "# Si algún valor no se encuentra en el diccionario, se agrega sin substituir su valor.\n",
        "# Por ejemplo, para el diccionario del ejercicio anterior y el texto \"HOLA UWU\".\n",
        "# se debe recibir como respuesta IGSQ XVX.\n",
        "def cifrarTexto(diccionario, texto):\n",
        "  solucion=\"\"\n",
        "  for letra in texto:\n",
        "    if not letra in diccionario:\n",
        "      diccionario[letra]=letra\n",
        "    solucion=solucion+diccionario[letra]\n",
        "  return solucion\n",
        "\n",
        "diccionario1=crearDiccionario(original, substitucion)\n",
        "assert cifrarTexto(diccionario1, \"HOLA UWU\") == \"IGSQ XVX\"\n",
        "diccionario2=crearDiccionario(substitucion, original)\n",
        "assert cifrarTexto(diccionario2, \"IGSQ XVX\") == \"HOLA UWU\""
      ],
      "execution_count": null,
      "outputs": []
    },
    {
      "cell_type": "markdown",
      "metadata": {
        "id": "-f7FQ1vKlNtx"
      },
      "source": [
        "### P3. Iterar en un diccionario\n",
        "Programe una función llamada maxReunión, esta debe busca el horario en el que más personas pueden participar de una reunión (asuma que sólo habrá un máximo). Esta función no recibe parámetros y debe retornar el valor del la maáxima cantidad de participantes. Además, debe mostrar en la pantalla el día, el horario y los participantes de la reunión con mayor asistencia.\n",
        "\n",
        "Para lograr lo descrito, se tendrá la variable global horarios, la cual está definida a continuación. Esta contiene un diccionario con los horarios en que los participantes de la reunión confirmaron su disponibilidad.\n"
      ]
    },
    {
      "cell_type": "code",
      "metadata": {
        "id": "whcMGYTTmhQU"
      },
      "source": [
        "horarios={\n",
        "  \"lunes\": {\n",
        "    \"mañana\": [\"Juan\",\"Andrés\"],\n",
        "    \"tarde\": [\"Pepito\",\"Juan\"], \n",
        "    \"noche\":[\"Anita\", \"Pedrito\"]\n",
        "  },\n",
        "  \"martes\": {\n",
        "    \"mañana\": [\"Andrea\",\"María\"],\n",
        "    \"tarde\": [],\n",
        "    \"noche\":[\"Andrea\", \"Pedrito\", \"María\"]\n",
        "  },\n",
        "  \"miércoles\":{\n",
        "    \"mañana\": [\"Pepito\",\"Juan\",\"Andrea\",\"María\"],\n",
        "    \"tarde\": [],\n",
        "    \"noche\":[]\n",
        "  },\n",
        "  \"jueves\": {\n",
        "    \"mañana\": [\"Juan\",\"Andrés\"],\n",
        "    \"tarde\": [\"Pepito\",\"Juan\",\"María\"],\n",
        "    \"noche\":[\"Pepito\", \"María\"]\n",
        "}\n",
        "}"
      ],
      "execution_count": null,
      "outputs": []
    },
    {
      "cell_type": "code",
      "metadata": {
        "colab": {
          "base_uri": "https://localhost:8080/"
        },
        "id": "XhbEOPzemiTL",
        "outputId": "fb2be3c4-7933-4c07-fab9-1b3c4e76d06f"
      },
      "source": [
        "# maxReunion: None -> int\n",
        "# Busca el horario en que más personas confirmaron su disponibilidad para participar en un reunión.\n",
        "# Ej: \n",
        "# maxReunion() debe retornar 4, e imprimir en pantalla que el día miércoles en la mañana pueden asistir  \n",
        "# Pepito, Juan, Andrea y María.\n",
        "\n",
        "def maxReunión():\n",
        "  global horarios\n",
        "  max=0\n",
        "  dia_max=\"\"\n",
        "  hora_max=\"\"\n",
        "  for dia in horarios:\n",
        "    for hora in horarios[dia]:\n",
        "      cantidad_asistentes=len(horarios[dia][hora])\n",
        "      if cantidad_asistentes>max:\n",
        "        max=cantidad_asistentes\n",
        "        dia_max=dia\n",
        "        hora_max=hora\n",
        "  print(\"El día \"+ dia_max+\" en la \"+ hora_max+\" pueden asistir:\")\n",
        "  for invitado in horarios[dia_max][hora_max]:\n",
        "    print(invitado)\n",
        "  return max\n",
        "\n",
        "assert maxReunión() == 4\n"
      ],
      "execution_count": null,
      "outputs": [
        {
          "output_type": "stream",
          "text": [
            "El día miércoles en la mañana pueden asistir:\n",
            "Pepito\n",
            "Juan\n",
            "Andrea\n",
            "María\n"
          ],
          "name": "stdout"
        }
      ]
    }
  ]
}