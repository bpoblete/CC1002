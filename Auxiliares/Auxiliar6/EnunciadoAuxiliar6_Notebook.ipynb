{
  "nbformat": 4,
  "nbformat_minor": 0,
  "metadata": {
    "colab": {
      "name": "EnunciadoAuxiliar6_Notebook.ipynb",
      "provenance": [],
      "collapsed_sections": [],
      "toc_visible": true,
      "include_colab_link": true
    },
    "kernelspec": {
      "name": "python3",
      "display_name": "Python 3"
    }
  },
  "cells": [
    {
      "cell_type": "markdown",
      "metadata": {
        "id": "view-in-github",
        "colab_type": "text"
      },
      "source": [
        "<a href=\"https://colab.research.google.com/github/bpoblete/CC1002/blob/master/Auxiliares/Auxiliar6/EnunciadoAuxiliar6_Notebook.ipynb\" target=\"_parent\"><img src=\"https://colab.research.google.com/assets/colab-badge.svg\" alt=\"Open In Colab\"/></a>"
      ]
    },
    {
      "cell_type": "markdown",
      "metadata": {
        "id": "4W9B_Rat7xFY"
      },
      "source": [
        "#Auxiliar 6 \n",
        "\n",
        "\n",
        "P1. Considere que tiene la estructura Animal que tiene como atributos Especie, Clase, Dieta y Edad(en meses). Se le entregará una lista de Animales y se le solicita que realice lo siguiente:\n",
        "\n",
        "1. Cree la función esClase(A,clase) que verifique si el animal A es de la clase indicada\n",
        "2. Cree un filtro que reciba una Lista de animales y una clase, y entregue una lista con los animales que son de la clase indicada\n",
        "3. Cree Agnos(A), que reciba un Animal y convierta su edad a años (puede truncar) y además cree mapaAgnos(L) que obtenga una lista de animales y entregue la lista con las edades de los animales en años.\n",
        "4. Cambie, para todos los animales de la lista, su dieta de por ejemplo Carnivoro a Come Carne.\n",
        "\n",
        "\n",
        "Clases de Animales: Mamífero, Pez, Ave, Anfibio y Reptil\n",
        "\n",
        "Dietas de Animales: Carnivora, Hervivora y Omnivora\n",
        "\n",
        "\n",
        "\n",
        "\n",
        "\n",
        "\n"
      ]
    },
    {
      "cell_type": "code",
      "metadata": {
        "id": "dt2EB-DhaeFg"
      },
      "source": [
        "import estructura as es\n",
        "\n",
        "es.crear('Animal', 'Especie Clase Dieta Edad')"
      ],
      "execution_count": null,
      "outputs": []
    },
    {
      "cell_type": "code",
      "metadata": {
        "id": "U00o2QzOg6vB"
      },
      "source": [
        "#codigo"
      ],
      "execution_count": null,
      "outputs": []
    },
    {
      "cell_type": "markdown",
      "metadata": {
        "id": "oP2H3cNnbnnE"
      },
      "source": [
        "P2. El Kino es un popular juego de lotería chileno que consiste en elegir 14 números del 1 al 25 (distintos)\n",
        "y recibir un premio en función de un sorteo aleatorio. A continuación crearemos un programa para\n",
        "jugar Kino.\n",
        "\n",
        "\n",
        "\n",
        "1.   Cree la estructura Kino, la cual consta de una lista de 14 enteros (del 1 al 25, sin repetición y ordenada ascendentemente), un string Fecha de forma \"DD/MM/AAAA\" (que representa la fecha en que el boleto fue comprado) y un string Comprador que representa de quien efectuó la compra.\n",
        "2.   Cree la función esKino(kino), que se asegure que los atributos de un Kino nombrados anteriormente sean de la forma correcta (retorna True si lo son, False si no).\n",
        "3. Cree la función xEstaEnL(x,L) que verifique si el numero x esta en la lista L\n",
        "L\n",
        "4. Cree la funcion numerosGanadores() que entregue un lista con 14 numeros distintos, los que corresponderán a los numeros ganadores del kino \n",
        "5. Cree la funcion numerosIguales(L1,L2) que recibe dos listas y entrega la cantidad de numeros de la lista 1 que estan en la lista 2 \n",
        "6. Cree la función imprimir lista, que imprima todos los elementos de una lista \n",
        "7. Cree la función sortearKino(L) que, recibiendo una lista de Kinos, simule un sorteo aleatorio del Kino e imprima lo siguiente: si un Kino coincide con entre 14 y 10 números, debe imprimir en pantalla ’Premio X’ (si coincide con 14 números, la función muestra ’Premio 1’, si coincide con 13 muestra ’Premio 2’ y así hasta el 5to premio), junto con el nombre de el/los ganadores, y en cualquier otro caso la función muestra \"No hay ganadores\".\n",
        "    Por ejemplo (caso varios ganadores):\n",
        "    \n",
        "    listaConocida = lista(Kino1,...)\n",
        "    \n",
        "    sortearKino(listaConocida)\n",
        "    \n",
        "    Premio 1 Elmer Figueroa\n",
        "    \n",
        "    Premio 3 Luis M. Gallego"
      ]
    },
    {
      "cell_type": "code",
      "metadata": {
        "id": "teFkq4uZg8cV"
      },
      "source": [
        "#codigo"
      ],
      "execution_count": null,
      "outputs": []
    }
  ]
}