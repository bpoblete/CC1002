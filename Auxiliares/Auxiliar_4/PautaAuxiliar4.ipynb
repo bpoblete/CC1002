{
  "nbformat": 4,
  "nbformat_minor": 0,
  "metadata": {
    "colab": {
      "name": "PautaAuxiliar4.ipynb",
      "provenance": [],
      "collapsed_sections": [],
      "include_colab_link": true
    },
    "kernelspec": {
      "name": "python3",
      "display_name": "Python 3"
    },
    "language_info": {
      "name": "python"
    }
  },
  "cells": [
    {
      "cell_type": "markdown",
      "metadata": {
        "id": "view-in-github",
        "colab_type": "text"
      },
      "source": [
        "<a href=\"https://colab.research.google.com/github/bpoblete/CC1002/blob/master/Auxiliares/Auxiliar_4/PautaAuxiliar4.ipynb\" target=\"_parent\"><img src=\"https://colab.research.google.com/assets/colab-badge.svg\" alt=\"Open In Colab\"/></a>"
      ]
    },
    {
      "cell_type": "markdown",
      "metadata": {
        "id": "cNzY4hPSqN1l"
      },
      "source": [
        "# Pauta Auxiliar 4\n",
        "## Profesores : Alejandro Hevia, Bárbara Poblete\n",
        "### Auxiliares: Albani Olivieri, Lucas Torrealba, Monserrat Prado, Nadia Decar, Nelson Marambio, Ricardo Valdivia"
      ]
    },
    {
      "cell_type": "markdown",
      "metadata": {
        "id": "724hPSViu6y7"
      },
      "source": [
        "####P1 Calculo de Divisores\n",
        "\n",
        "Para esta pregunta se le solicita, crear una función que cacule la cantidad de divisores que tienen un numero entero, para esto se le pide que la realice utilizando **obligatoriamente** al menos una variable por omisión.  "
      ]
    },
    {
      "cell_type": "code",
      "metadata": {
        "id": "xxm68iaBp_qG"
      },
      "source": [
        "# divisores: int -> int\n",
        "# función que entrega cuantos divisores tiene un numero dado\n",
        "# Ej: divisores(12) entrega 6\n",
        "def divisores(n, actual=1):\n",
        "  # usamos una variable por omisión para recordar cual es el divisor actual que estamos\n",
        "  # probando, partiendo inicialmente de 1\n",
        "  # caso base: si el divisor actual a probar, es el mismo numero, entonces es divisor, y\n",
        "  # a la vez terminamos la recursión.\n",
        "  if n==actual:\n",
        "    return 1\n",
        "  # caso recursivo: vemos si el divisor actual divide o no al numero.\n",
        "  else:\n",
        "    if n%actual == 0:\n",
        "    # si lo divide, entonces contamos un divisor y lo sumamos a los divisores\n",
        "    # que se encuentren mas adelante. Se incrementa la variable del divisor actual.\n",
        "      return 1 + divisores(n,actual+1)\n",
        "    else:\n",
        "    # si no lo divide, entonces seguimos buscando divisores\n",
        "    # que se encuentren mas adelante. Se incrementa la variable del divisor actual.\n",
        "      return divisores(n, actual+1)\n",
        "# Test\n",
        "assert divisores(12) == 6\n",
        "assert divisores(3) == 2\n",
        "assert divisores(24) == 8"
      ],
      "execution_count": null,
      "outputs": []
    },
    {
      "cell_type": "markdown",
      "metadata": {
        "id": "nhoqO-O8u6Le"
      },
      "source": [
        "#### P2 Polinomios de Hermite\n",
        "\n",
        "Escriba un programa que calcule el polinomio de Hermite según el grado y punto que se le\n",
        "indique.\n",
        "Todos los polinomios de Hermine de orden n > 2 se pueden expresar de la siguiente forma\n",
        "\n",
        "\n",
        "$$H_n(x) = 2x · H_{n−1}(x) − 2(n − 1)H_{n−2}(x)$$\n",
        "\n",
        "con $H_0(x) = 1$ y $H_1(x) = 2x$\n",
        "Los primeros serán de la forma:\n",
        "\n",
        "- $H_0(x)=1$\n",
        "- $H_1(x)=2x$\n",
        "- $H_2(x)=4x^2 - 2$\n",
        "- $H_3(x)=8x^3 - 12x$\n",
        "- $H_4(x)=16x^4 - 48 x^2 + 12$\n",
        "- $H_5(x)=32x^5 - 160x^3 + 120x$"
      ]
    },
    {
      "cell_type": "code",
      "metadata": {
        "id": "pIscRp1svT3O"
      },
      "source": [
        "# polinomioDeHermite: int int -> int\n",
        "# Calcula el polinimio de hermite de un grado dado en cierto punto.\n",
        "# Ejemplo de uso polinomioDeHermite(3, 2) entrega 40\n",
        "\n",
        "def polinomioDeHermite(grado, punto):\n",
        "  # Definimos los 2 casos bases que nos entregan por el enunciado, con el fin\n",
        "  # de poder obtener la recursion correcta por definición.\n",
        "  if grado == 0:\n",
        "    return 1\n",
        "  elif grado == 1:\n",
        "    return 2 * punto\n",
        "  else:\n",
        "  # luego hacemos los llamados recursivos, tal como lo indica la formula general\n",
        "  # del enunciado\n",
        "    return 2 *punto * polinomioDeHermite(grado-1, punto) - (2 * (grado-1) * polinomioDeHermite(grado-2, punto))\n",
        "\n",
        "\n",
        "\n",
        "assert polinomioDeHermite(3, 1) == -4\n",
        "assert polinomioDeHermite(3, 2) == 40\n",
        "assert polinomioDeHermite(4, 2) == 76\n",
        "assert polinomioDeHermite(4, 1) == -20\n",
        "\n"
      ],
      "execution_count": null,
      "outputs": []
    },
    {
      "cell_type": "markdown",
      "metadata": {
        "id": "dGo4F7HP3x_7"
      },
      "source": [
        "####P3 Mayor dato\n",
        "\n",
        "Escriba una funcion recursiva, que devuelva el mayor de un lista de números que termina con un número negativo.\n",
        "`Hint: Utilice variables por omisión` \n",
        "\n",
        "La función debe establecer un diálogo como el que se muestra en el siguiente \n",
        "ejemplo:\n",
        "\n",
        "```python\n",
        ">>>mayor()\n",
        "n°? 2\n",
        "n°? 3\n",
        "n°? 1\n",
        "n°? -1    # fin de los datos\n",
        "3        # resultado de la función\n",
        "```\n",
        "Para esta función no debe realizar test.\n"
      ]
    },
    {
      "cell_type": "code",
      "metadata": {
        "id": "Ve2IPZNs4O9e"
      },
      "source": [
        "# mayor None -> int\n",
        "# Entrega el mayor número encontrado en una lista que es entregada\n",
        "# por el usuario. La función retorna cuando se ingresa un numero negativo.\n",
        "\n",
        "def mayor(max=0):\n",
        "  n = int(input(\"n°? \"))\n",
        "  if (n<0):\n",
        "    return max\n",
        "  else:\n",
        "    if (n >= max):\n",
        "      return mayor(n)\n",
        "    else:\n",
        "      return mayor(max)\n",
        "\n",
        "\n"
      ],
      "execution_count": null,
      "outputs": []
    },
    {
      "cell_type": "markdown",
      "metadata": {
        "id": "GCBLDMxv8zK2"
      },
      "source": [
        "####P4 Potencias de Dos\n",
        "Escribir la función recursiva potenciasDe2 que use la función potencia para calcular potencias de 2 enteras >=0 a través del siguiente diálogo:\n",
        "\n",
        "```python\n",
        ">>>potenciasDe2()\n",
        "potencia? 4\n",
        "resultado = 16\n",
        "potencia? 10\n",
        "resultado = 1024\n",
        "potencia? 0\n",
        "resultado = 1\n",
        "…\n",
        "potencia?-1 (Una potencia negativa termina el programa)\n",
        "``` \n",
        "\n",
        "Función potencias vista en clases:\n",
        "\n",
        "```python\n",
        "# potencia: num int -> num\n",
        "# calcula el valor de una potencia de base elevado a exponente\n",
        "# para exponentes enteros positivos\n",
        "# ejemplo: potencia (4,5) debe dar 1024\n",
        "def potencia(base, exponente):\n",
        "    if exponente == 0:\n",
        "        return 1\n",
        "    else:\n",
        "        return base*(potencia(base, exponente-1))\n",
        "\n",
        "# test\n",
        "assert potencia(4,5) == 1024\n",
        "assert potencia(2,4) == 16\n",
        "assert potencia(-1,5) == -1\n",
        "assert potencia(3,0) == 1\n",
        "```"
      ]
    },
    {
      "cell_type": "code",
      "metadata": {
        "id": "6FaHky9M_ZMy"
      },
      "source": [
        "# potencia: num int -> num\n",
        "# calcula el valor de una potencia de base elevado a exponente\n",
        "# para exponentes enteros positivos\n",
        "# ejemplo: potencia (4,5) debe dar 1024\n",
        "def potencia(base, exponente):\n",
        "    if exponente == 0:\n",
        "        return 1\n",
        "    else:\n",
        "        return base*(potencia(base, exponente-1))\n",
        "\n",
        "# test\n",
        "assert potencia(4,5) == 1024\n",
        "assert potencia(2,4) == 16\n",
        "assert potencia(-1,5) == -1\n",
        "assert potencia(3,0) == 1"
      ],
      "execution_count": null,
      "outputs": []
    },
    {
      "cell_type": "code",
      "metadata": {
        "id": "xAFpJuPH_ZeO"
      },
      "source": [
        "#potenciasDe2: none -> none\n",
        "# calcula potencias >=0 de 2.\n",
        "# ejemplo: --\n",
        "def potenciasDe2():\n",
        "    n = int(input('potencia? '))\n",
        "    if n < 0:\n",
        "        return\n",
        "    else:\n",
        "        print(\"resultado =\",potencia(2,n))\n",
        "        potenciasDe2()"
      ],
      "execution_count": null,
      "outputs": []
    }
  ]
}