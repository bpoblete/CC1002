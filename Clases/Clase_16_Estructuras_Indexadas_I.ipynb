{
  "nbformat": 4,
  "nbformat_minor": 0,
  "metadata": {
    "kernelspec": {
      "name": "python3",
      "display_name": "Python 3"
    },
    "colab": {
      "name": "Clase_16_Estructuras_Indexadas_I.ipynb",
      "provenance": [],
      "collapsed_sections": [],
      "include_colab_link": true
    }
  },
  "cells": [
    {
      "cell_type": "markdown",
      "metadata": {
        "id": "view-in-github",
        "colab_type": "text"
      },
      "source": [
        "<a href=\"https://colab.research.google.com/github/bpoblete/CC1002/blob/master/Clases/Clase_16_Estructuras_Indexadas_I.ipynb\" target=\"_parent\"><img src=\"https://colab.research.google.com/assets/colab-badge.svg\" alt=\"Open In Colab\"/></a>"
      ]
    },
    {
      "cell_type": "markdown",
      "metadata": {
        "id": "yWkjSCz-C6i7"
      },
      "source": [
        "# Clase 16: Estructuras Indexadas\n",
        "(Cap. 12 del Apunte)"
      ]
    },
    {
      "cell_type": "markdown",
      "metadata": {
        "collapsed": true,
        "id": "vdIxMS3MC6jM"
      },
      "source": [
        "## Estructuras Indexadas\n",
        "\n",
        "### Listas de python (arreglos)\n",
        "\n",
        "<div>\n",
        "<img src=\"https://github.com/bpoblete/CC1002/raw/master/Clases/arreglo.png\" alt=\"Ejemplo de AB\" width=380 height=80 />\n",
        "</div>\n",
        "\n",
        "Las listas de Python son estructuras definidas nativamente en el lenguaje Python que\n",
        "- permiten acceder a los valores almacenados en la lista a través de un índice\n",
        "  - Ej: strings\n",
        "- las instrucciones **`'for'`** y **`'while'`** nos permiten recorrer (**'iterar'**) sobre los valores de una lista\n",
        "- los índices son números enteros correlativos y parten en cero\n",
        "\n",
        "#### Ej: Crear una lista vacía:"
      ]
    },
    {
      "cell_type": "code",
      "metadata": {
        "id": "dz3ntZHdC6jM"
      },
      "source": [
        "unaLista = list() # lista vacia"
      ],
      "execution_count": null,
      "outputs": []
    },
    {
      "cell_type": "code",
      "metadata": {
        "id": "WtZJDakVHvTC"
      },
      "source": [
        "otraLista = [] # lista vacia\n",
        "print(otraLista)"
      ],
      "execution_count": null,
      "outputs": []
    },
    {
      "cell_type": "markdown",
      "metadata": {
        "id": "n6v29FvuC6jO"
      },
      "source": [
        "También se pueden crear listas con valores ya insertados, como se muestra \n",
        "en el ejemplo siguiente.  Recuerde que las listas de Python permiten\n",
        "insertar datos de cualquier tipo en sus casilleros:"
      ]
    },
    {
      "cell_type": "code",
      "metadata": {
        "id": "VHNsXwMIC6jO"
      },
      "source": [
        "Enteros = [1, 2, 3, 4, 5] # lista de int"
      ],
      "execution_count": null,
      "outputs": []
    },
    {
      "cell_type": "code",
      "metadata": {
        "id": "rvCMEXJMH26I"
      },
      "source": [
        "Strings = ['casa', 'arbol', 'planta', 'auto'] # lista de str"
      ],
      "execution_count": null,
      "outputs": []
    },
    {
      "cell_type": "code",
      "metadata": {
        "id": "PcVqp9EiH5qc"
      },
      "source": [
        "Todo = ['a', 17, True, 9.5] # lista con datos de distinto tipo"
      ],
      "execution_count": null,
      "outputs": []
    },
    {
      "cell_type": "markdown",
      "metadata": {
        "id": "kTpGielOC6jt"
      },
      "source": [
        "### Indices (comienzan en 0)\n",
        "\n",
        "Para acceder a los valores en una lista se utiliza el índice del casillero\n",
        "correspondiente.  No olvide que el **primer valor** de la lista **corresponde al \n",
        "índice cero**.  Por ejemplo:\n"
      ]
    },
    {
      "cell_type": "code",
      "metadata": {
        "id": "eCmVEBWlC6ju"
      },
      "source": [
        "lista = ['ana', 'maria', 'luisa', 'teresa']\n",
        "lista[0] # primer valor es [0] (matlab es [1])"
      ],
      "execution_count": null,
      "outputs": []
    },
    {
      "cell_type": "code",
      "metadata": {
        "id": "_x-IYrRpC6jv"
      },
      "source": [
        "lista[3]"
      ],
      "execution_count": null,
      "outputs": []
    },
    {
      "cell_type": "code",
      "metadata": {
        "id": "6UJVbbzbC6jw"
      },
      "source": [
        "lista[4]"
      ],
      "execution_count": null,
      "outputs": []
    },
    {
      "cell_type": "markdown",
      "metadata": {
        "id": "pi7KACFgC6jy"
      },
      "source": [
        "Note en el código anterior que cuando se intentó acceder a un casillero de\n",
        "la lista con un valor de índice inválido (por ejemplo, se sale del rango\n",
        "de los índices de la lista), se produjo un **`IndexError`**.\n",
        "\n",
        "Las **listas** son estructuras **mutables**, por lo que se pueden modificar los valores almacenados en sus casilleros:\n",
        "\n"
      ]
    },
    {
      "cell_type": "code",
      "metadata": {
        "id": "uLIlTuKLC6jy"
      },
      "source": [
        "lista = [10, 20, 30, 40, 50, 60]\n",
        "lista[3] = 100\n",
        "print(lista)  "
      ],
      "execution_count": null,
      "outputs": []
    },
    {
      "cell_type": "markdown",
      "metadata": {
        "id": "bzfwNDR5C6jS"
      },
      "source": [
        "### Concatenación\n",
        "\n",
        "Dos listas se pueden **concatenar con el operador '+'**, o se puede **repetir\n",
        "varias veces el contenido de una lista multiplicándola por un escalar**:"
      ]
    },
    {
      "cell_type": "code",
      "metadata": {
        "id": "AJPCwim1C6jS"
      },
      "source": [
        "lista1 = [10, 20]\n",
        "lista2 = [50, 60]\n",
        "lista3 = lista2 + lista1  # concatenacion\n",
        "print(lista3)"
      ],
      "execution_count": null,
      "outputs": []
    },
    {
      "cell_type": "code",
      "metadata": {
        "id": "Igw0YIJGC6jU"
      },
      "source": [
        "lista1 * 3 # concatena lista consigo misma"
      ],
      "execution_count": null,
      "outputs": []
    },
    {
      "cell_type": "code",
      "metadata": {
        "id": "oVKzOcTFC6jW"
      },
      "source": [
        "lista1 + [30]"
      ],
      "execution_count": null,
      "outputs": []
    },
    {
      "cell_type": "markdown",
      "metadata": {
        "id": "nPOE3TH5C6jX"
      },
      "source": [
        "### Comparación\n",
        "True  porque 20>2\n",
        "\n"
      ]
    },
    {
      "cell_type": "code",
      "metadata": {
        "id": "xsciIjU2C6jY"
      },
      "source": [
        "L=[20,30,10]\n",
        "L>[2,4,6] #compara elemento a elemento\n"
      ],
      "execution_count": null,
      "outputs": []
    },
    {
      "cell_type": "code",
      "metadata": {
        "id": "0nx5Tqp7_SQw"
      },
      "source": [
        "L2 = [30,20,5]\n",
        "L>L2"
      ],
      "execution_count": null,
      "outputs": []
    },
    {
      "cell_type": "code",
      "metadata": {
        "id": "9lW-3lo3az4r"
      },
      "source": [
        "\"ARTE\" > \"ROMA\""
      ],
      "execution_count": null,
      "outputs": []
    },
    {
      "cell_type": "markdown",
      "metadata": {
        "id": "DD6uGRj5C6ja"
      },
      "source": [
        "### Sublista (slice)\n",
        "Podemos acceder a un *trozo* o rango de la lista. Usando la notación **`[i:j]`**"
      ]
    },
    {
      "cell_type": "code",
      "metadata": {
        "id": "C3nVQ0gEC6ja"
      },
      "source": [
        "print(L)\n",
        "print(L[1:3]) #lista c/valores entre indices 1 y 2 (3-1)"
      ],
      "execution_count": null,
      "outputs": []
    },
    {
      "cell_type": "code",
      "metadata": {
        "id": "hDHEyWPVb9Fg"
      },
      "source": [
        "L1 = [10,20,30,40,50,60]\n",
        "print(L1[2:5])"
      ],
      "execution_count": null,
      "outputs": []
    },
    {
      "cell_type": "markdown",
      "metadata": {
        "id": "nbTdaxXiC6j0"
      },
      "source": [
        "\n",
        "Otro ejemplo:"
      ]
    },
    {
      "cell_type": "code",
      "metadata": {
        "id": "nBBzmUGHC6j1"
      },
      "source": [
        "cuadrados = [0, 1, 4, 9, 16, 25, 36, 49, 64, 81, 100]\n",
        "cuadrados[3:6] # solo mostrar indices 3, 4 y 5"
      ],
      "execution_count": null,
      "outputs": []
    },
    {
      "cell_type": "markdown",
      "metadata": {
        "id": "hCKXR0u4C6jc"
      },
      "source": [
        "Para conocer el largo de una lista (esto es, cuántos valores contiene), se \n",
        "utiliza la función **`len`** de Python:\n",
        "\n",
        "\n"
      ]
    },
    {
      "cell_type": "code",
      "metadata": {
        "id": "p-d5LsYQC6jd"
      },
      "source": [
        "lista = ['ana', 'maria', 'luisa', 'teresa']\n",
        "len(lista)"
      ],
      "execution_count": null,
      "outputs": []
    },
    {
      "cell_type": "code",
      "metadata": {
        "id": "6ipvhL76C6jf"
      },
      "source": [
        "lista[len(lista)-1]"
      ],
      "execution_count": null,
      "outputs": []
    },
    {
      "cell_type": "markdown",
      "metadata": {
        "id": "l7aMt8VsC6jl"
      },
      "source": [
        "### Aliasing"
      ]
    },
    {
      "cell_type": "code",
      "metadata": {
        "id": "HF6TlVeJC6jn"
      },
      "source": [
        "L=[20,30,10]"
      ],
      "execution_count": null,
      "outputs": []
    },
    {
      "cell_type": "code",
      "metadata": {
        "id": "dRyFYfrIC6jo"
      },
      "source": [
        "M=L #M es un alias de L\n",
        "M"
      ],
      "execution_count": null,
      "outputs": []
    },
    {
      "cell_type": "code",
      "metadata": {
        "id": "aaYYkuwGC6jq"
      },
      "source": [
        "M[0]=200\n",
        "M"
      ],
      "execution_count": null,
      "outputs": []
    },
    {
      "cell_type": "code",
      "metadata": {
        "id": "J_JwICNVC6js"
      },
      "source": [
        "L"
      ],
      "execution_count": null,
      "outputs": []
    },
    {
      "cell_type": "markdown",
      "metadata": {
        "id": "5JwgRC_tC6j3"
      },
      "source": [
        "### Una lista puede contener otras listas"
      ]
    },
    {
      "cell_type": "code",
      "metadata": {
        "id": "F9XdoRVcge8F"
      },
      "source": [
        "M = [[1,2,3],10,20]\n",
        "print(M[0])\n",
        "print(M[1])"
      ],
      "execution_count": null,
      "outputs": []
    },
    {
      "cell_type": "code",
      "metadata": {
        "id": "KBUuM-eYC6j3"
      },
      "source": [
        "matriz = [[10, 20, 30], [40, 50, 60], [70, 80, 90]] \n",
        "matriz[1][2]"
      ],
      "execution_count": null,
      "outputs": []
    },
    {
      "cell_type": "markdown",
      "metadata": {
        "id": "TqY_1Ctd0I4R"
      },
      "source": [
        "## Funciones predefinidas\n",
        "\n",
        "### Ejemplos:"
      ]
    },
    {
      "cell_type": "code",
      "metadata": {
        "id": "AN95ThAR0I4R"
      },
      "source": [
        "L = [8,9,7,9]\n",
        "total = sum(L) # Suma los elementos\n",
        "print(total)"
      ],
      "execution_count": null,
      "outputs": []
    },
    {
      "cell_type": "code",
      "metadata": {
        "id": "np5RktLN0I4T"
      },
      "source": [
        "L.index(9) # retorna primer indice de 9"
      ],
      "execution_count": null,
      "outputs": []
    },
    {
      "cell_type": "code",
      "metadata": {
        "id": "8SwilwPh0I4W"
      },
      "source": [
        "L.append(6) # agrega un 6 como elemento al final\n",
        "L"
      ],
      "execution_count": null,
      "outputs": []
    },
    {
      "cell_type": "code",
      "metadata": {
        "id": "fWE8vxQU0I4Y"
      },
      "source": [
        "L.extend([10]) # extiende la lista L con la lista [10] \n",
        "L"
      ],
      "execution_count": null,
      "outputs": []
    },
    {
      "cell_type": "code",
      "metadata": {
        "id": "kAtevChomjDj"
      },
      "source": [
        "L2 = [8,9,7,9,6]\n",
        "L2 = L2 + [10]\n",
        "print(L2)"
      ],
      "execution_count": null,
      "outputs": []
    },
    {
      "cell_type": "code",
      "metadata": {
        "id": "_T4RtpoNBuNL"
      },
      "source": [
        "B1 = [1,2,3]\n",
        "B2 = [4,5]\n",
        "B1.extend(B2)\n",
        "print(B1)"
      ],
      "execution_count": null,
      "outputs": []
    },
    {
      "cell_type": "code",
      "metadata": {
        "id": "F1V1owmjBIRN"
      },
      "source": [
        "A1 = [1,2,3]\n",
        "A2 = [4,5]\n",
        "A1.append(A2)\n",
        "print(A1)"
      ],
      "execution_count": null,
      "outputs": []
    },
    {
      "cell_type": "code",
      "metadata": {
        "id": "nPgIfq-Rnw8y"
      },
      "source": [
        "L=[8,9,7,9,6,10]"
      ],
      "execution_count": null,
      "outputs": []
    },
    {
      "cell_type": "code",
      "metadata": {
        "id": "YrAxLEhF0I4a"
      },
      "source": [
        "e = L.pop(1) # saca (extrae) el valor en la posición 1, modifica L\n",
        "print(e)"
      ],
      "execution_count": null,
      "outputs": []
    },
    {
      "cell_type": "code",
      "metadata": {
        "id": "Rf0HqYNg0I4c"
      },
      "source": [
        "L"
      ],
      "execution_count": null,
      "outputs": []
    },
    {
      "cell_type": "code",
      "metadata": {
        "id": "ys9ox2S20I4h"
      },
      "source": [
        "L.remove(9)  # extrae de la lista L el primer valor 9 encontrado\n",
        "L"
      ],
      "execution_count": null,
      "outputs": []
    },
    {
      "cell_type": "code",
      "metadata": {
        "id": "f_kjMi4r0I4m"
      },
      "source": [
        "L.reverse()\n",
        "L"
      ],
      "execution_count": null,
      "outputs": []
    },
    {
      "cell_type": "code",
      "metadata": {
        "id": "fbnZGKUE0I4o"
      },
      "source": [
        "L.sort()\n",
        "L"
      ],
      "execution_count": null,
      "outputs": []
    },
    {
      "cell_type": "code",
      "metadata": {
        "id": "q4Ro47tCC6kQ"
      },
      "source": [
        "help(list)"
      ],
      "execution_count": null,
      "outputs": []
    },
    {
      "cell_type": "markdown",
      "metadata": {
        "id": "tR5SM6qfC6j5"
      },
      "source": [
        "### Función predefinida: range (rango)\n",
        "\n",
        "Una función útil predefinida de Python es la función **`range`**, que permite crear una lista de Python **`list`** que contiene una progresión\n",
        "aritmética de enteros.  \n"
      ]
    },
    {
      "cell_type": "code",
      "metadata": {
        "id": "SRBjPb4BDWc9"
      },
      "source": [
        "list(range(10))"
      ],
      "execution_count": null,
      "outputs": []
    },
    {
      "cell_type": "markdown",
      "metadata": {
        "id": "pMvKK1iaJaL-"
      },
      "source": [
        "Esta función provee tres contratos distintos:\n",
        "\n",
        "```python\n",
        "range(stop): int -> iterador(int)\n",
        "range(start, stop): int int -> iterador(int)\n",
        "range(start, stop, step): int int int -> iterador(int)\n",
        "```\n",
        "\n",
        "Un ```iterador``` es un tipo especial de lista para usar en situaciones especiales (como en un for, el cual veremos más abajo).\n",
        "\n",
        "<mark>IMPORTANTE: Por simplicidad *y por ahora* podemos suponer que range retorna una lista. Por qué? Siempre podemos transformar un iterador en una lista usando ```list(iterador)```.</mark>"
      ]
    },
    {
      "cell_type": "markdown",
      "metadata": {
        "id": "qqYf3vxXKQ9i"
      },
      "source": [
        "**La primera versión**\n",
        "\n",
        "```python\n",
        "range(stop): int -> iterador(int)\n",
        "```\n",
        "permite crear una lista que comiencia en cero y termina en\n",
        "**`stop - 1`**.  "
      ]
    },
    {
      "cell_type": "code",
      "metadata": {
        "id": "6FM2RKD5KXO6"
      },
      "source": [
        "list(range(20))\n"
      ],
      "execution_count": null,
      "outputs": []
    },
    {
      "cell_type": "markdown",
      "metadata": {
        "id": "FkVnHeTrDRT0"
      },
      "source": [
        "Note que para una lista de largo $n$, **`list(range(n))`** retorna la\n",
        "lista **`[0, 1, 2, ..., n-1]`**, que corresponden a los índices\n",
        "válidos para acceder a los casilleros de la lista."
      ]
    },
    {
      "cell_type": "markdown",
      "metadata": {
        "id": "_W96xE69DE6K"
      },
      "source": [
        "**La segunda versión** \n",
        "\n",
        "```python\n",
        "range(start, stop): int int -> iterador(int)\n",
        "```\n",
        "\n",
        "permite crear una lista **`[start,\n",
        "start+1, ..., stop-2, stop-1]`**.  \n"
      ]
    },
    {
      "cell_type": "code",
      "metadata": {
        "id": "ypRByIB6IfZP"
      },
      "source": [
        "list(range(1,10))"
      ],
      "execution_count": null,
      "outputs": []
    },
    {
      "cell_type": "markdown",
      "metadata": {
        "id": "CKvs1fP4IdQM"
      },
      "source": [
        "**En la tercera versión**\n",
        "\n",
        "Forma general: `range(inicial,final,incremento)`\n",
        "\n",
        "```python\n",
        "range(start, stop, step): int int int -> iterador(int)\n",
        "```\n",
        "el parámetro\n",
        "**`step`** específica el incremento (o decremento) entre números\n",
        "consecutivos de la lista asociada."
      ]
    },
    {
      "cell_type": "code",
      "metadata": {
        "id": "Yj-sZ4mGC6j6"
      },
      "source": [
        "list(range(0,10,2))"
      ],
      "execution_count": null,
      "outputs": []
    },
    {
      "cell_type": "markdown",
      "metadata": {
        "id": "wcYnQjpfC6j8"
      },
      "source": [
        "si se omiten inicial e incremento?\n",
        "\n",
        "Se considera `inicial=0,incremento=1`."
      ]
    },
    {
      "cell_type": "code",
      "metadata": {
        "id": "Ce5YQ0U-C6j8"
      },
      "source": [
        "list(range(3))"
      ],
      "execution_count": null,
      "outputs": []
    },
    {
      "cell_type": "code",
      "metadata": {
        "id": "fVEnIaf_C6j-"
      },
      "source": [
        "list(range(0,3,1))"
      ],
      "execution_count": null,
      "outputs": []
    },
    {
      "cell_type": "markdown",
      "metadata": {
        "id": "yxSVi5kYC6kB"
      },
      "source": [
        "¿incremento<0? \n"
      ]
    },
    {
      "cell_type": "code",
      "metadata": {
        "id": "C0CzjtpRC6kC"
      },
      "source": [
        "list(range(3,0,-1))"
      ],
      "execution_count": null,
      "outputs": []
    },
    {
      "cell_type": "markdown",
      "metadata": {
        "id": "F9krSkmDC6kF"
      },
      "source": [
        "# Instrucción 'for'\n",
        "\n",
        "\n",
        "La instrucción **`for`** de Python permite iterar sobre una estructura indexada. \n",
        "\n",
        "**Sintaxis:**\n",
        "\n",
        "```python\n",
        "for variable in lista:\n",
        "  # bloque de instrucciones\n",
        "```\n",
        "\n",
        "donde **`variable`** es una variable y **`lista`**\n",
        "\n",
        "**Semántica:**\n",
        "\n",
        "La variable toma consecutivamente todos los valores de la lista. \n",
        "Para cada valor ejecuta las instrucciones\n",
        "\n",
        "\n",
        "es el identificador de la estructura sobre la cual se va a iterar.  En cada \n",
        "iteración del ciclo, se le asignará a la variable un valor almacenado en la \n",
        "la estructura indexada (por ejemplo, los valores almacenados en una lista), \n",
        "que se indica después de la instrucción **`in`**.  Por ejemplo:\n",
        "\n"
      ]
    },
    {
      "cell_type": "code",
      "metadata": {
        "id": "vDSi2L3GC6kF"
      },
      "source": [
        "lista = [10, 20, 30, 40, 50, 60, 70]\n",
        "for valor in lista:\n",
        "        print(\"primer instruccion del bloque\")\n",
        "        print(valor)\n",
        "        print(\"ultima instruccion del bloque\")"
      ],
      "execution_count": null,
      "outputs": []
    },
    {
      "cell_type": "markdown",
      "metadata": {
        "id": "PoMQUUL8LW4v"
      },
      "source": [
        "En el ejemplo anterior, la instrucción del ciclo se ejecuta siete veces, una vez por cada asignación realizada a la variable **`valor`**.\n",
        "- En la primera iteración, la variable valor vale 10.\n",
        "- En la segunda iteración, valor valor 20.\n",
        "- etc.\n",
        "- En la séptima iteración, valor vale 70. "
      ]
    },
    {
      "cell_type": "markdown",
      "metadata": {
        "id": "gsOOOGsNC6kI"
      },
      "source": [
        "### Instrucción for usando range( ):\n",
        "\n",
        "```python\n",
        "for i in range(n): \n",
        "  instrucciones\n",
        "```\n",
        "en cada iteración, **`i`** toma un valor de la lista **`[0,1,…,n-1]`**\n",
        "\n",
        "Note que es posible obtener el mismo resultado anterior si es que a la\n",
        "variable se le asigna un valor de una lista  \"retornada\" por **`range`**, y\n",
        "luego dicho valor se ocupa como indice para acceder a los distintos\n",
        "casilleros de la lista:\n",
        "\n"
      ]
    },
    {
      "cell_type": "code",
      "metadata": {
        "id": "WUYRYRgEC6kI"
      },
      "source": [
        "L = [10, 20, 30, 40, 50]\n",
        "for indice in range(len(L)):\n",
        "        print(\"El valor en indice=\",indice,\"es\",L[indice])"
      ],
      "execution_count": null,
      "outputs": []
    },
    {
      "cell_type": "markdown",
      "metadata": {
        "id": "IKrqHN7vaind"
      },
      "source": [
        "Ejemplo: usar range pero con incrementos negativos."
      ]
    },
    {
      "cell_type": "code",
      "metadata": {
        "id": "J-AfE6-PC6kD"
      },
      "source": [
        "L = [10, 20, 30, 40, 50, 60]\n",
        "#escribir valores de L en orden inverso\n",
        "for i in range(len(L)-1, -1, -1):\n",
        "    print(L[i])"
      ],
      "execution_count": null,
      "outputs": []
    },
    {
      "cell_type": "markdown",
      "metadata": {
        "id": "Qvlw_3uJYaWU"
      },
      "source": [
        "**Trucos de Python:** Permite crear listas con \"for\" y \"range\" con sintaxis especial.\n",
        "\n",
        "Ejemplo: lista con todos los primeros 11 cuadrados perfectos, comenzando por 0."
      ]
    },
    {
      "cell_type": "code",
      "metadata": {
        "id": "gQuhJ5WMYY9I"
      },
      "source": [
        "cuadrados1 = [0, 1, 4, 9, 16, 25, 36, 49, 64, 81, 100]  # muy latero\n",
        "print(cuadrados1)"
      ],
      "execution_count": null,
      "outputs": []
    },
    {
      "cell_type": "code",
      "metadata": {
        "id": "vkqktv7kaCSD"
      },
      "source": [
        "cuadrados2 = [x**2 for x in range(0,11)] \n",
        "print(cuadrados2)"
      ],
      "execution_count": null,
      "outputs": []
    },
    {
      "cell_type": "code",
      "metadata": {
        "id": "6OAhX6yDZixN"
      },
      "source": [
        "# cómo acordarse? Se parece a\n",
        "for x in range(0,11):\n",
        "  print(x**2)"
      ],
      "execution_count": null,
      "outputs": []
    }
  ]
}