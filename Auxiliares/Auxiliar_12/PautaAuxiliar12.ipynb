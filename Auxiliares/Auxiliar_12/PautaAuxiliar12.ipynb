{
  "nbformat": 4,
  "nbformat_minor": 0,
  "metadata": {
    "colab": {
      "name": "PautaAuxiliar12.ipynb",
      "provenance": [],
      "include_colab_link": true
    },
    "kernelspec": {
      "name": "python3",
      "display_name": "Python 3"
    },
    "language_info": {
      "name": "python"
    }
  },
  "cells": [
    {
      "cell_type": "markdown",
      "metadata": {
        "id": "view-in-github",
        "colab_type": "text"
      },
      "source": [
        "<a href=\"https://colab.research.google.com/github/bpoblete/CC1002/blob/master/Auxiliares/Auxiliar_12/PautaAuxiliar12.ipynb\" target=\"_parent\"><img src=\"https://colab.research.google.com/assets/colab-badge.svg\" alt=\"Open In Colab\"/></a>"
      ]
    },
    {
      "cell_type": "markdown",
      "metadata": {
        "id": "bjKT5Uh9g83G"
      },
      "source": [
        "# Auxiliar 12\n",
        "\n",
        "## Archivos y diccionarios\n",
        "\n",
        "#### Auxiliares: Nadia Decar, Nelson Marambio, Albani Olivieri, Monserrat Prado, Lucas Torrealba y Ricardo Valdivia "
      ]
    },
    {
      "cell_type": "markdown",
      "metadata": {
        "id": "H_ZfajrkhR9U"
      },
      "source": [
        "## Pregunta 1: Código secreto (?)\n",
        "\n",
        "Para comunicarnos secretamente con nuestres amigues, vamos a crear un programa que reemplace las letras del alfabeto por otra letra del mismo. Para ello, definimos el siguiente alfabeto y su sustitución:\n"
      ]
    },
    {
      "cell_type": "code",
      "metadata": {
        "id": "cF1VDsdZiZju"
      },
      "source": [
        "alfabeto = \"ABCDEFGHIJKLMNOPQRSTUVWXYZ\"\n",
        "sustitucion = \"QWERTYUIOPASDFGHJKLZXCVBNM\""
      ],
      "execution_count": null,
      "outputs": []
    },
    {
      "cell_type": "markdown",
      "metadata": {
        "id": "wvJIeyN8idMv"
      },
      "source": [
        "Para los valores anteriores, tendremos que la letra A es reemplazada por la letra Q, la B por W, la C por la E y así sucesivamente.\n",
        "\n",
        "Con el fin de cifrar y decifrar nuestros mensajes, seguiremos estos pasos:\n",
        "\n",
        "a) Definir la función crearDiccionario(alfabeto, sustitucion). Esta debe recibir dos strings, uno correspondiente al alfabeto y el otro a la substitución que utilizaremos. Debe devolver un diccionario que contenga todas las letras del alfabeto con sus respectivas sustituciones.\n",
        "\n",
        "Por ejemplo:"
      ]
    },
    {
      "cell_type": "code",
      "metadata": {
        "id": "snO0cIDQg6Wh"
      },
      "source": [
        "crearDiccionario(alfabeto, substitucion) = {'A': 'Q', 'B': 'W', 'C': 'E', 'D': 'R', 'E': 'T', 'F': 'Y', 'G': 'U', 'H': 'I', 'I': 'O', 'J': 'P', 'K': 'A', 'L': 'S', 'M': 'D', 'N': 'F', 'O': 'G', 'P': 'H', 'Q': 'J', 'R': 'K', 'S': 'L', 'T': 'Z', 'U': 'X', 'V': 'C', 'W': 'V', 'X': 'B', 'Y': 'N', 'Z': 'M'}"
      ],
      "execution_count": null,
      "outputs": []
    },
    {
      "cell_type": "markdown",
      "metadata": {
        "id": "RAB_k20KjVa1"
      },
      "source": [
        "b) Programar la función cifrarTexto(dict, mensaje). Esta recibirá un diccionario y un string correspondiente al mensaje que queremos cifrar. La función deberá devolver el mensaje cifrado a partir del diccionario que recibió. Además, si alguna de las letras del mensaje no se encuentra en el diccionario, deberá agregarlas sin sustituir su valor.\n",
        "\n",
        "Por ejemplo:"
      ]
    },
    {
      "cell_type": "code",
      "metadata": {
        "id": "CMwPF9O6j5Xf"
      },
      "source": [
        "cifrarTexto(sustitucion, \"HOLA UWU\") = \"IGSQ XVX\""
      ],
      "execution_count": null,
      "outputs": []
    },
    {
      "cell_type": "markdown",
      "metadata": {
        "id": "5rQsANlekKcB"
      },
      "source": [
        "Notar que, además, en este caso, también deberíamos agregar \" \" al diccionario."
      ]
    },
    {
      "cell_type": "code",
      "metadata": {
        "id": "sluT4zkwkJSa"
      },
      "source": [
        "# crearDiccionario: str str -> dict \n",
        "# Crea un diccionario a partir del alfabeto y las sustitución que se le pasa como parámetro, \n",
        "# donde cada letra será una llave y su valor será su respectiva substitución.\n",
        "# Ejemplo: \n",
        "# alfabeto = \"ABCDEFGHIJKLMNOPQRSTUVWXYZ\"\n",
        "# substitución = \"QWERTYUIOPASDFGHJKLZXCVBNM\"\n",
        "# crearDiccionario(alfabeto, substitucion) devolverá:\n",
        "#{'A': 'Q', 'B': 'W', 'C': 'E', 'D': 'R', 'E': 'T',\n",
        "# 'F': 'Y', 'G': 'U', 'H': 'I', 'I': 'O', 'J': 'P',\n",
        "# 'K': 'A', 'L': 'S', 'M': 'D', 'N': 'F', 'O': 'G',\n",
        "# 'P': 'H', 'Q': 'J', 'R': 'K', 'S': 'L', 'T': 'Z', \n",
        "# 'U': 'X', 'V': 'C', 'W': 'V', 'X': 'B', 'Y': 'N', 'Z': 'M'}\n",
        "def crearDiccionario(alfabeto, substitucion):\n",
        "  diccionario = {}\n",
        "  largo = len(alfabeto)\n",
        "  for indice in range(largo):\n",
        "    letra = alfabeto[indice]\n",
        "    reemplazo = substitucion[indice]\n",
        "    diccionario[letra] = reemplazo\n",
        "  return diccionario\n",
        "\n",
        "original = \"ABCDEFGHIJKLMNOPQRSTUVWXYZ\" \n",
        "sustitucion = \"QWERTYUIOPASDFGHJKLZXCVBNM\"\n",
        "diccionario = {'A': 'Q', 'B': 'W', 'C': 'E', 'D': 'R', 'E': 'T',\n",
        " 'F': 'Y', 'G': 'U', 'H': 'I', 'I': 'O', 'J': 'P',\n",
        " 'K': 'A', 'L': 'S', 'M': 'D', 'N': 'F', 'O': 'G',\n",
        " 'P': 'H', 'Q': 'J', 'R': 'K', 'S': 'L', 'T': 'Z', \n",
        " 'U': 'X', 'V': 'C', 'W': 'V', 'X': 'B', 'Y': 'N', 'Z': 'M'}\n",
        "\n",
        "# Test\n",
        "assert crearDiccionario(original, sustitucion) == diccionario\n",
        "\n",
        "# cifrarTexto: dict str -> str\n",
        "# Devuelve el texto cifrado a partir del diccionario entregado como parámetro. \n",
        "# Si algún valor no se encuentra en el diccionario, se agrega sin substituir su valor.\n",
        "# Por ejemplo, para el diccionario del ejercicio anterior y el texto \"HOLA UWU\".\n",
        "# se debe recibir como respuesta IGSQ XVX.\n",
        "def cifrarTexto(diccionario, texto):\n",
        "  solucion = \"\"\n",
        "  for letra in texto:\n",
        "    if not letra in diccionario:\n",
        "      diccionario[letra] = letra\n",
        "    solucion = solucion + diccionario[letra]\n",
        "  return solucion\n",
        "\n",
        "# Tests\n",
        "diccionario1 = crearDiccionario(original, substitucion)\n",
        "assert cifrarTexto(diccionario1, \"HOLA UWU\") == \"IGSQ XVX\"\n",
        "diccionario2 = crearDiccionario(substitucion, original)\n",
        "assert cifrarTexto(diccionario2, \"IGSQ XVX\") == \"HOLA UWU\""
      ],
      "execution_count": null,
      "outputs": []
    },
    {
      "cell_type": "markdown",
      "metadata": {
        "id": "9_p1z1b7YWph"
      },
      "source": [
        "## Pregunta 2 - Notas\n",
        "\n",
        "Suponga un universo donde ya se terminó el semestre, por lo que en un curso se tienen que sacar los promedios de cada estudiante. Como saben que usted es bacán y puede programar, le asignan la tarea. \n",
        "\n",
        "Para esto, le entregan un archivo notas.txt, el cual contiene una lista con los nombres de les estudiantes y sus respectivas notas. Cada línea del archivo corresponde a une alumne, donde primero se tiene el nombre, seguido por sus notas, separando cada valor con una coma.\n",
        "\n",
        "Para resolver el problema, programe la función promedio la cual, a partir del archivo notas.txt, genera un nuevo archivo llamado promedio_notas.txt. Este archivo contiene los nombres y el promedio de notas de cada alumno.\n",
        "\n",
        "Puede asumir que los datos serán entregados en un formato correcto."
      ]
    },
    {
      "cell_type": "code",
      "metadata": {
        "id": "JmhVC_2hZ0on"
      },
      "source": [
        "# promedio: None -> None\n",
        "# lee el archivo notas.txt, el cual contiene una lista de estudiantes con sus respesctivas notas, \n",
        "# y escribe un archivo que contiene a los mismos alumnos con el promedio de sus notas.\n",
        "# Ej: La línea que tiene escrito Sherry,6.5,6.0,7.0 deberá escribir en el otro archivo Sherry,6.5.\n",
        "def promedio():\n",
        "    archivo = open(\"notas.txt\", \"r\")\n",
        "    nuevas_lineas = []\n",
        "    for linea in archivo:\n",
        "        linea = linea.strip()\n",
        "        valores = linea.split(\",\")\n",
        "        nombre = valores[0]\n",
        "        notas = valores[1:]\n",
        "        sum_notas=0\n",
        "        for nota in notas:\n",
        "          sum_notas = float(nota) + sum_notas\n",
        "        promedio = round(sum_notas / len(notas), 1)\n",
        "        nueva_linea = nombre + \" \" + str(promedio) + \"\\n\"\n",
        "        nuevas_lineas.append(nueva_linea)\n",
        "    archivo.close()\n",
        "    nuevo_archivo = open(\"promedio_notas.txt\", \"w\")\n",
        "    for linea in nuevas_lineas:\n",
        "      nuevo_archivo.write(linea)\n",
        "    nuevo_archivo.close()\n",
        "promedio()"
      ],
      "execution_count": null,
      "outputs": []
    },
    {
      "cell_type": "markdown",
      "metadata": {
        "id": "iJk8p2DwTLTH"
      },
      "source": [
        "## Pregunta 3 - Encuesta presidencial\n",
        "\n",
        "Dentro de poco se harán elecciones presidenciales y a usted se le encomienda la tarea de procesar los datos de la \u0013ultima encuesta SEP. Los datos est\u0013án separados en dos archivos: intencionDeVoto.txt y quienQuiereQueGane.txt. Ambos archivos tienen el mismo formato, donde cada l\u0013\u0010ínea tiene el RUT de la persona encuestada y un n\u0013úmero, el cual es el identifi\fcador del candidato por el cual la persona respondi\u0013ó. En la elecci\u0013ón compiten tres candidatos, con las siguiente IDs:\n",
        "\n",
        "* Candidata de izquierda, opci\u0013on 1\n",
        "* Candidato de centro izquierda, opci\u0013on 2\n",
        "* Candidato con problemas judiciales, id 3\n",
        "\n",
        "Se le pide programar las siguientes funciones:\n",
        "\n",
        "a) fueEncuestado(rut) que, dado un RUT, retorne True si la persona fue encuestada, False en caso contrario (puede asumir que ambos archivos contienen los mismos RUTs).\n",
        "\n",
        "b) frecuencias(archivo) que, dado un nombre de archivo, lea ese archivo y entregue un diccionario con la cantidad de veces que aparece cada candidato (las llaves ser\u0013án las ids de los candidatos, y los valores ser\u0013án la cantidad de apariciones correspondientes).\n",
        "\n",
        "c) intencionDeVoto(), que entregue el id del candidato con mayor probabilidad de ganar la elecci\u0013ón, de acuerdo a la encuesta.\n",
        "\n",
        "d) quienQuiereQueGane(), que entregue el id del candidato que la gente indica como aquel que prefi\feren que gane la elecci\u0013ón según la encuesta.\n",
        "\n",
        "Suponga ahora que en el país se tiene un sistema judicial que funciona y, debido a sus problemas con la justicia, el candidato 3 abandona la carrera presidencial. Por ello: cree dos archivos nuevos: intencionDeVoto-v2.txt y quienQuiereQueGane-v2.txt, que sean igual a los archivos anteriores, s\u0013ólo que sin las l\u0013\u0010íneas donde aparezc\u0013\u0010a el candidato 3."
      ]
    },
    {
      "cell_type": "code",
      "metadata": {
        "id": "lyJErIxvLlEX"
      },
      "source": [
        "# fueEncuestado: string -> boolean\n",
        "# lee un archivo y entrega un diccionario \n",
        "# con la cantidad de veces que aparece cada candidato\n",
        "# ej: fueEncuestado(\"12345678-1\") retorna True\n",
        "def fueEncuestado(rut):\n",
        "    archivo = open(\"intencionDeVoto.txt\", \"r\")\n",
        "    for linea in archivo:\n",
        "        # vamos a tomar únicamente el RUT\n",
        "        # el cual es la primera parte de la línea\n",
        "        i = 0\n",
        "        rutActual = \"\"\n",
        "        while linea[i] != \" \":\n",
        "          rutActual += linea[i]\n",
        "          i += 1\n",
        "        if rutActual == rut:\n",
        "            archivo.close()\n",
        "            return True\n",
        "    archivo.close()\n",
        "    return False\n",
        "\n",
        "# Tests\n",
        "assert fueEncuestado(\"12345678-1\")\n",
        "assert fueEncuestado(\"76543211-8\")\n",
        "assert not fueEncuestado(\"886643672-1\")\n",
        "\n",
        "# frecuencias: string -> dict\n",
        "# lee un archivo, dado su nombre\n",
        "# y entrega un diccionario con el número de veces que aparece cada cantidato\n",
        "def frecuencias(nombreArchivo):\n",
        "    frec = {}\n",
        "    archivo = open(nombreArchivo, \"r\")\n",
        "    for linea in archivo:\n",
        "        linea = linea[:-1]\n",
        "        idActual = linea.split(\" \")[1]\n",
        "        if idActual in frec:\n",
        "            frec[idActual] += 1\n",
        "        else:\n",
        "            frec[idActual] = 1\n",
        "    archivo.close()\n",
        "    return frec\n",
        "\n",
        "print(frecuencias(\"intencionDeVoto.txt\"))\n",
        "print(frecuencias(\"quienCreeQueGane.txt\"))\n",
        "\n",
        "# intencionDeVoto: None -> string\n",
        "# entrega el id del candidato con mayores preferencias\n",
        "# ej: intencionDeVoto() enterga \"1\"\n",
        "def intencionDeVoto():\n",
        "    frec = frecuencias(\"intencionDeVoto.txt\")\n",
        "    maxId = 0\n",
        "    maxValue = 0\n",
        "    for llave in frec:\n",
        "        if frec[llave] > maxValue:\n",
        "            maxValue = frec[llave]\n",
        "            maxId = llave\n",
        "    return maxId\n",
        "\n",
        "# Test\n",
        "assert intencionDeVoto() == \"1\"\n",
        "\n",
        "# quienCreeQueGane: None -> string\n",
        "# retorna el candidato que la gente prefiere que gane\n",
        "# ej: quienCreeQueGane() retorna \"3\"\n",
        "def quienCreeQueGane():\n",
        "    frec = frecuencias(\"quienCreeQueGane.txt\")\n",
        "    maxId = 0\n",
        "    maxValue = 0\n",
        "    for llave in frec:\n",
        "        if frec[llave] > maxValue:\n",
        "            maxValue = frec[llave]\n",
        "            maxId = llave\n",
        "    return maxId\n",
        "\n",
        "# Test\n",
        "assert quienCreeQueGane() == \"3\"\n",
        "\n",
        "# sacarCandidato: string string -> None\n",
        "# genera un archivo, de nombre nombreNuevo\n",
        "# donde se quitan líneas del archivo nombreActual\n",
        "def sacarCandidato(nombreActual, nombreNuevo):\n",
        "    archivoActual = open(nombreActual, \"r\")\n",
        "    archivoNuevo = open(nombreNuevo, \"w\")\n",
        "    for linea in archivoActual:\n",
        "        if linea[-1] == \"\\n\":\n",
        "            linea = linea[:-1]\n",
        "        i = 0\n",
        "        # vamos a recorrer la línea, buscando el espacio\n",
        "        while linea[i] != \" \":\n",
        "          i += 1\n",
        "        # el caracter siguiente es el id del candidato\n",
        "        id = linea[i + 1]\n",
        "        if id != \"3\":\n",
        "            archivoNuevo.write(linea + \"\\n\")\n",
        "    archivoNuevo.close()\n",
        "    archivoActual.close()\n",
        "\n",
        "sacarCandidato(\"intencionDeVoto.txt\", \\\n",
        "               \"intencionDeVoto-v2.txt\")"
      ],
      "execution_count": null,
      "outputs": []
    }
  ]
}