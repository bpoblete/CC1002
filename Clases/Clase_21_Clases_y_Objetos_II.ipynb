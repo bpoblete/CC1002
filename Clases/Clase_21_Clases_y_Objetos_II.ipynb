{
  "nbformat": 4,
  "nbformat_minor": 0,
  "metadata": {
    "kernelspec": {
      "name": "python3",
      "display_name": "Python 3"
    },
    "colab": {
      "name": "C21 Clases y Objetos II.ipynb",
      "provenance": [],
      "collapsed_sections": [],
      "include_colab_link": true
    }
  },
  "cells": [
    {
      "cell_type": "markdown",
      "metadata": {
        "id": "view-in-github",
        "colab_type": "text"
      },
      "source": [
        "<a href=\"https://colab.research.google.com/github/bpoblete/CC1002/blob/master/Clases/Clase_21_Clases_y_Objetos_II.ipynb\" target=\"_parent\"><img src=\"https://colab.research.google.com/assets/colab-badge.svg\" alt=\"Open In Colab\"/></a>"
      ]
    },
    {
      "cell_type": "markdown",
      "metadata": {
        "id": "0GSpk0Du7Xta"
      },
      "source": [
        "# Clase 21: Trabajo dirigido con objetos\n",
        "## Problema. \n",
        "\n",
        "Queremos leer las líneas de un archivo y grabarlas al revés (en orden inverso) (1º la última, 2º la penúltima, ..., última la 1ª).\n",
        "\n",
        "Indicación. \n",
        "\n",
        "- Use un **Stack (Pila)** \n",
        "- **Stack:** es un contenedor que opera con el principio LIFO (Last In First Out), es decir, el último valor que ingresa es el primero que sale. \n",
        "\n",
        "Para comprender la abstracción sirve imaginar una pila de libros, en que apilamos los libros uno sobre otro. Luego al sacar los libros, iremos sacando el último que pusimos primero. El funcionamiento de una pila se puede implementar fácilmente con una lista.\n",
        "\n",
        "Una clase Stack tendrá las siguientes operaciones:\n",
        "\n",
        "\n",
        "<img src=\"https://drive.google.com/uc?export=view&id=1ENzdz9Q1RzU0VAvJvavmtUxU8cqsIU9f\" align=\"left\" width=\"50%\"/>\n",
        "\n"
      ]
    },
    {
      "cell_type": "markdown",
      "metadata": {
        "id": "BoXNO7XIXSv0"
      },
      "source": [
        "Revise en detalle la implementación de Stack presentada a continuación, preocupese de entenderla y ejecutarla con un archivo de prueba creado por Ud. Luego inspeccione el archivo de salida.\n",
        "\n",
        "### Clase Stack"
      ]
    },
    {
      "cell_type": "code",
      "metadata": {
        "id": "80w9wsgl7Xtb"
      },
      "source": [
        "#__L: list(any)\n",
        "class Stack: \n",
        "    \n",
        "    #constructor\n",
        "    def __init__(self):\n",
        "        self.__L = []\n",
        "    \n",
        "    # empty: None -> bool\n",
        "    # retorna True si la lista esta vacia\n",
        "    def empty(self):\n",
        "        \n",
        "        return len(self.__L)==0\n",
        "           \n",
        "    # reset: None -> None\n",
        "    # efecto: deja la pila vacia\n",
        "    def reset(self):\n",
        "            \n",
        "        self.__L = []\n",
        "        \n",
        "    # push: any -> None\n",
        "    # efecto: agrega x al final de __L\n",
        "    def push(self,x):\n",
        "    \n",
        "        self.__L.append(x)\n",
        "        \n",
        "    # pop: None -> any\n",
        "    # efecto: saca el ultimo elemento de __L\n",
        "    def pop(self):\n",
        "        \n",
        "        return self.__L.pop()\n",
        "               \n",
        "# Tests\n",
        "s=Stack()\n",
        "assert s.empty()\n",
        "s.push(\"a\")\n",
        "assert not s.empty()\n",
        "s.push(\"b\")\n",
        "s.push(\"c\")\n",
        "assert s.pop()==\"c\"\n",
        "s.reset()\n",
        "assert s.empty()\n",
        "        "
      ],
      "execution_count": null,
      "outputs": []
    },
    {
      "cell_type": "markdown",
      "metadata": {
        "id": "Sefz6mkpXB2m"
      },
      "source": [
        "Ahora probemos que funcione! (cree un archivo de prueba y entreguelo al programa)"
      ]
    },
    {
      "cell_type": "code",
      "metadata": {
        "colab": {
          "base_uri": "https://localhost:8080/"
        },
        "id": "ZIBN25IS7Xta",
        "outputId": "0abab119-9a04-4e70-acd4-849e3d7e61a6"
      },
      "source": [
        "#leer líneas y ponerlas en stack\n",
        "s=Stack()\n",
        "archivo=input(\"archivo? \")\n",
        "a=open(archivo)\n",
        "for linea in a:\n",
        "    s.push(linea)\n",
        "a.close()\n",
        "\n",
        "#sacar y grabar líneas de stack\n",
        "a=open(archivo,\"w\");\n",
        "while not s.empty():\n",
        "    a.write(s.pop())\n",
        "a.close()\n",
        "\n"
      ],
      "execution_count": null,
      "outputs": [
        {
          "output_type": "stream",
          "text": [
            "archivo? test.txt\n"
          ],
          "name": "stdout"
        }
      ]
    },
    {
      "cell_type": "markdown",
      "metadata": {
        "id": "ui1i7ugJ7Xtb"
      },
      "source": [
        "## Ejercicio 11 (entregar vía u-cursos)\n",
        "\n",
        "Una **Queue** (Cola) es un contenedor que opera con el principio **FIFO (First In First Out)**, es decir, el primer valor que ingresa es el primero que sale. \n",
        "\n",
        "Para entender esta abstracción sirve pensar en una cola de gente esperando entrar al cine. El primero que llega la cola es el primero en entrar al cine.\n",
        "\n",
        "**Ejercicio:** Escribir la clase Queue e incluir tests.\n",
        "\n",
        "<img src=\"https://drive.google.com/uc?export=view&id=1NqiD9ZQcn1ApNAP9B4D4fhS2PJwd1HQv\" align=\"left\" width=\"50%\"/>\n"
      ]
    }
  ]
}