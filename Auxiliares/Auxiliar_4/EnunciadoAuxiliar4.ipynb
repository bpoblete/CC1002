{
  "nbformat": 4,
  "nbformat_minor": 0,
  "metadata": {
    "colab": {
      "name": "EnunciadoAuxiliar4.ipynb",
      "provenance": [],
      "collapsed_sections": [],
      "include_colab_link": true
    },
    "kernelspec": {
      "name": "python3",
      "display_name": "Python 3"
    },
    "language_info": {
      "name": "python"
    }
  },
  "cells": [
    {
      "cell_type": "markdown",
      "metadata": {
        "id": "view-in-github",
        "colab_type": "text"
      },
      "source": [
        "<a href=\"https://colab.research.google.com/github/bpoblete/CC1002/blob/master/Auxiliares/Auxiliar_4/EnunciadoAuxiliar4.ipynb\" target=\"_parent\"><img src=\"https://colab.research.google.com/assets/colab-badge.svg\" alt=\"Open In Colab\"/></a>"
      ]
    },
    {
      "cell_type": "markdown",
      "metadata": {
        "id": "SPHFCFabq0rD"
      },
      "source": [
        "# Auxiliar 4\n",
        "## Profesores : Alejandro Hevia, Bárbara Poblete\n",
        "### Auxiliares: Albani Olivieri, Lucas Torrealba, Monserrat Prado, Nadia Decar, Nelson Marambio, Ricardo Valdivia"
      ]
    },
    {
      "cell_type": "markdown",
      "metadata": {
        "id": "dMm3n8vmAQQh"
      },
      "source": [
        "####P1 Calculo de Divisores\n",
        "\n",
        "Para esta pregunta se le solicita, crear una función que cacule la cantidad de divisores que tienen un numero entero, para esto se le pide que la realice utilizando **obligatoriamente** al menos una variable por omisión.  "
      ]
    },
    {
      "cell_type": "code",
      "metadata": {
        "id": "K12_2WFEAPgm"
      },
      "source": [
        "# Receta\n",
        "def divisores(...):"
      ],
      "execution_count": null,
      "outputs": []
    },
    {
      "cell_type": "markdown",
      "metadata": {
        "id": "lZuybwCRrEax"
      },
      "source": [
        "#### P2 Polinomios de Hermite\n",
        "\n",
        "Escriba un programa que calcule el polinomio de Hermite según el grado y punto que se le\n",
        "indique.\n",
        "Todos los polinomios de Hermine de orden n > 2 se pueden expresar de la siguiente forma\n",
        "\n",
        "\n",
        "$$H_n(x) = 2x · H_{n−1}(x) − 2(n − 1)H_{n−2}(x)$$\n",
        "\n",
        "con $H_0(x) = 1$ y $H_1(x) = 2x$\n",
        "Los primeros serán de la forma:\n",
        "\n",
        "- $H_0(x)=1$\n",
        "- $H_1(x)=2x$\n",
        "- $H_2(x)=4x^2 - 2$\n",
        "- $H_3(x)=8x^3 - 12x$\n",
        "- $H_4(x)=16x^4 - 48 x^2 + 12$\n",
        "- $H_5(x)=32x^5 - 160x^3 + 120x$\n",
        "\n",
        "\n"
      ]
    },
    {
      "cell_type": "code",
      "metadata": {
        "id": "OsUJU0qTnM5D"
      },
      "source": [
        "# Receta\n",
        "\n",
        "def polinomioDeHermite(grado, punto):"
      ],
      "execution_count": null,
      "outputs": []
    },
    {
      "cell_type": "markdown",
      "metadata": {
        "id": "GgPXuRQ-AfpM"
      },
      "source": [
        "####P3 Mayor dato\n",
        "\n",
        "Escriba una funcion recursiva, que devuelva el mayor de un lista de números que termina con un número negativo.\n",
        "`Hint: Utilice variables por omisión` \n",
        "\n",
        "La función debe establecer un diálogo como el que se muestra en el siguiente \n",
        "ejemplo:\n",
        "\n",
        "```python\n",
        ">>>mayor()\n",
        "n°? 2\n",
        "n°? 3\n",
        "n°? 1\n",
        "n°? -1    # fin de los datos\n",
        "3        # resultado de la función\n",
        "```\n",
        "Para esta función no debe realizar test."
      ]
    },
    {
      "cell_type": "code",
      "metadata": {
        "id": "FV2mD-j0AXFM"
      },
      "source": [
        "# Receta\n",
        "\n",
        "def mayor():"
      ],
      "execution_count": null,
      "outputs": []
    },
    {
      "cell_type": "markdown",
      "metadata": {
        "id": "Sf5LETTjAkZS"
      },
      "source": [
        "####P4 Potencias de Dos\n",
        "Escribir la función recursiva potenciasDe2 que use la función potencia para calcular potencias de 2 enteras >=0 a través del siguiente diálogo:\n",
        "\n",
        "```python\n",
        ">>>potenciasDe2()\n",
        "potencia? 4\n",
        "resultado = 16\n",
        "potencia? 10\n",
        "resultado = 1024\n",
        "potencia? 0\n",
        "resultado = 1\n",
        "…\n",
        "potencia?-1 (Una potencia negativa termina el programa)\n",
        "``` \n",
        "\n",
        "Función potencias vista en clases:\n",
        "\n",
        "```python\n",
        "# potencia: num int -> num\n",
        "# calcula el valor de una potencia de base elevado a exponente\n",
        "# para exponentes enteros positivos\n",
        "# ejemplo: potencia (4,5) debe dar 1024\n",
        "def potencia(base, exponente):\n",
        "    if exponente == 0:\n",
        "        return 1\n",
        "    else:\n",
        "        return base*(potencia(base, exponente-1))\n",
        "\n",
        "# test\n",
        "assert potencia(4,5) == 1024\n",
        "assert potencia(2,4) == 16\n",
        "assert potencia(-1,5) == -1\n",
        "assert potencia(3,0) == 1\n",
        "```\n",
        "\n",
        "\n",
        "Para esta función no debe realizar Test\n"
      ]
    },
    {
      "cell_type": "code",
      "metadata": {
        "id": "aCTd_tYhAkuG"
      },
      "source": [
        "# Receta\n",
        "\n",
        "def potenciasDe2():"
      ],
      "execution_count": null,
      "outputs": []
    }
  ]
}