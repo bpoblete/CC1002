{
  "nbformat": 4,
  "nbformat_minor": 0,
  "metadata": {
    "kernelspec": {
      "name": "python3",
      "display_name": "Python 3"
    },
    "colab": {
      "name": "C17 - Estructuras Indexadas II.ipynb",
      "provenance": [],
      "collapsed_sections": [],
      "include_colab_link": true
    }
  },
  "cells": [
    {
      "cell_type": "markdown",
      "metadata": {
        "id": "view-in-github",
        "colab_type": "text"
      },
      "source": [
        "<a href=\"https://colab.research.google.com/github/bpoblete/CC1002/blob/master/Clases/Clase_17_Estructuras_Indexadas_II.ipynb\" target=\"_parent\"><img src=\"https://colab.research.google.com/assets/colab-badge.svg\" alt=\"Open In Colab\"/></a>"
      ]
    },
    {
      "cell_type": "markdown",
      "metadata": {
        "id": "gI11V-Oh0I3R"
      },
      "source": [
        "# Clase 17: Estructuras Indexadas (parte II)\n",
        "\n",
        "\n",
        "\n",
        "\n",
        "\n"
      ]
    },
    {
      "cell_type": "markdown",
      "metadata": {
        "id": "vuY1CpWiC6kK"
      },
      "source": [
        "## Funciones para listas\n",
        "\n",
        "Notas:\n",
        "- L se considera un alias del argumento\n",
        "- si se modifica parámetro L dentro de la función afecta también al argumento (lista) utilizado en la invocación"
      ]
    },
    {
      "cell_type": "markdown",
      "metadata": {
        "id": "DIRmFVvl-CwH"
      },
      "source": [
        "### Ejemplo: Sumar valores de una lista"
      ]
    },
    {
      "cell_type": "code",
      "metadata": {
        "id": "0d-ecO6tC6kL"
      },
      "source": [
        "#suma: list (num) -> num\n",
        "#sumar numeros de una lista\n",
        "#ej: suma([20,30,10])->60\n",
        "\n",
        "def suma(L):\n",
        "    assert type(L)==list\n",
        "    total=0\n",
        "    for valor in L:\n",
        "        total = total + valor # total+=valor\n",
        "    return total\n",
        "\n",
        "assert suma([20,30,10])==60"
      ],
      "execution_count": null,
      "outputs": []
    },
    {
      "cell_type": "code",
      "metadata": {
        "id": "9DDmlIMvC6kN"
      },
      "source": [
        "# usando range\n",
        "def suma(L):\n",
        "    assert type(L)==list\n",
        "    total=0\n",
        "    for i in range(len(L)): # [0,1,..,len(L)-1]\n",
        "        total = total + L[i]\n",
        "    return total\n",
        "\n",
        "assert suma([20,30,10])==60"
      ],
      "execution_count": null,
      "outputs": []
    },
    {
      "cell_type": "markdown",
      "metadata": {
        "id": "WMwgDeM73t1U"
      },
      "source": [
        "### Ej. Indicar el índice de una lista donde se encuentra cierto valor"
      ]
    },
    {
      "cell_type": "code",
      "metadata": {
        "id": "CUYuGye1C6kP"
      },
      "source": [
        "#indice: any list(any) -> int\n",
        "#indice (desde 0) de 1ª aparición de x en L\n",
        "#-1 si no está\n",
        "#ej: indice(30,[20,30,10])->1\n",
        "\n",
        "def indice(x,L):\n",
        "    assert type(L)==list\n",
        "    for i in range(len(L)): #[0,1,..,len(L)-1]->[0,1,2]\n",
        "        if L[i]==x: return i\n",
        "    return -1\n",
        "\n",
        "assert indice(30,[20,30,10]) == 1\n",
        "assert indice(40,[20,30,10]) == -1\n"
      ],
      "execution_count": null,
      "outputs": []
    },
    {
      "cell_type": "markdown",
      "metadata": {
        "id": "Cvn0eAJI3ZP8"
      },
      "source": [
        "### ¿Cómo imprimir los valores de una lista?"
      ]
    },
    {
      "cell_type": "code",
      "metadata": {
        "id": "v01a3j_L0I4r"
      },
      "source": [
        "L = [10, 20, 30, 40, 50,60,70]\n",
        "for valor in L:\n",
        "  print(valor)\n"
      ],
      "execution_count": null,
      "outputs": []
    },
    {
      "cell_type": "markdown",
      "metadata": {
        "id": "vyEs5L2I3iO_"
      },
      "source": [
        "### Ej. Realizar una copia 'efectiva' de una lista"
      ]
    },
    {
      "cell_type": "code",
      "metadata": {
        "id": "Lz58W8570I4w"
      },
      "source": [
        "#copia: list -> list\n",
        "def copia(L):\n",
        "    assert type(L)==list\n",
        "    duplicado=[]\n",
        "    for valor in L:\n",
        "      duplicado.append(valor)\n",
        "    return duplicado\n",
        "    \n",
        "\n",
        "assert copia([8,9,7,9])==[8,9,7,9]\n",
        "\n"
      ],
      "execution_count": null,
      "outputs": []
    },
    {
      "cell_type": "markdown",
      "metadata": {
        "id": "WCeQt1xU0I5d"
      },
      "source": [
        "## Instrucción 'while'\n",
        "\n",
        "Esta instrucción es más general que la instrucción **`for`** y permite iterar sobre un bloque de instrucciónes, su sintaxis es:\n",
        "\n",
        "```python\n",
        "while condicion: # condición es de tipo boolean\n",
        "    # bloque de instrucciones\n",
        "    \n",
        "```\n",
        "\n",
        "las instrucciones del ciclo **`while`** se ejecutarán mientras **`condición`** sea igual a **`True`**."
      ]
    },
    {
      "cell_type": "code",
      "metadata": {
        "id": "TPGKeDaC0I5f"
      },
      "source": [
        "lista = [10,20 ,30, 40, 50]\n",
        "indice = 0\n",
        "while indice < len(lista):\n",
        "    print (lista[indice])\n",
        "    indice = indice +1"
      ],
      "execution_count": null,
      "outputs": []
    },
    {
      "cell_type": "code",
      "metadata": {
        "id": "ckaGwBL30I5j"
      },
      "source": [
        "#suma: list(int) -> int\n",
        "def suma(L):\n",
        "    assert type(L)==list\n",
        "    suma = 0\n",
        "    indice = 0\n",
        "    while indice < len(L):\n",
        "        suma+= L[indice]\n",
        "        indice+=1\n",
        "    return suma\n",
        "\n",
        "assert suma([8,9,7,9])==33\n",
        "\n"
      ],
      "execution_count": null,
      "outputs": []
    },
    {
      "cell_type": "markdown",
      "metadata": {
        "id": "p8WOsuhy0I5k"
      },
      "source": [
        "## Strings son listas inmutables\n",
        "\n",
        "Los strings operan como una estructura indexada de caracteres. Es decir, una lista de caracteres inmutable:"
      ]
    },
    {
      "cell_type": "code",
      "metadata": {
        "id": "sDGRoUX30I5l"
      },
      "source": [
        "palabra = \"algoritmo\"\n",
        "palabra[2]"
      ],
      "execution_count": null,
      "outputs": []
    },
    {
      "cell_type": "code",
      "metadata": {
        "id": "L0b9Ic3P0I5o"
      },
      "source": [
        "otrapalabra = \"ALGORITMO\"\n",
        "palabra+otrapalabra"
      ],
      "execution_count": null,
      "outputs": []
    },
    {
      "cell_type": "code",
      "metadata": {
        "id": "pHOri8w90I5q"
      },
      "source": [
        "len(palabra)"
      ],
      "execution_count": null,
      "outputs": []
    },
    {
      "cell_type": "code",
      "metadata": {
        "id": "N4LLBSn90I5u"
      },
      "source": [
        "palabra < otrapalabra"
      ],
      "execution_count": null,
      "outputs": []
    },
    {
      "cell_type": "code",
      "metadata": {
        "id": "lSAkYxXL0I5v"
      },
      "source": [
        "'a'>'A'"
      ],
      "execution_count": null,
      "outputs": []
    },
    {
      "cell_type": "code",
      "metadata": {
        "id": "RMc8KfJs0I5x"
      },
      "source": [
        "palabra[2:len(palabra)]"
      ],
      "execution_count": null,
      "outputs": []
    },
    {
      "cell_type": "code",
      "metadata": {
        "id": "T6yDRukX0I5z"
      },
      "source": [
        "'a' in palabra"
      ],
      "execution_count": null,
      "outputs": []
    },
    {
      "cell_type": "code",
      "metadata": {
        "id": "hAM3GsGN0I50"
      },
      "source": [
        "palabra = \"algoritmo\"\n",
        "for caracter in palabra:\n",
        "    print (caracter)"
      ],
      "execution_count": null,
      "outputs": []
    },
    {
      "cell_type": "code",
      "metadata": {
        "id": "A0FyXI_40I51"
      },
      "source": [
        "def inverso(x):\n",
        "    s = ''\n",
        "    for i in  range(len(x)-1,-1, -1):\n",
        "        s = s + x[i]\n",
        "    return s\n",
        "assert inverso(\"roma\")==\"amor\"\n"
      ],
      "execution_count": null,
      "outputs": []
    },
    {
      "cell_type": "code",
      "metadata": {
        "id": "OhFkkNa90I53"
      },
      "source": [
        "inverso('hola')"
      ],
      "execution_count": null,
      "outputs": []
    },
    {
      "cell_type": "code",
      "metadata": {
        "id": "RBKXwabH0I54"
      },
      "source": [
        "def inverso(x):\n",
        "    s =''\n",
        "    for c in x: \n",
        "      s=c+s \n",
        "    return s\n",
        "\n",
        "assert inverso(\"roma\")==\"amor\"\n"
      ],
      "execution_count": null,
      "outputs": []
    },
    {
      "cell_type": "code",
      "metadata": {
        "id": "s54IPGWc0I55"
      },
      "source": [
        "def capicua(x): \n",
        "    return x==inverso(x)\n",
        "assert capicua(\"reconocer\")\n"
      ],
      "execution_count": null,
      "outputs": []
    },
    {
      "cell_type": "markdown",
      "metadata": {
        "id": "CEO3Z9BU0I56"
      },
      "source": [
        "### otras funciones de python para strings"
      ]
    },
    {
      "cell_type": "code",
      "metadata": {
        "id": "0uG2ZPQd0I57"
      },
      "source": [
        "x = \"operaciones de strings en python\""
      ],
      "execution_count": null,
      "outputs": []
    },
    {
      "cell_type": "code",
      "metadata": {
        "id": "ufDc_qaN0I58"
      },
      "source": [
        "x.find(\"s\")"
      ],
      "execution_count": null,
      "outputs": []
    },
    {
      "cell_type": "code",
      "metadata": {
        "id": "wwjHuL920I5-"
      },
      "source": [
        "x.count(\"s\")"
      ],
      "execution_count": null,
      "outputs": []
    },
    {
      "cell_type": "code",
      "metadata": {
        "id": "eucmq3Ga0I6A"
      },
      "source": [
        "x.isalpha()"
      ],
      "execution_count": null,
      "outputs": []
    },
    {
      "cell_type": "code",
      "metadata": {
        "id": "Haf6X8oU0I6B"
      },
      "source": [
        "x.islower()"
      ],
      "execution_count": null,
      "outputs": []
    },
    {
      "cell_type": "code",
      "metadata": {
        "id": "aqfCyaBB0I6E"
      },
      "source": [
        "x.isupper()"
      ],
      "execution_count": null,
      "outputs": []
    },
    {
      "cell_type": "code",
      "metadata": {
        "id": "Mlu71LKi0I6H"
      },
      "source": [
        "x.upper()"
      ],
      "execution_count": null,
      "outputs": []
    },
    {
      "cell_type": "code",
      "metadata": {
        "id": "vXuwp9yl0I6I"
      },
      "source": [
        "x.lower()"
      ],
      "execution_count": null,
      "outputs": []
    },
    {
      "cell_type": "code",
      "metadata": {
        "id": "Aj3edFTy0I6J"
      },
      "source": [
        "y = \" \" + x + \" \"\n",
        "y"
      ],
      "execution_count": null,
      "outputs": []
    },
    {
      "cell_type": "code",
      "metadata": {
        "id": "Ddz_aHKX0I6L"
      },
      "source": [
        "y.strip()"
      ],
      "execution_count": null,
      "outputs": []
    },
    {
      "cell_type": "code",
      "metadata": {
        "id": "y6DEbkhT0I6N"
      },
      "source": [
        "x.replace(\"o\",\"s\")"
      ],
      "execution_count": null,
      "outputs": []
    },
    {
      "cell_type": "markdown",
      "metadata": {
        "id": "ToyVd-Yy0I6Q"
      },
      "source": [
        "### Ej. ¿Cómo ver si una frase es capicúa?"
      ]
    },
    {
      "cell_type": "code",
      "metadata": {
        "id": "Lr8F5VX20I6Q"
      },
      "source": [
        "def fraseCapicua(frase):\n",
        "    frase=frase.replace(\" \", \"\") #eliminar espacios\n",
        "    frase=frase.lower()  #todo a minusculas\n",
        "    return capicua(frase)\n",
        "assert fraseCapicua(\"Anita lava la tina\")\n"
      ],
      "execution_count": null,
      "outputs": []
    },
    {
      "cell_type": "markdown",
      "metadata": {
        "id": "xWwpgsKa0I6T"
      },
      "source": [
        "## Propuesto: Lista de listas (lista de 2 dimensiones o tabla o matriz)\n",
        "\n",
        "Revise qué hace el código.\n",
        "\n"
      ]
    },
    {
      "cell_type": "code",
      "metadata": {
        "id": "3pmVEEUA0I6T"
      },
      "source": [
        "\n",
        "T=[[\"gabriela\",\"jose\",\"rosa\",\"matias\"],\\\n",
        "   [62,48,56,49],\\\n",
        "   [45,52,35,48]]\n",
        "#promedios por pregunta (por filas)\n",
        "for i in range(1,len(T)):\n",
        "    print (\"promedio pregunta\",i,float(sum(T[i]))/len(T[i]))\n",
        "\n",
        "#promedios por alumno (por columnas)\n",
        "for j in range(len(T[0])):\n",
        "    s=0.0\n",
        "    for i in range(1,len(T)):\n",
        "        s+=T[i][j]\n",
        "    print (\"promedio: \",T[0][j],s/(len(T)-1))\n"
      ],
      "execution_count": null,
      "outputs": []
    }
  ]
}