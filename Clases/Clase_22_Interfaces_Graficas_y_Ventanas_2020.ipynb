{
  "nbformat": 4,
  "nbformat_minor": 0,
  "metadata": {
    "kernelspec": {
      "name": "python3",
      "display_name": "Python 3"
    },
    "colab": {
      "name": "Clase_22_Interfaces_Graficas_y_Ventanas_2020.ipynb",
      "provenance": [],
      "collapsed_sections": [],
      "include_colab_link": true
    }
  },
  "cells": [
    {
      "cell_type": "markdown",
      "metadata": {
        "id": "view-in-github",
        "colab_type": "text"
      },
      "source": [
        "<a href=\"https://colab.research.google.com/github/bpoblete/CC1002/blob/master/Clases/Clase_22_Interfaces_Graficas_y_Ventanas_2020.ipynb\" target=\"_parent\"><img src=\"https://colab.research.google.com/assets/colab-badge.svg\" alt=\"Open In Colab\"/></a>"
      ]
    },
    {
      "cell_type": "markdown",
      "metadata": {
        "id": "47XqBjZ765nU"
      },
      "source": [
        "# Clase 22: Interfaces gráficas y ventanas (módulo Tkinter)\n",
        "\n",
        "Veremos cómo crear interfaces gráficas usando una clase especial llamada Tkinter. Para eso, haremos varios ejemplos, llendo desde los más básicos hasta los más complicados.\n",
        "\n",
        "Todos los ejemplos de esta clase pueden ejecutarse y verse de dos maneras\n",
        "- Usando IDLE: requiere instalación en Windows, Mac o Linux.\n",
        "- Usando la plataforma Repl.it (ver video tutorial de uso en ucursos).\n",
        "\n",
        "### Ej.1: Programa que muestra una ventana con la palabra “hola” \n",
        " \n",
        "\n",
        "```python\n",
        "#incluye clases predefinidas\n",
        "from tkinter import *\n",
        "\n",
        "#crear ventana (con barra de título)\n",
        "ventana = Tk()\n",
        "\n",
        "#crear componente (con texto) y agregar a la ventana\n",
        "saludo = Label(ventana,text=\"Hola\")\n",
        "\n",
        "#acomodar componente en ventana\n",
        "saludo.pack()\n",
        "\n",
        "#mostrar ventana y esperar cierre (click en botón X)\n",
        "ventana.mainloop()\n",
        "```\n",
        "\n",
        "---"
      ]
    },
    {
      "cell_type": "code",
      "metadata": {
        "collapsed": true,
        "id": "-sREIY3z65ng"
      },
      "source": [
        "# ventana_hola.py\n",
        "from tkinter import*\n",
        "ventana = Tk()\n",
        "saludo = Label(ventana, text = \"Hola\")\n",
        "saludo.pack()\n",
        "ventana.mainloop()\n"
      ],
      "execution_count": null,
      "outputs": []
    },
    {
      "cell_type": "markdown",
      "metadata": {
        "id": "W6oSjRhD65nk"
      },
      "source": [
        "```python\n",
        "from tkinter import *\n",
        "```\n",
        "\n",
        "deja disponibles (visibles) clases predefinidas: **Tk, Label**\n",
        "\n",
        "```python\n",
        "ventana = Tk()\n",
        "```\n",
        "crea objeto de la clase predefinida **`Tk`** que:\n",
        "\n",
        "- inicializa **`tkinter`** (interfaz con sistema operativo)\n",
        "- representa una ventana en la pantalla (con una barra de título)\n",
        "\n",
        "```python\n",
        "saludo = Label(ventana,text=\"Hola\")\n",
        "```\n",
        "\n",
        "crea objeto de la clase predefinida **`Label`** que\n",
        "\n",
        "- es una componente (widget) de la ventana\n",
        "- contiene el texto “Hola”\n",
        "\n",
        "```python\n",
        "saludo.pack()\n",
        "```\n",
        "\n",
        "invoca al método pack del objeto componente que\n",
        "\n",
        "- acomoda la componente en la ventana para hacerla visible\n",
        "\n",
        "```python\n",
        "ventana.mainloop()\n",
        "```\n",
        "\n",
        "invoca al método mainloop del objeto ventana que\n",
        "\n",
        "- muestra la ventana en la pantalla\n",
        "- ejecuta un **\"loop\"** de espera de eventos (ej: cerrar la ventana)\n",
        "\n",
        "\n"
      ]
    },
    {
      "cell_type": "markdown",
      "metadata": {
        "id": "lK7c4xTc65nl"
      },
      "source": [
        "### Ej.2: Ventana con 3 componentes: Programa para Saludar en Inglés y Español \n",
        "\n",
        "- 2 botones (objetos de la clase Button) \n",
        "- 1 componente de la clase Label\n",
        "\n",
        "**Idea?**\n",
        "\n",
        "- click en el primer botón debe mostrar “hola” en Label\n",
        "- click en el 2° botón debe mostrar “hello” en Label\n",
        "- Se necesitan métodos, asociados a los botones, que se ejecuten al hacer click con el mouse\n",
        "- programa termina cuando se cierre ventana (botón externo X en Windows o botón rojo en Mac)\n"
      ]
    },
    {
      "cell_type": "code",
      "metadata": {
        "collapsed": true,
        "id": "_hPaJz0S65nm"
      },
      "source": [
        "# ventana2botones.py\n",
        "from tkinter import *\n",
        "\n",
        "#metodos que se ejecutan en caso de click en botones \n",
        "def saludar():\n",
        "    saludo.config(text=\"hola\")\n",
        "def greet(): \n",
        "    saludo.config(text=\"hello\")\n",
        "\n",
        "#ventana\n",
        "ventana = Tk()\n",
        "\n",
        "#boton \"espanol\", al hacer click ejecuta saludar()\n",
        "boton1 = Button(ventana,text=\"espanol\",command=saludar)\n",
        "boton1.pack()  #ubica boton en la ventana\n",
        "\n",
        "#boton \"english\", al hacer click ejecuta greet()\n",
        "boton2 = Button(ventana,text=\"english\",command=greet)\n",
        "boton2.pack()  #ubica boton en la ventana\n",
        "\n",
        "#componente para mostrar saludo \n",
        "saludo= Label(ventana)\n",
        "saludo.pack() #ubica Label debajo\n",
        "#loop para clicks en botones (hasta cerrar ventana)\n",
        "ventana.mainloop()\n"
      ],
      "execution_count": null,
      "outputs": []
    },
    {
      "cell_type": "markdown",
      "metadata": {
        "id": "893VkNHv65no"
      },
      "source": [
        "### Ej.3: Saludador personalizado ☺\n",
        " \n",
        "\n",
        "Ventana con 3 componentes:\n",
        "- 1 Label con pregunta “Cuál es tu nombre?  \n",
        "- 1 componente para recibir respuesta del usuario (de clase Entry)\n",
        "- 1 Label para saludo personalizado\n",
        "\n",
        "**¿Qué queremos que haga?**\n",
        "-  después de ingresar nombre  se debe mostrar saludo **`“hola xxx”`**\n",
        "-  se necesita un método, asociado a la 2a componente, que se ejecute al terminar de ingresar un nombre (caracteres hasta tecla **`<Return>`**)\n",
        "-  programa saluda a todas las personas que quieran ☺\n",
        "-  programa termina cuando se cierre ventana (botón externo X/rojo)\n",
        "\n"
      ]
    },
    {
      "cell_type": "code",
      "metadata": {
        "collapsed": true,
        "id": "rxkoeaKV65no"
      },
      "source": [
        "# ventanaSaludoPersonalizado.py\n",
        "from tkinter import *\n",
        "#metodo que se ejecuta en caso de ingresar un nombre\n",
        "def saludar(x):\n",
        "    r=respuesta.get()  #obtener respuesta\n",
        "    saludo.config(text=\"hola \"+ r)\n",
        "    \n",
        "#programa que saluda\n",
        "ventana = Tk()\n",
        "pregunta = Label(ventana,text=\"Cual es tu nombre?\")\n",
        "pregunta.pack()\n",
        "\n",
        "#componente para ingresar nombre\n",
        "respuesta = Entry(ventana)\n",
        "respuesta.pack()\n",
        "respuesta.bind(\"<Return>\",saludar) #espera un evento sobre Entry\n",
        "\n",
        "#componente para mostrar saludo\n",
        "saludo=Label(ventana)\n",
        "saludo.pack()\n",
        "ventana.mainloop()\n",
        "    "
      ],
      "execution_count": null,
      "outputs": []
    },
    {
      "cell_type": "markdown",
      "metadata": {
        "id": "IdGkDB3G65np"
      },
      "source": [
        "### Ej.4: Saludador personalizado bilingüe  ☺\n",
        " \n",
        "\n",
        "Ventana con 5 componentes: \n",
        "- 2 botones (para elegir idioma)\n",
        "- 1 Label para preguntar nombre   \n",
        "- 1 Entry para recibir nombre\n",
        "- 1 Label para mostrar saludo\n",
        "\n",
        "Idea?\n",
        "-  seleccionar idioma con botones\n",
        "-  preguntar y saludar en el idioma seleccionado\n",
        "-  programa termina cuando se cierra ventana (botón externo X)\n",
        "\n"
      ]
    },
    {
      "cell_type": "code",
      "metadata": {
        "collapsed": true,
        "id": "N6LeXJdw65nr"
      },
      "source": [
        "# ventanaSaludoPersBilingue.py\n",
        "from tkinter import *\n",
        "\n",
        "#metodo que se ejecuta en caso de ingresar un nombre\n",
        "def saludar():\n",
        "    respuesta.bind(\"<Return>\",saludarEspanol)\n",
        "    pregunta.config(text=\"Cual es tu nombre?\")\n",
        "\n",
        "def saludarEspanol(x):\n",
        "    r=respuesta.get()  #obtener respuesta\n",
        "    saludo.config(text=\"hola \"+ r)\n",
        "\n",
        "def greet():\n",
        "    respuesta.bind(\"<Return>\",greetEnglish)\n",
        "    pregunta.config(text=\"What is your name?\")\n",
        "\n",
        "def greetEnglish(x):\n",
        "    r=respuesta.get()  #obtener respuesta\n",
        "    saludo.config(text=\"hello \"+ r)\n",
        "    \n",
        "#saludador bilingue\n",
        "ventana = Tk()\n",
        "\n",
        "pregunta = Label(ventana,text=\"\")\n",
        "#boton \"espanol\", al hacer click ejecuta saludar()\n",
        "boton1 = Button(ventana,text=\"espanol\",command=saludar)\n",
        "boton1.pack()  #ubica boton en la ventana\n",
        "#boton \"english\", al hacer click ejecuta greet()\n",
        "boton2 = Button(ventana,text=\"english\",command=greet)\n",
        "boton2.pack()  #ubica boton en la ventana\n",
        "pregunta.pack()\n",
        "\n",
        "#componente para ingresar nombre\n",
        "respuesta = Entry(ventana)\n",
        "respuesta.pack()\n",
        "\n",
        "#componente para mostrar saludo\n",
        "saludo=Label(ventana)\n",
        "saludo.pack()\n",
        "ventana.mainloop()\n",
        "    "
      ],
      "execution_count": null,
      "outputs": []
    },
    {
      "cell_type": "markdown",
      "metadata": {
        "id": "O5D1958ehLjn"
      },
      "source": [
        "**Propuesto:** Haga las siguientes posibles mejoras:\n",
        "- Intente borrar el saludo del label cuando haga click en cualquiera de los dos botones. \n",
        "  **Pistas**:\n",
        "  * Si saludo es un objeto Label, para borrar el texto desplegado debe hacer ``` saludo.config(text=\"\")```.\n",
        "  * Si respuesta es un objeto Entry, para borrar el texto adentro debe hacer ``` respuesta.delete(0,END)```.\n",
        "- Agréguele un boton nuevo que permita salir. **Pista:** Para crear un boton cuya acción sea cerrar la ventana, debe asignarle ``` command=ventana.destroy``` al crearla."
      ]
    },
    {
      "cell_type": "markdown",
      "metadata": {
        "id": "CoAAChJf65ns"
      },
      "source": [
        "### Ej.5: Rediseño de ventana del Personalizado Saludador Bilingue\n",
        " \n",
        "\n",
        "Ventana con 3 componentes: \n",
        "- un “marco” con los botones\n",
        "- un “marco” con la pregunta y respuesta\n",
        "- 1 Label para mostrar saludo\n",
        "\n",
        "“marco”?\n",
        "- objeto de clase Frame\n",
        "- objeto para agrupar componentes\n",
        "- la idea es agrupar componentes que tengan alguna relación lógica\n",
        "\n"
      ]
    },
    {
      "cell_type": "code",
      "metadata": {
        "collapsed": true,
        "id": "KvXG1JXy65nt"
      },
      "source": [
        "# ventanaSaludoPersBilingueFrame.py\n",
        "from tkinter import *\n",
        "\n",
        "#metodo que se ejecuta en caso de ingresar un nombre\n",
        "def saludar():\n",
        "    respuesta.bind(\"<Return>\",saludarEspanol)\n",
        "    pregunta.config(text=\"Cual es tu nombre?\")\n",
        "\n",
        "def saludarEspanol(x):\n",
        "    r=respuesta.get()  #obtener respuesta\n",
        "    saludo.config(text=\"hola \"+ r)\n",
        "\n",
        "def greet():\n",
        "    respuesta.bind(\"<Return>\",greetEnglish)\n",
        "    pregunta.config(text=\"What is your name?\")\n",
        "\n",
        "def greetEnglish(x):\n",
        "    r=respuesta.get()  #obtener respuesta\n",
        "    saludo.config(text=\"hello \"+ r)\n",
        "    \n",
        "#programa que saluda\n",
        "ventana = Tk()\n",
        "\n",
        "marco1=Frame(ventana)\n",
        "marco1.pack()\n",
        "\n",
        "#boton \"espanol\", al hacer click ejecuta saludar()\n",
        "boton1 = Button(marco1,text=\"espanol\",command=saludar)\n",
        "boton1.pack(side=LEFT)  #ubica boton en la ventana\n",
        "#boton \"english\", al hacer click ejecuta greet()\n",
        "boton2 = Button(marco1,text=\"english\",command=greet)\n",
        "boton2.pack()  #ubica boton en la ventana\n",
        "\n",
        "marco2=Frame(ventana)\n",
        "marco2.pack()\n",
        "\n",
        "pregunta = Label(marco2)\n",
        "pregunta.pack(side=LEFT)\n",
        "\n",
        "#componente para ingresar nombre\n",
        "respuesta = Entry(marco2)\n",
        "respuesta.pack()\n",
        "\n",
        "#componente para mostrar saludo\n",
        "saludo=Label(ventana)\n",
        "saludo.pack()\n",
        "ventana.mainloop()\n",
        "    "
      ],
      "execution_count": null,
      "outputs": []
    },
    {
      "cell_type": "markdown",
      "metadata": {
        "id": "F-_NcfPM65nv"
      },
      "source": [
        "### Ej.6: Dibujar diagonales de la ventana (en colores azul y rojo)\n",
        "            \n",
        "```python\n",
        "from tkinter import *\n",
        "ventana=Tk()\n",
        "#objeto (“tela”) para dibujar\n",
        "ancho=200; alto=100 #pixeles\n",
        "cv=Canvas(ventana,width=ancho,height=alto)\n",
        "cv.pack()\n",
        "#dibujar diagonales (azul y roja)\n",
        "#cv.create_line(h1,v1,h2,v2,fill=”color”)\n",
        "cv.create_line(0,0,ancho,alto,fill=\"blue\")\n",
        "cv.create_line(0,alto,ancho,0,fill=\"red\")\n",
        "ventana.mainloop()\n",
        "```\n",
        "\n",
        "**Nota:**\n",
        "- coordenadas se expresan en la forma horizontal,vertical \n",
        "- 0,0: coordenadas de la esquina superior izquierda\n"
      ]
    },
    {
      "cell_type": "code",
      "metadata": {
        "collapsed": true,
        "id": "Zcg2_GZJ65nx"
      },
      "source": [
        "# canvasDiagonales.py\n",
        "from tkinter import *\n",
        "ventana=Tk()\n",
        "# objeto canvas para dibujar\n",
        "ancho=200; alto=100 #pixeles\n",
        "cv=Canvas(ventana,width=ancho,height=alto)\n",
        "cv.pack()\n",
        "#dibujar diagonales (azul y roja)\n",
        "#cv.create_line(h1,v1,h2,v2,fill=\"color\")\n",
        "cv.create_line(0,0,ancho,alto,fill=\"blue\")\n",
        "cv.create_line(0,alto,ancho,0,fill=\"red\")\n",
        "ventana.mainloop()\n"
      ],
      "execution_count": null,
      "outputs": []
    },
    {
      "cell_type": "code",
      "metadata": {
        "collapsed": true,
        "id": "8vby60kG65nx"
      },
      "source": [
        "# canvas2ovalos.py\n",
        "from tkinter import *\n",
        "\n",
        "ventana=Tk()\n",
        "cv=Canvas(ventana,width=200,height=200)\n",
        "cv.pack()\n",
        "cv.create_oval(20,40,100,100)\n",
        "cv.create_oval(100,100,200,200,fill=\"black\")\n",
        "ventana.mainloop()\n"
      ],
      "execution_count": null,
      "outputs": []
    },
    {
      "cell_type": "markdown",
      "metadata": {
        "id": "_9U-NDcr65ny"
      },
      "source": [
        "**Nota.** create_rectangle(…) dibuja rectángulo\n"
      ]
    },
    {
      "cell_type": "code",
      "metadata": {
        "collapsed": true,
        "id": "xed7ejCx65ny"
      },
      "source": [
        "#circunferencias-al-azar.py\n",
        "from tkinter import *\n",
        "import random \n",
        "def dibujar():\n",
        "    x=random.randint(0,ancho)\n",
        "    y=random.randint(0,alto)\n",
        "    r=random.randint(1,min(alto,ancho))/2\n",
        "    cv.create_oval(x-r,y-r,x+r,y+r)\n",
        "v=Tk()\n",
        "b=Button(v,text=\"circunferencia\",command=dibujar)\n",
        "alto=200; ancho=200\n",
        "cv=Canvas(v,width=ancho,height=alto) \n",
        "b.pack(); cv.pack()\n",
        "v.mainloop()\n"
      ],
      "execution_count": null,
      "outputs": []
    },
    {
      "cell_type": "markdown",
      "metadata": {
        "id": "h97RwKbS65ny"
      },
      "source": [
        "### Problema: Dibujar la siguiente figura (la de la izquierda, el cuadrado girado en α)\n",
        "\n",
        "\n",
        "<div>\n",
        "<img src=\"https://github.com/bpoblete/CC1002/raw/master/Clases/ejercicio.png\" alt=\"Ejercicio\" width=\"70%\"/>\n",
        "</div>\n",
        "<br>\n",
        "\n",
        "\n",
        "```python\n",
        "cv=Canvas(…)\n",
        "h2=h+int(L*math.cos(alfa*math.pi/180))\n",
        "v2=v-int(L*math.sin(alfa*math.pi/180))\n",
        "cv.create_line(h,v,h2,v2)   #primera línea\n",
        "h3=...; v3=...\n",
        "cv.create_line(h2,v2,h3,v3) #segunda línea\n",
        "h4=...; v4=...\n",
        "cv.create_line(h3,v3,h4,v4) #tercera línea\n",
        "cv.create_line(h4,v4,h,v)   #cuarta línea\n",
        "```\n",
        "\n",
        "\n",
        "\n"
      ]
    },
    {
      "cell_type": "markdown",
      "metadata": {
        "id": "Vf-rjUvX65nz"
      },
      "source": [
        "### Solución 2. Usando la geometría de la “tortuga” (de Logo).\n",
        "\n",
        "Suponemos que tenemos una clase Tortuga con métodos girar y avanzar.\n",
        "\n",
        "Luego, creamos un boton que ejecute la siguiente función como acción:\n",
        "\n",
        "```python\n",
        "\n",
        "def dibujarCuadrado()\n",
        "  #ubicar tortuga al centro de cv\n",
        "  t=Tortuga(W/2,H/2,cv)\n",
        "  #girar la tortuga en angulo alfa\n",
        "  t.girar(45)               \n",
        "  #repetir 4 veces\n",
        "  for i in range(4):\n",
        "      #avanzar tortuga en L(dibujando linea)\n",
        "      t.avanzar(50)\n",
        "      #girar tortuga en 90º\n",
        "      t.girar(90)\n",
        "\n",
        "```\n"
      ]
    },
    {
      "cell_type": "markdown",
      "metadata": {
        "id": "FoQD6A5-q1ML"
      },
      "source": [
        "### Problema propuesto (opcional). \n",
        "\n",
        "1. Completar el ejemplo anterior, agregando lo que falta para crear la ventana y el boton.\n",
        "\n",
        "2. Escribir y probar la clase Tortuga. (Parta del ejemplo de más abajo)."
      ]
    },
    {
      "cell_type": "code",
      "metadata": {
        "id": "PGokcZXsqqlH"
      },
      "source": [
        "from tkinter import *\n",
        "from Tortuga import *\n",
        "\n",
        "def dibujarCuadrado()\n",
        "  # ubicar tortuga al centro de cv\n",
        "  t=Tortuga(W/2,H/2,cv)\n",
        "  # girar la tortuga en angulo alfa\n",
        "  t.girar(45)               \n",
        "  # repetir 4 veces\n",
        "  for i in range(4):\n",
        "      #avanzar tortuga en L(dibujando linea)\n",
        "      t.avanzar(50)\n",
        "      #girar tortuga en 90º\n",
        "      t.girar(90)   \n",
        "\n",
        "# OJO: COMPLETAR\n",
        "# Crear ventana\n",
        "# Crear Boton, asociarle acción dibujarCuadarado()\n",
        "# Crear Canvas\n",
        "# Concluir llamando a ventana.mainloop()"
      ],
      "execution_count": null,
      "outputs": []
    },
    {
      "cell_type": "code",
      "metadata": {
        "id": "tuJVju0i65n0"
      },
      "source": [
        "# Modulo Tortuga.py\n",
        "\n",
        "#h,v: int coordenadas horizontal y vertical\n",
        "#cv: Canvas\n",
        "#angulo: float (en radianes)\n",
        "class Tortuga:\n",
        "    #__init__: int int Canvas -> Tortuga\n",
        "    #crea tortuga en coords(x,y)de canvas cv con angulo 0\n",
        "    #ej: t=Tortuga(W/2,H/2,cv)\n",
        "    def __init__(self,x,y,cv):\n",
        "        self.__h = x; self.__v = y\n",
        "        self.__cv = cv\n",
        "        self.__angulo = 0\n",
        "\n",
        "    #girar: int -> None\n",
        "    #girar tortuga en angulo x (sumar x al angulo)\n",
        "    #ej: t.girar(45)\n",
        "    def girar(self,x):\n",
        "        # Completar\n",
        "        \n",
        "        \n",
        "        \n",
        "\n",
        "    #avanzar: int -> None\n",
        "    #avanzar tortuga x pixeles (dibujando línea)\n",
        "    # ej: t.avanzar(50)\n",
        "    def avanzar(self,x):\n",
        "        # Completar\n",
        "\n",
        "\n",
        "\n"
      ],
      "execution_count": null,
      "outputs": []
    }
  ]
}