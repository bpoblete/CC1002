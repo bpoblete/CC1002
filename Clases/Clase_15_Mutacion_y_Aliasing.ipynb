{
  "nbformat": 4,
  "nbformat_minor": 0,
  "metadata": {
    "colab": {
      "name": "Clase_15_Mutacion_y_Aliasing_2020.ipynb",
      "provenance": [],
      "collapsed_sections": [],
      "include_colab_link": true
    },
    "kernelspec": {
      "name": "python3",
      "display_name": "Python 3"
    }
  },
  "cells": [
    {
      "cell_type": "markdown",
      "metadata": {
        "id": "view-in-github",
        "colab_type": "text"
      },
      "source": [
        "<a href=\"https://colab.research.google.com/github/bpoblete/CC1002/blob/master/Clases/Clase_15_Mutacion_y_Aliasing.ipynb\" target=\"_parent\"><img src=\"https://colab.research.google.com/assets/colab-badge.svg\" alt=\"Open In Colab\"/></a>"
      ]
    },
    {
      "cell_type": "markdown",
      "metadata": {
        "id": "4aEFk57QsH2c"
      },
      "source": [
        "# Clase 15: Mutación y Aliasing\n",
        "(Capítulo 11 del apunte)\n",
        "\n",
        "Hasta ahora, todas nuestras funciones reciben parámetros y retornan un valor de acuerdo a éstos\n",
        "- Para los mismos parámetros se devuelve el mismo valor\n",
        "-  Esto facilita muchísimo hacer testing\n",
        "\n",
        "\n",
        "Sin embargo, hay programas que requieren que una función pueda tener una cierta **memoria** sobre las acciones sobre los datos.\n"
      ]
    },
    {
      "cell_type": "markdown",
      "metadata": {
        "id": "izSJsywyuemi"
      },
      "source": [
        "\n",
        "## Por qué las funciones \"con memoria\" son útiles\n",
        "\n",
        "Disponer de memoria puede ser muy útil\n",
        "- Servicios al usuario para administrar información\n",
        "\n",
        "Pero, la programación es **más compleja y requiere ser cuidadoso**\n",
        "- Ya no es fácil hacer testing (no conocemos a priori la respuesta correcta)\n",
        "- Un cambio realizado a la memoria puede tener impacto en distintas partes del programa\n",
        "\n"
      ]
    },
    {
      "cell_type": "markdown",
      "metadata": {
        "id": "YTV1G596u58L"
      },
      "source": [
        "## ¿Cómo implementamos una función con memoria?\n",
        "\n",
        "Usando **variables de estado**.\n",
        "<mark>Una variable de estado es una variable que almacena (recuerda) valores manteniéndolos entre distintas llamadas a la función.</mark>\n",
        "\n",
        "- En Python, una variable de estado se implementa como una variable **global**\n",
        "- Se puede acceder desde cualquier función y desde el programa principal\n",
        "- Su valor puede **mutar** (actualizarse)\n",
        "\n",
        "## Ambiente de una variable\n",
        "\n",
        "El ambiente de una variable (o *scope*) es la parte del código en donde una variable puede ser accesada\n",
        "  - **Variables locales**:\n",
        "    - Se definen dentro de una función\n",
        "    - Su scope es la función: una vez que termina la función, desaparece la variable\n",
        "\n",
        "- **Variables de estado** (o **globales**):\n",
        "  - Se definen a nivel de la línea de comando\n",
        "  - Su **scope** es el programa completo\n",
        "\n",
        "### Ejemplo: Definición y uso de variable de estado:\n"
      ]
    },
    {
      "cell_type": "code",
      "metadata": {
        "id": "zbvFxi0tvrNe"
      },
      "source": [
        "# Variable de estado\n",
        "contador = 0\n",
        "    \n",
        "# procedimiento: None -> None\n",
        "# efecto: modifica variable contador incrementando su valor en 1\n",
        "def procedimiento():\n",
        "    global contador\n",
        "    uno = 1\n",
        "    contador = contador + uno\n",
        "    \n",
        "# Programa principal\n",
        "print(str(contador))"
      ],
      "execution_count": null,
      "outputs": []
    },
    {
      "cell_type": "code",
      "metadata": {
        "id": "oGNzdC1q-8aM"
      },
      "source": [
        "procedimiento()\n",
        "print(str(contador))\n",
        "procedimiento()\n",
        "procedimiento()\n",
        "procedimiento()\n",
        "print(str(contador))"
      ],
      "execution_count": null,
      "outputs": []
    },
    {
      "cell_type": "code",
      "metadata": {
        "id": "geVwSRPa5yNF"
      },
      "source": [
        "print(str(contador))\n",
        "procedimiento()\n",
        "procedimiento()\n",
        "procedimiento()\n",
        "print(str(contador))"
      ],
      "execution_count": null,
      "outputs": []
    },
    {
      "cell_type": "markdown",
      "metadata": {
        "id": "AxnOhar7xmjk"
      },
      "source": [
        "## Ejemplo: Implementar una agenda AI2E con memoria con las siguientes operaciones\n",
        "\n",
        "En nuestro ejemplo de abreviaciones y significados (la aplicación AI2E de la clase pasada), cada vez que necesitamos consultar o modificar la agenda debemos pasarla como parámetro o recibirla de vuelta. \n",
        "\n",
        "1. Siempre debemos poner como segundo parámetro la variable agenda. Por ejemplo:\n",
        "```python\n",
        "print(\"El significado de uwu es\", buscar(\"uwu\", agenda))\n",
        "```\n",
        "2. Además, cuando cambiamos algo en la agenda, la función produce *otra agenda* nueva que *debemos guardar en una nueva variable*. Por ejemplo:\n",
        "```python\n",
        "agenda = cambiar(\"uwu\",\"lindo\",agenda)\n",
        "```\n",
        "Fijarse que sobre-escribimos la variable ``agenda`` con lo que retorna la función cambiar.\n",
        "\n",
        "## Agenda AI2C con Memoria \n",
        "\n",
        "Dado que tenemos siempre una sola agenda con las abreviaciones, nos gustaría poder consultarla y cambiarla sin estar incluyendo en parámetro agenda todas las veces. \n",
        "\n",
        "- Nos gustaría, por ejemplo, consultarla sin indicar qué agenda estamos usando:\n",
        "```python\n",
        "print(\"El significado de uwu es\", buscar(\"uwu\"))\n",
        "```\n",
        "\n",
        "- Y si ahora cambiamos el significado de \"uwu\" a \"lindo\", \n",
        "```python\n",
        "cambiar(\"uwu\",\"lindo\") \n",
        "```\n",
        "\n",
        "- Pero, al volver a consultarla, debiera \"acordarse\" del cambio:\n",
        "```python\n",
        "print(\"El nuevo significado de uwu es\", buscar(\"uwu\"))\n",
        "```\n",
        "debiera mostrar \n",
        "```python \n",
        "El nuevo significado de uwu es lindo\n",
        "```\n",
        "\n"
      ]
    },
    {
      "cell_type": "markdown",
      "metadata": {
        "id": "sRMGDTnFxGf4"
      },
      "source": [
        "\n",
        "```python\n",
        "# registro: abrev(str) sig(str)\n",
        "estructura.crear(\"registro\", \"abrev sig\")\n",
        "\n",
        "# buscar: str -> str\n",
        "# devuelve significado de una abreviacion en agenda (o None si no está)\n",
        "\n",
        "# agregar: str str -> None\n",
        "# efecto: agrega registro con abreviacion y significado a la agenda\n",
        "\n",
        "# borrar: str -> None\n",
        "# efecto: borra de la agenda el registro con la abreviacion indicada\n",
        "\n",
        "```\n"
      ]
    },
    {
      "cell_type": "markdown",
      "metadata": {
        "id": "mxjdsh7C7rGB"
      },
      "source": [
        "Debemos decidir qué estructura utilizaremos como memoria para nuestra agenda\n",
        "  - Usaremos una **lista de registros** \n",
        "\n",
        "Nota: por simplicidad, la lista no estará ordenada."
      ]
    },
    {
      "cell_type": "code",
      "metadata": {
        "id": "OVxQS5vIxY9l"
      },
      "source": [
        "from lista import *\n",
        "\n",
        "# registro: abrev(str) sig(str)\n",
        "estructura.crear(\"registro\", \"abrev sig\")\n",
        "\n",
        "# Variable de estado\n",
        "agendaAbreviaciones = listaVacia\n"
      ],
      "execution_count": null,
      "outputs": []
    },
    {
      "cell_type": "code",
      "metadata": {
        "id": "g2xwWQJXxm5N"
      },
      "source": [
        "# buscar: str -> str\n",
        "# devuelve significado de una abreviacion en agenda (o None si no está)\n",
        "def buscar(abr):\n",
        "    global agendaAbreviaciones\n",
        "    return buscarRec(abr, agendaAbreviaciones)\n",
        "\n",
        "# buscarRec: str lista(registro) -> str\n",
        "# devuelve significado de una abreviacion en agenda global (o None si no está)\n",
        "def buscarRec(abr, unaLista):\n",
        "    if vacia(unaLista):\n",
        "        return None\n",
        "    elif cabeza(unaLista).abrev == abr:\n",
        "        return cabeza(unaLista).sig\n",
        "    else:\n",
        "        return buscarRec(abr, cola(unaLista))"
      ],
      "execution_count": null,
      "outputs": []
    },
    {
      "cell_type": "code",
      "metadata": {
        "id": "_9anjFZh0-fH"
      },
      "source": [
        "# Ejemplo de uso\n",
        "significado = buscar(\"uwu\")\n",
        "if significado == None:\n",
        "  print(\"uwu no está\")\n",
        "else:\n",
        "  print(\"uwu significa\",significado)"
      ],
      "execution_count": null,
      "outputs": []
    },
    {
      "cell_type": "code",
      "metadata": {
        "id": "gCyP2xKuyajJ"
      },
      "source": [
        "# agregar: str str -> None\n",
        "# efecto: agrega un nuevo registro con abreviacion y significado \n",
        "#         al comienzo de la (variable glogal) lista agendaAbreviaciones\n",
        "def agregar(abr,sig):\n",
        "\tglobal agendaAbreviaciones\n",
        "\tagendaAbreviaciones = lista(registro(abr,sig), agendaAbreviaciones)\n"
      ],
      "execution_count": null,
      "outputs": []
    },
    {
      "cell_type": "code",
      "metadata": {
        "id": "DnvhtTimvJlG"
      },
      "source": [
        "agregar(\"uwu\",\"lindo\")\n",
        "print(buscar(\"uwu\"))\n",
        "\n"
      ],
      "execution_count": null,
      "outputs": []
    },
    {
      "cell_type": "code",
      "metadata": {
        "id": "PeGUKn5MD7z3"
      },
      "source": [
        "print(buscar(\"bff\"))\n",
        "agregar(\"bff\",\"mejor amigx\")\n",
        "print(buscar(\"bff\"))"
      ],
      "execution_count": null,
      "outputs": []
    },
    {
      "cell_type": "markdown",
      "metadata": {
        "id": "R_drFbs82i-L"
      },
      "source": [
        "**Propuesto**: escribir la función `borrar()`"
      ]
    },
    {
      "cell_type": "markdown",
      "metadata": {
        "id": "ALGUlUP_1If8"
      },
      "source": [
        "##¿Cómo hacer testing?\n",
        "\n",
        "- Definir un estado conocido a la(s) variable(s) de estado\n",
        "- Invocar las funciones que se están probando y comprobar que, para el estado definido, devuelven la respuesta correcta y/o modifican la variable de estado en la forma esperada\n",
        "\n",
        "Testing para funciones buscar y agregar:"
      ]
    },
    {
      "cell_type": "code",
      "metadata": {
        "id": "Xw_85dG71Cf8"
      },
      "source": [
        "# Variable de estado\n",
        "agendaAbreviaciones = listaVacia\n",
        "\n",
        "# Test de todas las funciones, inicialmente agendaAbreviaciones == listaVacia\n",
        "\n",
        "agregar(\"uwu\", \"tierno\")\n",
        "agregar(\"bff\", \"mejor amigx\")\n",
        "\n",
        "assert buscar(\"uwu\") == \"tierno\"\n",
        "assert buscar(\"bff\") == \"mejor amigx\"\n",
        "assert buscar(\"afk\") == None\n",
        "\n",
        "agregar(\"afk\", \"lejos del teclado\")\n",
        "agregar(\"rofl\", \"riendome\")\n",
        "\n",
        "assert buscar(\"afk\") == \"lejos del teclado\"\n",
        "assert buscar(\"rofl\") == \"riendome\"\n",
        "\n"
      ],
      "execution_count": null,
      "outputs": []
    },
    {
      "cell_type": "markdown",
      "metadata": {
        "id": "ymthwwF_2ZWt"
      },
      "source": [
        "## Estructuras de datos mutables\n",
        "\n",
        "Las estructuras de datos (datos compuestos) que hemos usado hasta ahora **no son mutables**\n",
        "\n",
        "- Los valores de los campos de la estructura no se pueden modificar\n",
        "\n",
        "<mark>**Ahora veremos como definir estructuras mutables con el modulo estructura**</mark>\n"
      ]
    },
    {
      "cell_type": "code",
      "metadata": {
        "id": "5ZtXWqlJtGSB"
      },
      "source": [
        "import estructura\n",
        "\n",
        "estructura.crear(\"deportista\", \"nombre deporte\") # estructura NO mutable\n",
        "\n",
        "p = deportista(\"Michael Jordan\", \"basquetbol\")\n",
        "print(p.deporte) \n"
      ],
      "execution_count": null,
      "outputs": []
    },
    {
      "cell_type": "code",
      "metadata": {
        "id": "TeCXhT3Z23gG"
      },
      "source": [
        "p.deporte = \"beisbol\""
      ],
      "execution_count": null,
      "outputs": []
    },
    {
      "cell_type": "code",
      "metadata": {
        "id": "xtoB87_Q3Dy7"
      },
      "source": [
        "estructura.mutable(\"deportista\", \"nombre deporte\") # estructura mutable\n",
        "\n",
        "p = deportista(\"Michael Jordan\", \"basquetbol\")\n",
        "print(p.deporte)  \n"
      ],
      "execution_count": null,
      "outputs": []
    },
    {
      "cell_type": "code",
      "metadata": {
        "id": "TF-IVlfn6WdT"
      },
      "source": [
        "p.deporte = \"beisbol\"\n",
        "print(p.deporte) "
      ],
      "execution_count": null,
      "outputs": []
    },
    {
      "cell_type": "markdown",
      "metadata": {
        "id": "FTQjbSGX7_33"
      },
      "source": [
        "## Aliasing\n"
      ]
    },
    {
      "cell_type": "code",
      "metadata": {
        "id": "6T_-rPkK8YgA"
      },
      "source": [
        "import estructura\n",
        "estructura.mutable(\"cliente\", \"nombre saldo\")\n",
        "juan = cliente(\"Juan\", 1000)\n",
        "pedro = juan\n",
        "print(\"El saldo de Juan es\", juan.saldo)\n",
        "\n",
        "# Modificamos el nombre y saldo de Pedro\n",
        "pedro.nombre = \"Pedro\"\n",
        "pedro.saldo = 0\n",
        "\n",
        "print(\"El saldo de Juan es\", juan.saldo)\n"
      ],
      "execution_count": null,
      "outputs": []
    },
    {
      "cell_type": "markdown",
      "metadata": {
        "id": "rcz6okfbDbrF"
      },
      "source": [
        "## Aliasing: Por qué ocurre y cómo prevenirlo\n",
        "\n",
        "### Datos Básicos\n",
        "\n",
        "- Los tipos de <mark>datos básicos (`int, float, bool, str`) se pasan por **valor**</mark>\n",
        "- Esto significa que el valor es \"copiado\" al guardarse en otra variable"
      ]
    },
    {
      "cell_type": "code",
      "metadata": {
        "id": "0W3OVPHmDq_F"
      },
      "source": [
        "numero=1\n",
        "otroNumero=numero\n",
        "numero=2"
      ],
      "execution_count": null,
      "outputs": []
    },
    {
      "cell_type": "code",
      "metadata": {
        "id": "FMDN3mnZD3IN"
      },
      "source": [
        "numero"
      ],
      "execution_count": null,
      "outputs": []
    },
    {
      "cell_type": "code",
      "metadata": {
        "id": "zsZtPd4_D6vB"
      },
      "source": [
        "otroNumero"
      ],
      "execution_count": null,
      "outputs": []
    },
    {
      "cell_type": "markdown",
      "metadata": {
        "id": "UbuPmuCLEJh-"
      },
      "source": [
        "### Datos Compuestos\n",
        "\n",
        "- Los tipos de <mark> datos compuestos **NO se copian**, se pasan por **referencia**</mark>\n",
        "- Esto significa que un dato compuesto es una estructura almacenada memoria\n",
        "- La variable asociada a la estructura es solo una referencia (identificador o dirección) de donde se encuentra el dato en memoria (permite accederlo)\n",
        "- <mark> Al asignar una variable que contiene una referencia sólo se está haciendo una copia de la referencia y no del dato mismo (es como copiar la dirección de una casa, y no la casa misma) </mark>\n",
        "- Esto es denominado **ALIASING** \n",
        "\n",
        "En general NO es problema cuando usamos estructuras NO mutables. De hecho, ya lo hemos usado así.\n",
        "\n",
        "<mark>El problema ocurre al usar estructuras MUTABLES.</mark>"
      ]
    },
    {
      "cell_type": "code",
      "metadata": {
        "id": "NtgIgIJLEf2k"
      },
      "source": [
        "import estructura\n",
        "estructura.mutable(\"cliente\", \"nombre saldo\")\n",
        "juan = cliente(\"Juan\", 1000)\n",
        "alias = juan\n",
        "juan.saldo = 0"
      ],
      "execution_count": null,
      "outputs": []
    },
    {
      "cell_type": "code",
      "metadata": {
        "id": "8WiK46jkE63O"
      },
      "source": [
        "print(juan.saldo)"
      ],
      "execution_count": null,
      "outputs": []
    },
    {
      "cell_type": "code",
      "metadata": {
        "id": "Y41zqIM0E9KA"
      },
      "source": [
        "print(alias.saldo)"
      ],
      "execution_count": null,
      "outputs": []
    },
    {
      "cell_type": "markdown",
      "metadata": {
        "id": "Zs81uY8oLEWu"
      },
      "source": [
        "A partir de ahora llamaremos **referencias** a los identificadores de datos compuestos\n",
        "- La referencia nos permite acceder a los atributos del dato compuesto\n",
        "- Intuitivamente: la referencia es una flecha que apunta al dato compuesto\n",
        "\n",
        "Podemos tener dos referencias al mismo dato compuesto\n",
        "- La segunda referencia es un alias de la primera"
      ]
    },
    {
      "cell_type": "markdown",
      "metadata": {
        "id": "8DTlyVvo3gOS"
      },
      "source": [
        "### Un ejemplo no-trivial de mutación:\n",
        "\n",
        "Poder usar estructuras mutables es muy útil, pero es fuente potencial de diversos errores."
      ]
    },
    {
      "cell_type": "code",
      "metadata": {
        "id": "JBYC5C8j3pxF"
      },
      "source": [
        "from lista import *\n",
        "\n",
        "estructura.mutable(\"deportista\", \"nombre deporte\")\n",
        "\n",
        "q = lista(deportista(\"Michael Jordan\", \"basquetbol\"), None)\n",
        "\n",
        "r = lista(q.valor, lista(q.valor.deporte, None))\n",
        "\n",
        "q.valor.deporte = \"beisbol\"\n",
        "\n",
        "print(r.valor.deporte) # que debe mostrar?\n",
        "\n",
        "print(r.siguiente.valor)\n"
      ],
      "execution_count": null,
      "outputs": []
    },
    {
      "cell_type": "markdown",
      "metadata": {
        "id": "5gQNVVclhFxY"
      },
      "source": [
        "### ¿Copiar sin Aliasing?\n",
        "\n",
        "Si queremos copiar estructuras en forma efectiva debemos poner esfuerzo en crear una nueva estructura. A esto se le llama *copia efectiva*. "
      ]
    },
    {
      "cell_type": "code",
      "metadata": {
        "id": "KqPed41ohFxZ"
      },
      "source": [
        "juan=cliente(\"Juan\",1000)\n",
        "juan2=cliente(juan.nombre,juan.saldo) #nuevo cliente\n",
        "\n",
        "print(\"Nombre:\", juan.nombre)\n",
        "print(\"Saldo:\", juan.saldo)\n",
        "\n",
        "juan.saldo = 0\n",
        "\n",
        "print(\"Nombre:\", juan2.nombre)\n",
        "print(\"Saldo:\", juan2.saldo)\n"
      ],
      "execution_count": null,
      "outputs": []
    }
  ]
}