{
  "nbformat": 4,
  "nbformat_minor": 0,
  "metadata": {
    "colab": {
      "name": "PautaAuxiliar8_Notebook.ipynb",
      "provenance": [],
      "collapsed_sections": [],
      "toc_visible": true,
      "include_colab_link": true
    },
    "kernelspec": {
      "name": "python3",
      "display_name": "Python 3"
    }
  },
  "cells": [
    {
      "cell_type": "markdown",
      "metadata": {
        "id": "view-in-github",
        "colab_type": "text"
      },
      "source": [
        "<a href=\"https://colab.research.google.com/github/bpoblete/CC1002/blob/master/Auxiliares/Auxiliar8/PautaAuxiliar8_Notebook.ipynb\" target=\"_parent\"><img src=\"https://colab.research.google.com/assets/colab-badge.svg\" alt=\"Open In Colab\"/></a>"
      ]
    },
    {
      "cell_type": "markdown",
      "metadata": {
        "id": "Xw80lrPrXxcl"
      },
      "source": [
        "#Auxiliar 8 - Mutación y Aliasing "
      ]
    },
    {
      "cell_type": "markdown",
      "metadata": {
        "id": "DaVzoP5-UqM_"
      },
      "source": [
        "### P1. ONU\n",
        "La ONU requiere su ayuda manteniendo un registro actualizado de los mandatarios de todos los países del mundo. Para esto desarrollaremos una función que permita cambiar el nombre del presidente de un país.\n",
        "\n"
      ]
    },
    {
      "cell_type": "markdown",
      "metadata": {
        "id": "UjQpNiTMpiis"
      },
      "source": [
        "### A)\n",
        "Cree la estructura **no mutable** llamada 'Pais' que tenga los atributos nombre, continente y presidente_actual."
      ]
    },
    {
      "cell_type": "code",
      "metadata": {
        "id": "8sad90iaU1hs"
      },
      "source": [
        "import estructura\n",
        "# Pais: nombre(str) continente(str) nombre_presidente(str)\n",
        "estructura.crear(\"Pais\", \"nombre continente nombre_presidente\")"
      ],
      "execution_count": null,
      "outputs": []
    },
    {
      "cell_type": "markdown",
      "metadata": {
        "id": "rUDsVmeGVdtJ"
      },
      "source": [
        "### B)\n",
        "Cree la estructura **mutable** PaisMut con los atributos nombre, continente y presidente_actual."
      ]
    },
    {
      "cell_type": "code",
      "metadata": {
        "id": "oHEfwt4aVoyO"
      },
      "source": [
        "# PaisMut: nombre(string) continente(string) nombre_presidente(str)\n",
        "estructura.mutable(\"PaisMut\", \"nombre continente nombre_presidente\")"
      ],
      "execution_count": null,
      "outputs": []
    },
    {
      "cell_type": "markdown",
      "metadata": {
        "id": "R0ZWfq0CV6Gv"
      },
      "source": [
        "### C)\n",
        "Defina la función cambioDeMando, que recibe un **Pais** y el nombre de un presidente, y retorne un Pais con el nuevo nombre del presidente."
      ]
    },
    {
      "cell_type": "code",
      "metadata": {
        "id": "id8S2JYyWCry"
      },
      "source": [
        "#cambioDeMando: Pais, str -> Pais\n",
        "#Recibe un Pais (pais) y el nombre del nuevo presidente (n), \n",
        "# y retorna un Pais que cambia el nombre del presidente de pais por el dado como parametro n.\n",
        "#Ej: cambioDeMando(Pais(\"EEUU\", \"America\", \"Donald Trump \"), \"Joe Biden\") entrega Pais(\"EEUU\", \"America\", \"Joe Biden\")\n",
        "def cambioDeMando(pais, n):\n",
        "  return Pais(pais.nombre, pais.continente, n)\n",
        "#test\n",
        "assert cambioDeMando(Pais(\"EEUU\", \"America\", \"Donald Trump \"), \"Joe Biden\") == (\"EEUU\", \"America\", \"Joe Biden\")"
      ],
      "execution_count": null,
      "outputs": []
    },
    {
      "cell_type": "markdown",
      "metadata": {
        "id": "k4UK7EIeWDoj"
      },
      "source": [
        "### D)\n",
        "Defina la función cambioDeMandoMut, que recibe un **PaisMut** y el nombre de un presidente y actualiza el nombre del presidente de PaisMut en cuestión. Esta función debe retornar None."
      ]
    },
    {
      "cell_type": "code",
      "metadata": {
        "id": "3HxandckcQb7"
      },
      "source": [
        "#cambioDeMandoMut: PaisMut, str -> None\n",
        "#efecto: Cambia el atributo nombre_presidente de pais por n\n",
        "#Ej: cambioDeMandoMut(Pais(\"EEUU\", \"America\", \"Donald Trump \"), \"Joe Biden\") muta pais a Pais(\"EEUU\", \"America\", \"Joe Biden\")\n",
        "def cambioDeMandoMut(pais, n):\n",
        "  pais.nombre_presidente = n\n",
        "\n",
        "#test\n",
        "pais = PaisMut(\"EEUU\", \"America\", \"Donald Trump \")\n",
        "cambioDeMandoMut(pais,\"Joe Biden\")\n",
        "assert pais == PaisMut(\"EEUU\", \"America\", \"Joe Biden\")"
      ],
      "execution_count": null,
      "outputs": []
    },
    {
      "cell_type": "markdown",
      "metadata": {
        "id": "zjdjFuc42qNx"
      },
      "source": [
        "### P2. Convivencia\n",
        "Cuando acabe la pandemia organizaremos una convivencia del curso. Para esto crearemos un programa que nos permita llevar un registro de los participantes y las cosas que traerá cada uno.\n",
        "\n",
        "Para resolver el ejercicio, utilice la funcion buscar y las estructuras mutables lista, producto y participante definidas a continuación. "
      ]
    },
    {
      "cell_type": "code",
      "metadata": {
        "id": "bp24AoWVkxRd"
      },
      "source": [
        "import estructura\n",
        "\n",
        "# participante: nombre(str) confirmacion(str) nombre_producto(str)\n",
        "estructura.mutable('participante', 'nombre confirmacion nombre_producto')\n",
        "# producto: nombre(str) cantidad(int)\n",
        "estructura.mutable('producto', 'nombre cantidad')\n",
        "# lista: valor(producto o participante) siguiente(lista)\n",
        "estructura.mutable('lista', 'valor siguiente')\n",
        "\n",
        "# buscar: lista(producto o participante ), string -> producto o participante \n",
        "# Recibe una lista de las estructuras producto o participante y un parámetro nombre. \n",
        "# Busca el elemento de la lista cuyo atributo nombre sea igual al parámetro nombre. \n",
        "# Ej: \n",
        "# producto1 = producto(\"chips pop\", 5)\n",
        "# producto2 = producto(\"bebidas\", 0)\n",
        "# L1 = lista(producto1,(lista(producto2, None)))\n",
        "# buscar(L1, \"chips pop\")\n",
        "# assert buscar(L1, \"chips pop\") == producto1\n",
        "\n",
        "# participante1 = participante(\"Camila\", \"no\", None)\n",
        "# participante2= participante(\"José\", \"no\", None)\n",
        "# L2 = lista(participante1,lista(participante2, None))\n",
        "# assert buscar(L2, \"José\") == participante2\n",
        "\n",
        "def buscar(L, nombre, value=None):\n",
        "  if L== None:\n",
        "    return None\n",
        "  if L.valor.nombre==nombre:\n",
        "    value= L.valor\n",
        "    return value\n",
        "  else: \n",
        "    return buscar(L.siguiente, nombre)\n",
        "\n",
        "\n",
        "producto1 = producto(\"chips pop\", 5)\n",
        "producto2 = producto(\"bebidas\", 0)\n",
        "L1 = lista(producto1,(lista(producto2, None)))\n",
        "buscar(L1, \"chips pop\")\n",
        "assert buscar(L1, \"chips pop\") == producto1\n",
        "\n",
        "participante1 = participante(\"Camila\", \"no\", None)\n",
        "participante2= participante(\"José\", \"no\", None)\n",
        "L2 = lista(participante1,lista(participante2, None))\n",
        "assert buscar(L2, \"José\") == participante2\n"
      ],
      "execution_count": null,
      "outputs": []
    },
    {
      "cell_type": "markdown",
      "metadata": {
        "id": "fH2Oy0EhlqZV"
      },
      "source": [
        "### A)\n",
        "Defina e inicialice con None las variables de estado participantes e inventario. \n",
        "La variable participantes será una lista de elementos de tipo participante, y nos permitirá llevar un registro de quienes irán o no a la convivencia. Por otro lado, inventario será una lista de elementos de tipo producto en la que iremos agregando las donanciones de cada participante."
      ]
    },
    {
      "cell_type": "code",
      "metadata": {
        "id": "iKsGn1ful0Lq"
      },
      "source": [
        "# Variables de estado :\n",
        "# participantes: lista(participante) \n",
        "# para guardar a los participantes de la convivencia guardando \n",
        "# su nombre, el estado de su participación y el nombre del producto que traerán\n",
        "\n",
        "# participantes: lista(producto) \n",
        "# para guardar los productos donados a la convivencia\n",
        "# indicando el nombre de estos y la cantidad que se ha recolectado\n",
        "\n",
        "participantes=None\n",
        "inventario=None"
      ],
      "execution_count": null,
      "outputs": []
    },
    {
      "cell_type": "markdown",
      "metadata": {
        "id": "GATCErZul18r"
      },
      "source": [
        "### B)\n",
        "Defina la función editarConfirmacionParticipantes. Esta recibirá el nombre de la persona (nombre) y la decisión de si irá o no a la convivencia (confirmacion). Esta función debe editar el atributo confirmacion de la persona con el nombre dado. Además, si la persona no estaba registrada, se agrega a la lista de participantes con el estado indicado en confirmacion.\n",
        "\n",
        "Esta función no debe retornar nada. Pero debe imprimir el valor anterior y el nuevo de confirmacion. Para el caso en el que se agregue un nuevo participante se debe imprimir el nombre de quien se agregó y el valor actual de su confirmacion.\n",
        "\n",
        "Ejemplos de mensajes:\n",
        "\n",
        "i) Caso en el que existe el participante:\n",
        "\n",
        "\n",
        "```\n",
        "La confirmación cambió, antes era no\n",
        "ahora es sí\n",
        "```\n",
        "\n",
        "ii) Caso en el que se agrega a alguien:\n",
        "\n",
        "```\n",
        "Se agregó a Juanita con confirmación sí\n",
        "```\n",
        "\n",
        "Utilice la función buscar y la variable global participantes. Además asuma que los nombres de los asistentes son únicos. "
      ]
    },
    {
      "cell_type": "code",
      "metadata": {
        "id": "I2WrbvA1l4n2",
        "colab": {
          "base_uri": "https://localhost:8080/"
        },
        "outputId": "4223272b-b13f-4d0a-9551-872430a98715"
      },
      "source": [
        "# editarConfirmacionParticipantes: str, str -> None\n",
        "# efecto: cambia el atributo confirmacion del elemento de la lista participantes cuyo nombre es dado. \n",
        "# Y en el caso en el que nadie tenga el nombre dado, se agrega un nuevo participante al inicio de la lista participantes\n",
        "# con el nombre y la confirmacion dados.\n",
        "\n",
        "def editarConfirmacionParticipantes(nombre, confirmacion):\n",
        "  global participantes\n",
        "  p=buscar(participantes, nombre)\n",
        "  if p!=None:\n",
        "    print(\"La confirmación cambió, antes era \", p.confirmacion )\n",
        "    p.confirmacion=confirmacion\n",
        "    print(\"ahora es \", p.confirmacion )\n",
        "  else:\n",
        "    p=participante(nombre, confirmacion, None)\n",
        "    participantes= lista(p, participantes)\n",
        "    print(\"Se agregó a \", p.nombre, \"con confirmación \", p.confirmacion)\n",
        "#test  (participantes parte en None, al final lo devolveremos al estado original)\n",
        "participantes=None\n",
        "editarConfirmacionParticipantes(\"Ana\", \"sí\")\n",
        "assert participantes==lista(participante(\"Ana\", \"sí\", None), None)\n",
        "editarConfirmacionParticipantes(\"Ana\", \"no\")\n",
        "assert participantes==lista(participante(\"Ana\", \"no\", None), None)\n",
        "participantes=None\n",
        "\n"
      ],
      "execution_count": null,
      "outputs": [
        {
          "output_type": "stream",
          "text": [
            "Se agregó a  Ana con confirmación  sí\n",
            "La confirmación cambió, antes era  sí\n",
            "ahora es  no\n"
          ],
          "name": "stdout"
        }
      ]
    },
    {
      "cell_type": "markdown",
      "metadata": {
        "id": "aoztEBgCl9kf"
      },
      "source": [
        "### C) \n",
        "Defina la función editarInventario. Esta recibirá el nombre de un producto de la lista inventario y un parámetro delta, el que puede ser 1 o -1. En el primer caso indicará que se aumenta en 1 la cantidad de productos y en caso de ser -1 indicará que este se debe disminuir en uno.\n",
        "\n",
        "Si al disminuir los productos se obtiene cero o un valor negativo, no se debe eliminar el producto, basta con que el parametro cantidad sea cero. Por otra parte si el producto no se encuentra se debe agregar a la lista inventario. \n",
        "\n",
        "Esta función no debe retornar nada. Pero debe imprimir el nombre del producto, junto con el valor anterior y el nuevo de cantidad. Para el caso en el que se agregue un nuevo producto se debe imprimir el nombre del producto que se agregó. En el caso de que se disminuyan los productos a 0 se debe indicar el nombre del producto que se acabó. \n",
        "\n",
        "\n",
        "Ejemplos de mensajes:\n",
        "\n",
        "i) Caso en el que existe el producto y este se aumenta:\n",
        "\n",
        "\n",
        "```\n",
        "La cantidad de papas cambió, antes era 1\n",
        "ahora es 2\n",
        "```\n",
        "\n",
        "ii) Caso en el que se agrega un nuevo producto:\n",
        "\n",
        "```\n",
        "Se agregó el producto papas\n",
        "```\n",
        "iii) Caso en el que se acaba un producto:\n",
        "\n",
        "```\n",
        "Ya no quedan papas\n",
        "```\n",
        "\n",
        "Utilice la función buscar y la variable global inventario. Además asuma que los nombres de los productos son únicos. \n",
        "\n",
        "\n"
      ]
    },
    {
      "cell_type": "code",
      "metadata": {
        "id": "sEO9PfcdmCDK",
        "colab": {
          "base_uri": "https://localhost:8080/"
        },
        "outputId": "e6f28524-df55-4358-c6a2-efd1a2a1a13a"
      },
      "source": [
        "# editarInventario: str, int -> None\n",
        "# efecto: cambia en uno el atributo cantidad del elemento de la lista inventario cuyo nombre es dado. \n",
        "# Si al disminuir el parametro cantidad se obtiene cero o un valor negativo, el parametro cantidad se dejará en cero.\n",
        "# Si el producto no se encuentra se debe agregar a la lista inventario con el parametro cantidad en 1. \n",
        "\n",
        "def editarInventario(nombre, delta):\n",
        "  global inventario\n",
        "  p=buscar(inventario, nombre)\n",
        "  if p==None:\n",
        "    p=producto(nombre,1)\n",
        "    inventario=lista(p, inventario)\n",
        "    print(\"Se agregó el producto \", p.nombre)\n",
        "  else:\n",
        "    if p.cantidad+delta<=0:\n",
        "      p.cantidad=0\n",
        "      print(\"Ya no quedan \", p.nombre)\n",
        "    else:\n",
        "      print(\"La cantidad de \", p.nombre  ,\"cambió, antes era \", p.cantidad )\n",
        "      p.cantidad=p.cantidad+delta\n",
        "      print(\"ahora es \", p.cantidad )\n",
        "#test (inventario parte en None, al final lo devolveremos al estado original)\n",
        "inventario=None\n",
        "editarInventario(\"chips pop\", 1)\n",
        "assert inventario==lista(producto(\"chips pop\", 1), None)\n",
        "editarInventario(\"chips pop\", 1)\n",
        "assert inventario==lista(producto(\"chips pop\", 2), None)\n",
        "editarInventario(\"chips pop\", -1)\n",
        "assert inventario==lista(producto(\"chips pop\", 1), None)\n",
        "editarInventario(\"chips pop\", -1)\n",
        "assert inventario==lista(producto(\"chips pop\", 0), None)\n",
        "editarInventario(\"chips pop\", -1)\n",
        "assert inventario==lista(producto(\"chips pop\", 0), None)\n",
        "inventario=None\n"
      ],
      "execution_count": null,
      "outputs": [
        {
          "output_type": "stream",
          "text": [
            "Se agregó el producto  chips pop\n",
            "La cantidad de  chips pop cambió, antes era  1\n",
            "ahora es  2\n",
            "La cantidad de  chips pop cambió, antes era  2\n",
            "ahora es  1\n",
            "Ya no quedan  chips pop\n",
            "Ya no quedan  chips pop\n"
          ],
          "name": "stdout"
        }
      ]
    },
    {
      "cell_type": "markdown",
      "metadata": {
        "id": "Mot1taZ-mEqY"
      },
      "source": [
        "### D)\n",
        "Utilizando las variables globales participantes e inventario y las funciones buscar, editarConfirmacionParticipantes y editarInventario, cree un programa interactivo que siga el siguiente diálogo. \n",
        "\n",
        "En negritas están los mensajes nuevos que debes agregar al usuario, estos sólo son de tipo input. El resto de los mensajes ya deben haber sido programados en las funciones que definimos anteriormente.\n",
        "\n",
        "**¿Salir?** no\n",
        "\n",
        "**¿Cómo te llamas?** María\n",
        "\n",
        "**¿Vendrás a la convivencia?** sí\n",
        "\n",
        "Se agregó a  María con confirmación  sí\n",
        "\n",
        "**¿Qué traerás?** papas\n",
        "\n",
        "Se agregó el producto  papas\n",
        "\n",
        "**¿Salir?** no\n",
        "\n",
        "**¿Cómo te llamas?** Javier\n",
        "\n",
        "**¿Vendrás a la convivencia?** sí\n",
        "\n",
        "Se agregó a  Javier con confirmación  sí\n",
        "\n",
        "**¿Qué traerás?** papas\n",
        "\n",
        "La cantidad de  papas cambió, antes era  1\n",
        "\n",
        "ahora es  2\n",
        "\n",
        "**¿Salir?** no\n",
        "\n",
        "**¿Cómo te llamas?** Pepe\n",
        "\n",
        "**¿Vendrás a la convivencia?** no\n",
        "\n",
        "Se agregó a  Pepe con confirmación  no\n",
        "\n",
        "**¿Salir?** no\n",
        "\n",
        "**¿Cómo te llamas?** María\n",
        "\n",
        "**¿Vendrás a la convivencia?** no\n",
        "\n",
        "La confirmación cambió, antes era  sí\n",
        "\n",
        "ahora es  no\n",
        "\n",
        "La cantidad de  papas cambió, antes era  2\n",
        "\n",
        "ahora es  1\n",
        "\n",
        "**¿Salir?** si\n",
        "\n",
        "\n"
      ]
    },
    {
      "cell_type": "code",
      "metadata": {
        "id": "PDv4D19PxbK5",
        "colab": {
          "base_uri": "https://localhost:8080/"
        },
        "outputId": "88d1675a-d47c-47d4-a778-2b536138060b"
      },
      "source": [
        "# None -> None\n",
        "# efecto: cambia las variables globales participantes e inventario de acuerdo con las respuestas dadas por el usuario.\n",
        "\n",
        "def inscripcion():\n",
        "  resp=input(\"¿Salir? \")\n",
        "  if resp!=\"si\":\n",
        "    global participantes\n",
        "    global inventario\n",
        "    nombre=input(\"¿Cómo te llamas? \")\n",
        "    confirmacion=input(\"¿Vendrás a la convivencia? \")\n",
        "    editarConfirmacionParticipantes(nombre, confirmacion)\n",
        "    persona=buscar(participantes, nombre)\n",
        "    if confirmacion==\"no\":\n",
        "      if persona.nombre_producto!=None: #si la persona se habia comprometido a traer algo debemos actualizar nuestro inventario\n",
        "        editarInventario(persona.nombre_producto, -1)\n",
        "        persona.nombre_producto=None\n",
        "    else:\n",
        "      if persona.nombre_producto==None:\n",
        "        nombre_producto=input(\"¿Qué traerás? \")\n",
        "        editarInventario(nombre_producto, 1)\n",
        "        persona.nombre_producto=nombre_producto\n",
        "    inscripcion()\n",
        "inscripcion()\n",
        "\n"
      ],
      "execution_count": null,
      "outputs": [
        {
          "output_type": "stream",
          "text": [
            "¿Salir? si\n"
          ],
          "name": "stdout"
        }
      ]
    }
  ]
}