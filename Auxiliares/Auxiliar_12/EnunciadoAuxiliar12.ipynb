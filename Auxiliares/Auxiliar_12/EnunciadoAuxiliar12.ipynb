{
  "nbformat": 4,
  "nbformat_minor": 0,
  "metadata": {
    "colab": {
      "name": "EnunciadoAuxiliar12.ipynb",
      "provenance": [],
      "include_colab_link": true
    },
    "kernelspec": {
      "name": "python3",
      "display_name": "Python 3"
    },
    "language_info": {
      "name": "python"
    }
  },
  "cells": [
    {
      "cell_type": "markdown",
      "metadata": {
        "id": "view-in-github",
        "colab_type": "text"
      },
      "source": [
        "<a href=\"https://colab.research.google.com/github/bpoblete/CC1002/blob/master/Auxiliares/Auxiliar_12/EnunciadoAuxiliar12.ipynb\" target=\"_parent\"><img src=\"https://colab.research.google.com/assets/colab-badge.svg\" alt=\"Open In Colab\"/></a>"
      ]
    },
    {
      "cell_type": "markdown",
      "metadata": {
        "id": "bjKT5Uh9g83G"
      },
      "source": [
        "# Auxiliar 12\n",
        "\n",
        "## Archivos y diccionarios\n",
        "\n",
        "#### Auxiliares: Nadia Decar, Nelson Marambio, Albani Olivieri, Monserrat Prado, Lucas Torrealba y Ricardo Valdivia "
      ]
    },
    {
      "cell_type": "markdown",
      "metadata": {
        "id": "H_ZfajrkhR9U"
      },
      "source": [
        "## Pregunta 1: Código secreto (?)\n",
        "\n",
        "Para comunicarnos secretamente con nuestres amigues, vamos a crear un programa que reemplace las letras del alfabeto por otra letra del mismo. Para ello, definimos el siguiente alfabeto y su sustitución:\n"
      ]
    },
    {
      "cell_type": "code",
      "metadata": {
        "id": "cF1VDsdZiZju"
      },
      "source": [
        "alfabeto = \"ABCDEFGHIJKLMNOPQRSTUVWXYZ\"\n",
        "sustitucion = \"QWERTYUIOPASDFGHJKLZXCVBNM\""
      ],
      "execution_count": null,
      "outputs": []
    },
    {
      "cell_type": "markdown",
      "metadata": {
        "id": "wvJIeyN8idMv"
      },
      "source": [
        "Para los valores anteriores, tendremos que la letra A es reemplazada por la letra Q, la B por W, la C por la E y así sucesivamente.\n",
        "\n",
        "Con el fin de cifrar y decifrar nuestros mensajes, seguiremos estos pasos:\n",
        "\n",
        "a) Definir la función crearDiccionario(alfabeto, sustitucion). Esta debe recibir dos strings, uno correspondiente al alfabeto y el otro a la substitución que utilizaremos. Debe devolver un diccionario que contenga todas las letras del alfabeto con sus respectivas sustituciones.\n",
        "\n",
        "Por ejemplo:"
      ]
    },
    {
      "cell_type": "code",
      "metadata": {
        "id": "snO0cIDQg6Wh"
      },
      "source": [
        "crearDiccionario(alfabeto, substitucion) = {'A': 'Q', 'B': 'W', 'C': 'E', 'D': 'R', 'E': 'T', 'F': 'Y', 'G': 'U', 'H': 'I', 'I': 'O', 'J': 'P', 'K': 'A', 'L': 'S', 'M': 'D', 'N': 'F', 'O': 'G', 'P': 'H', 'Q': 'J', 'R': 'K', 'S': 'L', 'T': 'Z', 'U': 'X', 'V': 'C', 'W': 'V', 'X': 'B', 'Y': 'N', 'Z': 'M'}"
      ],
      "execution_count": null,
      "outputs": []
    },
    {
      "cell_type": "markdown",
      "metadata": {
        "id": "RAB_k20KjVa1"
      },
      "source": [
        "b) Programar la función cifrarTexto(dict, mensaje). Esta recibirá un diccionario y un string correspondiente al mensaje que queremos cifrar. La función deberá devolver el mensaje cifrado a partir del diccionario que recibió. Además, si alguna de las letras del mensaje no se encuentra en el diccionario, deberá agregarlas sin sustituir su valor.\n",
        "\n",
        "Por ejemplo:"
      ]
    },
    {
      "cell_type": "code",
      "metadata": {
        "id": "CMwPF9O6j5Xf"
      },
      "source": [
        "cifrarTexto(sustitucion, \"HOLA UWU\") = \"IGSQ XVX\""
      ],
      "execution_count": null,
      "outputs": []
    },
    {
      "cell_type": "markdown",
      "metadata": {
        "id": "5rQsANlekKcB"
      },
      "source": [
        "Notar que, además, en este caso, también deberíamos agregar \" \" al diccionario."
      ]
    },
    {
      "cell_type": "code",
      "metadata": {
        "id": "sluT4zkwkJSa"
      },
      "source": [
        "# receta de diseño\n",
        "def crearDiccionario(alfabeto, substitucion):\n",
        "  return\n",
        "\n",
        "# Tests\n",
        "\n",
        "# receta de diseño\n",
        "def cifrarTexto(diccionario, texto):\n",
        "  return\n",
        "\n",
        "# Tests"
      ],
      "execution_count": null,
      "outputs": []
    },
    {
      "cell_type": "markdown",
      "metadata": {
        "id": "9_p1z1b7YWph"
      },
      "source": [
        "## Pregunta 2 - Notas\n",
        "\n",
        "Suponga un universo donde ya se terminó el semestre, por lo que en un curso se tienen que sacar los promedios de cada estudiante. Como saben que usted es bacán y puede programar, le asignan la tarea. \n",
        "\n",
        "Para esto, le entregan un archivo notas.txt, el cual contiene una lista con los nombres de les estudiantes y sus respectivas notas. Cada línea del archivo corresponde a une alumne, donde primero se tiene el nombre, seguido por sus notas, separando cada valor con una coma.\n",
        "\n",
        "Para resolver el problema, programe la función promedio la cual, a partir del archivo notas.txt, genera un nuevo archivo llamado promedio_notas.txt. Este archivo contiene los nombres y el promedio de notas de cada alumno.\n",
        "\n",
        "Puede asumir que los datos serán entregados en un formato correcto."
      ]
    },
    {
      "cell_type": "code",
      "metadata": {
        "id": "JmhVC_2hZ0on"
      },
      "source": [
        "# receta de diseño\n",
        "def promedio():\n",
        "    return"
      ],
      "execution_count": null,
      "outputs": []
    },
    {
      "cell_type": "markdown",
      "metadata": {
        "id": "iJk8p2DwTLTH"
      },
      "source": [
        "## Pregunta 3 - Encuesta presidencial\n",
        "\n",
        "Dentro de poco se harán elecciones presidenciales y a usted se le encomienda la tarea de procesar los datos de la \u0013ultima encuesta SEP. Los datos est\u0013án separados en dos archivos: intencionDeVoto.txt y quienQuiereQueGane.txt. Ambos archivos tienen el mismo formato, donde cada l\u0013\u0010ínea tiene el RUT de la persona encuestada y un n\u0013úmero, el cual es el identifi\fcador del candidato por el cual la persona respondi\u0013ó. En la elecci\u0013ón compiten tres candidatos, con las siguiente IDs:\n",
        "\n",
        "* Candidata de izquierda, opci\u0013on 1\n",
        "* Candidato de centro izquierda, opci\u0013on 2\n",
        "* Candidato con problemas judiciales, id 3\n",
        "\n",
        "Se le pide programar las siguientes funciones:\n",
        "\n",
        "a) fueEncuestado(rut) que, dado un RUT, retorne True si la persona fue encuestada, False en caso contrario (puede asumir que ambos archivos contienen los mismos RUTs).\n",
        "\n",
        "b) frecuencias(archivo) que, dado un nombre de archivo, lea ese archivo y entregue un diccionario con la cantidad de veces que aparece cada candidato (las llaves ser\u0013án las ids de los candidatos, y los valores ser\u0013án la cantidad de apariciones correspondientes).\n",
        "\n",
        "c) intencionDeVoto(), que entregue el id del candidato con mayor probabilidad de ganar la elecci\u0013ón, de acuerdo a la encuesta.\n",
        "\n",
        "d) quienQuiereQueGane(), que entregue el id del candidato que la gente indica como aquel que prefi\feren que gane la elecci\u0013ón según la encuesta.\n",
        "\n",
        "Suponga ahora que en el país se tiene un sistema judicial que funciona y, debido a sus problemas con la justicia, el candidato 3 abandona la carrera presidencial. Por ello: cree dos archivos nuevos: intencionDeVoto-v2.txt y quienQuiereQueGane-v2.txt, que sean igual a los archivos anteriores, s\u0013ólo que sin las l\u0013\u0010íneas donde aparezc\u0013\u0010a el candidato 3."
      ]
    },
    {
      "cell_type": "code",
      "metadata": {
        "id": "lyJErIxvLlEX"
      },
      "source": [
        "# receta de diseño\n",
        "def fueEncuestado(rut):\n",
        "    return\n",
        "\n",
        "# Tests\n",
        "\n",
        "# receta de diseño\n",
        "def frecuencias(nombreArchivo):\n",
        "    return\n",
        "\n",
        "# receta de diseño\n",
        "def intencionDeVoto():\n",
        "    return\n",
        "\n",
        "# Tests\n",
        "\n",
        "# receta de diseño\n",
        "def quienCreeQueGane():\n",
        "    return\n",
        "\n",
        "# Test\n",
        "\n",
        "# y aquí es donde deberían crear los archivos intencionDeVoto-v2.txt y quienQuiereQueGane-v2.txt"
      ],
      "execution_count": null,
      "outputs": []
    }
  ]
}