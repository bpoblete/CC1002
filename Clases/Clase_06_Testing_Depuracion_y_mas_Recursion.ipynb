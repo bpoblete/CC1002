{
  "nbformat": 4,
  "nbformat_minor": 0,
  "metadata": {
    "kernelspec": {
      "name": "python3",
      "display_name": "Python 3"
    },
    "colab": {
      "name": "Clase_06_Testing_Depuracion_y_mas_Recursion_2.ipynb",
      "provenance": [],
      "collapsed_sections": [],
      "include_colab_link": true
    }
  },
  "cells": [
    {
      "cell_type": "markdown",
      "metadata": {
        "id": "view-in-github",
        "colab_type": "text"
      },
      "source": [
        "<a href=\"https://colab.research.google.com/github/bpoblete/CC1002/blob/master/Clases/Clase_06_Testing_Depuracion_y_mas_Recursion.ipynb\" target=\"_parent\"><img src=\"https://colab.research.google.com/assets/colab-badge.svg\" alt=\"Open In Colab\"/></a>"
      ]
    },
    {
      "cell_type": "markdown",
      "metadata": {
        "id": "MU8Q381_mDTg"
      },
      "source": [
        "***\n",
        "\n",
        "\n",
        "\n",
        "# Clase 6: Testing, Depuración y más Recursión\n",
        "\n",
        "\n",
        "## Testing\n",
        "\n",
        "Son acciones que permiten probar la funcionalidad de alguna parte de programa.\n",
        "\n",
        "**Depuración**: es el proceso de detectar y corregir errores en un programa como errores de sintaxis, de nombre, de tipo, etc., y errores lógicos.\n",
        "\n",
        "**Errores lógicos**: son aquellos que causan que nuestro programa no calcule lo deseado. \n",
        "\n",
        "### Testing de funciones\n",
        "\n",
        "**Aspectos generales:**\n",
        "\n",
        "- La función debe cumplir con el contrato estipulado en la receta de diseño\n",
        "  - Parámetros\n",
        "  - Tipo de dato de retorno\n",
        "  - Los tests de la función deben abarcar suficientes casos para verificar que la función está correctamente programada\n",
        "\n",
        "- Buen testing para funciones condicionales debe incluir tests para:\n",
        "  - Todos los casos de borde.\n",
        "  - Al menos un test por cada caso representativo.\n",
        "\n",
        "\n",
        "\n",
        "## Características de las funciones recursivas\n",
        "\n",
        "Es una función que se define en términos de sí misma es una **_función recursiva_**. Estas funciones siempre deben tener:\n",
        "\n",
        "- un caso base\n",
        "- un caso recursivo\n",
        "- cada llamada debe disminuir el tamaño del problema (converger al caso base)\n",
        "\n",
        "\n",
        "## Ejemplos:\n",
        "\n",
        "\n",
        "### Problema 1: Suma de progresión aritmética\n",
        "\n",
        "\\begin{equation}\n",
        "\\sum_{i=x}^{y} i = x + (x+1)+\\ldots+y\n",
        "\\end{equation}\n",
        "\n",
        "\n",
        "Ejemplo:\n",
        "\n",
        "\\begin{equation}\n",
        "\\sum_{i=3}^{5} i = 3+4+5 =12\n",
        "\\end{equation}\n",
        "\n"
      ]
    },
    {
      "cell_type": "code",
      "metadata": {
        "id": "7yN3trWkmDTh"
      },
      "source": [
        "#suma: int int -> int\n",
        "#Calcula x + (x+1) + ... + y\n",
        "#ej: suma(3,5) debe ser 12\n",
        "def suma(x,y):\n",
        "    assert (type(x)==int) and (type(y)==int) \n",
        "    if x>y: \n",
        "        return 0\n",
        "    else:\n",
        "        return suma(x,y-1) + y \n",
        "\n",
        "assert suma(3,5)==12 #caso general \n",
        "assert suma(3,3)==3  #caso especial \n",
        "assert suma(5,3)==0  #caso base"
      ],
      "execution_count": null,
      "outputs": []
    },
    {
      "cell_type": "markdown",
      "metadata": {
        "id": "hAI612v3mDTj"
      },
      "source": [
        "\n",
        "\n",
        "### Problema 2: Números de Fibonacci\n",
        "\n",
        "\\begin{equation*}\n",
        "    f(n) = \\begin{cases}\n",
        "               0               & n = 0\\\\\n",
        "               1               & n = 1\\\\\n",
        "               f(n-1) + f(n-2) & n > 1\n",
        "           \\end{cases}\n",
        "\\end{equation*}\n",
        "\n",
        "Ejemplo: \n",
        "\n",
        "$\\{0, 1, 1 , 2, 3, 5, 8, 13\\} \\Rightarrow f(7) = 13$\n",
        "\n"
      ]
    },
    {
      "cell_type": "code",
      "metadata": {
        "id": "muUG93M4mDTk"
      },
      "source": [
        "# fibonacci: int -> int\n",
        "# calcula el n-esimo numero de la sucession de Fibonacci\n",
        "# ejemplo: fibonacci(7) debe dar 13\n",
        "def fibonacci(n):\n",
        "    assert type(n)==int and n>=0\n",
        "    if n<2:\n",
        "        # caso base\n",
        "        return n\n",
        "    else:\n",
        "        # caso recursivo\n",
        "        return fibonacci(n-1) + fibonacci(n-2)\n",
        "\n",
        "# test:\n",
        "assert fibonacci(0) == 0\n",
        "assert fibonacci(1) == 1\n",
        "assert fibonacci(2) == 1\n",
        "assert fibonacci(7) == 13"
      ],
      "execution_count": null,
      "outputs": []
    },
    {
      "cell_type": "markdown",
      "metadata": {
        "id": "3Odi3sR7mDTm"
      },
      "source": [
        "\n",
        "\n",
        "### Problema 3: Repetir un string n veces"
      ]
    },
    {
      "cell_type": "code",
      "metadata": {
        "id": "nT6nPJmvmDTn"
      },
      "source": [
        "#repetir: str int -> str\n",
        "#string x repetido n veces\n",
        "#ej: repetir(\"ja\",3) debe ser \"jajaja“\n",
        "def repetir(x,n):\n",
        "    assert type(x)==str and type(n)==int and n>=0 \n",
        "    if n==0: \n",
        "        return \"\"\n",
        "    else:\n",
        "        return x + repetir(x,n-1)\n",
        "\n",
        "assert repetir(\"ja\",3)==\"jajaja\" #caso general\n",
        "assert repetir(\"ja\",0)==\"\"       #caso base\n",
        "assert repetir(\"ja\",1)==\"ja\"     #caso especial"
      ],
      "execution_count": null,
      "outputs": []
    },
    {
      "cell_type": "code",
      "metadata": {
        "id": "DeeUPGfZmDTq"
      },
      "source": [
        "repetir(\"hola\",10)"
      ],
      "execution_count": null,
      "outputs": []
    },
    {
      "cell_type": "markdown",
      "metadata": {
        "id": "u5ndPtFBmDTt"
      },
      "source": [
        "\n",
        "### Problema 4: Cálculo de una distancia (problema de punto flotante)\n",
        "\n",
        "**Leer capítulo 7 en detalle**\n"
      ]
    },
    {
      "cell_type": "code",
      "metadata": {
        "id": "clUy4jvfmDTu"
      },
      "source": [
        "#distancia: num num num num -> float \n",
        "#distancia entre puntos (x0,y0) y (x1,y1) \n",
        "#ej: distancia(1,0,4,0) debe ser 3.0\n",
        "def distancia(x0,y0,x1,y1):\n",
        "    dx = x1 - x0\n",
        "    dy = y1 - y0\n",
        "    return (dx**2 + dy**2)**0.5\n",
        "\n",
        "#Tests\n",
        "assert distancia(1,0,4,0)==3.0\n",
        "\n",
        "#resultado con 4 decimales de precisión \n",
        "assert abs(distancia(0,1,1,0)-1.4142)< 0.0001"
      ],
      "execution_count": null,
      "outputs": []
    },
    {
      "cell_type": "markdown",
      "metadata": {
        "id": "rwuL_ztojeRv"
      },
      "source": [
        ""
      ]
    },
    {
      "cell_type": "code",
      "metadata": {
        "id": "MbJ2WRCSmDTy",
        "colab": {
          "base_uri": "https://localhost:8080/",
          "height": 35
        },
        "outputId": "9e9341d5-a3ad-4853-811f-04e1558cb93c"
      },
      "source": [
        ">>> d1 = distancia(0.1, 0.2, 0.2, 0.1)\n",
        ">>> d1"
      ],
      "execution_count": null,
      "outputs": [
        {
          "output_type": "execute_result",
          "data": {
            "text/plain": [
              "0.14142135623730953"
            ]
          },
          "metadata": {
            "tags": []
          },
          "execution_count": 30
        }
      ]
    },
    {
      "cell_type": "code",
      "metadata": {
        "id": "znLiB68EmDT0",
        "colab": {
          "base_uri": "https://localhost:8080/",
          "height": 35
        },
        "outputId": "f83ff9d3-839b-4695-d6bc-842f285d4657"
      },
      "source": [
        ">>> d2 = distancia(1,2,2,1)\n",
        ">>> d2"
      ],
      "execution_count": null,
      "outputs": [
        {
          "output_type": "execute_result",
          "data": {
            "text/plain": [
              "1.4142135623730951"
            ]
          },
          "metadata": {
            "tags": []
          },
          "execution_count": 32
        }
      ]
    },
    {
      "cell_type": "code",
      "metadata": {
        "id": "ZoqBoru-mDT3",
        "colab": {
          "base_uri": "https://localhost:8080/",
          "height": 35
        },
        "outputId": "8130b34f-2737-47b0-8355-db29a9f645f2"
      },
      "source": [
        ">>> 10*d1 == d2"
      ],
      "execution_count": null,
      "outputs": [
        {
          "output_type": "execute_result",
          "data": {
            "text/plain": [
              "False"
            ]
          },
          "metadata": {
            "tags": []
          },
          "execution_count": 33
        }
      ]
    },
    {
      "cell_type": "markdown",
      "metadata": {
        "id": "2hAvlqnkmDT6"
      },
      "source": [
        "**Se produce un error de redondeo de punto flotante**, para corregirlo debemos definir un parámetro $\\varepsilon$ (epsilon) de tolerancia o cercanía mínima entre dos valores para poder decir que estos son iguales: "
      ]
    },
    {
      "cell_type": "code",
      "metadata": {
        "id": "3RIzmlIvmDT7"
      },
      "source": [
        "# cerca: num num num -> bool\n",
        "# retorna True si x es igual a y con\n",
        "# precision epsilon\n",
        "def cerca(x, y, epsilon):\n",
        "    diff = x - y\n",
        "    return abs(diff) < epsilon"
      ],
      "execution_count": null,
      "outputs": []
    },
    {
      "cell_type": "code",
      "metadata": {
        "id": "Wyb7nj-KmDT-",
        "colab": {
          "base_uri": "https://localhost:8080/",
          "height": 35
        },
        "outputId": "9373dcd2-27c4-4d95-83ef-986fa698883e"
      },
      "source": [
        ">>> cerca(10*d1,d2,0.0001)"
      ],
      "execution_count": null,
      "outputs": [
        {
          "output_type": "execute_result",
          "data": {
            "text/plain": [
              "True"
            ]
          },
          "metadata": {
            "tags": []
          },
          "execution_count": 35
        }
      ]
    },
    {
      "cell_type": "markdown",
      "metadata": {
        "id": "5ciVVEJumDUB"
      },
      "source": [
        "### Problema propuesto: Combinatoria\n",
        "\n",
        "$${x\\choose y} = \\frac{x!}{y!(x-y)!}$$ \n",
        "\n",
        "$${x\\choose y} = {x-1\\choose y} + {x-1 \\choose y-1}$$\n",
        "\n",
        "Caso base:\n",
        "\n",
        "$${x\\choose y} = 1$$\n",
        "si es que $x = y$ ó $y = 0$"
      ]
    },
    {
      "cell_type": "markdown",
      "metadata": {
        "id": "TcXp-MN6SXWG"
      },
      "source": [
        "Hacer función `comb(x,y)` que calcule ${x}\\choose{y}$ incluyendo receta de diseño y tests para varios casos representativos. \n",
        "\n",
        "Puede hacerlo de dos maneras:\n",
        "1. **Sin recursión**: usando la función `factorial(x)` con la primera fórmula.\n",
        "2. **Con recursión**: Sin usar la función factorial, directamente usando la segunda relación ${x\\choose y} = {x-1\\choose y} + {x-1 \\choose y-1}$ y el caso base.\n",
        "\n",
        "De la primera manera es fácil pero no usa recursión. Le recomendamos mucho intentar hacerlo de la segunda manera, usando recursión. :-)"
      ]
    }
  ]
}