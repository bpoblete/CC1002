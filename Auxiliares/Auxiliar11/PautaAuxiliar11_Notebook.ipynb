{
  "nbformat": 4,
  "nbformat_minor": 0,
  "metadata": {
    "colab": {
      "name": "PautaAuxiliar11_Notebook.ipynb",
      "provenance": [],
      "collapsed_sections": [],
      "toc_visible": true,
      "include_colab_link": true
    },
    "kernelspec": {
      "name": "python3",
      "display_name": "Python 3"
    }
  },
  "cells": [
    {
      "cell_type": "markdown",
      "metadata": {
        "id": "view-in-github",
        "colab_type": "text"
      },
      "source": [
        "<a href=\"https://colab.research.google.com/github/bpoblete/CC1002/blob/master/Auxiliares/Auxiliar11/PautaAuxiliar11_Notebook.ipynb\" target=\"_parent\"><img src=\"https://colab.research.google.com/assets/colab-badge.svg\" alt=\"Open In Colab\"/></a>"
      ]
    },
    {
      "cell_type": "markdown",
      "metadata": {
        "id": "Xw80lrPrXxcl"
      },
      "source": [
        "#Auxiliar 11 - Objetos y Clases\n"
      ]
    },
    {
      "cell_type": "markdown",
      "metadata": {
        "id": "DaVzoP5-UqM_"
      },
      "source": [
        "## P1 Amigo secreto\n",
        " Creamos las siguientes clases que nos permitirán modelar el juego amigo secreto.\n",
        "\n",
        "### A)\n",
        " Defina la clase **Persona**. Esta debe tener los campos nombre y regala_a. El primero será un string y el segundo una Persona.\n",
        "\n",
        "\n",
        "\n",
        "\n",
        "\n",
        "\n"
      ]
    },
    {
      "cell_type": "code",
      "metadata": {
        "id": "03C2Le1bAik8"
      },
      "source": [
        "# A\n",
        "# Campos :\n",
        "# nombre : str\n",
        "# regala_a : Persona\n",
        "class Persona():\n",
        "    def __init__(self, nombre = \"\", regala_a=None):\n",
        "        self.nombre = nombre\n",
        "        self.regala_a = regala_a"
      ],
      "execution_count": null,
      "outputs": []
    },
    {
      "cell_type": "markdown",
      "metadata": {
        "id": "ilUFZC5-_wEf"
      },
      "source": [
        "### B)\n",
        " Defina la clase **Regalo**. Esta debe tener los campos nombre y destinatario. El primero será un string y el segundo una Persona."
      ]
    },
    {
      "cell_type": "code",
      "metadata": {
        "id": "2MxLyZKnAc08"
      },
      "source": [
        "# B\n",
        "# Campos :\n",
        "# nombre : str\n",
        "# destinatario : Regalo\n",
        "class Regalo():\n",
        "    def __init__(self, nombre = \"\", destinatario=None):\n",
        "        self.nombre = nombre\n",
        "        self.destinatario = destinatario"
      ],
      "execution_count": null,
      "outputs": []
    },
    {
      "cell_type": "markdown",
      "metadata": {
        "id": "k2AxCGOu_qtD"
      },
      "source": [
        "### C) \n",
        "Defina la clase **Juego**. Esta tendrá los campos participantes y regalos. El primero será una lista de personas y el segundo una lista de regalos.\n",
        "\n",
        "### D)\n",
        "Defina el método sorteo para la clase **Juego**. Este debe devolver una lista que represente a quién le entregará un regalo la persona que tiene la misma posición en la lista participantes.\n",
        "\n",
        "Utilice la función **shuffle del módulo random** de python en su implementación. Además, recuerde que una persona no puede ser amiga secreta de si misma y que todos deben recibir un regalo.\n",
        "\n",
        "### E)\n",
        "Defina el método **asignarAmigos** para la clase Juego. Esta función recibe una lista de personas, que representa a quienes se les hará un regalo a partir de su posición en la lista, es decir, la persona con indice i recibirá un regalo de la persona en la lista de participantes que tenga la posición i. \n",
        "\n",
        "El método deberá setear el valor regala_a para todas las personas de la lista de participantes. Además, para el caso en que las listas tienen un tamaño diferente se debe imprimir un error.\n",
        "\n",
        "### F)\n",
        "Defina el método **entregaRegalos** para la clase Juego. Este debe mostrar en pantalla a todos los participantes, con el regalo que hicieron y a quién se lo entregaron."
      ]
    },
    {
      "cell_type": "code",
      "metadata": {
        "id": "3HxandckcQb7",
        "colab": {
          "base_uri": "https://localhost:8080/"
        },
        "outputId": "366e2c81-14a1-4548-e8fb-fd04b0eab398"
      },
      "source": [
        "import random\n",
        "\n",
        "# C\n",
        "# Campos :\n",
        "# participantes : list(Persona)\n",
        "# regalos : list(Regalo)\n",
        "class Juego():\n",
        "    def __init__(self, participantes = [], regalos = []):\n",
        "        self.participantes = participantes\n",
        "        self.regalos = regalos\n",
        "    \n",
        "    # D\n",
        "    # None -> list(Persona)\n",
        "    # Retorna una lista que representa a quién le entregará un regalo la persona\n",
        "    # que tiene la misma posición en la lista participantes.\n",
        "    def sorteo(self):\n",
        "        copy_list = self.participantes.copy()\n",
        "        while True:\n",
        "            random.shuffle(copy_list)\n",
        "            auto_regalo = False\n",
        "            for indice in range(len(copy_list)):\n",
        "                if copy_list[indice] == self.participantes[indice]:\n",
        "                    auto_regalo = True\n",
        "                    break\n",
        "            if not auto_regalo:\n",
        "                return copy_list\n",
        "    #E\n",
        "    # list(Persona) -> None\n",
        "    # Efecto: Cambia el valor regala_a para todas las personas de la lista de participantes,\n",
        "    # a partir de la lista que se recibe. \n",
        "    # En caso que las listas tengan tamaño difrente se imprime un error y no se cambia la lista.\n",
        "    def asignarAmigos(self, lista_sorteo):\n",
        "        if len(self.participantes) != len(lista_sorteo):\n",
        "            print(\"Listas deben ser del mismo tamaño\")\n",
        "        else:\n",
        "            for i in range(len(lista_sorteo)):\n",
        "                self.participantes[i].regala_a = lista_sorteo[i]\n",
        "\n",
        "    #F\n",
        "    # Imprime en pantalla a todos los participantes junto con el regalo que hicieron y a quiénes se lo entregaron.\n",
        "    def entregaRegalos(self):\n",
        "        for regalo in self.regalos:\n",
        "            destinatario = regalo.destinatario\n",
        "            remitente = None\n",
        "            for partipante in self.participantes:\n",
        "                if(destinatario == partipante.regala_a):\n",
        "                    remitente = partipante\n",
        "                    break\n",
        "            print(remitente.nombre + \" regaló \" + regalo.nombre + \" a \" + destinatario.nombre)\n",
        "\n",
        "### Test\n",
        "p1 = Persona(\"Patana\")\n",
        "p2 = Persona(\"Juanin\")\n",
        "p3 = Persona(\"Tulio\")\n",
        "\n",
        "r1 = Regalo(\"Traje de detective\", p1)\n",
        "r2 = Regalo(\"Cámara\", p2)\n",
        "r3 = Regalo(\"Reloj Relox\", p3)\n",
        "\n",
        "lista_participantes = [p1, p2, p3]\n",
        "regalos = [r1,r2,r3]\n",
        "j = Juego(lista_participantes, regalos)\n",
        "## Test sorteo\n",
        "lista_destinatarios=j.sorteo()\n",
        "participantes1=j.participantes\n",
        "assert p1 in lista_destinatarios and p2 in lista_destinatarios and p3 in lista_destinatarios\n",
        "assert participantes1[0]!=lista_destinatarios[0] and participantes1[1]!=lista_destinatarios[1] and participantes1[2]!=lista_destinatarios[2] \n",
        "\n",
        "## Test asignarAmigos\n",
        "participantes2=j.participantes\n",
        "assert participantes2[0].regala_a == None and participantes2[1].regala_a == None and participantes2[2].regala_a == None\n",
        "nueva_lista_destinatarios=[p3,p1,p2]\n",
        "j.asignarAmigos(nueva_lista_destinatarios)\n",
        "assert participantes2[0].regala_a == p3 and participantes2[1].regala_a == p1 and participantes2[2].regala_a == p2\n",
        "\n",
        "## Correr entregaRegalos\n",
        "j.entregaRegalos()\n"
      ],
      "execution_count": null,
      "outputs": [
        {
          "output_type": "stream",
          "text": [
            "Juanin regaló Traje de detective a Patana\n",
            "Tulio regaló Cámara a Juanin\n",
            "Patana regaló Reloj Relox a Tulio\n"
          ],
          "name": "stdout"
        }
      ]
    },
    {
      "cell_type": "markdown",
      "metadata": {
        "id": "zjdjFuc42qNx"
      },
      "source": [
        "## P2. Polinomios\n",
        "Un polinomio de grado n se puede representar como una lista de n+1 coeficientes. \n",
        "### A)\n",
        "Diseñe una clase **Pol** que permita ser utilizada de la siguiente manera:\n",
        "\n",
        "*Pol([a])* crea el polinomio *a*, *Pol([ b, a])* crea *ax+b*, *Pol([c, b, a])* crea *ax^2+bx+c* y así sucesivamente.\n",
        "\n",
        "### B)\n",
        "Defina la función **p.evaluar(x)**, la cual evalúa el argumento x en el polinomio p.\n",
        "\n",
        "### C)\n",
        "Defina la función **p.toString()**, la que devuelve un string que representa al polinomio p.\n",
        "\n",
        "### D)\n",
        "Defina la función **p1.sumar(p2)**, la cual recibe 2 polinomios y devuelve un polinomio correspondiente a la suma de estos. \n",
        "\n",
        "Para ello, cree y luego utilice la función auxiliar **max_lista**, la cual reciba 2 listas y devuelva la lista que tenga el mayor largo, en caso, de que ambas tengan el mismo largo devuelva cualquiera."
      ]
    },
    {
      "cell_type": "code",
      "metadata": {
        "id": "ptv8o0e1B3PS"
      },
      "source": [
        "# Campos :\n",
        "# coeficientes : lista\n",
        "class Pol():\n",
        "### A)\n",
        "    # Constructor\n",
        "    def __init__(self, coeficientes=[]):\n",
        "        self.coeficientes = coeficientes\n",
        "### B)\n",
        "### num-> num\n",
        "### Evalua x en el polinomio\n",
        "    def evaluar(self, x):\n",
        "        largo = len(self.coeficientes)\n",
        "        resultado = 0\n",
        "        for indice in range(largo):\n",
        "            coeficiente = self.coeficientes[indice]\n",
        "            x_n = x**indice\n",
        "            resultado = resultado+ coeficiente*x_n\n",
        "        return resultado\n",
        "### C)\n",
        "### None -> str\n",
        "### Devuelve un string que representa al polinomio\n",
        "    def toString(self):\n",
        "        largo = len(self.coeficientes)\n",
        "        if largo == 0:\n",
        "            return \"\"\n",
        "        respuesta= str(self.coeficientes[0])\n",
        "        for indice in range(1,largo):\n",
        "            coeficiente = str(self.coeficientes[indice])\n",
        "            if coeficiente != \"0\":\n",
        "                x_n = \"x^\"+ str(indice)\n",
        "                respuesta = coeficiente+x_n +\" + \"+respuesta\n",
        "        return respuesta\n",
        "\n",
        "### D)\n",
        "### Pol -> Pol\n",
        "### Devuelve la suma del polinomio con otro polinomio. \n",
        "    def sumar(self, pol):\n",
        "        min_largo = min(len(self.coeficientes), len(pol.coeficientes))\n",
        "        max_lista_coef = max_lista(self.coeficientes, pol.coeficientes)\n",
        "        coeficientes_sumados = []\n",
        "        for i in range(min_largo):\n",
        "            suma = self.coeficientes[i] + pol.coeficientes[i]\n",
        "            coeficientes_sumados.append(suma)\n",
        "        for i in range(min_largo, len(max_lista_coef)):\n",
        "            coeficientes_sumados.append(max_lista_coef[i])\n",
        "        return Pol(coeficientes_sumados)\n",
        "    \n",
        "    ### max_lista: list list -> list\n",
        "    ### Devuelve la lista que contenga el mayor número de elemntos, \n",
        "    ### y en caso de empate devuelve la segunda lista.\n",
        "    ### Ej: max_lista([1,2,3,4], [1,2,3]) devuelve [1,2,3,4]\n",
        "    ### max_lista([1,2,3],[1,4,5]) entrega [1,4,5]\n",
        "    \n",
        "    global max_lista\n",
        "    def max_lista(pol1, pol2):\n",
        "        if len(pol1) > len(pol2):\n",
        "            return pol1\n",
        "        else:\n",
        "            return pol2\n",
        "    assert max_lista([1,2,3,4], [1,2,3]) == [1,2,3,4]\n",
        "    assert max_lista([1,2,3],[1,4,5]) == [1,4,5]\n",
        "\n",
        "\n",
        "### Test\n",
        "p1 = Pol([1,1,-3,0,1]) \n",
        "p2 = Pol([-2,5,-1,1])  \n",
        "## Test de método evaluar\n",
        "assert p1.evaluar(1) == 0\n",
        "assert p2.evaluar(1) == 3\n",
        "## Test de método toString\n",
        "assert p1.toString() == \"1x^4 + -3x^2 + 1x^1 + 1\"\n",
        "assert p2.toString() == \"1x^3 + -1x^2 + 5x^1 + -2\"\n",
        "## Test de método sumar\n",
        "p3=p1.sumar(p2)\n",
        "assert p3.coeficientes == [-1,6,-4,1,1]"
      ],
      "execution_count": null,
      "outputs": []
    }
  ]
}