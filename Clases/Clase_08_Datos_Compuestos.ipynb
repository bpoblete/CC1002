{
  "nbformat": 4,
  "nbformat_minor": 0,
  "metadata": {
    "kernelspec": {
      "name": "python3",
      "display_name": "Python 3"
    },
    "colab": {
      "name": "Clase_08_Datos_Compuestos.ipynb",
      "provenance": [],
      "collapsed_sections": [],
      "include_colab_link": true
    }
  },
  "cells": [
    {
      "cell_type": "markdown",
      "metadata": {
        "id": "view-in-github",
        "colab_type": "text"
      },
      "source": [
        "<a href=\"https://colab.research.google.com/github/bpoblete/CC1002/blob/master/Clases/Clase_08_Datos_Compuestos.ipynb\" target=\"_parent\"><img src=\"https://colab.research.google.com/assets/colab-badge.svg\" alt=\"Open In Colab\"/></a>"
      ]
    },
    {
      "cell_type": "markdown",
      "metadata": {
        "id": "FcMhzJPl4CNT"
      },
      "source": [
        "# Datos Compuestos (Cap.8)\n",
        "\n",
        "Hasta el momento hemos visto únicamente cómo operar con valores simples (esto es, con números, con strings, y con valores lógicos).  Sin embargo, en computación es recurrente el tener que manipular valores\n",
        "**compuestos**, esto es, formados por una combinación de uno o más valores simples.  "
      ]
    },
    {
      "cell_type": "markdown",
      "metadata": {
        "id": "cSvLo-cqC3Ti"
      },
      "source": [
        "### Problema: suma entre dos fracciones\n",
        "\n",
        "#### Fórmula:\n",
        "\n",
        "$$\n",
        "\\frac{a}{b}+\\frac{c}{d}=\\frac{ad+bc}{bd}\n",
        "$$\n",
        "\n",
        "#### Solución 1:\n",
        "Función que recibe los valores **a**, **b**, **c**, **d**, y calcula el resultado usando la fórmula."
      ]
    },
    {
      "cell_type": "code",
      "metadata": {
        "id": "B3t7tkNz4CNV"
      },
      "source": [
        "# sumaFracciones:  int int int int -> float\n",
        "# calcula la suma entre dos fracciones a/b y c/d\n",
        "# ejemplo:  sumaFracciones(1, 2, 3, 4) devuelve 1.25\n",
        "\n",
        "def sumaFracciones(a,b,c,d):\n",
        "  \n",
        "  return (a*d+b*c)/(b*d)\n",
        "\n"
      ],
      "execution_count": null,
      "outputs": []
    },
    {
      "cell_type": "code",
      "metadata": {
        "id": "hOwn-_zo6Xua"
      },
      "source": [
        "sumaFracciones(1, 2, 3, 4)"
      ],
      "execution_count": null,
      "outputs": []
    },
    {
      "cell_type": "code",
      "metadata": {
        "id": "_P8B85DF4CNY"
      },
      "source": [
        "sumaFracciones(4,5,7,16)   #suma 4/5 + 7/16"
      ],
      "execution_count": null,
      "outputs": []
    },
    {
      "cell_type": "markdown",
      "metadata": {
        "id": "RIKjznHy4CNb"
      },
      "source": [
        "#### Problema:\n",
        "\n",
        "<mark>Lo que devuelve la función NO es una fracción, sino un número real que corresponde a la **representación decimal** del resultado</mark>\n",
        "\n"
      ]
    },
    {
      "cell_type": "markdown",
      "metadata": {
        "id": "CbqrAnoVEEhm"
      },
      "source": [
        "\n",
        "## Estructura (struct)\n",
        "\n",
        "- Tipo de dato que permite encapsular\n",
        "un conjunto fijo de valores (de uno o más tipos)\n",
        "- Representado por atributos, para conformar un único valor compuesto\n",
        "  - Se le denomina ***dato compuesto***\n",
        "\n",
        "\n",
        "- Ocuparemos el **módulo `estructura`** que contiene la **función `crear`** para trabajar con datos compuestos"
      ]
    },
    {
      "cell_type": "markdown",
      "metadata": {
        "id": "HVerjzOkHDNY"
      },
      "source": [
        "En efecto, podemos\n",
        "representar una _fracción_ como una estructura formada por dos\n",
        "atributos: un _numerador_ y un _denominador_.\n",
        "\n",
        "\n",
        "```python\n",
        "import estructura\n",
        "estructura.crear(\"nombre\", \"atributo1 atributo2 ...  atributoN\")\n",
        "```"
      ]
    },
    {
      "cell_type": "markdown",
      "metadata": {
        "id": "znjjwfMTI3Sn"
      },
      "source": [
        "### Definiendo fracciones como una estructura"
      ]
    },
    {
      "cell_type": "code",
      "metadata": {
        "id": "DLDiGHMEJBxh"
      },
      "source": [
        "import estructura\n",
        "estructura.crear(\"fraccion\", \"numerador denominador\")"
      ],
      "execution_count": null,
      "outputs": []
    },
    {
      "cell_type": "markdown",
      "metadata": {
        "id": "zwa-dAKeIk7F"
      },
      "source": [
        "Fijarse que la función ```estructura.crear``` crea un _molde_ para crear una o más fracciones."
      ]
    },
    {
      "cell_type": "code",
      "metadata": {
        "id": "ZFaikCdkJImL"
      },
      "source": [
        "a = fraccion(1,2)   # crea la primera fracción y la guarda en a"
      ],
      "execution_count": null,
      "outputs": []
    },
    {
      "cell_type": "code",
      "metadata": {
        "id": "NtSvvaHqJVCr"
      },
      "source": [
        "a      # consultamos para ver que cosa es 'a'"
      ],
      "execution_count": null,
      "outputs": []
    },
    {
      "cell_type": "code",
      "metadata": {
        "id": "ovN7SSQM8_pi"
      },
      "source": [
        "print(a)      # que sucede si intentamos mostrar a en pantalla?"
      ],
      "execution_count": null,
      "outputs": []
    },
    {
      "cell_type": "code",
      "metadata": {
        "id": "Ogq_ysasJWqb"
      },
      "source": [
        "a.numerador  # vemos el numerador de 'a'"
      ],
      "execution_count": null,
      "outputs": []
    },
    {
      "cell_type": "code",
      "metadata": {
        "id": "Wksfb1dEJj_-"
      },
      "source": [
        "a.denominador # vemos el denominador de 'a'"
      ],
      "execution_count": null,
      "outputs": []
    },
    {
      "cell_type": "code",
      "metadata": {
        "id": "mcpGyFc9iouD"
      },
      "source": [
        "b = a    # se pueden copiar \n",
        "print(a.numerador)\n",
        "print(a.denominador)"
      ],
      "execution_count": null,
      "outputs": []
    },
    {
      "cell_type": "markdown",
      "metadata": {
        "id": "y66oB8FcJrZF"
      },
      "source": [
        "### No mutable\n",
        "\n",
        "<mark>**¡No se pueden modificar los valores de los atributos de una estructura!**</mark>"
      ]
    },
    {
      "cell_type": "code",
      "metadata": {
        "id": "kryjqcxYKQQT"
      },
      "source": [
        "b = fraccion(3,a.denominador)\n",
        "print(a)\n",
        "print(b)"
      ],
      "execution_count": null,
      "outputs": []
    },
    {
      "cell_type": "markdown",
      "metadata": {
        "id": "69aLBOsq4CNr"
      },
      "source": [
        "### Receta de diseño con datos compuestos\n",
        "\n",
        "- Reconocer desde el planteamiento del problema las estructuras de datos que se requieran\n",
        "- Diseñar las estructuras de datos especificando atributos y sus tipos, por ej:\n",
        "\n",
        "\n",
        "  \n",
        " "
      ]
    },
    {
      "cell_type": "code",
      "metadata": {
        "id": "zqO8-nh7Ln6I"
      },
      "source": [
        "# fraccion: numerador (int) denominador(int)\n",
        "estructura.crear(\"fraccion\", \"numerador denominador\")"
      ],
      "execution_count": null,
      "outputs": []
    },
    {
      "cell_type": "markdown",
      "metadata": {
        "id": "wgxgqzXk-ETS"
      },
      "source": [
        "Esto incluye *describir* qué partes tiene la estructura que van a crear, y de qué tipos son dichas partes. Esto es justamente lo que está haciendo en la línea con el \"comentario\" justo antes de ```estructura.crear```."
      ]
    },
    {
      "cell_type": "markdown",
      "metadata": {
        "id": "bFiWnxKDLmf5"
      },
      "source": [
        "Además debe:\n",
        "\n",
        "- Seguir la receta usual para las funciones que ocupen las estructuras:\n",
        "\n",
        "  - Contrato: tipos parámetros -> tipo resultado\n",
        "  - Objetivo (propósito) de la *función*\n",
        "  - Ejemplo(s)\n",
        "  - Cuerpo de la función\n",
        "  - Pruebas (test)"
      ]
    },
    {
      "cell_type": "markdown",
      "metadata": {
        "id": "GtcpReBCMBCi"
      },
      "source": [
        "## Ejemplo: módulo `fraccion`\n",
        "\n",
        "Se guarda en un archivo llamado `fraccion.py`"
      ]
    },
    {
      "cell_type": "code",
      "metadata": {
        "id": "Fo5HMFvL4CNs"
      },
      "source": [
        "import estructura\n",
        "# Diseno de la estructura\n",
        "# fraccion: numerador (int) denominador(int)\n",
        "estructura.crear(\"fraccion\", \"numerador denominador\")\n",
        "\n",
        "\n",
        "# Contrato\n",
        "# sumaFracciones: fraccion fraccion -> fraccion\n",
        "\n",
        "# Proposito\n",
        "# crear una nueva fraccion que corresponda a la suma de dos fracciones f1 y f2\n",
        "\n",
        "# Ejemplo:\n",
        "# sumaFracciones(fraccion(1,2), fraccion(3,4))\n",
        "# devuelve fraccion(10,8)\n",
        "\n",
        "# Cuerpo de la funcion\n",
        "def sumaFracciones(f1,f2):\n",
        "    assert type(f1) == fraccion and type(f2)== fraccion\n",
        "    assert f1.denominador != 0 and f2.denominador != 0\n",
        "    \n",
        "    num = f1.numerador*f2.denominador + f2.numerador*f1.denominador\n",
        "    den = f1.denominador*f2.denominador\n",
        "    return fraccion(num,den)\n",
        "\n",
        "# Test\n",
        "f12=fraccion(1,2)\n",
        "f34=fraccion(3,4)\n",
        "assert sumaFracciones(f12,f34) == fraccion(10,8)\n"
      ],
      "execution_count": null,
      "outputs": []
    },
    {
      "cell_type": "code",
      "metadata": {
        "id": "CO_GFcB74CNw"
      },
      "source": [
        "def pruebaSuma():\n",
        "    print(\"suma de fracciones a/b y c/d\")\n",
        "    \n",
        "    a=int(input(\"a?\"))   # Ojo, si hacen a = input(\"a?\"), denominador sera str pero debiera ser int  \n",
        "    b=int(input(\"b?\"))\n",
        "    f1=fraccion(a,b)\n",
        "    \n",
        "    f2=fraccion(int(input(\"c?\")),int(input(\"d?\")))\n",
        "    f3=sumaFracciones(f1,f2)\n",
        "    \n",
        "    print(\"suma=\" + str(f3.numerador) + \"/\" + str(f3.denominador))"
      ],
      "execution_count": null,
      "outputs": []
    },
    {
      "cell_type": "code",
      "metadata": {
        "id": "yBVGXedr4CNy",
        "outputId": "082eafc7-f969-4aa5-e8c3-06d52711f6e1",
        "colab": {
          "base_uri": "https://localhost:8080/",
          "height": 123
        }
      },
      "source": [
        "pruebaSuma()"
      ],
      "execution_count": null,
      "outputs": [
        {
          "output_type": "stream",
          "text": [
            "suma de fracciones a/b y c/d\n",
            "a?1\n",
            "b?2\n",
            "c?3\n",
            "d?4\n",
            "suma=10/8\n"
          ],
          "name": "stdout"
        }
      ]
    },
    {
      "cell_type": "code",
      "metadata": {
        "id": "kKPAuLvN4CN0"
      },
      "source": [
        "# Contrato\n",
        "# restaFracciones: fraccion fraccion -> fraccion\n",
        "\n",
        "# Proposito\n",
        "# resta dos fracciones y retorna otra fraccion con el resultado\n",
        "\n",
        "# Ejemplo:\n",
        "# restaFracciones(fraccion(1,2), fraccion(3,6))\n",
        "# devuelve fraccion(-2,8)\n",
        "\n",
        "# Cuerpo de la funcion\n",
        "def restaFracciones(f1,f2):\n",
        "    assert type(f1)==fraccion and type(f2)==fraccion\n",
        "    assert f1.denominador != 0 and f2.denominador !=0\n",
        "    num = f1.numerador*f2.denominador - f1.denominador*f2.numerador\n",
        "    den = f1.denominador * f2.denominador\n",
        "    return fraccion(num,den)\n",
        "\n",
        "# Test\n",
        "f12=fraccion(1,2)\n",
        "f34=fraccion(3,4)\n",
        "assert restaFracciones(f12,f34) == fraccion(-2,8)"
      ],
      "execution_count": null,
      "outputs": []
    },
    {
      "cell_type": "code",
      "metadata": {
        "id": "P18X3Hoc4CN7"
      },
      "source": [
        "import math\n",
        "\n",
        "# Contrato\n",
        "# simplificaFracciones: fraccion -> fraccion\n",
        "\n",
        "# Proposito\n",
        "# entrega una fraccion nueva que es la version simplificada de f\n",
        "\n",
        "# Ejemplo:\n",
        "# simplificaFracciones(fraccion(10,30)) -> fraccion(1,3)\n",
        "\n",
        "\n",
        "# Cuerpo de la funcion\n",
        "def simplificaFracciones(f):\n",
        "    m = math.gcd(f.numerador,f.denominador)\n",
        "    return fraccion(f.numerador/m, f.denominador/m)\n",
        "\n",
        "# Test\n",
        "assert simplificaFracciones(fraccion(10,30)) == fraccion(1,3)"
      ],
      "execution_count": null,
      "outputs": []
    },
    {
      "cell_type": "code",
      "metadata": {
        "id": "egYsq8lc4CN8"
      },
      "source": [
        "# Contrato\n",
        "# igualdadFracciones: fraccion fraccion -> bool\n",
        "\n",
        "# Proposito\n",
        "# Indica si las fracciones f1 y f2 son iguales (equivalentes)\n",
        "\n",
        "# Ejemplo:\n",
        "# igualdadFracciones(fraccion(1,2), fraccion(3,6))\n",
        "# devuelve True\n",
        "\n",
        "# Cuerpo de la funcion\n",
        "def igualdadFracciones(f1,f2):\n",
        "    return simplificaFracciones(f1) == simplificaFracciones(f2) \n",
        "\n",
        "# Test\n",
        "f12=fraccion(1,2)\n",
        "f36=fraccion(3,6)\n",
        "assert igualdadFracciones(f12,f36)\n"
      ],
      "execution_count": null,
      "outputs": []
    },
    {
      "cell_type": "code",
      "metadata": {
        "id": "8uFer5m54CN_"
      },
      "source": [
        "def aString(f):\n",
        "    return str(f.numerador)+\"/\"+str(f.denominador)\n",
        "\n",
        "assert aString(fraccion(1,2)) == \"1/2\"\n",
        "\n"
      ],
      "execution_count": null,
      "outputs": []
    },
    {
      "cell_type": "code",
      "metadata": {
        "id": "4lljxXp74COB",
        "outputId": "40555382-3c06-477b-9011-9ffb619b8aaa",
        "colab": {
          "base_uri": "https://localhost:8080/",
          "height": 36
        }
      },
      "source": [
        "aString(fraccion(2,3))"
      ],
      "execution_count": null,
      "outputs": [
        {
          "output_type": "execute_result",
          "data": {
            "application/vnd.google.colaboratory.intrinsic+json": {
              "type": "string"
            },
            "text/plain": [
              "'2/3'"
            ]
          },
          "metadata": {
            "tags": []
          },
          "execution_count": 26
        }
      ]
    },
    {
      "cell_type": "markdown",
      "metadata": {
        "id": "FH8YaRPtHvSX"
      },
      "source": [
        "### Ejemplo: creamos una estructura para guardar números de a pares"
      ]
    },
    {
      "cell_type": "code",
      "metadata": {
        "id": "imerYLcg4CNc"
      },
      "source": [
        "import estructura\n",
        "estructura.crear(\"par\",\"num1 num2\")"
      ],
      "execution_count": null,
      "outputs": []
    },
    {
      "cell_type": "code",
      "metadata": {
        "id": "6x3aCtaS4CNf",
        "outputId": "95ea70a9-6cbd-4e78-a7b6-b9a63b8aa678",
        "colab": {
          "base_uri": "https://localhost:8080/",
          "height": 35
        }
      },
      "source": [
        "par"
      ],
      "execution_count": null,
      "outputs": [
        {
          "output_type": "execute_result",
          "data": {
            "text/plain": [
              "estructura.par"
            ]
          },
          "metadata": {
            "tags": []
          },
          "execution_count": 28
        }
      ]
    },
    {
      "cell_type": "code",
      "metadata": {
        "id": "Mzy7g1-I4CNi"
      },
      "source": [
        "par1 = par(10,23)"
      ],
      "execution_count": null,
      "outputs": []
    },
    {
      "cell_type": "code",
      "metadata": {
        "id": "wPt3-uSx4CNk",
        "outputId": "4b3afbf2-fe58-42d8-f062-b82bb4a2581a",
        "colab": {
          "base_uri": "https://localhost:8080/",
          "height": 35
        }
      },
      "source": [
        "par1"
      ],
      "execution_count": null,
      "outputs": [
        {
          "output_type": "execute_result",
          "data": {
            "text/plain": [
              "par(num1=10, num2=23)"
            ]
          },
          "metadata": {
            "tags": []
          },
          "execution_count": 30
        }
      ]
    },
    {
      "cell_type": "code",
      "metadata": {
        "id": "5KgW_fnL4CNn",
        "outputId": "9644beff-303f-4195-cd29-70070f99898f",
        "colab": {
          "base_uri": "https://localhost:8080/",
          "height": 35
        }
      },
      "source": [
        "par1.num1"
      ],
      "execution_count": null,
      "outputs": [
        {
          "output_type": "execute_result",
          "data": {
            "text/plain": [
              "10"
            ]
          },
          "metadata": {
            "tags": []
          },
          "execution_count": 31
        }
      ]
    },
    {
      "cell_type": "code",
      "metadata": {
        "id": "3pcI7k-K4CNp",
        "outputId": "38464184-44fd-4b97-a9fb-b3a57e8596f3",
        "colab": {
          "base_uri": "https://localhost:8080/",
          "height": 35
        }
      },
      "source": [
        "par1.num2"
      ],
      "execution_count": null,
      "outputs": [
        {
          "output_type": "execute_result",
          "data": {
            "text/plain": [
              "23"
            ]
          },
          "metadata": {
            "tags": []
          },
          "execution_count": 32
        }
      ]
    },
    {
      "cell_type": "markdown",
      "metadata": {
        "id": "dwmLWd-3bgGs"
      },
      "source": [
        "## Propuesto *(opcional, no es ejercicio)*\n",
        "\n",
        "En lo que sigue, recuerde seguir la receta de diseño.\n",
        "\n",
        "1. Basado en la estructura de números a pares,  cree una estructura ```tiempo```, donde cada tiempo consiste en minutos y segundos.\n",
        "\n",
        "2. Escriba la función ```convertirASegundos(t)``` que reciba una variable de tipo tiempo y retorne el equivalente en segundos. Por ejemplo, si t1 representa 22 minutos y 57 segundos, entonces ```convertirASegundos(t1)``` debe retornar 1377 pues 22*60+57=1377. \n",
        "\n",
        "3. Escriba la función ```suma(tpo1,tpo2)``` que reciba dos variable tiempos y retorne un tiempo con la suma de los tiempos tpo1 y tpo2. \n",
        "\n",
        "  Por ejemplo: si un t1 representa 28 min y 30 segundos, y t2 representa 36 min y 42 segundos, entonces ```suma(t1,t2)``` debiera retornar un tiempo que represente 65 minutos y 12 segundos.\n",
        "\n"
      ]
    }
  ]
}