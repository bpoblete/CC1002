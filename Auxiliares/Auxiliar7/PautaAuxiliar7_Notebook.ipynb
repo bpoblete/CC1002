{
  "nbformat": 4,
  "nbformat_minor": 0,
  "metadata": {
    "colab": {
      "name": "PautaAuxiliar7_Notebook.ipynb",
      "provenance": [],
      "include_colab_link": true
    },
    "kernelspec": {
      "name": "python3",
      "display_name": "Python 3"
    }
  },
  "cells": [
    {
      "cell_type": "markdown",
      "metadata": {
        "id": "view-in-github",
        "colab_type": "text"
      },
      "source": [
        "<a href=\"https://colab.research.google.com/github/bpoblete/CC1002/blob/master/Auxiliares/Auxiliar7/PautaAuxiliar7_Notebook.ipynb\" target=\"_parent\"><img src=\"https://colab.research.google.com/assets/colab-badge.svg\" alt=\"Open In Colab\"/></a>"
      ]
    },
    {
      "cell_type": "markdown",
      "metadata": {
        "id": "qzvnqBjjO_q7"
      },
      "source": [
        "# Auxiliar 7"
      ]
    },
    {
      "cell_type": "code",
      "metadata": {
        "id": "-m-WwQRJzXb1"
      },
      "source": [
        "from estructura import *\n",
        "from lista import *\n",
        "from abb import *"
      ],
      "execution_count": null,
      "outputs": []
    },
    {
      "cell_type": "markdown",
      "metadata": {
        "id": "dbfifW5VPFJQ"
      },
      "source": [
        "**P1**\n",
        "\n",
        "Cree la función ***filtrarXY(abb, x, y)***, que dado un árbol de búsqueda binaria *abb*, retorna un nuevo árbol de búsqueda binaria que contenga solo aquellos valores de *abb* que están en el rango [x, y] (ambos incluidos). Recuerde realizar la receta de diseño y los asserts de su función"
      ]
    },
    {
      "cell_type": "code",
      "metadata": {
        "id": "jwcfm7CVw6Ni"
      },
      "source": [
        "# filtrarXY: AB num num -> AB\n",
        "# dado un ABB filtra aquellos valores que se encuentran dentro de un rango dado\n",
        "# ej.: filtrarXY(AB(3, AB(1, None, None), AB(4, None, None)), 3, 5) retorna\n",
        "# AB(3, None, AB(4, None, None))\n",
        "\n",
        "def filtrarXY(abb, x, y, newAbb=None):\n",
        "  if abb == None:\n",
        "    return newAbb\n",
        "  if x <= abb.valor and abb.valor <= y:\n",
        "    newAbb = insertar(abb.valor, newAbb)\n",
        "  newAbbIzq = filtrarXY(abb.izq, x, y, newAbb)\n",
        "  return filtrarXY(abb.der, x, y, newAbbIzq)\n",
        "\n",
        "\n",
        "# ASSERTS\n",
        "\n",
        "A = AB(4, AB(2, AB(1, None, None), None), AB(8, AB(5, None, None), AB(10, AB(9, None, None), AB(12, None, None))))\n",
        "B = AB(5, AB(3, AB(1, None, AB(2, None, None)), AB(4, None, None)), AB(8, AB(7, AB(6, None, None), None), AB(9, None, AB(10, None, None))))\n",
        "\n",
        "assert filtrarXY(A, 6, 15) == AB(8, None, AB(10, AB(9, None, None), AB(12, None, None)))\n",
        "assert filtrarXY(A, 1, 10) == AB(4, AB(2, AB(1, None, None), None), AB(8, AB(5, None, None), AB(10, AB(9, None, None), None)))\n",
        "assert filtrarXY(B, 3, 7) == AB(5, AB(3, None, AB(4, None, None)), AB(7, AB(6, None, None), None))\n",
        "assert filtrarXY(B, 1, 3) == AB(3, AB(1, None, AB(2, None, None)), None)\n",
        "assert filtrarXY(None, 1, 5) == None\n",
        "assert filtrarXY(A, 13, 15) == None"
      ],
      "execution_count": null,
      "outputs": []
    },
    {
      "cell_type": "markdown",
      "metadata": {
        "id": "q98NcQvXRJe3"
      },
      "source": [
        "**P2**\n",
        "\n",
        "Programe la función ***multiplos(abb, k)***, que dado un ABB de números enteros y un entero *k*, retorne una lista enlazada ordenada con todos aquellos valores de *abb* que sean múltiplo de *k*. Recuerde realizar la receta de diseño y los asserts de su función"
      ]
    },
    {
      "cell_type": "code",
      "metadata": {
        "id": "CLfEwqxKxuFo"
      },
      "source": [
        "# multiplos: AB int -> list(int)\n",
        "# retorna una lista ordenada con todos los multiplos de un valor k\n",
        "# Ej.: multiplos(AB(3, AB(1, None, None), AB(4, None, None)), 3) debe retornar\n",
        "# lista(3, listaVacia)\n",
        "\n",
        "def multiplos(abb, k, newList=listaVacia):\n",
        "  if abb == None:\n",
        "    return newList\n",
        "  newListDer = multiplos(abb.der, k, newList)\n",
        "  if abb.valor % k == 0:\n",
        "    newListDer = crearLista(abb.valor, newListDer)\n",
        "  return multiplos(abb.izq, k, newListDer)\n",
        "\n",
        "\n",
        "# ASSERTS\n",
        "\n",
        "A = AB(4, AB(2, AB(1, None, None), None), AB(8, AB(5, None, None), AB(10, AB(9, None, None), AB(12, None, None))))\n",
        "B = AB(5, AB(3, AB(1, None, AB(2, None, None)), AB(4, None, None)), AB(8, AB(7, AB(6, None, None), None), AB(9, None, AB(10, None, None))))\n",
        "\n",
        "assert multiplos(A, 2) == crearLista(2, crearLista(4, crearLista(8, crearLista(10, crearLista(12, listaVacia)))))\n",
        "assert multiplos(A, 3) == crearLista(9, crearLista(12, listaVacia))\n",
        "assert multiplos(B, 4) == crearLista(4, crearLista(8, listaVacia))\n",
        "assert multiplos(B, 2) == crearLista(2, crearLista(4, crearLista(6, crearLista(8, crearLista(10, listaVacia)))))\n",
        "assert multiplos(None, 4) == listaVacia\n",
        "assert multiplos(B, 11) == listaVacia"
      ],
      "execution_count": null,
      "outputs": []
    },
    {
      "cell_type": "markdown",
      "metadata": {
        "id": "tzl0g5tCSPO7"
      },
      "source": [
        "**P3**\n",
        "\n",
        "En esta pregunta simularemos una agenda telefónica en formato ABB, por lo que cada valor del árbol será una persona (que tiene nombre, apellido y número telefónico). Usted debe considerar que el árbol se ordena en base al apellido de la persona, si dos personas tienen el mismo apellido entonces habrá que ordenar en base al nombre. Además, no habrán dos personas con mismo nombre y apellido en la agenda telefónica.\n",
        "\n",
        "En base a lo anterior, usted deberá programar 3 funciones que permitirán simular ciertas funcionalidades de una agenda telefónica:\n",
        "\n",
        "\n",
        "\n",
        "1.   Cree la estructura *Persona*, la cual debe tener *nombre*, *apellido* y *telefono*\n",
        "2.   Cree la función ***agregarContacto(abb, p)***, la cual retorna un nuevo ABB pero con la persona *p* insertada en este.\n",
        "3.   Cree la función ***listaTelefonicaPorApellido(abb, apellido)*** que retorna una lista enlazada ordenada con todos los contactos (personas) que tengan dicho apellido.\n",
        "4.   Cree la función ***ConsultarTelefono(abb, apellido, nombre)***, que dado el nombre y apellido de una persona retorne el número telefónico de dicha persona.\n",
        "\n"
      ]
    },
    {
      "cell_type": "code",
      "metadata": {
        "id": "KbdFIkIFUDaH"
      },
      "source": [
        "# 1.\n",
        "\n",
        "# Persona: nombre(str) apellido(str) telefono(str)\n",
        "estructura.crear('Persona', 'nombre apellido telefono')"
      ],
      "execution_count": null,
      "outputs": []
    },
    {
      "cell_type": "code",
      "metadata": {
        "id": "Szjklg6mxIdV"
      },
      "source": [
        "# 2.\n",
        "\n",
        "# agregarContacto: AB Persona -> AB\n",
        "# Agrega la persona p a la agenda telefonica\n",
        "# Ej. agregarContacto(None, Persona('Juan', 'Perez', '123')) retorna \n",
        "# AB(Persona('Juan', 'Perez', '123'), None, None)\n",
        "\n",
        "def agregarContacto(abb, p):\n",
        "  if abb == None:\n",
        "    return AB(p, None, None)\n",
        "  if p.apellido < abb.valor.apellido:\n",
        "    return AB(abb.valor, agregarContacto(abb.izq, p), abb.der)\n",
        "  elif p.apellido > abb.valor.apellido:\n",
        "    return AB(abb.valor, abb.izq, agregarContacto(abb.der, p))\n",
        "  else: # los apellidos son iguales, entonces se decide segun nombre\n",
        "    if p.nombre < abb.valor.nombre:\n",
        "      return AB(abb.valor, agregarContacto(abb.izq, p), abb.der)\n",
        "    elif p.nombre > abb.valor.nombre:\n",
        "      return AB(abb.valor, abb.izq, agregarContacto(abb.der, p))\n",
        "    else: # la persona ya existe\n",
        "      return abb # no hago nada\n",
        "\n",
        "\n",
        "# ASSERT\n",
        "\n",
        "p1 = Persona('Juanita', 'Perez', '12345')\n",
        "p2 = Persona('Juan', 'Castro', '12367')\n",
        "p3 = Persona('Manuel', 'Castro', '12333')\n",
        "p4 = Persona('Alejandro', 'Muñoz', '125445')\n",
        "p5 = Persona('Luis', 'Rodriguez', '125445')\n",
        "p6 = Persona('Luchita', 'Abarca', '125445')\n",
        "\n",
        "A = AB(p1, AB(p4, AB(p2, None, None), None), AB(p5, None, None))\n",
        "\n",
        "assert agregarContacto(None, p1) == AB(p1, None, None)\n",
        "assert agregarContacto(A, p6) == AB(p1, AB(p4, AB(p2, AB(p6, None, None), None), None), AB(p5, None, None))\n",
        "assert agregarContacto(A, p3) == AB(p1, AB(p4, AB(p2, None, AB(p3, None, None)), None), AB(p5, None, None))\n",
        "assert agregarContacto(A, p5) == A"
      ],
      "execution_count": null,
      "outputs": []
    },
    {
      "cell_type": "code",
      "metadata": {
        "id": "HrIDgLzkTNOW"
      },
      "source": [
        "# 3.\n",
        "\n",
        "# listaTelefonicaPorApellido: AB str -> list(Persona)\n",
        "# Retorna todos los contactos que tengan cierto apellido\n",
        "# Ej.: sea A = AB(Persona('Juan', 'Perez', '123'), None, None)\n",
        "# listaTelefonicaPorApellido(A, 'Perez') debe retornar \n",
        "# crearLista(Persona('Juan', 'Perez', '123'), listaVacia)\n",
        "\n",
        "def listaTelefonicaPorApellido(abb, apellido, newLista=listaVacia):\n",
        "  if abb == None:\n",
        "    return newLista\n",
        "  newLista = listaTelefonicaPorApellido(abb.der, apellido, newLista)\n",
        "  if abb.valor.apellido == apellido:\n",
        "    newLista = crearLista(abb.valor, newLista)\n",
        "  return listaTelefonicaPorApellido(abb.izq, apellido, newLista)\n",
        "\n",
        "\n",
        "# ASSERT \n",
        "\n",
        "p1 = Persona('Juanita', 'Perez', '12345')\n",
        "p2 = Persona('Juan', 'Castro', '12367')\n",
        "p3 = Persona('Manuel', 'Castro', '12333')\n",
        "p4 = Persona('Alejandro', 'Muñoz', '125445')\n",
        "p5 = Persona('Luis', 'Rodriguez', '125445')\n",
        "p6 = Persona('Luchita', 'Abarca', '125445')\n",
        "\n",
        "A = AB(p1, AB(p4, AB(p2, AB(p6, None, None), AB(p3, None, None)), None), AB(p5, None, None))\n",
        "\n",
        "assert listaTelefonicaPorApellido(A, 'Castro') == crearLista(p2, crearLista(p3, listaVacia))\n",
        "assert listaTelefonicaPorApellido(A, 'Abarca') == crearLista(p6, listaVacia)\n",
        "assert listaTelefonicaPorApellido(A, 'Pereira') == listaVacia\n",
        "assert listaTelefonicaPorApellido(None, 'Pereira') == listaVacia\n"
      ],
      "execution_count": null,
      "outputs": []
    },
    {
      "cell_type": "code",
      "metadata": {
        "id": "Z9OKzXUEUqK6"
      },
      "source": [
        "# 4. \n",
        "\n",
        "# consultarTelefono: AB str str -> str\n",
        "# Retorna el numero telefono de una persona\n",
        "# Ej.: sea A = AB(Persona('Juan', 'Perez', '123'), None, None)\n",
        "# consultarTelefono(A, 'Perez', 'Juan') debe retornar '123'\n",
        "\n",
        "def consultarTelefono(abb, apellido, nombre):\n",
        "  if abb == None:\n",
        "    return ''\n",
        "  if abb.valor.apellido == apellido and abb.valor.nombre == nombre:\n",
        "    return abb.valor.telefono\n",
        "  elif abb.valor.apellido > apellido:\n",
        "    return consultarTelefono(abb.izq, apellido, nombre)\n",
        "  elif abb.valor.apellido < apellido:\n",
        "    return consultarTelefono(abb.izq, apellido, nombre)\n",
        "  else:\n",
        "    if abb.valor.nombre > nombre:\n",
        "      return consultarTelefono(abb.izq, apellido, nombre)\n",
        "    elif abb.valor.nombre < nombre:\n",
        "      return consultarTelefono(abb.der, apellido, nombre)\n",
        "\n",
        "\n",
        "# ASSERT\n",
        "\n",
        "p1 = Persona('Juanita', 'Perez', '12345')\n",
        "p2 = Persona('Juan', 'Castro', '12367')\n",
        "p3 = Persona('Manuel', 'Castro', '12333')\n",
        "p4 = Persona('Alejandro', 'Muñoz', '125445')\n",
        "p5 = Persona('Luis', 'Rodriguez', '125445')\n",
        "p6 = Persona('Luchita', 'Abarca', '125445')\n",
        "\n",
        "A = AB(p1, AB(p4, AB(p2, AB(p6, None, None), AB(p3, None, None)), None), AB(p5, None, None))\n",
        "\n",
        "assert consultarTelefono(A, 'Castro', 'Juan') == '12367'\n",
        "assert consultarTelefono(A, 'Castro', 'Manuel') == '12333'\n",
        "assert consultarTelefono(A, 'Abarca', 'Luchita') == '125445'\n",
        "assert consultarTelefono(A, 'Castro', 'Pamela') == ''\n",
        "assert consultarTelefono(None, 'Zuñiga', 'Luis') == ''"
      ],
      "execution_count": null,
      "outputs": []
    }
  ]
}