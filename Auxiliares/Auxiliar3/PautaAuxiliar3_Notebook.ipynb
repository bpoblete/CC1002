{
  "nbformat": 4,
  "nbformat_minor": 0,
  "metadata": {
    "colab": {
      "name": "PautaAuxiliar3_Notebook.ipynb",
      "provenance": [],
      "collapsed_sections": [],
      "include_colab_link": true
    },
    "kernelspec": {
      "name": "python3",
      "display_name": "Python 3"
    }
  },
  "cells": [
    {
      "cell_type": "markdown",
      "metadata": {
        "id": "view-in-github",
        "colab_type": "text"
      },
      "source": [
        "<a href=\"https://colab.research.google.com/github/bpoblete/CC1002/blob/master/Auxiliares/Auxiliar3/PautaAuxiliar3_Notebook.ipynb\" target=\"_parent\"><img src=\"https://colab.research.google.com/assets/colab-badge.svg\" alt=\"Open In Colab\"/></a>"
      ]
    },
    {
      "cell_type": "markdown",
      "metadata": {
        "id": "3XBv0Oxl43QB"
      },
      "source": [
        "#Auxiliar 3 - Recursión\n",
        "\n",
        "P1. Cree la función maxComunDiv(n,m) que entregue el máximo común divisor de los números enteros n y m entregados. Siga el algoritmo recursivo de Euclides para su construcción. \n",
        "\n",
        "Algoritmo de Euclides: \n",
        "- maxComunDiv(n,m) = n si n==m\n",
        "- si n<m -> maxComunDiv(n,m-n)\n",
        "- si n>m -> maxComunDiv(n-m,m) \n",
        "\n",
        "Ej: maxComunDiv(12,40) = 4"
      ]
    },
    {
      "cell_type": "code",
      "metadata": {
        "id": "3UhLPNOOGXLw"
      },
      "source": [
        "#maxComunDiv: int int -> int \n",
        "#Calcula el máximo común divisor de los números enteros entregados\n",
        "#Ej: maxComunDiv(12,40) = 4\n",
        "\n",
        "def maxComunDiv(n,m):\n",
        "  if n == m: \n",
        "    return n\n",
        "  elif n>m: \n",
        "    return maxComunDiv(n-m,m)\n",
        "  else: return maxComunDiv(n,m-n)\n",
        "\n",
        "assert maxComunDiv(12,40) == 4\n",
        "assert maxComunDiv(18,9) == 9\n",
        "assert maxComunDiv(120,360) == 120"
      ],
      "execution_count": null,
      "outputs": []
    },
    {
      "cell_type": "markdown",
      "metadata": {
        "id": "SlH25KsW5dBt"
      },
      "source": [
        "P2. Defina la función elMayor(n), que a partir de un número entregado devuelva el mayor de ss dígitos. \n",
        "\n",
        "Ej: elMayor(257926) = 9"
      ]
    },
    {
      "cell_type": "code",
      "metadata": {
        "id": "QEJAzdndIELZ"
      },
      "source": [
        "#elMayor: int -> int \n",
        "#Devuelve el digito mayor de un numero entregado \n",
        "#Ejemplo: elMayor(257926) = 9\n",
        "\n",
        "def elMayor(n):\n",
        "  if n == 0:\n",
        "    return 0\n",
        "  else: \n",
        "    ultimo = n%10\n",
        "    return max(ultimo,elMayor(n//10)) \n",
        "\n",
        "assert elMayor(198739) == 9\n",
        "assert elMayor(37863) == 8\n",
        "assert elMayor(362702) == 7"
      ],
      "execution_count": null,
      "outputs": []
    },
    {
      "cell_type": "markdown",
      "metadata": {
        "id": "NSdMTKkdenYk"
      },
      "source": [
        "P3. Cree la función invertir(n) cuya función es invertir el número n, el cual tiene una catidad cualquiera de digitos. \n",
        "\n",
        "Ejemplo: \n",
        "\n",
        "```\n",
        " invertir(123456) = 654321\n",
        "```\n",
        "\n"
      ]
    },
    {
      "cell_type": "code",
      "metadata": {
        "id": "TSgsIPTGekpG"
      },
      "source": [
        "#invertir(n): int -> int\n",
        "#Invierte los digitos de un numero dado \n",
        "#Ejemplo: invertir(123456) -> 654321\n",
        "\n",
        "def invertir(n,numero=0):\n",
        "  if n<10:\n",
        "    return numero+n\n",
        "  else: \n",
        "    numero += n%10\n",
        "    return invertir(n//10, numero*10)\n",
        "\n",
        "assert invertir(243) == 342\n",
        "assert invertir(123456) == 654321\n",
        "assert invertir(46372213) == 31227364"
      ],
      "execution_count": null,
      "outputs": []
    },
    {
      "cell_type": "markdown",
      "metadata": {
        "id": "GO4bGo8xBl0B"
      },
      "source": [
        "P4. Cree de forma recursiva el programa interactivo calculadoraNotas() el cual le vaya pidiendo sus notas y las vaya almacenando junto con la cantidad de notas que ha ingresado. Cuando quiera que el programa deje de funcionar y le entregue el resultado, el usuario deberá ingresar el número: 0, con esto se calculará el promedio con las notas ingresadas y se le aplicará el redondeo al primer dígito, mostando en pantalla `Su nota final es: ` + la nota calculada. En el caso de que el numero entregado sea menor a 1.0 o mayor a 7.0, el programa mostrará en pantalla `Nota invalida` y seguirá corriendo, sin contar la nota ingresada erroneamente.\n",
        "\n",
        "Ejemplo: \n",
        "\n",
        "\n",
        "```\n",
        " Ingrese una nota entre 1.0 y 7.0: 4.1\n",
        " Ingrese una nota entre 1.0 y 7.0: 7.8\n",
        " Nota invalida\n",
        " Ingrese una nota entre 1.0 y 7.0: 4.3\n",
        " Ingrese una nota entre 1.0 y 7.0: 0\n",
        " Su nota final es: 4.2 \n",
        "```\n",
        "\n"
      ]
    },
    {
      "cell_type": "code",
      "metadata": {
        "id": "0OVf1-9QJDwZ",
        "outputId": "b9c905bc-3fd2-4419-a20c-152737ff454c",
        "colab": {
          "base_uri": "https://localhost:8080/",
          "height": 120
        }
      },
      "source": [
        "#calculadoraNotas():   -> float\n",
        "#Solicita la nota al usuario y la almacena, junto con la cantidad de notas que se han entregado\n",
        "#cuando el usuario ingresa el número 0, se entrega el promedio \n",
        "\n",
        "def calculadoraNotas(notasAcumuladas=0,cantidadNotas=0):\n",
        "  nota = float(input('Ingrese una nota entre 1.0 y 7.0: '))\n",
        "  if nota==0:\n",
        "    notaFinal = round(notasAcumuladas/cantidadNotas,1)\n",
        "    return 'Su nota final es: ' + str(notaFinal)\n",
        "  elif (nota>0 and nota<1.0) or (nota>7.0):\n",
        "    print('Nota invalida')\n",
        "    return calculadoraNotas(notasAcumuladas,cantidadNotas)\n",
        "  else: \n",
        "    notasAcumuladas += nota\n",
        "    cantidadNotas += 1\n",
        "    return calculadoraNotas(notasAcumuladas,cantidadNotas)\n",
        "\n",
        "calculadoraNotas()"
      ],
      "execution_count": null,
      "outputs": [
        {
          "output_type": "stream",
          "text": [
            "Ingrese una nota entre 1.0 y 7.0: 4.3\n",
            "Ingrese una nota entre 1.0 y 7.0: 8\n",
            "Nota invalida\n",
            "Ingrese una nota entre 1.0 y 7.0: 4.1\n",
            "Ingrese una nota entre 1.0 y 7.0: 0\n"
          ],
          "name": "stdout"
        },
        {
          "output_type": "execute_result",
          "data": {
            "application/vnd.google.colaboratory.intrinsic+json": {
              "type": "string"
            },
            "text/plain": [
              "'Su nota final es: 4.2'"
            ]
          },
          "metadata": {
            "tags": []
          },
          "execution_count": 18
        }
      ]
    },
    {
      "cell_type": "markdown",
      "metadata": {
        "id": "VkAubAZPhWIJ"
      },
      "source": [
        "P5. Cree la función sumaDigitos(n) la cual va a sumar todos los digitos de el número entregado. \n",
        "\n",
        "Ejemplo:\n",
        "\n",
        "\n",
        "```\n",
        " sumaDigitos(12345) = 15\n",
        "```\n",
        "\n"
      ]
    },
    {
      "cell_type": "code",
      "metadata": {
        "id": "utkCecZokkal"
      },
      "source": [
        "#sumaDigitos(n): int -> int \n",
        "#Suma los digitos de un numero\n",
        "#sumaDigitos(12345) = 15\n",
        "\n",
        "def sumaDigitos(n):\n",
        "  if n<10:\n",
        "    return n\n",
        "  else: return n%10 + sumaDigitos(n//10)\n",
        "\n",
        "assert sumaDigitos(12345) == 15\n",
        "assert sumaDigitos(4683293874) == 54\n",
        "assert sumaDigitos(12) == 3"
      ],
      "execution_count": null,
      "outputs": []
    },
    {
      "cell_type": "markdown",
      "metadata": {
        "id": "gycq62paGWJ9"
      },
      "source": [
        "P6. Existe una montaña rusa que posee un sensor de movimiento en la base, el cual va midiendo la altura con respecto al suelo cada cierto tiempo, opteniendo valores enteros entre 1 y 9, considerando que 1 coresponde a 10 metros y las medidas se redondean. \n",
        "\n",
        "Los resultados finales entregados por este sensor son enteros que corresponden a las medidas tomas concatenadas, de forma que el entero 14562 corresponde a las alturas aproximadas de 10, 40, 50, 60 y 20, en ese orden.\n",
        "\n",
        "Creeuna función llamada `diferenciaMax(n)` que dado un entero como el descrito anteriormente devuelva la mayor diferencia (en valor absoluto) entre dos alturas contiguas.\n",
        "\n",
        "Ejemplo: \n",
        "\n",
        "\n",
        "```\n",
        " diferenciaMax(14562) \n",
        " 40 \n",
        "```\n",
        "\n"
      ]
    },
    {
      "cell_type": "code",
      "metadata": {
        "id": "0lvJsitNWN1V"
      },
      "source": [
        "#diferenciaMax(n): int -> int\n",
        "#A partir de un entero muestra la diferencia máx entre dos numeros contiguos\n",
        "#Ej: diferenciaMax(14562) = 40 \n",
        "\n",
        "def diferenciaMax(n):\n",
        "  if n<100:\n",
        "    return abs(n//10-n%10)\n",
        "  else: \n",
        "    dif = abs(((n//10)%10)-n%10)\n",
        "    return max(dif,diferenciaMax(n//10))\n",
        "\n",
        "\n",
        "assert diferenciaMax(11113111) == 2\n",
        "assert diferenciaMax(45012345) == 5\n",
        "assert diferenciaMax(40912345) == 9\n",
        "assert diferenciaMax(11111111) == 0\n"
      ],
      "execution_count": null,
      "outputs": []
    }
  ]
}