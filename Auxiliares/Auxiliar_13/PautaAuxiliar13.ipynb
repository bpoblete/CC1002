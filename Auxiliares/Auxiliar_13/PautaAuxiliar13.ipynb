{
  "nbformat": 4,
  "nbformat_minor": 0,
  "metadata": {
    "colab": {
      "name": "PautaAuxiliar13.ipynb",
      "provenance": [],
      "collapsed_sections": [
        "eEmsc4IT9WOy",
        "KhFsWlqf9Y5K"
      ],
      "authorship_tag": "ABX9TyOTI19UMXtM07pAmcAJkd1/",
      "include_colab_link": true
    },
    "kernelspec": {
      "name": "python3",
      "display_name": "Python 3"
    },
    "language_info": {
      "name": "python"
    }
  },
  "cells": [
    {
      "cell_type": "markdown",
      "metadata": {
        "id": "view-in-github",
        "colab_type": "text"
      },
      "source": [
        "<a href=\"https://colab.research.google.com/github/bpoblete/CC1002/blob/master/Auxiliares/Auxiliar_13/PautaAuxiliar13.ipynb\" target=\"_parent\"><img src=\"https://colab.research.google.com/assets/colab-badge.svg\" alt=\"Open In Colab\"/></a>"
      ]
    },
    {
      "cell_type": "markdown",
      "metadata": {
        "id": "Lfa1qE7i9DDC"
      },
      "source": [
        "# Auxiliar 13 - Clases y Objetos"
      ]
    },
    {
      "cell_type": "markdown",
      "metadata": {
        "id": "1KjZb39d97Fc"
      },
      "source": [
        "## Pregunta 1"
      ]
    },
    {
      "cell_type": "markdown",
      "metadata": {
        "id": "6JBwBf4Z99yN"
      },
      "source": [
        "En esta pregunta, usted deberá implementar la estructura recursiva lista (de la Clase 9) con clases de python. Esta debe poder agregar elementos a la lista, poder obtener la cabeza de la lista, obtener la cola de la lista y saber si la lista es vacia. Para lo anterior mencionado, cree métodos que logren hacer lo pedido."
      ]
    },
    {
      "cell_type": "markdown",
      "metadata": {
        "id": "hxIQ-RWjEuFD"
      },
      "source": [
        "HINT: Incorpore un campo llamado *vacia*, que indique cuando la lista sea una lista vacia. Además, en vez de usar None para representar una lista vacia, utilice una Lista que tenga el campo *vacia* en True."
      ]
    },
    {
      "cell_type": "code",
      "metadata": {
        "id": "r6Xtqlwk-hs2"
      },
      "source": [
        "# Campos:\n",
        "# valor: any\n",
        "# siguiente: Lista or None\n",
        "# vacia: bool\n",
        "class Lista:\n",
        "\n",
        "  # Constructor\n",
        "  def __init__(self, valor, siguiente, vacia=False):\n",
        "    self.valor = valor\n",
        "    self.siguiente = siguiente\n",
        "    self.vacia = vacia\n",
        "  \n",
        "  # cabeza: None -> any\n",
        "  # Entrega la cabeza de la lista\n",
        "  def cabeza(self):\n",
        "    return self.valor\n",
        "  \n",
        "  # cola: None -> Lista or None\n",
        "  # Entrega la cola de la lista\n",
        "  def cola(self):\n",
        "    return self.siguiente\n",
        "  \n",
        "  # vacia: None -> Bool\n",
        "  # Entrega True si la lista está vacia, False de lo contrario\n",
        "  def es_vacia(self):\n",
        "    return self.vacia\n",
        "  \n",
        "  # agregarElemento: any -> None\n",
        "  # Agrega un elemento al comienzo de la lista\n",
        "  def agregarElemento(self, elemento):\n",
        "    self.siguiente = Lista(self.valor, self.siguiente)\n",
        "    self.valor = elemento\n",
        "\n",
        "lista_test = Lista(5, Lista(None, None, True))\n",
        "\n",
        "assert lista_test.cabeza() == 5\n",
        "assert lista_test.es_vacia() == False\n",
        "assert lista_test.cola().es_vacia() == True\n",
        "\n",
        "lista_test.agregarElemento(8)\n",
        "\n",
        "assert lista_test.cabeza() == 8\n",
        "assert lista_test.cola().cabeza() == 5\n",
        "assert lista_test.cola().cola().es_vacia() == True\n"
      ],
      "execution_count": null,
      "outputs": []
    },
    {
      "cell_type": "markdown",
      "metadata": {
        "id": "KhFsWlqf9Y5K"
      },
      "source": [
        "## Pregunta 2"
      ]
    },
    {
      "cell_type": "markdown",
      "metadata": {
        "id": "-U2woprLToUV"
      },
      "source": [
        "A usted le gustan mucho las mascotas, y es por eso que se le ocurrió que sería buena idea poder tener mascotas dentro de un programa. Debido a lo anterior, usted debe crear la clase *Mascota que posea los siguientes campos y métodos:\n",
        "\n",
        "**Campos**:\n",
        "- nombre: representa el nombre de la mascota\n",
        "- tipo: representa que tipo de mascota es, por ejemplo: perro, gato, hamster, etc.\n",
        "- energía: un número que representa la cantidad de energía de la mascota. Con ella la mascota es capaz de jugar y realizar actividades.\n",
        "\n",
        "**Métodos**:\n",
        "- alimentar: alimenta a la mascota, teniendo como efecto que aumente su energía en 50.\n",
        "- jugar: la mascota juega, siempre y cuando tenga energía suficiente disponible para hacerlo. Asuma que jugar gasta 20 de energía.\n",
        "\n",
        "Además de los métodos anteriores, deberá implementar los métodos accesores (get) y mutadores (set) para todos los campos de la clase. Para los métodos alimentar y jugar, utilice los mutadores y accesores.\n"
      ]
    },
    {
      "cell_type": "code",
      "metadata": {
        "colab": {
          "base_uri": "https://localhost:8080/"
        },
        "id": "0hNjythP6OjX",
        "outputId": "ba8de9cb-bcc0-49c9-9e79-e6fbd8d77bb8"
      },
      "source": [
        "# Campos:\n",
        "# nombre: str\n",
        "# tipo: str\n",
        "# energia: int\n",
        "class Mascota:\n",
        "\n",
        "  # Constructor\n",
        "  def __init__(self, nombre, tipo, energia):\n",
        "    self.nombre = nombre\n",
        "    self.tipo = tipo\n",
        "    self.energia = energia\n",
        "  \n",
        "  ######### Métodos accesores ############\n",
        "\n",
        "  # getNombre: None -> str\n",
        "  # Entrega el nombre de la mascota\n",
        "  def getNombre(self):\n",
        "    return self.nombre\n",
        "  \n",
        "  # getTipo: None -> str\n",
        "  # Entrega el tipo de la Mascota\n",
        "  def getTipo(self):\n",
        "    return self.tipo\n",
        "\n",
        "  # getEnergia: None -> int\n",
        "  # Entrega la energia actual de la Mascota\n",
        "  def getEnergia(self):\n",
        "    return self.energia\n",
        "  \n",
        "  ######### Métodos mutadores ############\n",
        "\n",
        "  # setNombre: str -> None\n",
        "  # Modifica el nombre de la mascota\n",
        "  def setNombre(self, nombre):\n",
        "    self.nombre =  nombre\n",
        "  \n",
        "  # setTipo: str -> None\n",
        "  # Modifica el tipo de la mascota\n",
        "  def setTipo(self, tipo):\n",
        "    self.tipo = tipo\n",
        "  \n",
        "  # setEnergia: int -> None\n",
        "  # Modifica la energia de la mascota\n",
        "  def setEnergia(self, energia):\n",
        "    self.energia =  energia\n",
        "  \n",
        "  ######### Otros métodos ############\n",
        "\n",
        "  # alimentar: None -> None\n",
        "  # Alimenta a la mascota, aumenta su nivel de energía en 50\n",
        "  def alimentar(self):\n",
        "    self.setEnergia(self.getEnergia() + 50)\n",
        "  \n",
        "  # jugar: None -> None\n",
        "  # Juega con la mascota, lo cual requiere de 20 de energía.\n",
        "  def jugar(self):\n",
        "    energia_actual = self.getEnergia()\n",
        "    if energia_actual >= 20:\n",
        "      self.setEnergia(energia_actual - 20)\n",
        "    else:\n",
        "      print(\"Energía no es suficiente para jugar\")\n",
        "\n",
        "# Tests\n",
        "\n",
        "mascota = Mascota(\"Cachupin\", \"perro\", 20)\n",
        "\n",
        "assert mascota.getNombre() == \"Cachupin\"\n",
        "assert mascota.getTipo() == \"perro\"\n",
        "assert mascota.getEnergia() == 20\n",
        "\n",
        "mascota.jugar()\n",
        "\n",
        "assert mascota.getEnergia() == 0\n",
        "\n",
        "mascota.jugar()\n",
        "\n",
        "assert mascota.getEnergia() == 0\n",
        "\n",
        "mascota.alimentar()\n",
        "mascota.alimentar()\n",
        "mascota.alimentar()\n",
        "\n",
        "assert mascota.getEnergia() == 150\n",
        "\n",
        "mascota.setNombre(\"michi\")\n",
        "mascota.setTipo(\"gato\")\n",
        "\n",
        "assert mascota.getNombre() == \"michi\"\n",
        "assert mascota.getTipo() == \"gato\""
      ],
      "execution_count": null,
      "outputs": [
        {
          "output_type": "stream",
          "name": "stdout",
          "text": [
            "Energía no es suficiente para jugar\n"
          ]
        }
      ]
    },
    {
      "cell_type": "markdown",
      "metadata": {
        "id": "eEmsc4IT9WOy"
      },
      "source": [
        "## Pregunta 3"
      ]
    },
    {
      "cell_type": "markdown",
      "metadata": {
        "id": "EzjrWJ0897pd"
      },
      "source": [
        "En la Clase 20 se usa como ejemplo la Clase *Automovil*, la cual no está implementada. Es por esto que en esta pregunta deberá implementar la Clase *Automovil* con su respectivo constructor y los siguientes campos y métodos.\n",
        "\n",
        "**Campos:**\n",
        "- *color:* indica el color del automovil.\n",
        "- *nivel de gasolina*: indica el nivel actual de gasolina.\n",
        "- *velocidad actual*: indica la velocidad actual del automovil.\n",
        "- *velocidad máxima*: indica la velocidad máxima del automovil.\n",
        "- *apagado*: indica si el automovil está encendido o apagado.\n",
        "- *gasolina maxima*: indica la maxima cantidad de gasolina del automovil.\n",
        "\n",
        "**Métodos:**\n",
        "- *cambiarColor*: cambia el color del automovil.\n",
        "- *encender*: enciende el automovil (solo si está apagado).\n",
        "- *apagar*: apaga el automovil (solo si está encendido).\n",
        "- *acelerar*: aumenta la velocidad del automovil en 10 (la velocidad actual no puede superar la velocidad máxima). Además gasta 1 de gasolina.\n",
        "- *frenar*: disminuye en 10 la velocidad del automovil (la velocidad no puede ser menor a 0).\n",
        "- *gasolinaActual*: entrega la cantidad de gasolina actual.\n",
        "- *llenarEstanque*: llena el nivel de gasolina a su maximo.\n",
        "\n",
        "Asuma que al crear un vehiculo este empezará sin gasolina, apagado y no en movimiento. Además asuma que si el automovil ya llego a su velocidad maxima, de todas formas gastará gasolina al acelerar."
      ]
    },
    {
      "cell_type": "code",
      "metadata": {
        "id": "uH2XRkO3AG-t"
      },
      "source": [
        "# Campos:\n",
        "# color: str\n",
        "# nivelGasolina: int\n",
        "# velocidadActual: int\n",
        "# velocidadMaxima: int\n",
        "# apagado: bool\n",
        "# gasolinaMaxima: int\n",
        "class Automovil:\n",
        "\n",
        "  # Constructor\n",
        "  def __init__(self, color, velocidadMaxima, gasolinaMaxima):\n",
        "    # Inicialización de campos\n",
        "    self.color = color\n",
        "    self.nivelGasolina = 0\n",
        "    self.velocidadActual = 0\n",
        "    self.velocidadMaxima =  velocidadMaxima\n",
        "    self.apagado = True\n",
        "    self.gasolinaMaxima = gasolinaMaxima\n",
        "  \n",
        "  # cambiarColor: str -> None\n",
        "  # Cambia el color del automovil\n",
        "  def cambiarColor(self, color):\n",
        "    self.color = color\n",
        "  \n",
        "  # encender: None -> None\n",
        "  # Enciende el automovil solo si está apagado\n",
        "  def encender(self):\n",
        "    if self.apagado:\n",
        "      self.apagado = False\n",
        "    else:\n",
        "      print(\"Automovil ya encendido\")\n",
        "  \n",
        "  # apagar: None -> None\n",
        "  # Apaga el automovil solo si está encendido\n",
        "  def apagar(self):\n",
        "    if not self.apagado:\n",
        "      self.apagado = True\n",
        "    else:\n",
        "      print(\"Automovil ya apagado\")\n",
        "  \n",
        "  # acelerar: None -> None\n",
        "  # Acelera el automovil, aumentando su velocidad en 10, y disminuyendo su gasolina en 1.\n",
        "  # Solo acelera si tiene gasolina. Además no aumenta la velocidad actual si el automovil ya alcanzó la velocidad maxima\n",
        "  def acelerar(self):\n",
        "    if self.gasolinaActual() > 0 and self.apagado==False:\n",
        "      if self.velocidadActual + 10 >= self.velocidadMaxima:\n",
        "        self.velocidadActual = self.velocidadMaxima\n",
        "      else:\n",
        "        self.velocidadActual += 10\n",
        "      self.nivelGasolina -=1\n",
        "    else:\n",
        "      print(\"No hay gasolina o su automovil esta apagado\")\n",
        "  \n",
        "  # frenar: None -> None\n",
        "  # Frena el automovil dejando su velocidad en 0\n",
        "  def frenar(self):\n",
        "    self.velocidadActual -= 10\n",
        "    if self.velocidadActual < 0:\n",
        "      self.velocidadActual = 0\n",
        "\n",
        "  # gasolinaActual: None -> int\n",
        "  # Entrega el nivel actual de gasolina\n",
        "  def gasolinaActual(self):\n",
        "    return self.nivelGasolina\n",
        "  \n",
        "  # llenarEstanque: None -> None\n",
        "  # Llena el nivel de gasolina con el maximo posible\n",
        "  def llenarEstanque(self):\n",
        "    self.nivelGasolina =  self.gasolinaMaxima\n",
        "\n",
        "# Tests\n",
        "\n",
        "automovil = Automovil(\"azul\", 20, 5)\n",
        "\n",
        "assert automovil.color == \"azul\"\n",
        "assert automovil.apagado == True\n",
        "assert automovil.velocidadMaxima == 20\n",
        "assert automovil.velocidadActual == 0\n",
        "assert automovil.gasolinaMaxima == 5\n",
        "assert automovil.nivelGasolina == 0\n",
        "\n",
        "automovil.cambiarColor(\"verde\")\n",
        "assert automovil.color == \"verde\"\n",
        "\n",
        "automovil.llenarEstanque()\n",
        "assert automovil.nivelGasolina == 5\n",
        "\n",
        "automovil.encender()\n",
        "assert automovil.apagado == False\n",
        "\n",
        "automovil.acelerar()\n",
        "assert automovil.velocidadActual == 10\n",
        "assert automovil.nivelGasolina == 4\n",
        "\n",
        "automovil.acelerar()\n",
        "assert automovil.velocidadActual == 20\n",
        "assert automovil.nivelGasolina == 3\n",
        "\n",
        "automovil.acelerar()\n",
        "assert automovil.velocidadActual == 20\n",
        "assert automovil.nivelGasolina == 2\n",
        "\n",
        "automovil.frenar()\n",
        "assert automovil.velocidadActual == 10\n",
        "\n",
        "automovil.frenar()\n",
        "assert automovil.velocidadActual == 0\n",
        "\n",
        "automovil.frenar()\n",
        "assert automovil.velocidadActual == 0"
      ],
      "execution_count": null,
      "outputs": []
    }
  ]
}