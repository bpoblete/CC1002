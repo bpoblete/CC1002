{
  "nbformat": 4,
  "nbformat_minor": 0,
  "metadata": {
    "kernelspec": {
      "name": "python3",
      "display_name": "Python 3"
    },
    "colab": {
      "name": "Clase_02_Funciones_y_Receta_Diseno.ipynb",
      "provenance": [],
      "collapsed_sections": [],
      "include_colab_link": true
    }
  },
  "cells": [
    {
      "cell_type": "markdown",
      "metadata": {
        "id": "view-in-github",
        "colab_type": "text"
      },
      "source": [
        "<a href=\"https://colab.research.google.com/github/bpoblete/CC1002/blob/master/Clases/Clase_02_Funciones_y_Receta_Diseno.ipynb\" target=\"_parent\"><img src=\"https://colab.research.google.com/assets/colab-badge.svg\" alt=\"Open In Colab\"/></a>"
      ]
    },
    {
      "cell_type": "markdown",
      "metadata": {
        "id": "JYRiLztjcewP"
      },
      "source": [
        "#Clase 2: Funciones y Receta de Diseño\n",
        "## Capítulo 2: Funciones\n",
        "\n",
        "(Leer capítulo 2 del apunte para reforzar)\n",
        "\n",
        "Hoy veremos como hacer funciones en Python. \n",
        "\n",
        "Igual que en matemáticas, <mark>las **funciones** en computación es una estructura que **recibe valores de entrada** y **genera valores de salida**</mark>.\n",
        "\n",
        "Las funciones nos **permiten encapsular tareas** o funcionalidades para así reutilizar el código sin tener que escribirlo nuevamente.\n",
        "\n",
        "Ejemplo:\n",
        "\n",
        "### Cómo calcular el area de un círculo?\n",
        "\n",
        "Conocemos bien la <mark>relación entre el área de un círculo</mark> y su <mark>radio</mark>. El área de un círculo está dado por su radio _r_. Entonces se calcula mediante la expresión:"
      ]
    },
    {
      "cell_type": "code",
      "metadata": {
        "id": "KqiiYN2fcewQ"
      },
      "source": [
        "r=5\n",
        "pi=3.14\n",
        "area=pi*r**2"
      ],
      "execution_count": null,
      "outputs": []
    },
    {
      "cell_type": "code",
      "metadata": {
        "id": "ngPqt9BgZlAy"
      },
      "source": [
        "area"
      ],
      "execution_count": null,
      "outputs": []
    },
    {
      "cell_type": "markdown",
      "metadata": {
        "id": "8kyYvb_-cewU"
      },
      "source": [
        "si queremos calcular con r = 2?"
      ]
    },
    {
      "cell_type": "code",
      "metadata": {
        "id": "BvDvNGChcewV"
      },
      "source": [
        "#...completar"
      ],
      "execution_count": null,
      "outputs": []
    },
    {
      "cell_type": "code",
      "metadata": {
        "id": "HTx5BprqaUNV"
      },
      "source": [
        "#...completar"
      ],
      "execution_count": null,
      "outputs": []
    },
    {
      "cell_type": "markdown",
      "metadata": {
        "id": "ATPaBwcncewX"
      },
      "source": [
        "### Hagamos una función que permita hacer esto para no tener que reescribir el código cada vez. \n",
        "\n",
        "<mark>Es importante que cada función tenga un **nombre** que esté **directamente relacionado con el objetivo** que cumple, al igual que sus parámetros.</mark>\n",
        "\n",
        "Palabras para declarar una función empezamos con **`def`** y terminamos con **`:`**.\n",
        "\n",
        "Luego, todas **las instrucciones que pertenecen a la función deben ir indentadas** adentro de ésta. Esto **indica subordinación** a la instucción que está un nivel más afuera.\n",
        "\n",
        "Además, la palabra **`return`** indica el fin de la función."
      ]
    },
    {
      "cell_type": "code",
      "metadata": {
        "id": "Jo58wkWrcewY"
      },
      "source": [
        "def areaCirculo(r):\n",
        "  pi=3.14\n",
        "  area = pi*r**2\n",
        "  return area "
      ],
      "execution_count": null,
      "outputs": []
    },
    {
      "cell_type": "markdown",
      "metadata": {
        "id": "5FYhEub-cewa"
      },
      "source": [
        "la invocamos:"
      ]
    },
    {
      "cell_type": "code",
      "metadata": {
        "id": "3uuzi2Dpcewb"
      },
      "source": [
        "areaCirculo(5)"
      ],
      "execution_count": null,
      "outputs": []
    },
    {
      "cell_type": "code",
      "metadata": {
        "id": "zqiFot88cewd"
      },
      "source": [
        "areaCirculo(12)"
      ],
      "execution_count": null,
      "outputs": []
    },
    {
      "cell_type": "markdown",
      "metadata": {
        "id": "o4Tz6B25cewf"
      },
      "source": [
        "funciona para cualquier número, no tenemos que repetir código.\n",
        "\n",
        "### Sintaxis de una función\n",
        "\n",
        "```python\n",
        "def nombre(parametros):\n",
        "  instrucciones (cero o mas) \n",
        "  return expresion\n",
        "```\n",
        "  \n",
        "- parametros\n",
        "  - sintaxis: nombre, ... (cero o mas)\n",
        "  - instrucciones y return se escriben indentadas en un margen/nivel más adentro que encabezamiento\n",
        "\n",
        "```python\n",
        "def areaCirculo(r):\n",
        "  pi=3.14\n",
        "  return pi*r**2\n",
        "```\n",
        "  \n",
        "  \n",
        "  - contraejemplo:\n",
        "  "
      ]
    },
    {
      "cell_type": "code",
      "metadata": {
        "id": "CiiCWSqrcewg"
      },
      "source": [
        "def f(x):\n",
        "return x"
      ],
      "execution_count": null,
      "outputs": []
    },
    {
      "cell_type": "markdown",
      "metadata": {
        "id": "HzQklOCCcewi"
      },
      "source": [
        "### Funciones pueden contener funciones\n",
        "\n",
        "**Una función puede estar compuesta de operadores básicos, variables y también de otras funciones que hayan sido definidas antes. Ej. Implementar una nueva función llamada:**\n",
        "```python \n",
        "    areaAnillo(r_exterior, r_interior)\n",
        "```\n",
        "\n",
        "- Paso 1: Definir el algoritmo o pasos a seguir.\n",
        "- Paso 2: Definir la nueva función."
      ]
    },
    {
      "cell_type": "code",
      "metadata": {
        "id": "X8fkj1Hqcewj"
      },
      "source": [
        "def areaAnillo(r_exterior, r_interior):\n",
        "  return #...completar"
      ],
      "execution_count": null,
      "outputs": []
    },
    {
      "cell_type": "code",
      "metadata": {
        "id": "pHdVopC3cewm"
      },
      "source": [
        "areaAnillo(5,3)"
      ],
      "execution_count": null,
      "outputs": []
    },
    {
      "cell_type": "markdown",
      "metadata": {
        "id": "Mimmi4KFcewr"
      },
      "source": [
        "### Indentación y subordinación de instrucciones\n",
        "\n",
        "\n",
        "- cada indentación que separa la instrucción del margen izquierdo, indica subordinación a la función de más afuera."
      ]
    },
    {
      "cell_type": "code",
      "metadata": {
        "id": "PbsSg7UMcews"
      },
      "source": [
        "def areaCirculo(radio): \n",
        "  pi = 3.14\n",
        "    return pi * radio **2"
      ],
      "execution_count": null,
      "outputs": []
    },
    {
      "cell_type": "markdown",
      "metadata": {
        "id": "1bM_a1Lkceww"
      },
      "source": [
        "### Alcance de las variables\n",
        "\n",
        "Ejemplo:"
      ]
    },
    {
      "cell_type": "code",
      "metadata": {
        "id": "pWOQLJ0Kcewx"
      },
      "source": [
        "a = 100\n",
        "def sumaValorA(x):\n",
        "  return x + a\n",
        "\n",
        "sumaValorA(1)"
      ],
      "execution_count": null,
      "outputs": []
    },
    {
      "cell_type": "markdown",
      "metadata": {
        "id": "6bWB4j-ccewz"
      },
      "source": [
        "Si redefinimos `a` adentro de la función, solo se modifica una copia local de la variable `a` y no a nivel global. \n",
        "Ejemplo:"
      ]
    },
    {
      "cell_type": "code",
      "metadata": {
        "id": "7pIyt4Fxcewz"
      },
      "source": [
        "a = 100\n",
        "def sumaValorA(x):\n",
        "  a = 5\n",
        "  return x + a\n",
        "\n",
        "sumaValorA(a)"
      ],
      "execution_count": null,
      "outputs": []
    },
    {
      "cell_type": "code",
      "metadata": {
        "id": "zP1OJlMacew2"
      },
      "source": [
        "a   # esto muestra el valor global de a (es decir afuera de la función)"
      ],
      "execution_count": null,
      "outputs": []
    },
    {
      "cell_type": "markdown",
      "metadata": {
        "id": "l5m0jdnccew4"
      },
      "source": [
        "Por otra parte, si el argumento de una función tiene el **mismo nombre que una variable definida fuera** de ésta, la función evaluará sus instrucciones con el valor del argumento, pues es la variable que está dentro de su alcance. Ejemplo:"
      ]
    },
    {
      "cell_type": "code",
      "metadata": {
        "id": "4V6OOOaBcew5"
      },
      "source": [
        "a = 100\n",
        "x = 50\n",
        "def sumaValorA(x):  # no importa qué valor tenía antes x\n",
        "  return x + a\n",
        "\n",
        "sumaValorA(4)"
      ],
      "execution_count": null,
      "outputs": []
    },
    {
      "cell_type": "code",
      "metadata": {
        "id": "nZ3nsCY6cew9"
      },
      "source": [
        "a = 100\n",
        "x = 50\n",
        "def sumaValorA():  # no definimos parametros de entrada\n",
        "  return x + a\n",
        "\n",
        "sumaValorA()"
      ],
      "execution_count": null,
      "outputs": []
    },
    {
      "cell_type": "markdown",
      "metadata": {
        "id": "sL9ma9O5cew_"
      },
      "source": [
        "\n",
        "\n",
        "- ¿Qué pasa si llamo la función con el número incorrecto de parámetros?\n",
        "\n",
        "\n"
      ]
    },
    {
      "cell_type": "code",
      "metadata": {
        "id": "rLDAAFupcexA"
      },
      "source": [
        "sumaValorA(5,6)"
      ],
      "execution_count": null,
      "outputs": []
    },
    {
      "cell_type": "markdown",
      "metadata": {
        "id": "TkjIjA5LcexE"
      },
      "source": [
        "\n",
        "\n",
        "### ¿Cómo traducir un problema expresado en palabras a una función?\n",
        "\n",
        "_Genera S.A. le paga 4.500 por hora a todos sus ingenieros de procesos recién egresados. Un empleado típicamente trabaja entre 20 y 65 horas por semana. La gerencia de informática le pide desarrollar un programa que calcule el sueldo de un empleado a partir del número de horas trabajadas._\n",
        "\n",
        "Debemos fijarnos en 2 cosas:\n",
        "\n",
        "- Qué debe producir la función?\n",
        "- Qué recibe como parámetros?"
      ]
    },
    {
      "cell_type": "code",
      "metadata": {
        "id": "vkpvjE-BcexF"
      },
      "source": [
        "def sueldo(horas):\n",
        "  return 4500*horas"
      ],
      "execution_count": null,
      "outputs": []
    },
    {
      "cell_type": "markdown",
      "metadata": {
        "id": "0NyrLKE9cexH"
      },
      "source": [
        "\n",
        "***\n",
        "\n",
        "\n",
        "\n",
        "## Capítulo 3: Receta de diseño (Leer capítulo 3 apunte del curso)\n",
        "\n",
        "Es una receta para escribir correctamente funciones. Se preocupa de ayudarnos a extraer la información importante de un problema y entenderlo. Se compone de la siguiente manera:\n",
        "\n",
        "1. Entender el **propósito** de la función: ¿para qué sirve? \n",
        "2. Dar **ejemplos** de uso de la función: ¿cómo se usa?\n",
        "3. **Probar** la función: hacer tests\n",
        "4. **Especificar** el cuerpo de la función: ahora escribimos la función\n",
        "\n",
        "\n",
        "### Entender el propósito de una función\n",
        "\n",
        "**Objetivo**: diseñar una función que consume y produce información.\n",
        "\n",
        "- Entonces, debemos darle a la función <mark>un nombre significativo</mark> que indique _qué es lo que hace_. \n",
        "-  Además, <mark>indicar qué información consume</mark> y <mark>qué información produce</mark>.\n",
        "- Esto se llama el <mark>**contrato**</mark> de una función.\n",
        "  - Por ahora los tipos de datos que consume y produce una función son los que conocemos (después agregaremos más): **`int`, `float`, `num`** y **`str`**.\n",
        "- Luego escribimos el <mark>**propósito**</mark> de la función.\n",
        "- Después agregamos <mark>ejemplos</mark> de cómo debe funcionar la función, que debemos calcular antes de escribir la función (a mano).\n",
        "- Luego agregamos <mark>tests</mark>, utilizando la función **`assert`**.\n",
        "\n",
        "<mark> _TODO ESTO SE HACE ANTES DE ESCRIBIR LA FUNCIÓN_</mark>\n",
        "\n",
        "### Ejemplo:"
      ]
    },
    {
      "cell_type": "code",
      "metadata": {
        "id": "St8bd-NTcexI"
      },
      "source": [
        "# areaRectangulo: num num -> num\n",
        "# calcula el area de un rectangulo de medidas\n",
        "# largo y ancho\n",
        "# ejemplo: areaRectangulo(5, 3) debe producir 15 \n",
        "def areaRectangulo(largo, ancho):\n",
        "  return largo * ancho \n",
        "    \n",
        "# Tests    \n",
        "assert areaRectangulo(5, 3) == 15\n"
      ],
      "execution_count": null,
      "outputs": []
    },
    {
      "cell_type": "code",
      "metadata": {
        "id": "_Q4Hz_EGcexK"
      },
      "source": [
        "# areaCuadrado: num -> num\n",
        "# calcula el area de un cuadrado de medida lado \n",
        "# ejemplo: areaCuadrado(5) debe producir 25\n",
        "def areaCuadrado(lado):\n",
        "  #...completar\n",
        "    \n",
        "# Tests \n",
        "   \n",
        "assert #...completar\n",
        "    "
      ],
      "execution_count": null,
      "outputs": []
    },
    {
      "cell_type": "markdown",
      "metadata": {
        "id": "BvsSaB6lcexN"
      },
      "source": [
        "### En resumen hemos aprendido hasta ahora:\n",
        "\n",
        "- A hacer funciones (cada función soluciona un problema acotado)\n",
        "  - Entender cuál es el ámbito de las variables\n",
        "  - Funciones de funciones\n",
        "  - Crear recetas de diseño (pensar en abstracto sobre qué es lo que queremos hacer y luego aterrizarlo)\n",
        "  \n",
        "  \n",
        "  \n",
        "### Funciones principales y funciones auxiliares\n",
        "\n",
        "```python\n",
        "\n",
        "def areaAnillo(interior , exterior): # Buena practica \n",
        "    return areaCirculo(exterior) - areaCirculo(interior)\n",
        "\n",
        "def areaAnillo(interior , exterior): # Mala practica \n",
        "    return 3.14 * exterior ** 2 - 3.14 * interior ** 2\n",
        "```\n",
        "\n",
        "**debemos considerar el descomponer el problema en funciones, y éstas a su vez descomponerlas en funciones auxiliares hasta que cada una de ellas resuelva UN Y SOLO UN SUBPROBLEMA particular.**"
      ]
    },
    {
      "cell_type": "markdown",
      "metadata": {
        "id": "LWOIe_u-cexO"
      },
      "source": [
        "### Problema (hacer de manera individual):\n",
        "\n",
        "\n",
        "\n",
        "_“Una importante cadena de cines de Santiago tiene completa libertad en fijar los precios de las entradas. Claramente, mientras más cara sea la entrada, menos personas estarán dispuestas a pagar por ellas. En un reciente estudio de mercado, se determinó que hay una relación entre el precio al que se venden las entradas y la cantidad de espectadores promedio: a un precio de \\$5.000 por entrada, 120 personas van a ver la película; al reducir \\$500 en el precio de la entrada, los espectadores aumentan en 15. Desafortunadamente, mientras más personas ocupan la sala para ver la película, más se debe gastar en limpieza y mantenimiento general. Para reproducir una película, el cine gasta \\$180.000. Asimismo, se gastan en promedio \\$40 por espectador por conceptos de limpieza y mantenimiento. El gerente del cine le encarga determinar cuál es la relación exacta entre las ganancias y el precio de las entradas para poder decidir a qué precio se debe vender cada entrada para maximizar las ganancias totales.”_\n",
        "\n",
        "\n",
        "Cuando nos vemos enfrentados a estas situaciones, <mark>lo mejor es identificar las dependencias</mark> y ver las relaciones una por una:\n",
        "\n",
        "- Las **_ganancias_** corresponden a la diferencia entre los ingresos y los gastos.\n",
        "- Los **_ingresos_** se generan exclusivamente a través de la venta de entradas. Corresponde al producto del valor de la entrada por el número de espectadores.\n",
        "- Los **_gastos_** están formados por dos ítemes: un gasto fijo (\\$180.000) y un gasto variable que depende del número de espectadores.\n",
        "- Finalmente, el enunciado del problema también especifica cómo el número de espectadores depende del precio de las entradas.\n",
        "\n",
        "**Antes de escribir código, hay que formular el contrato, encabezado y propósito de la función, ejemplos y casos de prueba**\n",
        "\n",
        "```python\n",
        "# ganancias: int -> int\n",
        "# calcular las ganancias como la diferencia entre los ingresos y \n",
        "# los gastos dado precioEntrada\n",
        "def ganancias(precioEntrada): \n",
        "    \n",
        "# ingresos: int -> int\n",
        "# calcular el ingreso total, dado precioEntrada \n",
        "def ingresos(precioEntrada):\n",
        "   \n",
        "# gastos: int -> int\n",
        "# calcular los gastos totales, dado precioEntrada\n",
        "def gastos(precioEntrada):\n",
        "\n",
        "# espectadores: int -> int\n",
        "# calcular el numero de espectadores, dado precioEntrada\n",
        "def espectadores(precioEntrada):  \n",
        "``` "
      ]
    },
    {
      "cell_type": "code",
      "metadata": {
        "id": "7MuObMLMcexP"
      },
      "source": [
        "def ganancias(precioEntrada):\n",
        "    return #...completar\n",
        "\n",
        "def ingresos(precioEntrada):\n",
        "    return #...completar\n",
        "\n",
        "def gastos(precioEntrada):\n",
        "    return #...completar\n",
        "\n",
        "def espectadores(precioEntrada):\n",
        "    return 120 + (5000 - precioEntrada) * 15 / 500"
      ],
      "execution_count": null,
      "outputs": []
    },
    {
      "cell_type": "markdown",
      "metadata": {
        "id": "e1qtUHgM928r"
      },
      "source": [
        "\n",
        "\n",
        "```\n",
        "# This is formatted as code\n",
        "```\n",
        "\n",
        "# Ejercicio 1: \n",
        "<mark>Ahora que revisaste todo el material ¡No olvides realizar el **Ejercicio publicado en [U-Cursos](https://www.u-cursos.cl/)**!</mark>"
      ]
    }
  ]
}