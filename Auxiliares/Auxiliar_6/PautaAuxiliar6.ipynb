{
  "nbformat": 4,
  "nbformat_minor": 0,
  "metadata": {
    "colab": {
      "name": "PautaAuxiliar6.ipynb",
      "provenance": [],
      "collapsed_sections": [],
      "authorship_tag": "ABX9TyPc1PI9ZBy7mUVq9y2+FAeY",
      "include_colab_link": true
    },
    "kernelspec": {
      "name": "python3",
      "display_name": "Python 3"
    },
    "language_info": {
      "name": "python"
    }
  },
  "cells": [
    {
      "cell_type": "markdown",
      "metadata": {
        "id": "view-in-github",
        "colab_type": "text"
      },
      "source": [
        "<a href=\"https://colab.research.google.com/github/bpoblete/CC1002/blob/master/Auxiliares/Auxiliar_6/PautaAuxiliar6.ipynb\" target=\"_parent\"><img src=\"https://colab.research.google.com/assets/colab-badge.svg\" alt=\"Open In Colab\"/></a>"
      ]
    },
    {
      "cell_type": "markdown",
      "metadata": {
        "id": "x7qhwCehMzsL"
      },
      "source": [
        "# Auxiliar 6 - Estructuras Recursivas y Abstracción funcional\n"
      ]
    },
    {
      "cell_type": "markdown",
      "metadata": {
        "id": "pUXgPOHYNJHf"
      },
      "source": [
        "## Pregunta 1"
      ]
    },
    {
      "cell_type": "markdown",
      "metadata": {
        "id": "-1HaQzvUNPye"
      },
      "source": [
        "A un profesor de la universidad le gustaría tener información acerca de las evaluaciones entregadas de sus alumnos. Además de esto le gustaría saber el total de alumnos aprobados y reprobados en el curso, esto dependiendo de la cantidad de evaluaciones entregadas. Usted decide ayudarlo, Usted decide ayudarlo, por lo que debe crear una función que realice esta tarea. Para esto siga los siguientes pasos:\n",
        "\n",
        "- Cree una estructura **alumno** que posea los campos **nombre** y **evaluaciones_entregadas**.\n",
        "- Los alumnos deben ser guardados en una lista.\n",
        "- Implementar la función recursiva **cantidad_alumnos_aprobados** que dada una lista de alumnos y un número que representa la cantidad de evaluaciones para aprobar, nos entregue la cantidad de alumnos aprobados en el curso."
      ]
    },
    {
      "cell_type": "code",
      "metadata": {
        "id": "sJushP9JWo7v"
      },
      "source": [
        "import estructura\n",
        "from lista import *\n",
        "\n",
        "# alumno: nombre (str) evaluaciones_entregadas (int)\n",
        "estructura.crear(\"alumno\", \"nombre evaluaciones_entregadas\")\n",
        "\n",
        "# cantidad_alumnos_aprobados: lista(alumno) int -> int\n",
        "# Entrega la cantidad de alumnos que aprueban dada una lista de alumnos\n",
        "# Ejemplo: cantidad_alumnos_aprobados(lista(alumno(\"Diego\", 6), listaVacia), 5)\n",
        "# entrega 1\n",
        "def cantidad_alumnos_aprobados(lista_alumnos, evaluaciones_para_aprobar):\n",
        "  # Si no hay alumnos, entonces nadie aprueba\n",
        "  if vacia(lista_alumnos):\n",
        "    return 0\n",
        "\n",
        "  else:\n",
        "    # Revisamos si aprueba el alumno en la cabeza de la lista\n",
        "    alumno = cabeza(lista_alumnos)\n",
        "    evaluaciones_entregadas = alumno.evaluaciones_entregadas\n",
        "\n",
        "    # Si aprueba entonces sumamos 1 con la cantidad que aprueban en la cola\n",
        "    if evaluaciones_entregadas >= evaluaciones_para_aprobar:\n",
        "      return 1 + cantidad_alumnos_aprobados(cola(lista_alumnos), evaluaciones_para_aprobar)\n",
        "    # Si no aprueba, entonces solo entregamos los que aprueban en la cola\n",
        "    else:\n",
        "      return cantidad_alumnos_aprobados(cola(lista_alumnos), evaluaciones_para_aprobar)\n",
        "\n",
        "\n",
        "# Tests\n",
        "juan = alumno(\"Juan\", 5)\n",
        "pedro = alumno(\"Pedro\", 2)\n",
        "diego = alumno(\"Diego\", 8)\n",
        "\n",
        "alumnos = lista(juan, lista(pedro, lista(diego, listaVacia)))\n",
        "\n",
        "assert cantidad_alumnos_aprobados(alumnos, 5) == 2\n",
        "assert cantidad_alumnos_aprobados(alumnos, 1) == 3\n",
        "assert cantidad_alumnos_aprobados(alumnos, 9) == 0"
      ],
      "execution_count": null,
      "outputs": []
    },
    {
      "cell_type": "markdown",
      "metadata": {
        "id": "CGXXcpBNNR0E"
      },
      "source": [
        "## Pregunta 2"
      ]
    },
    {
      "cell_type": "markdown",
      "metadata": {
        "id": "Bjq8buA8U-tF"
      },
      "source": [
        "El profesor de la Pregunta 1, además le gustaría saber que alumnos son los que aprueban y reprueban en su curso. Es por esto que debe implementar las funciónes **alumnos_aprobados()** y **alumnos_reprobados()**, que reciban una lista con alumnos y la cantidad de evaluaciones para aprobar, y que entreguen una lista con los alumnos que aprueban y reprueban respectivamente. NOTA: No utilice las funciones de abstracción funcional"
      ]
    },
    {
      "cell_type": "code",
      "metadata": {
        "id": "LeIHvqU6WqMj"
      },
      "source": [
        "# alumnos_aprobados: lista(alumno) int -> lista(alumno)\n",
        "# Dada una lista de alumnos, devuelve una lista solo con los alumnos que aprueban\n",
        "# Ejemplo: alumnos_aprobados(lista(alumno(\"Diego\", 5), listaVacia), 4) entrega lista(alumno(\"Diego\", 5), listaVacia)\n",
        "def alumnos_aprobados(lista_alumnos, evaluaciones_para_aprobar):\n",
        "  # Entregamos lista vacia si es que no existen alumnos\n",
        "  if vacia(lista_alumnos):\n",
        "    return lista_alumnos\n",
        "\n",
        "  else:\n",
        "    # Revisamos si aprueba el alumno en la cabeza de la lista\n",
        "    alumno = cabeza(lista_alumnos)\n",
        "    evaluaciones_entregadas = alumno.evaluaciones_entregadas\n",
        "\n",
        "    # Si reprueba entonces lo agregamos a la cabeza de una nueva lista\n",
        "    if evaluaciones_entregadas >= evaluaciones_para_aprobar:\n",
        "      return lista(alumno, alumnos_aprobados(cola(lista_alumnos), evaluaciones_para_aprobar))\n",
        "\n",
        "    # Si no, solo entregamos los que reprueban de la cola\n",
        "    else:\n",
        "      return alumnos_aprobados(cola(lista_alumnos), evaluaciones_para_aprobar)\n",
        "\n",
        "# Tests\n",
        "juan = alumno(\"Juan\", 5)\n",
        "pedro = alumno(\"Pedro\", 2)\n",
        "diego = alumno(\"Diego\", 8)\n",
        "\n",
        "alumnos = lista(juan, lista(pedro, lista(diego, listaVacia)))\n",
        "\n",
        "assert alumnos_aprobados(alumnos, 5) == lista(juan, lista(diego, listaVacia))\n",
        "assert alumnos_aprobados(alumnos, 1) == lista(juan, lista(pedro, lista(diego, listaVacia)))\n",
        "assert alumnos_aprobados(alumnos, 9) == listaVacia"
      ],
      "execution_count": null,
      "outputs": []
    },
    {
      "cell_type": "code",
      "metadata": {
        "id": "QbmgTYSKZc8Y"
      },
      "source": [
        "# alumnos_reprobados: lista(alumno) int -> lista(alumno)\n",
        "# Dada una lista de alumnos, devuelve una lista solo con los alumnos que reprueban\n",
        "# Ejemplo: alumnos_reprobados(lista(alumno(\"Diego\", 5), listaVacia), 8) entrega lista(alumno(\"Diego\", 5), listaVacia)\n",
        "def alumnos_reprobados(lista_alumnos, evaluaciones_para_aprobar):\n",
        "  # Entregamos lista vacia si es que no existen alumnos\n",
        "  if vacia(lista_alumnos):\n",
        "    return lista_alumnos\n",
        "\n",
        "  else:\n",
        "    # Revisamos si reprueba el alumno en la cabeza de la lista\n",
        "    alumno = cabeza(lista_alumnos)\n",
        "    evaluaciones_entregadas = alumno.evaluaciones_entregadas\n",
        "\n",
        "    # Si reprueba entonces lo agregamos a la cabeza de una nueva lista\n",
        "    if evaluaciones_entregadas < evaluaciones_para_aprobar:\n",
        "      return lista(alumno, alumnos_reprobados(cola(lista_alumnos), evaluaciones_para_aprobar))\n",
        "\n",
        "    # Si no, solo entregamos los que reprueban de la cola\n",
        "    else:\n",
        "      return alumnos_reprobados(cola(lista_alumnos), evaluaciones_para_aprobar)\n",
        "\n",
        "# Tests\n",
        "juan = alumno(\"Juan\", 5)\n",
        "pedro = alumno(\"Pedro\", 2)\n",
        "diego = alumno(\"Diego\", 8)\n",
        "\n",
        "alumnos = lista(juan, lista(pedro, lista(diego, listaVacia)))\n",
        "\n",
        "assert alumnos_reprobados(alumnos, 5) == lista(pedro, listaVacia)\n",
        "assert alumnos_reprobados(alumnos, 1) == listaVacia\n",
        "assert alumnos_reprobados(alumnos, 9) == lista(juan, lista(pedro, lista(diego, listaVacia)))"
      ],
      "execution_count": null,
      "outputs": []
    },
    {
      "cell_type": "markdown",
      "metadata": {
        "id": "CN5V7W_7NT1f"
      },
      "source": [
        "## Pregunta 3"
      ]
    },
    {
      "cell_type": "markdown",
      "metadata": {
        "id": "W8ssqVcZT8r5"
      },
      "source": [
        "- Implemente la pregunta 2, pero utilizando la función filtro de abstracción funcional. Para ello cree una función que dado un alumno, entregue true o false dependiendo de si el estudiante aprobó o no el curso. Deberá modificar un poco la función filtro entregada en la clase 11, para que reciba un parametro para ser usado en el 'operador'."
      ]
    },
    {
      "cell_type": "code",
      "metadata": {
        "id": "1um-HAd_WqmX"
      },
      "source": [
        "# filtro: (X -> bool) lista(X) -> lista(X)\n",
        "# devuelve lista con todos los valores donde operador devuelve True \n",
        "def filtro(operador , unaLista, argumento_operador):\n",
        "    if vacia(unaLista): \n",
        "        return listaVacia\n",
        "    else:\n",
        "        if operador(cabeza(unaLista), argumento_operador):\n",
        "            return lista(cabeza(unaLista), filtro(operador, cola(unaLista), argumento_operador))\n",
        "        else:\n",
        "            return filtro(operador , cola(unaLista), argumento_operador)"
      ],
      "execution_count": null,
      "outputs": []
    },
    {
      "cell_type": "code",
      "metadata": {
        "id": "Gq5zVpK4aXLR"
      },
      "source": [
        "# esta_aprobado: alumno int -> bool\n",
        "# Dado un alumno, entrega True si aprueba, False si no.\n",
        "# Ejemplo: esta_aprobado(alumno(\"Diego\", 4), 3) retorna True\n",
        "# esta_aprobado(alumno(\"Diego\", 4), 7) retorna False\n",
        "def esta_aprobado(alumno, evaluaciones_para_aprobar):\n",
        "  # Obtenemos las evaluaciones entregadas por el alumno\n",
        "  evaluaciones_entregadas = alumno.evaluaciones_entregadas\n",
        "\n",
        "  # Y retornamos si aprueba o no\n",
        "  return evaluaciones_entregadas >= evaluaciones_para_aprobar\n",
        "\n",
        "\n",
        "# Tests\n",
        "alumno_test = alumno(\"Diego\", 4)\n",
        "\n",
        "assert esta_aprobado(alumno_test, 3) == True\n",
        "assert esta_aprobado(alumno_test, 4) == True\n",
        "assert esta_aprobado(alumno_test, 5) == False\n",
        "\n",
        "\n",
        "# alumnos_aprobados: lista(alumno) int -> lista(alumno)\n",
        "# Dada una lista de alumnos, devuelve una lista solo con los alumnos que aprueban\n",
        "# Ejemplo: alumnos_aprobados(lista(alumno(\"Diego\", 5), listaVacia), 4) entrega lista(alumno(\"Diego\", 5), listaVacia)\n",
        "def alumnos_aprobados(lista_alumnos, evaluaciones_para_aprobar):\n",
        "  # Filtramos nuestra lista, obteniendo solo aprobados\n",
        "  aprobados = filtro(esta_aprobado, lista_alumnos, evaluaciones_para_aprobar)\n",
        "\n",
        "  return aprobados\n",
        "\n",
        "# Tests\n",
        "juan = alumno(\"Juan\", 5)\n",
        "pedro = alumno(\"Pedro\", 2)\n",
        "diego = alumno(\"Diego\", 8)\n",
        "\n",
        "alumnos = lista(juan, lista(pedro, lista(diego, listaVacia)))\n",
        "\n",
        "assert alumnos_aprobados(alumnos, 5) == lista(juan, lista(diego, listaVacia))\n",
        "assert alumnos_aprobados(alumnos, 1) == lista(juan, lista(pedro, lista(diego, listaVacia)))\n",
        "assert alumnos_aprobados(alumnos, 9) == listaVacia"
      ],
      "execution_count": null,
      "outputs": []
    },
    {
      "cell_type": "code",
      "metadata": {
        "id": "UlS5RgIgasR4"
      },
      "source": [
        "# esta_reprobado: alumno int -> bool\n",
        "# Dado un alumno, entrega True si reprueba, False si no.\n",
        "# Ejemplo: esta_reprobado(alumno(\"Diego\", 4), 3) retorna False\n",
        "# esta_reprobado(alumno(\"Diego\", 4), 7) retorna True\n",
        "def esta_reprobado(alumno, evaluaciones_para_aprobar):\n",
        "  # Obtenemos las evaluaciones entregadas por el alumno\n",
        "  evaluaciones_entregadas = alumno.evaluaciones_entregadas\n",
        "\n",
        "  # Y retornamos si reprueba o no\n",
        "  return evaluaciones_entregadas < evaluaciones_para_aprobar\n",
        "\n",
        "# Tests\n",
        "alumno_test = alumno(\"Diego\", 4)\n",
        "\n",
        "assert not esta_reprobado(alumno_test, 3) == True\n",
        "assert not esta_reprobado(alumno_test, 4) == True\n",
        "assert not esta_reprobado(alumno_test, 5) == False\n",
        "\n",
        "# alumnos_reprobados: lista(alumno) int -> lista(alumno)\n",
        "# Dada una lista de alumnos, devuelve una lista solo con los alumnos que reprueban\n",
        "# Ejemplo: alumnos_reprobados(lista(alumno(\"Diego\", 5), listaVacia), 4) entrega listaVacia\n",
        "def alumnos_reprobados(lista_alumnos, evaluaciones_para_aprobar):\n",
        "  # Filtramos nuestra lista, obteniendo solo reprobados\n",
        "  reprobados = filtro(esta_reprobado, lista_alumnos, evaluaciones_para_aprobar)\n",
        "\n",
        "  return reprobados\n",
        "\n",
        "# Tests\n",
        "juan = alumno(\"Juan\", 5)\n",
        "pedro = alumno(\"Pedro\", 2)\n",
        "diego = alumno(\"Diego\", 8)\n",
        "\n",
        "alumnos = lista(juan, lista(pedro, lista(diego, listaVacia)))\n",
        "\n",
        "assert alumnos_reprobados(alumnos, 5) == lista(pedro, listaVacia)\n",
        "assert alumnos_reprobados(alumnos, 1) == listaVacia\n",
        "assert alumnos_reprobados(alumnos, 9) == lista(juan, lista(pedro, lista(diego, listaVacia)))"
      ],
      "execution_count": null,
      "outputs": []
    },
    {
      "cell_type": "markdown",
      "metadata": {
        "id": "hJ30S41UWt9k"
      },
      "source": [
        "## Pregunta 4\n",
        "- Implemente nuevamente la función **cantidad_alumnos_aprobados** de la Pregunta 1, pero ahora utilizando la función de la pregunta 3."
      ]
    },
    {
      "cell_type": "code",
      "metadata": {
        "id": "hs3nKrZPWvN0"
      },
      "source": [
        "# contar_elementos: lista(any) -> int\n",
        "# Entrega la cantidad de elementos que tiene una lista\n",
        "# Ejemplo: lista(3, lista(5, listaVacia)) entrega 2\n",
        "def contar_elementos(lista):\n",
        "  # Si es vacia, entonces no hay elementos\n",
        "  if vacia(lista):\n",
        "    return 0\n",
        "  else:\n",
        "    return 1 + contar_elementos(cola(lista))\n",
        "\n",
        "# Tests\n",
        "assert contar_elementos(lista(3, lista(5, listaVacia))) == 2\n",
        "assert contar_elementos(listaVacia) == 0\n",
        "assert contar_elementos(lista(5, listaVacia)) == 1\n",
        "\n",
        "# cantidad_alumnos_aprobados: lista(alumno) int -> int\n",
        "# Entrega la cantidad de alumnos que aprueban dada una lista de alumnos\n",
        "# Ejemplo: cantidad_alumnos_aprobados(lista(alumno(\"Diego\", 6), listaVacia), 5)\n",
        "# entrega 1\n",
        "def cantidad_alumnos_aprobados(lista_alumnos, evaluaciones_para_aprobar):\n",
        "  lista_alumnos_aprobados = alumnos_aprobados(lista_alumnos, evaluaciones_para_aprobar)\n",
        "  return contar_elementos(lista_alumnos_aprobados)\n",
        "\n",
        "# Tests\n",
        "juan = alumno(\"Juan\", 5)\n",
        "pedro = alumno(\"Pedro\", 2)\n",
        "diego = alumno(\"Diego\", 8)\n",
        "\n",
        "alumnos = lista(juan, lista(pedro, lista(diego, listaVacia)))\n",
        "\n",
        "assert cantidad_alumnos_aprobados(alumnos, 5) == 2\n",
        "assert cantidad_alumnos_aprobados(alumnos, 1) == 3\n",
        "assert cantidad_alumnos_aprobados(alumnos, 9) == 0"
      ],
      "execution_count": null,
      "outputs": []
    },
    {
      "cell_type": "markdown",
      "metadata": {
        "id": "pwwtYjE4XlII"
      },
      "source": [
        "- Vuelva a implementar el punto 2 de la Pregunta 1, pero ahora utilizando la función map y fold. Para esto dado una lista, aplique la función map con una función que retorna 1 si el alumno esta aprobado, y 0 si esta reprobado. Luego con la función fold sume los valores de la lista (puede utilizar la función sumar de la clase 11). Deberá modificar un poco la función map entregada en la clase 11, para que reciba un parametro para ser usado en el 'operador'."
      ]
    },
    {
      "cell_type": "code",
      "metadata": {
        "id": "d60TDMYTa9Ie"
      },
      "source": [
        "# mapa : (X -> Y) lista(X) -> lista(Y)\n",
        "# devuelve lista con funcion aplicada a todos sus elementos\n",
        "def mapa(funcion, unaLista, argumento_funcion): \n",
        "    if vacia(unaLista): \n",
        "        return listaVacia\n",
        "    else:\n",
        "        return lista(funcion(cabeza(unaLista), argumento_funcion), mapa(funcion, cola(unaLista), argumento_funcion))\n",
        "\n",
        "# fold: (X X -> X) X lista(X) -> X\n",
        "# procesa la lista con funcion y devuelve un unico valor\n",
        "# el valor init se usa como valor inicial para procesar el primer\n",
        "# valor de la lista y como acumulador para los resultados\n",
        "# parciales\n",
        "# pre-condicion: la lista debe tener al menos un valor\n",
        "\n",
        "def fold(funcion, init, unaLista):\n",
        "    if vacia(cola(unaLista)): # un solo valor\n",
        "        return funcion(init, cabeza(unaLista))\n",
        "    else:\n",
        "        return fold(funcion, funcion(init, cabeza(unaLista)), cola(unaLista))"
      ],
      "execution_count": null,
      "outputs": []
    },
    {
      "cell_type": "code",
      "metadata": {
        "id": "osOaVGwfbFDk"
      },
      "source": [
        "# esta_aprobado: alumno int -> int\n",
        "# Dado un alumno, entrega 1 si esta aprobado, 0 si esta reprobado\n",
        "def esta_aprobado(alumno, evaluaciones_para_aprobar):\n",
        "  # Obtenemos las evaluaciones entregadas por el alumno\n",
        "  evaluaciones_entregadas = alumno.evaluaciones_entregadas\n",
        "\n",
        "  # Si aprueba devolvemos 1\n",
        "  if evaluaciones_entregadas >= evaluaciones_para_aprobar:\n",
        "    return 1\n",
        "  # Si reprueba devolvemos 0\n",
        "  else:\n",
        "    return 0\n",
        "\n",
        "# Tests\n",
        "alumno_test = alumno(\"Diego\", 4)\n",
        "\n",
        "assert esta_aprobado(alumno_test, 5) == 0\n",
        "assert esta_aprobado(alumno_test, 3) == 1\n",
        "\n",
        "\n",
        "# sumar: num num -> num\n",
        "# Funcion de dos argumentos para sumar los valores de la lista\n",
        "# Entrega la suma de dos numeros\n",
        "# Ejemplo: sumar(4, 5) entrega 9\n",
        "def sumar(x, y):\n",
        "    return x + y\n",
        "\n",
        "# Tests\n",
        "\n",
        "# cantidad_alumnos_aprobados: lista(alumno) int -> int\n",
        "# Entrega la cantidad de alumnos que aprueban dada una lista de alumnos\n",
        "# Ejemplo: cantidad_alumnos_aprobados(lista(alumno(\"Diego\", 6), listaVacia), 5)\n",
        "# entrega 1\n",
        "def cantidad_alumnos_aprobados(lista_alumnos, evaluaciones_para_aprobar):\n",
        "  lista_alumnos_aprobados = mapa(esta_aprobado, lista_alumnos, evaluaciones_para_aprobar)\n",
        "  return fold(sumar, 0, lista_alumnos_aprobados)\n",
        "\n",
        "# Tests\n",
        "# Tests\n",
        "juan = alumno(\"Juan\", 5)\n",
        "pedro = alumno(\"Pedro\", 2)\n",
        "diego = alumno(\"Diego\", 8)\n",
        "\n",
        "alumnos = lista(juan, lista(pedro, lista(diego, listaVacia)))\n",
        "\n",
        "assert cantidad_alumnos_aprobados(alumnos, 5) == 2\n",
        "assert cantidad_alumnos_aprobados(alumnos, 1) == 3\n",
        "assert cantidad_alumnos_aprobados(alumnos, 9) == 0"
      ],
      "execution_count": null,
      "outputs": []
    }
  ]
}