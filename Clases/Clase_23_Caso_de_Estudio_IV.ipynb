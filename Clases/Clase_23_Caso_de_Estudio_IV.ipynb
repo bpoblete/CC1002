{
  "nbformat": 4,
  "nbformat_minor": 0,
  "metadata": {
    "kernelspec": {
      "display_name": "Python 2",
      "language": "python",
      "name": "python2"
    },
    "language_info": {
      "codemirror_mode": {
        "name": "ipython",
        "version": 2
      },
      "file_extension": ".py",
      "mimetype": "text/x-python",
      "name": "python",
      "nbconvert_exporter": "python",
      "pygments_lexer": "ipython2",
      "version": "2.7.13"
    },
    "colab": {
      "name": "Clase_23_Caso de Estudio IV.ipynb",
      "provenance": [],
      "collapsed_sections": [],
      "include_colab_link": true
    }
  },
  "cells": [
    {
      "cell_type": "markdown",
      "metadata": {
        "id": "view-in-github",
        "colab_type": "text"
      },
      "source": [
        "<a href=\"https://colab.research.google.com/github/bpoblete/CC1002/blob/master/Clases/Clase_23_Caso_de_Estudio_IV.ipynb\" target=\"_parent\"><img src=\"https://colab.research.google.com/assets/colab-badge.svg\" alt=\"Open In Colab\"/></a>"
      ]
    },
    {
      "cell_type": "markdown",
      "metadata": {
        "id": "k_5Ji10_eSjx"
      },
      "source": [
        "# Caso de Estudio IV: Diccionario\n",
        "\n",
        "Para este caso de estudios debe suponer que ya tiene una **clase** **`Diccionario`**, la cual corresponde a una secuencia ordenada de **palabras** (identificadores que no se repiten) con **significados** (información asociada). \n",
        "\n",
        "Esta clase cuenta con las siguientes operaciones:\n",
        "\n",
        "<img src=\"https://github.com/bpoblete/CC1002/raw/master/Clases/diccionario.png\" alt=\"Operaciones del Diccionario\" width=\"70%\"/>\n",
        "</div>\n",
        "<br>\n",
        "\n",
        "Un ejemplo de uso de esta clase podría ser para darle una mejor implementación a la aplicación AI2E (*Abreviación de Internet a Español*) que vimos en una clase anterior. O podría ser para simplemente implementar un simple diccionario \"Español-Inglés\" por ejemplo. \n"
      ]
    },
    {
      "cell_type": "markdown",
      "metadata": {
        "id": "wGyudM4weSj6"
      },
      "source": [
        "### Problema 1\n",
        "\n",
        "Escriba un programa que maneje un diccionario a través de la siguiente ventana\n",
        "\n",
        "<div>\n",
        "<img src=\"https://github.com/bpoblete/CC1002/raw/master/Clases/ventana.png\" alt=\"Ejercicio\" width=\"30%\"/>\n",
        "</div>\n",
        "<br>\n",
        "\n",
        "#### ¿Qué funcionalidad queremos?\n",
        "\n",
        "La ventana tiene 3 sectores:\n",
        "1. Campo palabra. Al lado de \"palabra:\" hay un campo de texto.\n",
        "2. Campo significado. Al lado de \"significado:\" hay un campo de texto.\n",
        "3. Etiqueta de mensaje: abajo de los botones hay una etiqueta que mostrará el resultado de la operación.\n",
        "\n",
        "Al iniciar la aplicación (ventana), se debe leer el contenido del diccionario desde un archivo de texto `\"diccionario.txt\"`. Este archivo contiene líneas de la forma \"palabra.significado\", por ejemplo:\n",
        "\n",
        "```\n",
        "hola.hi\n",
        "chao.good bye\n",
        "```\n",
        "estas líneas deben cargarse en el diccionario antes que el/la usuario haga nada. \n",
        "\n",
        "Luego, la funcionalidad deseada es la siguiente:\n",
        "- El/la usuario debe poder ingresar una palabra y \n",
        "  * Apretar el botón `buscar`: muestra el significado en el campo de texto significado. En la etiqueta mensaje muestra \"encontrado\" o \"no encontrado\", dependiendo del resultado.\n",
        "  * Apretar el botón `borrar` borra la palabra del diccionario. No muestra nada en el campo de texto significado. En la etiqueta mensaje muestra la palabra \"borrado\" si la palabra existe y fue borrada, o \"no existe\" si la palabra no existía.\n",
        "- El/la usuario debe poder ingresar una palabra y un significado y\n",
        "  * Apretar el botón `agregar` agrega la palabra y el significado asociado al diccionario. Si la palabra ya existe despliega \"ya existe\" en la etiqueta mensaje. Si no existe pero agregarla al diccionario no funciona (por ej. el método agregar() de la clase diccionario responde False) entonces despliega \"no hay espacio\".\n",
        "  * Apretar el botón `cambiar` cambia el significado de una palabra. El campo de texto palabra debe tener la palabra a cambiar (la cual debe existir en el diccionario), y el campo de texto significado debe tener el significado asociado. Si el cambio funciona bien, debe mostrar \"cambiado\" en la etiqueta mensaje. Si no, debe mostrar \"no existe\".\n",
        "- Finalmente, el/la usuario debe poder apretar el botón `grabar` para almacenar el contenido del diccionario actual en uso en un archivo de texto de nombre \"diccionario.txt\", siguiendo el formato de las líneas del archivo indicado más arriba."
      ]
    },
    {
      "cell_type": "markdown",
      "metadata": {
        "id": "hix_uLQ3eSj7"
      },
      "source": [
        "### Solución: \n",
        "\n",
        "Partiremos armando _visualmente_ la ventana. \n",
        "Creamos la ventana con sus campos y sus botones usando Tkinter. (Todavía no haremos las funciones asociadas a las acciones de los botones.)"
      ]
    },
    {
      "cell_type": "code",
      "metadata": {
        "collapsed": true,
        "id": "ah6t6jAHeSj8"
      },
      "source": [
        "# programa principal\n",
        "\n",
        "v=Tk()\n",
        "f1=Frame(v)\n",
        "f2=Frame(v) \n",
        "f3=Frame(v)\n",
        "\n",
        "Label(f1,text=\"palabra:\").pack(side=LEFT)\n",
        "palabra=Entry(f1)\n",
        "palabra.pack()\n",
        "\n",
        "Label(f2,text=\"significado:\").pack(side=LEFT)\n",
        "significado=Entry(f2)\n",
        "significado.pack()\n",
        "\n",
        "\n",
        "Button(f3,text=\"buscar\",command=buscar).pack(side=LEFT)\n",
        "Button(f3,text=\"agregar\",command=agregar).pack(side=LEFT)\n",
        "Button(f3,text=\"borrar\",command=borrar).pack(side=LEFT)\n",
        "Button(f3,text=\"cambiar\",command=cambiar).pack(side=LEFT)\n",
        "Button(f3,text=\"grabar\",command=grabar).pack()\n",
        "\n",
        "respuesta=Label(v)\n",
        "\n",
        "f1.pack(); f2.pack(); f3.pack(); respuesta.pack()\n",
        "v.mainloop()\n"
      ],
      "execution_count": null,
      "outputs": []
    },
    {
      "cell_type": "markdown",
      "metadata": {
        "id": "mai_qzpGS-tp"
      },
      "source": [
        "Ahora agregaremos las funciones de las acciones y el resto. Todo lo siguiente va *antes, más arriba* del código que crea la ventana mostrado justo antes."
      ]
    },
    {
      "cell_type": "code",
      "metadata": {
        "id": "X-CZXe6QeSj-"
      },
      "source": [
        "from tkinter import *\n",
        "from Diccionario import *\n",
        "\n",
        "D=Diccionario(\"diccionario.txt\")\n",
        "\n",
        "#metodo para boton buscar\n",
        "def buscar():\n",
        "    s=D.buscar(palabra.get())\n",
        "    if s==None:\n",
        "        responder(\"no existe\")\n",
        "    else:\n",
        "        significado.delete(0,END) #limpiar\n",
        "        significado.insert(0,s)\n",
        "        responder(\"encontrado\")\n"
      ],
      "execution_count": null,
      "outputs": []
    },
    {
      "cell_type": "code",
      "metadata": {
        "collapsed": true,
        "id": "Dm_xD4W_eSj_"
      },
      "source": [
        "#metodo para boton agregar\n",
        "def agregar():\n",
        "    p=palabra.get()\n",
        "    if D.agregar(p,significado.get()):\n",
        "        responder(\"agregado\")\n",
        "    elif D.buscar(p) != None: \n",
        "        responder(\"ya existe\")\n",
        "    else: \n",
        "        responder(\"no hay espacio\")\n"
      ],
      "execution_count": null,
      "outputs": []
    },
    {
      "cell_type": "code",
      "metadata": {
        "collapsed": true,
        "id": "6U9CL-aAeSkB"
      },
      "source": [
        "#metodo para boton borrar\n",
        "def borrar():\n",
        "    if D.borrar(palabra.get()):\n",
        "        responder(\"borrado\")\n",
        "    else: \n",
        "        responder(\"no existe\") "
      ],
      "execution_count": null,
      "outputs": []
    },
    {
      "cell_type": "code",
      "metadata": {
        "collapsed": true,
        "id": "XyU6c3uOeSkC"
      },
      "source": [
        "#metodo para boton cambiar\n",
        "def cambiar():\n",
        "    if D.cambiar(palabra.get(),significado.get()):\n",
        "        responder(\"cambiado\")\n",
        "    else: \n",
        "        responder(\"no existe\")\n"
      ],
      "execution_count": null,
      "outputs": []
    },
    {
      "cell_type": "code",
      "metadata": {
        "collapsed": true,
        "id": "VZy4aVEXeSkD"
      },
      "source": [
        "#metodo para boton grabar\n",
        "def grabar():\n",
        "    D.grabar(\"diccionario.txt\")\n",
        "    responder(\"grabado\")\n",
        "    "
      ],
      "execution_count": null,
      "outputs": []
    },
    {
      "cell_type": "code",
      "metadata": {
        "collapsed": true,
        "id": "vR1ulL_CeSkD"
      },
      "source": [
        "#método para mostrar mensaje de respuesta    \n",
        "def responder(x):\n",
        "    respuesta.config(text=x)\n"
      ],
      "execution_count": null,
      "outputs": []
    },
    {
      "cell_type": "markdown",
      "metadata": {
        "id": "_vSmfx2weSkE"
      },
      "source": [
        "## Problema 2: Crear la clase Diccionario\n",
        "\n",
        "La aplicación anterior funciona si existe la clase Diccionario con los métodos indicados. La vamos a implementar ahora.\n",
        "\n",
        "### Implementación de la clase Diccionario:\n",
        "\n",
        "Hay dos posibles soluciones:\n",
        "\n",
        "- <a href=\"Clase_23_Diccionario_usando_dict.ipynb\"> utilizando diccionarios de Python </a>\n",
        "- <a href=\"Clase_23_DiccionarioLista.ipynb\"> utilizando listas de Python </a>"
      ]
    }
  ]
}