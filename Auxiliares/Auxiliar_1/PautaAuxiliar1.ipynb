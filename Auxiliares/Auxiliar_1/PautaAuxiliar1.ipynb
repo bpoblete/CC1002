{
  "nbformat": 4,
  "nbformat_minor": 0,
  "metadata": {
    "colab": {
      "name": "Pauta_Aux1.ipynb",
      "provenance": [],
      "include_colab_link": true
    },
    "kernelspec": {
      "name": "python3",
      "display_name": "Python 3"
    },
    "language_info": {
      "name": "python"
    }
  },
  "cells": [
    {
      "cell_type": "markdown",
      "metadata": {
        "id": "view-in-github",
        "colab_type": "text"
      },
      "source": [
        "<a href=\"https://colab.research.google.com/github/bpoblete/CC1002/blob/master/Auxiliares/Auxiliar_1/PautaAuxiliar1.ipynb\" target=\"_parent\"><img src=\"https://colab.research.google.com/assets/colab-badge.svg\" alt=\"Open In Colab\"/></a>"
      ]
    },
    {
      "cell_type": "markdown",
      "metadata": {
        "id": "1ez0Dvt5tXrQ"
      },
      "source": [
        "# Auxiliar 1\n"
      ]
    },
    {
      "cell_type": "markdown",
      "metadata": {
        "id": "lslI5ErE9uyp"
      },
      "source": [
        "### Pregunta 1 - Diferencias de tiempo\n",
        " \n",
        "Crea una función con su respectiva receta de diseño, que te entregue la diferencia entre dos horas entregadas con el formato HHMM, donde los últimos dos dígitos corresponden a los minutos y los primeros dos (o uno, en el caso que la diferencia sea menor a 10 horas) corresponden a las horas. \n",
        " \n",
        "Ejemplo: \n",
        "Si quisiéramos saber la diferencia de tiempo entre las 10:15 y las 11:45 se tiene:\n",
        "  diferenciasDeTiempo(1015,1145) -> 130\n",
        " \n",
        " \n",
        "Descomposición en subproblemas:\n",
        "1. Crea la función aMinutos(x) que pasa del formato HHMM a minutos. *Ej: aMinutos(1015) -> 615*\n",
        " \n",
        "2. Crea la función aHHMM(x) que convierte el número entregado en el formato HHMM, como se explicó anteriormente. *Ej: aHHMM(615) -> 1015*\n"
      ]
    },
    {
      "cell_type": "code",
      "metadata": {
        "id": "J5B8Sgni9udg"
      },
      "source": [
        "#aminutos: int -> int\n",
        "#Pasa de HHMM a minutos\n",
        "#ejemplo: minutos(1015) retorna 615\n",
        "def aminutos(x):\n",
        "    hr = x//100\n",
        "    minu = x-hr*100\n",
        "    return minu+hr*60\n",
        "\n",
        "assert minutos(1015) == 615"
      ],
      "execution_count": null,
      "outputs": []
    },
    {
      "cell_type": "code",
      "metadata": {
        "id": "RLsL9jAGAzqt"
      },
      "source": [
        "#aHHMM: int -> int\n",
        "#Pasa de minutos a HHMM\n",
        "#ejemplo: hhss(615) retorna 1015\n",
        "def aHHMM(x):\n",
        "    hr = x//60\n",
        "    return hr*100 + x-hr*60\n",
        "assert hora(615) == 1015"
      ],
      "execution_count": null,
      "outputs": []
    },
    {
      "cell_type": "code",
      "metadata": {
        "id": "Fouh_qrIAzfU"
      },
      "source": [
        "#diferenciasDeTiempo: int int -> int \n",
        "#Calcula la diferencia que hay entre las dos horas entregadas \n",
        "#ejemplo: diferenciasDeTiempo(1015,1145) entrega 130\n",
        "def diferenciasDeTiempo(hhmm1,hhmm2):\n",
        "  minutos1 = aMinutos(hhmm1)\n",
        "  minutos2 = aMinutos(hhmm2)\n",
        "  diferencia = minutos2 - minutos1\n",
        "  return aHHMM(diferencia)\n",
        "\n",
        "assert diferenciasDeTiempo(1015,1145) == 130"
      ],
      "execution_count": null,
      "outputs": []
    },
    {
      "cell_type": "markdown",
      "metadata": {
        "id": "arukfEjg9uPR"
      },
      "source": [
        "### Pregunta 2 -  Barra de progreso\n",
        "\n",
        "Te han dado la tarea de crear una barra de progreso para la pantalla de carga de un videojuego, donde se representará el porcentaje de carga que lleva el juego. Para eso te entregarán una pantalla que puede mostrar N carácteres y el porcentaje de carga que lleva. Crea la función barraProgreso(valor, N), junto con su receta de diseño, que dado los datos entregados te entrega un texto de largo N compuesto por los carácteres '#' y '-', donde'#' representa el porcentaje ya cargado.\n",
        "\n",
        "Ejemplo: \n",
        "barraProgreso(50,4) -> \"##__\""
      ]
    },
    {
      "cell_type": "code",
      "metadata": {
        "id": "nraSTvDH9t42"
      },
      "source": [
        "# barraProgreso: float int -> str\n",
        "# Retorna el string de largo n que muestra la barra de progreso\n",
        "def barraProgreso(valor, n):\n",
        "    cargado = int(n*valor/100)\n",
        "    sinCargar = n - cargado\n",
        "    return \"#\"*cargado + \"_\"*sinCargar\n",
        "\n",
        "assert barraProgreso(50,4) == \"##__\"\n",
        "assert barraProgreso(35,10) == \"###_______\"\n",
        "assert barraProgreso(60,5) == \"###__\""
      ],
      "execution_count": null,
      "outputs": []
    },
    {
      "cell_type": "markdown",
      "metadata": {
        "id": "glZkzdIo8dy6"
      },
      "source": [
        "### Pregunta 3 - Invertir\n",
        "Crea una función que reciba un entero de dos dígitos y entregue un número con los dígitos invertidos. Incluye la receta de diseño!\n",
        "Ejemplo: invertir(12) -> 21 "
      ]
    },
    {
      "cell_type": "code",
      "metadata": {
        "id": "rSkjlD0itUHC"
      },
      "source": [
        "# invertir: int -> int\n",
        "# Invierte los dígitos de un entero de dos cifras\n",
        "# Por ejemplo invertir(24) entrega 42\n",
        "def invertir(n):\n",
        "    decena = n//10\n",
        "    unidad = n%10\n",
        "    return unidad*10+decena\n",
        "\n",
        "assert invertir(24) == 42\n",
        "assert invertir(94) == 49 \n",
        "assert invertir(12) == 21"
      ],
      "execution_count": null,
      "outputs": []
    },
    {
      "cell_type": "markdown",
      "metadata": {
        "id": "-lLwMr6L9GrI"
      },
      "source": [
        "### Pregunta 4 - Repetir\n",
        "Cree la función repetir(texto, n), con su respectiva receta de diseño, la cual retorna el texto entregado repetido n veces y separados por un\n",
        "espacio. Note que ni el último ni el primer carácter son espacios.\n",
        "\n",
        "Ejemplos: \n",
        "- repetir(’hola’,3) -> ’hola hola hola’\n",
        "- repetir(’arbol’, 4) -> ’arbol arbol arbol arbol’\n",
        "- repetir(’CC1002’, 1) -> ’CC1002’\n"
      ]
    },
    {
      "cell_type": "code",
      "metadata": {
        "id": "MfHZLvzO9HYj"
      },
      "source": [
        "# repetir : str int -> str\n",
        "# Repite el string dado n veces separado por espacios\n",
        "# Por ejemplo repetir('hola',3) es 'hola hola hola'\n",
        "def repetir(texto, n):\n",
        "    repetido = (texto+\" \")*(n-1) + texto\n",
        "    return repetido\n",
        "\n",
        "assert repetir(\"hola\",3) == \"hola hola hola\"\n",
        "assert repetir(\"CC1002\",1) == \"CC1002\"\n",
        "assert repetir(\"arbol\", 4) == \"arbol arbol arbol arbol\""
      ],
      "execution_count": null,
      "outputs": []
    }
  ]
}