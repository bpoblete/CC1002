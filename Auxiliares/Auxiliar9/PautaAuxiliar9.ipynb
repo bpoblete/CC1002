{
  "nbformat": 4,
  "nbformat_minor": 0,
  "metadata": {
    "colab": {
      "name": "Pauta_Auxiliar_9.ipynb",
      "provenance": [],
      "collapsed_sections": [],
      "include_colab_link": true
    },
    "kernelspec": {
      "name": "python3",
      "display_name": "Python 3"
    },
    "language_info": {
      "name": "python"
    }
  },
  "cells": [
    {
      "cell_type": "markdown",
      "metadata": {
        "id": "view-in-github",
        "colab_type": "text"
      },
      "source": [
        "<a href=\"https://colab.research.google.com/github/bpoblete/CC1002/blob/master/Auxiliares/Auxiliar9/PautaAuxiliar9.ipynb\" target=\"_parent\"><img src=\"https://colab.research.google.com/assets/colab-badge.svg\" alt=\"Open In Colab\"/></a>"
      ]
    },
    {
      "cell_type": "markdown",
      "metadata": {
        "id": "LZA4p9pkZVFr"
      },
      "source": [
        "# Auxiliar 9\n",
        "### Árboles binarios (AB) y Árboles de Búsqueda Binaria (ABB)\n",
        "Auxiliares: Nadia Decar, Nelson Marambio, Albani Olvieri, Monserrat Prado, Lucas Torrealba, Ricardo Valdivia"
      ]
    },
    {
      "cell_type": "code",
      "metadata": {
        "id": "nnx9telymxvD"
      },
      "source": [
        "import estructura\n",
        "from ABB import * \n",
        "from lista import * "
      ],
      "execution_count": null,
      "outputs": []
    },
    {
      "cell_type": "markdown",
      "metadata": {
        "id": "KazS9b9ZbqGC"
      },
      "source": [
        "### Pregunta 1 - Hablemos de ABs\n",
        "\n",
        "Si A es un árbol, escriba las siguientes funciones con sus tests correspondientes (usa los árboles definidos a continuación):"
      ]
    },
    {
      "cell_type": "code",
      "metadata": {
        "id": "0Ecux-E8bw2l"
      },
      "source": [
        "A = AB(5, AB(6, AB(3,None,None), AB(2,None,None)), AB(1, AB(4,None,None),None))\n",
        "B = AB(10, AB(8, AB(6, AB(5, None, None), None), None), AB(15, AB(11, None, None), AB(20, None, None)))\n",
        "C = AB(4, AB(2,AB(1,None,None),AB(3,None,None)), AB(6,AB(5,None,None),None))"
      ],
      "execution_count": null,
      "outputs": []
    },
    {
      "cell_type": "code",
      "metadata": {
        "id": "silBQ5_1b0BC"
      },
      "source": [
        "# esAB: any -> bool\n",
        "# True si la estructura es AB\n",
        "#ej: esAB(AB(1,None,None))->True\n",
        "def esAB(A):\n",
        "    return A==None or type(A)==AB\n",
        "assert esAB(AB(1,None,None))"
      ],
      "execution_count": null,
      "outputs": []
    },
    {
      "cell_type": "code",
      "metadata": {
        "id": "V7AqBMxBb41R"
      },
      "source": [
        "# aLista: AB -> lista\n",
        "# lista con valores de arbol izquierdo, valor y valores del arbol derecho\n",
        "# ej: aLista(A) -> lista(3, lista(6, lista(2, lista(5, lista(4, lista(1, None))))))\n",
        "def aLista(AB, listaFinal = listaVacia):\n",
        "    if(AB == None):\n",
        "        return listaFinal\n",
        "    else:\n",
        "        listaFinal = aLista(AB.der, listaFinal)\n",
        "        listaFinal = lista(AB.valor, listaFinal)\n",
        "        listaFinal = aLista(AB.izq, listaFinal)\n",
        "        return listaFinal\n",
        "assert aLista(A) == lista(3, lista(6, lista(2, lista(5, lista(4, lista(1, None))))))"
      ],
      "execution_count": null,
      "outputs": []
    },
    {
      "cell_type": "markdown",
      "metadata": {
        "id": "_Wa3Fo4XsqpV"
      },
      "source": [
        "##Pregunta 2 - Agenda Telefónica \n",
        "\n",
        "En esta pregunta simularemos una agenda telefónica en formato ABB, por lo que cada valor del árbol será una persona (que tiene nombre, apellido y número telefónico). Usted debe considerar que el árbol se ordena en base al apellido de la persona, si dos personas tienen el mismo apellido entonces habrá que ordenar en base al nombre. Además, no habrán dos personas con mismo nombre y apellido en la agenda telefónica.\n",
        "\n",
        "En base a lo anterior, usted deberá programar 3 funciones que permitirán simular ciertas funcionalidades de una agenda telefónica:\n",
        "\n",
        "\n",
        "1.   Cree la estructura *Persona*, la cual debe tener *nombre*, *apellido* y *telefono*\n",
        "2.   Cree la función ***listaTelefonicaPorApellido(abb, apellido)*** que retorna una lista enlazada ordenada con todos los contactos (personas) que tengan dicho apellido.\n",
        "3.   Cree la función ***ConsultarTelefono(abb, apellido, nombre)***, que dado el nombre y apellido de una persona retorne el número telefónico de dicha persona.\n",
        "\n"
      ]
    },
    {
      "cell_type": "code",
      "metadata": {
        "id": "_9L9qdznP-t4"
      },
      "source": [
        "# 1.\n",
        "\n",
        "# Persona: nombre(str) apellido(str) telefono(str)\n",
        "estructura.crear('Persona', 'nombre apellido telefono')"
      ],
      "execution_count": null,
      "outputs": []
    },
    {
      "cell_type": "code",
      "metadata": {
        "id": "T7oC4u6OQDo5"
      },
      "source": [
        "# 2.\n",
        "\n",
        "# listaTelefonicaPorApellido: AB str -> list(Persona)\n",
        "# Retorna todos los contactos que tengan cierto apellido\n",
        "# Ej.: sea A = AB(Persona('Juan', 'Perez', '123'), None, None)\n",
        "# listaTelefonicaPorApellido(A, 'Perez') debe retornar \n",
        "# crearLista(Persona('Juan', 'Perez', '123'), listaVacia)\n",
        "\n",
        "def listaTelefonicaPorApellido(abb, apellido, newLista=listaVacia):\n",
        "  if abb == None:\n",
        "    return newLista\n",
        "  newLista = listaTelefonicaPorApellido(abb.der, apellido, newLista)\n",
        "  if abb.valor.apellido == apellido:\n",
        "    newLista = crearLista(abb.valor, newLista)\n",
        "  return listaTelefonicaPorApellido(abb.izq, apellido, newLista)\n",
        "\n",
        "\n",
        "# Tests \n",
        "p1 = Persona('Juanita', 'Perez', '12345')\n",
        "p2 = Persona('Juan', 'Castro', '12367')\n",
        "p3 = Persona('Manuel', 'Castro', '12333')\n",
        "p4 = Persona('Alejandro', 'Muñoz', '125445')\n",
        "p5 = Persona('Luis', 'Rodriguez', '125445')\n",
        "p6 = Persona('Luchita', 'Abarca', '125445')\n",
        "\n",
        "A = AB(p1, AB(p4, AB(p2, AB(p6, None, None), AB(p3, None, None)), None), AB(p5, None, None))\n",
        "\n",
        "assert listaTelefonicaPorApellido(A, 'Castro') == crearLista(p2, crearLista(p3, listaVacia))\n",
        "assert listaTelefonicaPorApellido(A, 'Abarca') == crearLista(p6, listaVacia)\n",
        "assert listaTelefonicaPorApellido(A, 'Pereira') == listaVacia\n",
        "assert listaTelefonicaPorApellido(None, 'Pereira') == listaVacia\n"
      ],
      "execution_count": null,
      "outputs": []
    },
    {
      "cell_type": "code",
      "metadata": {
        "id": "VO4gu-piQE1w"
      },
      "source": [
        "# 3. \n",
        "\n",
        "# consultarTelefono: AB str str -> str\n",
        "# Retorna el numero telefono de una persona\n",
        "# Ej.: sea A = AB(Persona('Juan', 'Perez', '123'), None, None)\n",
        "# consultarTelefono(A, 'Perez', 'Juan') debe retornar '123'\n",
        "\n",
        "def consultarTelefono(abb, apellido, nombre):\n",
        "  if abb == None:\n",
        "    return ''\n",
        "  if abb.valor.apellido == apellido and abb.valor.nombre == nombre:\n",
        "    return abb.valor.telefono\n",
        "  elif abb.valor.apellido > apellido:\n",
        "    return consultarTelefono(abb.izq, apellido, nombre)\n",
        "  elif abb.valor.apellido < apellido:\n",
        "    return consultarTelefono(abb.der, apellido, nombre)\n",
        "  else:\n",
        "    if abb.valor.nombre > nombre:\n",
        "      return consultarTelefono(abb.izq, apellido, nombre)\n",
        "    elif abb.valor.nombre < nombre:\n",
        "      return consultarTelefono(abb.der, apellido, nombre)\n",
        "\n",
        "\n",
        "# Tests\n",
        "p1 = Persona('Juanita', 'Perez', '12345')\n",
        "p2 = Persona('Juan', 'Castro', '12367')\n",
        "p3 = Persona('Manuel', 'Castro', '12333')\n",
        "p4 = Persona('Alejandro', 'Muñoz', '125445')\n",
        "p5 = Persona('Luis', 'Rodriguez', '125445')\n",
        "p6 = Persona('Luchita', 'Abarca', '125445')\n",
        "\n",
        "A = AB(p1, AB(p4, AB(p2, AB(p6, None, None), AB(p3, None, None)), None), AB(p5, None, None))\n",
        "\n",
        "assert consultarTelefono(A, 'Castro', 'Juan') == '12367'\n",
        "assert consultarTelefono(A, 'Castro', 'Manuel') == '12333'\n",
        "assert consultarTelefono(A, 'Abarca', 'Luchita') == '125445'\n",
        "assert consultarTelefono(A, 'Castro', 'Pamela') == ''\n",
        "assert consultarTelefono(None, 'Zuñiga', 'Luis') == ''"
      ],
      "execution_count": null,
      "outputs": []
    },
    {
      "cell_type": "markdown",
      "metadata": {
        "id": "9h-AasgGHPsr"
      },
      "source": [
        "## Pregunta 3 - Dulces \n",
        "En una pastelería tienen un recuento de los distintos pasteles que tienen en stock. Estos son almacenados en una estructura llamada \"Pasteles\", la cual tiene los siguientes atributos: Nombre, Precio, Stock. La persona que maneja el local consiguió que alguien le ordenara los pasteles en un ABB según el precio, pero no sabe manejarlo, para ayudarle siga los siguientes pasos. \n",
        "\n",
        "1. Cree la estructura \"Pasteles\"\n",
        "2. Cree la función CantidadTiposPasteles, que reciba un ABB y retorne la cantidad de pasteles distintos que posee. (Asuma que no hay dos estructuras con el mismo Nombre). \n",
        "3. Cree la función BusquedaPastel, que reciba el Nombre de un pastel y un ABB de pasteles, e imprima Precio y Stock de los pasteles, de forma clara. Asuma que el pastel que se está buscando siempre va a estar en el ABB.\n",
        "4. Cree la función MasBarato, que reciba un precio y un ABB de pasteles, y retorne una lista con los nombres de los pasteles cuyos precios son menores o iguales al indicado. Hint: Cree la función auxiliar UneListas, que toma dos listas y las une.\n",
        "\n",
        "*Nota: Recuerde hacer las recetas de diseño para todo lo pedido y sus tests correspondientes (use las estructuras y árboles proporcionados)*\n",
        "\n",
        "*Nota2: Recuerda la diferencia entre imprimir y retornar* "
      ]
    },
    {
      "cell_type": "code",
      "metadata": {
        "id": "USQw_dUXQSQv"
      },
      "source": [
        "# 1.\n",
        "\n",
        "#Pasteles: Nombre(str) Precio(int) Stock(int)\n",
        "estructura.crear(\"Pasteles\", \"Nombre Precio Stock\")"
      ],
      "execution_count": null,
      "outputs": []
    },
    {
      "cell_type": "code",
      "metadata": {
        "id": "-BIBZN8wQuaY"
      },
      "source": [
        "# 2. \n",
        "\n",
        "pas1 = Pasteles(\"Pie de Limon\", 1400, 5)\n",
        "pas2 = Pasteles(\"Milhojas\" , 700, 12)\n",
        "pas3 = Pasteles(\"Macarron\", 300, 30)\n",
        "pas4 = Pasteles(\"Kuchen de Nuez\", 2500, 1)\n",
        "pas5 = Pasteles(\"Pastel de queso\", 900, 22)\n",
        "\n",
        "a1 = AB(pas5, AB(pas3, None, AB(pas2, None, None)), AB(pas1, None, AB(pas4, None, None)))\n",
        "a2 = AB(pas3, None, AB(pas1, AB(pas2, None, None), None))\n",
        "\n",
        "#CantidadTiposPasteles: AB -> int\n",
        "#retorna la cantidad de pasteles distintos que posee el ABB\n",
        "#Ej: CantidadTiposPasteles(a1) retorna 5\n",
        "def CantidadTiposPasteles(A): \n",
        "  if A == None: \n",
        "    return 0\n",
        "  else: \n",
        "    return 1 + CantidadTiposPasteles(A.izq) + CantidadTiposPasteles(A.der)\n",
        "\n",
        "#Tests\n",
        "assert CantidadTiposPasteles(a1) == 5\n",
        "assert CantidadTiposPasteles(a2) == 3"
      ],
      "execution_count": null,
      "outputs": []
    },
    {
      "cell_type": "code",
      "metadata": {
        "id": "xwhQIHx4RsFi",
        "colab": {
          "base_uri": "https://localhost:8080/"
        },
        "outputId": "15a938c3-b2bc-4d91-9d94-07b20d6acbdb"
      },
      "source": [
        "# 3.\n",
        "\n",
        "#BusquedaPastel: str AB -> None\n",
        "#imprime el precio y el stock del pastel que se busca \n",
        "#Ej: BusquedaPastel(\"Macarron\", a1) imprime \"El precio es: 300 \\n Hay 30 disponibles\"\n",
        "def BusquedaPastel(nombre, A):\n",
        "  if A == None: \n",
        "    return \n",
        "  cabeza = A.valor\n",
        "  if nombre==cabeza.Nombre: \n",
        "    print(\"El precio es:\", cabeza.Precio)\n",
        "    print(\"Hay\", cabeza.Stock, \"disponibles\") \n",
        "  else: \n",
        "    BusquedaPastel(nombre, A.izq)\n",
        "    BusquedaPastel(nombre, A.der)\n",
        "\n",
        "# Test \n",
        "BusquedaPastel(\"Macarron\", a1)"
      ],
      "execution_count": null,
      "outputs": [
        {
          "output_type": "stream",
          "name": "stdout",
          "text": [
            "El precio es: 300\n",
            "Hay 30 disponibles\n"
          ]
        }
      ]
    },
    {
      "cell_type": "code",
      "metadata": {
        "id": "MxBeDbMGSCf4"
      },
      "source": [
        "# 4.\n",
        "\n",
        "#UneListas: lista lista -> lista \n",
        "#Toma dos listas y las une \n",
        "#Ej: UneListas(lista(1, lista(2, listaVacia)), lista(3, lista(4, listaVacia))) == lista(1, lista(2, lista(3, lista(4, listaVacia))))\n",
        "def UneListas(l1, l2): \n",
        "  if l1 == listaVacia: \n",
        "    return l2\n",
        "  else: \n",
        "    return lista(cabeza(l1), UneListas(cola(l1), l2))\n",
        "\n",
        "#Test\n",
        "l1 = lista(1, lista(2, listaVacia))\n",
        "l2 = lista(3, lista(4, listaVacia))\n",
        "l3 = lista('hola', lista('chao', listaVacia))\n",
        "assert UneListas(l1,l2) == lista(1, lista(2, lista(3, lista(4, listaVacia))))\n",
        "assert UneListas(l2,l1) == lista(3, lista(4, lista(1, lista(2, listaVacia))))\n",
        "assert UneListas(l1, l3) == lista(1, lista(2, lista('hola', lista('chao', listaVacia))))\n",
        "\n",
        "pas1 = Pasteles(\"Pie de Limon\", 1400, 5)\n",
        "pas2 = Pasteles(\"Milhojas\" , 700, 12)\n",
        "pas3 = Pasteles(\"Macaroon\", 300, 30)\n",
        "pas4 = Pasteles(\"Kuchen de Nuez\", 2500, 1)\n",
        "pas5 = Pasteles(\"Pastel de queso\", 900, 22)\n",
        "\n",
        "a1 = AB(pas5, AB(pas3, None, AB(pas2, None, None)), AB(pas1, None, AB(pas4, None, None)))\n",
        "a2 = AB(pas3, None, AB(pas1, AB(pas2, None, None), None))\n",
        "\n",
        "#MasBarato: int AB -> lista\n",
        "#retorna una lista con los nombres de los pasteles cuyo precio es menor o igual que el ingresado \n",
        "#Ej: MasBarato(1000, a1) entrega lista('Pastel de queso', lista('Macaroon', lista('Milhojas', listaVacia)))\n",
        "def MasBarato(p, A):  \n",
        "  if A == None: \n",
        "    return listaVacia\n",
        "  else: \n",
        "    cabeza = A.valor\n",
        "    l1 = MasBarato(p, A.izq)\n",
        "    l2 = MasBarato(p, A.der)\n",
        "    if cabeza.Precio <= p:\n",
        "      juntar = UneListas(l1,l2)\n",
        "      return lista(cabeza.Nombre, juntar)\n",
        "    else: \n",
        "      return UneListas(l1,l2)\n",
        "      \n",
        "#Tests\n",
        "assert MasBarato(1000, a1) == lista('Pastel de queso', lista('Macaroon', lista('Milhojas', listaVacia)))\n",
        "assert MasBarato(800,a1) == lista('Macaroon', lista('Milhojas', listaVacia))\n",
        "assert MasBarato(200, a2) == listaVacia\n",
        "assert MasBarato(300, a2) == lista(pas3.Nombre, listaVacia) "
      ],
      "execution_count": null,
      "outputs": []
    },
    {
      "cell_type": "markdown",
      "metadata": {
        "id": "i6zKulHgspdI"
      },
      "source": [
        "##Pregunta 4 - Expresiones lógicas \n",
        "\n",
        "Una expresión lógica se puede representar por un árbol binario. Por ejemplo, p and not (q or r) se representa por:\n",
        "```\n",
        "       “and” \t\t\n",
        "    /           \\\t\t\n",
        " p             “not”\t\t\n",
        "                       \\\t\t  \n",
        "                     “ or”\t\n",
        "                   /        \\\t  \n",
        "                q            r\n",
        "\n",
        "```\n",
        "\n",
        "Notas:\n",
        "\n",
        "- p, q y r son variables de tipo bool (con valores True o False).\n",
        "- Los valores de las hojas del árbol son True o False (de tipo bool) y los otros valores son los strings “and”, “or” o “not”.\n",
        "- En caso del operador “not”, el operando se guarda en el árbol derecho (y el izquierdo está vacío).\n",
        "\n",
        "A) Escriba todas las instrucciones que se necesitan para definir el árbol binario indicado en el ejemplo  anterior. Al respecto, asigne valores a las variables p, q y r de manera que el resultado de la expresión lógica sea True.\n",
        "\n",
        "B) Escriba una función (incluyendo receta de diseño y testing) que reciba un árbol binario que representa una expresión lógica válida, la evalúe y devuelva el resultado (True o False)\n"
      ]
    },
    {
      "cell_type": "code",
      "metadata": {
        "id": "7iX1fTplaEnb"
      },
      "source": [
        "# A.\n",
        "                    \n",
        "estructura.crear(\"AB\",\"valor izq der\")  \n",
        "\n",
        "p=True                                  \n",
        "q=False                                 \n",
        "r=False                                 \n",
        "A=AB(\"and\", \\\n",
        "     AB(p,None,None), \\\n",
        "     AB(\"not\",None, \\\n",
        "        AB(\"or\",AB(q,None,None),AB(r,None,None)))) "
      ],
      "execution_count": null,
      "outputs": []
    },
    {
      "cell_type": "code",
      "metadata": {
        "id": "GlGnBKghaKiE"
      },
      "source": [
        "# B.\n",
        "\n",
        "# evaluar: AB -> bool                        \n",
        "# evalua expresion lógica representada en A \n",
        "# ej: evaluar(A) -> True                   \n",
        "def evaluar(A): \n",
        "    v = A.valor    \n",
        "    if A.izq==None and A.der==None:\n",
        "        return v                    \n",
        "    if v==\"and\":                             \n",
        "        return evaluar(A.izq) and evaluar(A.der)\n",
        "    if v==\"or\":                                \n",
        "        return evaluar(A.izq) or evaluar(A.der)\n",
        "    if v==\"not\": \n",
        "        return not evaluar(A.der)\n",
        "#Test               \n",
        "assert evaluar(A) #evaluar(A)==True"
      ],
      "execution_count": null,
      "outputs": []
    }
  ]
}