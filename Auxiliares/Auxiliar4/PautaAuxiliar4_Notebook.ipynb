{
  "nbformat": 4,
  "nbformat_minor": 0,
  "metadata": {
    "colab": {
      "name": "Pauta Auxilliar 4.ipynb",
      "provenance": [],
      "collapsed_sections": []
    },
    "kernelspec": {
      "name": "python3",
      "display_name": "Python 3"
    }
  },
  "cells": [
    {
      "cell_type": "markdown",
      "metadata": {
        "id": "eJwr7_HH-zbY"
      },
      "source": [
        "#Auxiliar 4 - Recurrencia \n",
        "\n",
        "P1. Un niño está aburrido en su casa, por lo que comienza a sumar los dígitos de los número hasta llegar a un solo dígito. Viendo los resultados que obtiene le surge una duda, ¿qué tan frecuente es obtener uno de estos dígitos?. Su trabajo es resolver esta duda, para eso siga los siguientes pasos: \n",
        " \n",
        "i) Modifique la función sumaDigitos(n), vista en la auxiliar pasada, para que entregue un único dígito\n",
        "\n",
        "ii) Cree la función contarFrecuenciasDigito(d,N) que dado un dígito d y un natural N, retorne la cantidad de números entre 0 y N, cuya suma de dígitos corresponda a d . Ejemplo: contarFrecuenciasDigito(1,100) = 12 , ya que tenemos los numeros 100, 91, 82, 73, 64, 55, 46, 37, 28, 19, 10 y 1. Al sumar los dígitos de cada uno de ellos nos va a entregar el valor 1. \n",
        "\n",
        "iii) Finalmente cree un programa que le solicite el dígito y un natural y le entregue la frecuencia con la que aparece el dígito entre el 0 y el natural ingresado. El programa debe preguntar si quiere volver a consultar y reiniciarse en el caso de que sí.  Para esto, use las funciones definidas anteriormente. \n",
        " \n",
        "\n",
        "```\n",
        "Ejemplo: \n",
        "  Ingrese el dígito cuya frecuencia busca: 1\n",
        "  Ingrese hasta que número se debe revisar: 100\n",
        "  El dígito 1 se repite 12 veces\n",
        "  ¿Volver a calcular? [s/n]: s\n",
        "  Ingrese el dígito cuya frecuencia busca: 0\n",
        "  Ingrese hasta que número se debe revisar: 100\n",
        "  El dígito 0 se repite 1 vez \n",
        "  ¿Volver a calcular? [s/n]: n\n",
        "```\n"
      ]
    },
    {
      "cell_type": "code",
      "metadata": {
        "id": "Nfuj5kWjEoMq",
        "outputId": "01f37dd4-ca34-4581-b781-fb326119883b",
        "colab": {
          "base_uri": "https://localhost:8080/",
          "height": 151
        }
      },
      "source": [
        "#sumaDigitos(n): int -> int \n",
        "#Suma los digitos de un numero hasta obtener un numero de un solo digito \n",
        "#sumaDigitos(12345) = 6\n",
        "\n",
        "def sumaDigitos(n,sumaActual=0):\n",
        "  if n<10:\n",
        "    sumaActual+=n\n",
        "    if sumaActual<10:\n",
        "      return sumaActual\n",
        "    else: return sumaDigitos(sumaActual)\n",
        "  else: \n",
        "    sumaActual+=n%10\n",
        "    return sumaDigitos(n//10,sumaActual)\n",
        "\n",
        "assert sumaDigitos(12345) == 6\n",
        "assert sumaDigitos(46832938744) == 4\n",
        "assert sumaDigitos(12) == 3\n",
        "\n",
        "#contarFrecuenciaDigito: int int -> int \n",
        "#Cuenta las frecuencia que aprece el dígito al sumar los digitos de los numeros desde el 0 al N entregado \n",
        "#ej: contarFrecuenciaDigito(1,100) == 12\n",
        "def contarFrecuenciaDigito(d,N,frecuencia=0):\n",
        "  if N==0:\n",
        "    if d == 0: return frecuencia + 1\n",
        "    else: return frecuencia\n",
        "  else: \n",
        "    digito = sumaDigitos(N)\n",
        "    if digito==d:\n",
        "      return contarFrecuenciaDigito(d,N-1,frecuencia+1)\n",
        "    else:\n",
        "      return contarFrecuenciaDigito(d,N-1,frecuencia)\n",
        "\n",
        "assert contarFrecuenciaDigito(1,100) == 12\n",
        "assert contarFrecuenciaDigito(0,100) == 1\n",
        "assert contarFrecuenciaDigito(5,120) == 13\n",
        "\n",
        "\n",
        "\n",
        "def programa(): \n",
        "  d = int(input('Ingrese el dígito cuya frecuencia busca: '))\n",
        "  N = int(input('Ingrese hasta que número se debe revisar: '))\n",
        "  frecuencia = contarFrecuenciaDigito(d,N)\n",
        "  if frecuencia == 1:\n",
        "    print('El dígito ',d,' se repite ',frecuencia,'vez')\n",
        "  else: \n",
        "    print('El dígito ',d,' se repite ',frecuencia,'veces')\n",
        "    \n",
        "  respuesta = input('¿Volver a calcular?  [s/n]: ')\n",
        "  if respuesta=='s':\n",
        "    return programa()\n",
        "\n",
        "programa()"
      ],
      "execution_count": null,
      "outputs": [
        {
          "output_type": "stream",
          "text": [
            "Ingrese el dígito cuya frecuencia busca: 1\n",
            "Ingrese hasta que número se debe revisar: 100\n",
            "El dígito  1  se repite  12 veces\n",
            "¿Volver a calcular?  [s/n]: s\n",
            "Ingrese el dígito cuya frecuencia busca: 0\n",
            "Ingrese hasta que número se debe revisar: 100\n",
            "El dígito  0  se repite  1 vez\n",
            "¿Volver a calcular?  [s/n]: n\n"
          ],
          "name": "stdout"
        }
      ]
    },
    {
      "cell_type": "markdown",
      "metadata": {
        "id": "gYjx9KBCDK2o"
      },
      "source": [
        "P2. Escriba la función sumaProductos(x,y) que reciba dos enteros positivos y entregue la suma de los productos de sus dígitos. \n",
        "```\n",
        "Ejemplo: sumaProductos(12345,6789)=110\n",
        "```\n",
        "\n",
        "Lo que corresponde a 5x9 + 4x8 + 3x7 + 2x6 + 1x0 = 45 + 32 + 21 + 12 + 0 = 110\n"
      ]
    },
    {
      "cell_type": "code",
      "metadata": {
        "id": "nz4mgjtvWlb6"
      },
      "source": [
        "# sumaProductos: int int -> int \n",
        "# Multiplica los digitos de los numeros entregados y los suma\n",
        "# ej: sumaProductos(12345,6789) = 110\n",
        "\n",
        "def sumaProductos(x,y):\n",
        "  if x==0 and y==0:\n",
        "    return 0\n",
        "  else: \n",
        "    return ((x%10) * (y%10)) + sumaProductos(x//10,y//10)\n",
        "\n",
        "assert sumaProductos(12345,6789) == 110\n",
        "assert sumaProductos(93898,2) == 16\n",
        "assert sumaProductos(12849,985) == 149\n",
        "\n"
      ],
      "execution_count": null,
      "outputs": []
    }
  ]
}