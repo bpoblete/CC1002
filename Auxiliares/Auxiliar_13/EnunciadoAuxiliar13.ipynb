{
  "nbformat": 4,
  "nbformat_minor": 0,
  "metadata": {
    "colab": {
      "name": "EnunciadoAuxiliar13.ipynb",
      "provenance": [],
      "collapsed_sections": [],
      "authorship_tag": "ABX9TyMuIfnR5xYmLRcWlSclR+fS",
      "include_colab_link": true
    },
    "kernelspec": {
      "name": "python3",
      "display_name": "Python 3"
    },
    "language_info": {
      "name": "python"
    }
  },
  "cells": [
    {
      "cell_type": "markdown",
      "metadata": {
        "id": "view-in-github",
        "colab_type": "text"
      },
      "source": [
        "<a href=\"https://colab.research.google.com/github/bpoblete/CC1002/blob/master/Auxiliares/Auxiliar_13/EnunciadoAuxiliar13.ipynb\" target=\"_parent\"><img src=\"https://colab.research.google.com/assets/colab-badge.svg\" alt=\"Open In Colab\"/></a>"
      ]
    },
    {
      "cell_type": "markdown",
      "metadata": {
        "id": "Lfa1qE7i9DDC"
      },
      "source": [
        "# Auxiliar 13 - Clases y Objetos"
      ]
    },
    {
      "cell_type": "markdown",
      "metadata": {
        "id": "1KjZb39d97Fc"
      },
      "source": [
        "## Pregunta 1"
      ]
    },
    {
      "cell_type": "markdown",
      "metadata": {
        "id": "6JBwBf4Z99yN"
      },
      "source": [
        "En esta pregunta, usted deberá implementar la estructura recursiva lista (de la Clase 9) con clases de python. Esta debe poder agregar elementos a la lista, poder obtener la cabeza de la lista, obtener la cola de la lista y saber si la lista es vacia. Para lo anterior mencionado, cree métodos que logren hacer lo pedido."
      ]
    },
    {
      "cell_type": "markdown",
      "metadata": {
        "id": "hxIQ-RWjEuFD"
      },
      "source": [
        "HINT: Incorpore un campo llamado *vacia*, que indique cuando la lista sea una lista vacia. Además, en vez de usar None para representar una lista vacia, utilice una Lista que tenga el campo *vacia* en True."
      ]
    },
    {
      "cell_type": "code",
      "metadata": {
        "id": "VeRPwku64TqC"
      },
      "source": [
        "# Escriba su código aquí"
      ],
      "execution_count": null,
      "outputs": []
    },
    {
      "cell_type": "markdown",
      "metadata": {
        "id": "KhFsWlqf9Y5K"
      },
      "source": [
        "## Pregunta 2"
      ]
    },
    {
      "cell_type": "markdown",
      "metadata": {
        "id": "-U2woprLToUV"
      },
      "source": [
        "A usted le gustan mucho las mascotas, y es por eso que se le ocurrió que sería buena idea poder tener mascotas dentro de un programa. Debido a lo anterior, usted debe crear la clase *Mascota que posea los siguientes campos y métodos:\n",
        "\n",
        "**Campos**:\n",
        "- nombre: representa el nombre de la mascota\n",
        "- tipo: representa que tipo de mascota es, por ejemplo: perro, gato, hamster, etc.\n",
        "- energía: un número que representa la cantidad de energía de la mascota. Con ella la mascota es capaz de jugar y realizar actividades.\n",
        "\n",
        "**Métodos**:\n",
        "- alimentar: alimenta a la mascota, teniendo como efecto que aumente su energía en 50.\n",
        "- jugar: la mascota juega, siempre y cuando tenga energía suficiente disponible para hacerlo. Asuma que jugar gasta 20 de energía.\n",
        "\n",
        "Además de los métodos anteriores, deberá implementar los métodos accesores (get) y mutadores (set) para todos los campos de la clase. Para los métodos alimentar y jugar, utilice los mutadores y accesores.\n"
      ]
    },
    {
      "cell_type": "code",
      "metadata": {
        "id": "7mFrCzP14YnO"
      },
      "source": [
        "# Escriba su código aquí"
      ],
      "execution_count": null,
      "outputs": []
    },
    {
      "cell_type": "markdown",
      "metadata": {
        "id": "eEmsc4IT9WOy"
      },
      "source": [
        "## Pregunta 3"
      ]
    },
    {
      "cell_type": "markdown",
      "metadata": {
        "id": "EzjrWJ0897pd"
      },
      "source": [
        "En la Clase 20 se usa como ejemplo la Clase *Automovil*, la cual no está implementada. Es por esto que en esta pregunta deberá implementar la Clase *Automovil* con su respectivo constructor y los siguientes campos y métodos.\n",
        "\n",
        "**Campos:**\n",
        "- *color:* indica el color del automovil.\n",
        "- *nivel de gasolina*: indica el nivel actual de gasolina.\n",
        "- *velocidad actual*: indica la velocidad actual del automovil.\n",
        "- *velocidad máxima*: indica la velocidad máxima del automovil.\n",
        "- *apagado*: indica si el automovil está encendido o apagado.\n",
        "- *gasolina maxima*: indica la maxima cantidad de gasolina del automovil.\n",
        "\n",
        "**Métodos:**\n",
        "- *cambiarColor*: cambia el color del automovil.\n",
        "- *encender*: enciende el automovil (solo si está apagado).\n",
        "- *apagar*: apaga el automovil (solo si está encendido).\n",
        "- *acelerar*: aumenta la velocidad del automovil en 10 (la velocidad actual no puede superar la velocidad máxima). Además gasta 1 de gasolina.\n",
        "- *frenar*: disminuye en 10 la velocidad del automovil (la velocidad no puede ser menor a 0).\n",
        "- *gasolinaActual*: entrega la cantidad de gasolina actual.\n",
        "- *llenarEstanque*: llena el nivel de gasolina a su maximo.\n",
        "\n",
        "Asuma que al crear un vehiculo este empezará sin gasolina, apagado y no en movimiento. Además asuma que si el automovil ya llego a su velocidad maxima, de todas formas gastará gasolina al acelerar."
      ]
    },
    {
      "cell_type": "code",
      "metadata": {
        "id": "1hpGlzry4bvq"
      },
      "source": [
        "# Escriba su código aquí"
      ],
      "execution_count": null,
      "outputs": []
    }
  ]
}