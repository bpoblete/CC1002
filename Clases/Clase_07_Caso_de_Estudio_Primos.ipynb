{
  "nbformat": 4,
  "nbformat_minor": 0,
  "metadata": {
    "kernelspec": {
      "name": "python3",
      "display_name": "Python 3"
    },
    "colab": {
      "name": "Clase_07_Caso_de_Estudio_Primos.ipynb",
      "provenance": [],
      "collapsed_sections": [
        "KaMwaVsbWxaI",
        "S3NyK0rrjQNh",
        "Wni-fEzykGFu",
        "VXGDG02XjQNm",
        "0V8cF5pEuHwP",
        "hUMN8ogrvBcR",
        "tqS6cynfw9LJ",
        "CsOQ_QbmxGNS",
        "N3EQi79WxyPf"
      ],
      "include_colab_link": true
    }
  },
  "cells": [
    {
      "cell_type": "markdown",
      "metadata": {
        "id": "view-in-github",
        "colab_type": "text"
      },
      "source": [
        "<a href=\"https://colab.research.google.com/github/bpoblete/CC1002/blob/master/Clases/Clase_07_Caso_de_Estudio_Primos.ipynb\" target=\"_parent\"><img src=\"https://colab.research.google.com/assets/colab-badge.svg\" alt=\"Open In Colab\"/></a>"
      ]
    },
    {
      "cell_type": "markdown",
      "metadata": {
        "id": "mqdR6DGhjQNg"
      },
      "source": [
        "# Caso de Estudio I: \"Números Primos\"\n",
        "\n",
        "**Esta es una actividad opcional**.\n",
        "\n",
        "En este caso de estudios, \n",
        "- revisaremos el concepto de números primos, \n",
        "- algoritmos asociados a ellos, e\n",
        "- implementaremos funciones para algunos de esos algoritmos en un módulo de nombre **`primos.py`**.\n",
        "\n",
        "El módulo ``primos.py`` parte inicialmente vacío:\n",
        "\n",
        "```python\n",
        "# Modulo Primos\n",
        "\n",
        "```\n",
        "El caso de estudios consiste en una *actividad o desafío principal* y *actividades o desafíos complementarios*.\n",
        "\n",
        "\n",
        "## Actividad Principal\n",
        "\n",
        "Para esta actividad, debe primero ver el siguiente video:\n",
        "\n",
        "<a href=\"https://www.youtube.com/watch?v=hSlo9rbCb6E&t=10s\">Identificando Números Primos (YouTube)</a>\n",
        "\n",
        "Una vez visto el video debe completar el desafío principal propuesto en el video.\n",
        "\n",
        "Se recomienda escribir la función o funciones pedidas dentro del módulo de nombre ``primos.py``.\n",
        "\n",
        "\n",
        "<mark>**La Solución** está disponible más abajo en la sección soluciones. Se recomienda mirarlas sólo después de haber intentado resolver este problema por un rato.</mark>"
      ]
    },
    {
      "cell_type": "markdown",
      "metadata": {
        "id": "KaMwaVsbWxaI"
      },
      "source": [
        "## Actividades Complementarias\n",
        "\n",
        "Como actividad <mark>OPCIONAL</mark> le sugerimos resolver los siguientes problemas:\n",
        "\n",
        "- **primos en un rango.** ej: 11 13 17 19 en 10-20. Su función debe retornar un string con la lista de los primos en el rango, por ejemplo:\n",
        "   - primosEnRango(10,20) retorna \"11 13 17 19\"\n",
        "\n",
        "- **primeros n primos.** ej: primeros 5: 2 3 5 7 11. Su función debe retornar un string con la lista de los primeros n primos, por ejemplo:\n",
        "   - primerosPrimos(5) retorna \"2 3 5 7 11 \"\n",
        "\n",
        "- **primo siguiente.** ej: de 23 es 29\n",
        "\n",
        "- **i-ésimo primo.** ej: 1° es 2, 2° es 3, ...\n",
        "\n",
        "<mark>Las soluciones están al final</mark>.\n",
        "\n",
        "## Otras actividades opcionales\n",
        "\n",
        "Y para quienes aún tiene más ganas de investigar algoritmos con primos, están los siguientes desafíos. (Todo esto es <mark>OPCIONAL</mark>).\n",
        "\n",
        "- **factores primos.** ej: 12 es 2 x 2 x 3\n",
        "   Dado un entero, esta función debe retornar un string con la lista de los divisores primos del entero. Por ejemplo,\n",
        "    - factoresPrimos(12) retorna \"2 2 3 \"\n",
        "\n",
        "- **primos relativos** (primos entre sí). ej: 9 y 4\n",
        "\n",
        "Se recomienda poner sus funciones en el módulo **`primos`**.\n",
        "\n",
        "<mark>No entregaremos soluciones para estos últimos.</mark>\n"
      ]
    },
    {
      "cell_type": "markdown",
      "metadata": {
        "id": "cIpbIuM4m1Cs"
      },
      "source": [
        "# Soluciones"
      ]
    },
    {
      "cell_type": "markdown",
      "metadata": {
        "id": "S3NyK0rrjQNh"
      },
      "source": [
        "### Función \"esPrimo\"\n",
        "\n",
        "- Indica si un numero **n** es primo (True) o no (False)\n",
        "- Un número primo es aquel que <mark>tiene **dos** divisores exactos, **1** y **sí mismo**</mark>.\n",
        "- **Ejemplo**: esPrimo(5) retorna True, esPrimo(9) retorna False\n",
        "- Solución:\n",
        "    - Enfoque de <mark>fuerza bruta</mark> (i.e., probar todos los números), tal como se describe en el video.\n",
        "\n",
        "Se recomienda usar *parámetros por omisión* de Python en la función esPrimo. Si no sabe qué es eso, vea al final."
      ]
    },
    {
      "cell_type": "markdown",
      "metadata": {
        "id": "Wni-fEzykGFu"
      },
      "source": [
        "### ¿Cuál sería el algoritmo?\n",
        "\n",
        "\n",
        "- ¿Qué significa buscar primos por fuerza bruta?\n",
        "- ¿Cuál es el caso base? (recuerde que 0 y 1 no son primos)\n",
        "\n",
        "\n",
        "\n",
        "\n",
        "\n",
        "\n",
        "\n",
        "\n",
        "### Código:\n"
      ]
    },
    {
      "cell_type": "code",
      "metadata": {
        "id": "ZACGboLNjQNi"
      },
      "source": [
        "# esPrimo: int -> bool\n",
        "# indica si un numero es primo (True) o no (False)\n",
        "# Ejemplo: esPrimo(5) retorna True, esPrimo(9) retorna False\n",
        "def esPrimo(n,divisor=2):\n",
        "\n",
        "  assert type(n) == int and n>=2\n",
        "  \n",
        "  if n <= divisor:  #solo divide por si mismo, es primo\n",
        "    return True\n",
        "  \n",
        "  if n % divisor == 0: #divide perfectamente es decir no es primo\n",
        "    return False\n",
        "  \n",
        "  return esPrimo(n, divisor+1)\n",
        "\n",
        "      \n",
        "      \n",
        "# test:\n",
        "assert esPrimo(5)\n",
        "assert not esPrimo(9)\n",
        "\n",
        "\n"
      ],
      "execution_count": null,
      "outputs": []
    },
    {
      "cell_type": "markdown",
      "metadata": {
        "id": "VXGDG02XjQNm"
      },
      "source": [
        "## Opcional\n",
        "\n",
        "### ¿Podemos mejorar esto para que sea más eficiente?\n",
        "\n",
        "\n",
        "\n",
        "#### Por ejemplo: podemos calcular solo en caso de n impar\n",
        "\n",
        "\n",
        "- El caso en que $n$ es par es fácil, qué debemos checkear para saber?\n",
        "- El caso que no sea par es entonces el que debemos verificar:\n",
        "    - <mark>No es necesario revisar todos los números impares como divisor.</mark>\n",
        "    - Basta con llegar hasta $n < divisor^2$\n",
        "    - Si $n$ no es primo, entonces: $n = a\\cdot b$\n",
        "    - En ese caso, el valor máximo que puede tomar $a$ ó $b$ es $a=b$\n",
        "    - $\\Rightarrow n=a^2$ \n",
        "    \n",
        "    \n",
        "### Código:\n"
      ]
    },
    {
      "cell_type": "code",
      "metadata": {
        "id": "0cQzWXKBjQNn"
      },
      "source": [
        "# esPrimoImpar: int -> bool\n",
        "# version de esPrimo solo para n impares y\n",
        "# se detiene cuando divisor es mayor a la raiz del numero\n",
        "# Ejemplo: esPrimoImpar(13)-> True, esPrimoImpar(9)->False\n",
        "def esPrimoImpar(n, divisor=3):\n",
        "  \n",
        "  assert type(n)==int and n>=3 and n%2==1 # nos aseguramos que es impar\n",
        "  \n",
        "  if divisor**2 > n : \n",
        "    return True\n",
        "  \n",
        "  if n % divisor == 0: \n",
        "    return False \n",
        "    \n",
        "  return esPrimoImpar(n,divisor+2)\n",
        "\n",
        "\n",
        "assert not esPrimoImpar(9)\n",
        "assert esPrimoImpar(13)\n"
      ],
      "execution_count": null,
      "outputs": []
    },
    {
      "cell_type": "markdown",
      "metadata": {
        "id": "sly9S8ezjQNp"
      },
      "source": [
        "\n",
        "****\n",
        "\n",
        "\n",
        "Luego podemos integrar todo en una sola función llamada `esPrimoOptimizado()` que sirve para pares e impares\n"
      ]
    },
    {
      "cell_type": "code",
      "metadata": {
        "id": "kRotEAiZjQNq"
      },
      "source": [
        "# esPrimoOptimizado: int -> bool\n",
        "# version optimizada de esPrimo que utiliza solo numeros impares y\n",
        "# se detiene cuando divisor es mayor a la raiz del numero\n",
        "# Ejemplo: esPrimoOptimizado(13)-> True, esPrimoOptimizado(14)-> False\n",
        "def esPrimoOptimizado(n):\n",
        "\n",
        "  assert type(n) == int and n>=2\n",
        "  \n",
        "  if n==2: # es 2\n",
        "    return True\n",
        "  \n",
        "  if n%2==0:  # es par\n",
        "    return False\n",
        "  \n",
        "  # es impar\n",
        "  return esPrimoImpar(n)\n",
        "\n",
        "assert not esPrimoOptimizado(12)\n",
        "assert esPrimoOptimizado(13)\n",
        "assert not esPrimoOptimizado(9)\n"
      ],
      "execution_count": null,
      "outputs": []
    },
    {
      "cell_type": "markdown",
      "metadata": {
        "id": "0V8cF5pEuHwP"
      },
      "source": [
        "### También podemos juntar todo en una sola función:"
      ]
    },
    {
      "cell_type": "code",
      "metadata": {
        "id": "sL4mNIfPjQNt"
      },
      "source": [
        "# esPrimo: int -> bool\n",
        "# version optimizada de esPrimo para pares e impares\n",
        "# se detiene cuando divisor es mayor a la raiz del numero\n",
        "# Ejemplo: esPrimo(13)-> True, esPrimo(14)-> False\n",
        "def esPrimo(n,divisor=3):\n",
        "\n",
        "  assert type(n) == int and n>=2\n",
        "\n",
        "  if n==2:\n",
        "    return True\n",
        "\n",
        "  if n%2==0:  # es par\n",
        "    return False\n",
        "\n",
        "  if divisor**2 > n:\n",
        "    return True\n",
        "\n",
        "  if n % divisor == 0: # es divisible perfectamente por un número menor a n\n",
        "    return False\n",
        "\n",
        "  return esPrimo(n,divisor+2)\n",
        "\n",
        "assert not esPrimo(12)\n",
        "assert esPrimo(11)\n"
      ],
      "execution_count": null,
      "outputs": []
    },
    {
      "cell_type": "code",
      "metadata": {
        "id": "RTh7RqyZjQNw"
      },
      "source": [
        "# testPrimos: None -> None\n",
        "# Lee numeros hasta que aparece un numero menor que 2\n",
        "# e imprime si son primos o no\n",
        "# ej: lee \"17\", \"9\", \"7\", \"1\" escribe \"si\", \"no\", \"si\"\n",
        "def testPrimos():\n",
        "    n = int(input(\"numero entero? \"))\n",
        "    if n<2: \n",
        "        return # no escribimos nada mas\n",
        "    if esPrimo(n):\n",
        "        print(\"si \")\n",
        "    else:\n",
        "        print(\"no \")\n",
        "    testPrimos()\n"
      ],
      "execution_count": null,
      "outputs": []
    },
    {
      "cell_type": "code",
      "metadata": {
        "id": "cSJ7TsJ4jQNy"
      },
      "source": [
        "testPrimos()"
      ],
      "execution_count": null,
      "outputs": []
    },
    {
      "cell_type": "markdown",
      "metadata": {
        "id": "hUMN8ogrvBcR"
      },
      "source": [
        "### Escribir a pantalla los números primos dentro de cierto rango"
      ]
    },
    {
      "cell_type": "code",
      "metadata": {
        "id": "drymCHDmjQN2"
      },
      "source": [
        "# rango: int int -> str\n",
        "# escribe primos entre x e y\n",
        "# ej: rango(2,10) -> \"2 3 5 7 \" (con espacio al final)\n",
        "def rango(x,y):\n",
        "  \n",
        "  assert type(x) == int and type(y)==int and x>=2\n",
        "\n",
        "  if x>y:\n",
        "    return \"\"  # retornamos string vacio\n",
        "\n",
        "  if esPrimo(x):\n",
        "    return str(x) + \" \" + rango(x+1,y)\n",
        "  else:\n",
        "    return rango(x+1,y)\n",
        "\n",
        "# Tests\n",
        "assert rango(2,10) == \"2 3 5 7 \""
      ],
      "execution_count": null,
      "outputs": []
    },
    {
      "cell_type": "code",
      "metadata": {
        "id": "IbVxpyDevn23"
      },
      "source": [
        "rango(2,100)"
      ],
      "execution_count": null,
      "outputs": []
    },
    {
      "cell_type": "markdown",
      "metadata": {
        "id": "tqS6cynfw9LJ"
      },
      "source": [
        "### Escribir los primeros $n$ números primos"
      ]
    },
    {
      "cell_type": "code",
      "metadata": {
        "id": "xngfiGUWjQN5"
      },
      "source": [
        "# primeros: int -> str\n",
        "# escribe los n primeros numeros primos\n",
        "# ej: primeros(5) -> \"2 3 5 7 11 \"\n",
        "\n",
        "def primeros(n, indice=2, contador=1):\n",
        "\n",
        "  if contador > n:\n",
        "    return \"\"\n",
        "\n",
        "  if esPrimo(indice):\n",
        "    contador = contador+1\n",
        "    return str(indice) + \" \" + primeros(n, indice+1, contador)\n",
        "  else:    \n",
        "    return primeros(n, indice+1, contador)\n",
        "\n",
        "# Tests\n",
        "assert primeros(5) == \"2 3 5 7 11 \""
      ],
      "execution_count": null,
      "outputs": []
    },
    {
      "cell_type": "code",
      "metadata": {
        "id": "4jr4wdqJwv4O"
      },
      "source": [
        "primeros(10)"
      ],
      "execution_count": null,
      "outputs": []
    },
    {
      "cell_type": "markdown",
      "metadata": {
        "id": "CsOQ_QbmxGNS"
      },
      "source": [
        "### Escribir el siguiente número primo de un entero $n$"
      ]
    },
    {
      "cell_type": "code",
      "metadata": {
        "id": "n_1-o-EnjQN8"
      },
      "source": [
        "# siguiente: int->int\n",
        "# primo siguiente a un entero dado\n",
        "# ej: siguiente(2)->3, siguiente(13)->17\n",
        "def siguiente(n):\n",
        "  assert type(n)==int and n>=1\n",
        "\n",
        "  if n<=2: \n",
        "    return n+1\n",
        "\n",
        "  if esPrimo(n+1): \n",
        "    return n+1\n",
        "  \n",
        "  return siguiente(n+1)\n",
        "\n",
        "# test:\n",
        "assert siguiente(2)==3\n",
        "assert siguiente(13)==17\n"
      ],
      "execution_count": null,
      "outputs": []
    },
    {
      "cell_type": "code",
      "metadata": {
        "id": "tB95bYvAjQOA"
      },
      "source": [
        "siguiente(200)"
      ],
      "execution_count": null,
      "outputs": []
    },
    {
      "cell_type": "markdown",
      "metadata": {
        "id": "N3EQi79WxyPf"
      },
      "source": [
        "### Escribir el $i$\\_ésimo número primo"
      ]
    },
    {
      "cell_type": "code",
      "metadata": {
        "id": "uaOgkGxQjQOD"
      },
      "source": [
        "#i_esimo: int -> int\n",
        "#i_esimo numero primo\n",
        "#ejs: i_esimo(1)->2, i_esimo(2)->3\n",
        "def i_esimo(i,indice=1,primo=2):\n",
        "\n",
        "  assert type(i)==int and i>=1\n",
        "  \n",
        "  if indice==i: \n",
        "    return primo\n",
        "  \n",
        "  return i_esimo(i,indice+1,siguiente(primo))\n",
        "\n",
        "# test:\n",
        "assert i_esimo(1)==2\n",
        "assert i_esimo(5)==11\n"
      ],
      "execution_count": null,
      "outputs": []
    },
    {
      "cell_type": "code",
      "metadata": {
        "id": "ZTBRo8BijQOF"
      },
      "source": [
        "i_esimo(4)"
      ],
      "execution_count": null,
      "outputs": []
    },
    {
      "cell_type": "markdown",
      "metadata": {
        "id": "pXERapy5pv5X"
      },
      "source": [
        "## Parámetros por omisión en Python\n",
        "\n",
        "Es una técnica de Python que permite darle un valor **inicial** a un parámetro *en el caso que dicho parámetro NO sea dado al llamar la función*.\n",
        "Por ejemplo, si queremos poder llamar a una función con dos parámetros ```f(x,y)``` en dos casos distintos:\n",
        "\n",
        "- ```f(10,20)```: caso normal, el segundo parámetro es 20.\n",
        "- ```f(10)```: nos gustaría poder llamarlo así, sin poner el segundo parámetro, y que en ese caso el segundo parámetro tenga un valor fijo, por ej. 20. O sea, que dicho llamado sea equivalente a ```f(10,20)```.\n",
        "\n",
        "\n",
        "### Ejemplo de uso de parámetros por omisión\n",
        "\n",
        "Supongamos que queremos saber cuál es el mayor dígito en un entero N. \n",
        "Por ejemplo, mayorDigito(752381081) debe retornar 8.\n",
        "\n",
        "```python\n",
        "def mayorDigito(N): ...\n",
        "```\n",
        "Una manera posible de resolverla es recursivamente, donde en cada llamada recursiva sacamos el último dígito y lo comparamos con el mayor dígito encontrado, y seguimos recursivamente. Para que esta estrategia funcione, tenemos que ir \"recordando\" cuál es el mayor dígito encontrado en la llamada. Una posibilidad es pasarle este mayor dígito como parámetro de la función recursiva.\n",
        "\n",
        "\n",
        "Entonces, el problema es que para que nuestro algoritmo funcione, debemos pasarle a la función ```mayorDigito(N)``` un segundo parámetro, el valor del **mayor dígito visto hasta el momento en la recursión**. O sea, debiera llamarse más bien:\n",
        "```python\n",
        "def mayorDigito(N,m): ...\n",
        "```\n",
        "Y en m irá el mayor dígito visto. Pero esto __no luce muy bonito__, pues la primera vez que llamemos a la función debemos pasarle un 0 como parámetro ```m```. Por ejemplo\n",
        "```python\n",
        "# Ejemplo de uso\n",
        "e = int(input(\"Ingrese un número entero de varios dígitos?\"))\n",
        "mayord = mayorDigito(e,0)\n",
        "print(\"El mayor dígito en el número es \",mayord)\n",
        "```\n",
        "Para evitar poner \"0\" como parámetro, se usan la notación de parámetro por omisión. Esto consiste  en escribir el nombre del parámetro seguido por \"=*algo*\" en el encabezamiento de la función."
      ]
    },
    {
      "cell_type": "code",
      "metadata": {
        "id": "NI__uwSdqYxk"
      },
      "source": [
        "# Contrato\n",
        "# mayorDigito: int -> int\n",
        "# calcula el mayor digito que tiene un entero\n",
        "# Ej: mayorDigito(1234321) debe retornar 4\n",
        "def mayorDigito(n,m=0):   \n",
        "  if n==0: \n",
        "    # Caso base: se acabo n, el mayor dígito es m\n",
        "    return m\n",
        "\n",
        "  ultimoDigito = n % 10\n",
        "  nSinUltimoDigito = n // 10\n",
        "  # comparamos el ultimo digito con el mayor digito hasta el momento (el cual recordamos en m)\n",
        "  if ultimoDigito>m: # es mayor!\n",
        "    return mayorDigito(nSinUltimoDigito, ultimoDigito)\n",
        "  else:  # no es mayor\n",
        "    return mayorDigito(nSinUltimoDigito,m)\n",
        "\n",
        "# Tests\n",
        "assert mayorDigito(752381081)==8\n",
        "assert mayorDigito(1234565321)==6\n",
        "\n",
        "# Ejemplo de uso (programa principal)\n",
        "e = int(input(\"Ingrese un número entero de varios dígitos?\"))\n",
        "\n",
        "# Ojo que no necesitamos darle segundo parámetro a la función (supone m=0)\n",
        "mayord = mayorDigito(e) \n",
        "print(\"El mayor dígito en el número es \",mayord)"
      ],
      "execution_count": null,
      "outputs": []
    },
    {
      "cell_type": "markdown",
      "metadata": {
        "id": "w4AkfRmt5Lav"
      },
      "source": [
        "**Es necesario usar parámetros por omisión de Python?**: En realidad, no.\n",
        "\n",
        "Siempre es posible usar una función distinta, no recursiva primero, y que esa función llame a la función recursiva con los dos parámetros.\n",
        "\n",
        "Por ejemplo:"
      ]
    },
    {
      "cell_type": "code",
      "metadata": {
        "id": "zYDWR-Us6FSy"
      },
      "source": [
        "def obtieneMayorDigito(n):\n",
        "  return mayorDigito(n,0)"
      ],
      "execution_count": null,
      "outputs": []
    },
    {
      "cell_type": "markdown",
      "metadata": {
        "id": "8550klYv6aKg"
      },
      "source": [
        "Con eso, la función ```mayorDigito(n,m)``` puede escribirse normalmente, con dos parámetros, esto es, tal como está más arriba, pero sin usar m=0 en el encabezado."
      ]
    }
  ]
}