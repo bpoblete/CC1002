{
  "nbformat": 4,
  "nbformat_minor": 0,
  "metadata": {
    "kernelspec": {
      "name": "python3",
      "display_name": "Python 3"
    },
    "colab": {
      "name": "Clase 12 Arboles.ipynb",
      "provenance": [],
      "collapsed_sections": [],
      "include_colab_link": true
    }
  },
  "cells": [
    {
      "cell_type": "markdown",
      "metadata": {
        "id": "view-in-github",
        "colab_type": "text"
      },
      "source": [
        "<a href=\"https://colab.research.google.com/github/bpoblete/CC1002/blob/master/Clases/Clase_12_Arboles.ipynb\" target=\"_parent\"><img src=\"https://colab.research.google.com/assets/colab-badge.svg\" alt=\"Open In Colab\"/></a>"
      ]
    },
    {
      "cell_type": "markdown",
      "metadata": {
        "id": "B6ptFRTfvNb1"
      },
      "source": [
        "# Mini-repaso\n",
        "\n",
        "\n",
        "## Listas\n",
        "\n",
        "![lista](https://drive.google.com/uc?export=view&id=0B3jzzeIB00s1SHhBeWV5UEdMNTg)\n",
        "\n",
        "\n",
        "Ej:\n",
        "\n",
        "```python\n",
        "# contiene : str lista(str) -> bool\n",
        "# Determina si lista contiene el string s\n",
        "# ejemplo contiene(’auto’, crearLista(’auto’, listaVacia)) retorna True\n",
        "def contiene(s, unaLista):\n",
        "    if vacia(unaLista): \n",
        "        return False\n",
        "    else:\n",
        "        if cabeza(unaLista) == s:\n",
        "            return True \n",
        "        else:\n",
        "            return contiene(s, cola(unaLista))\n",
        "```\n",
        "\n",
        "## Abstracciones funcionales\n",
        "\n",
        "1. Filtro: Filtrar algunos elementos de la lista y dejarlos en una nueva lista\n",
        "\n",
        "```python\n",
        "#filtro: lista(any) (any any->bool) any -> lista(any)\n",
        "#Devuelve lista con valores de L para los que comparacion con x es True\n",
        "#ej:filtro(lista(5,lista(4,None)),menorQue,5)->lista(4,None)\n",
        "\n",
        "def filtro(operador,unaLista,n): \n",
        "...\n",
        "\n",
        ">>> filtro(menorQue, L, 3)\n",
        "```\n",
        "\n",
        "2. Mapa: Hacer algo a cada elemento de la lista y ponerlos en una nueva lista\n",
        "\n",
        "```python\n",
        "# mapa : (X -> Y) lista(X) -> lista(Y)\n",
        "# devuelve lista con funcion aplicada a todos sus elementos\n",
        "\n",
        "def mapa(f, unaLista): \n",
        "\n",
        "...\n",
        "\n",
        ">>> mapa(aString,L) # crea una nueva lista con strings de fracciones\n",
        "```\n",
        "\n",
        "3. Reducir (Fold): Convertir los elementos de una lista en un solo valor\n",
        "\n",
        "```python\n",
        "# fold: (X X -> X) X lista(X) -> X\n",
        "# procesa la lista con la funcion f y devuelve un unico valor\n",
        "# el valor init se usa como valor inicial para procesar el primer\n",
        "# valor de la lista y como acumulador para los resultados\n",
        "# parciales\n",
        "# pre-condicion: la lista debe tener al menos un valor\n",
        "\n",
        "def fold(f, init, unaLista):\n",
        "...\n",
        "\n",
        ">>> fold(multiplicar, 1, unaLista)\n",
        "```"
      ]
    },
    {
      "cell_type": "markdown",
      "metadata": {
        "id": "OtDVGQp21kc-"
      },
      "source": [
        "## Revisar Pauta Ejercicio 7"
      ]
    },
    {
      "cell_type": "markdown",
      "metadata": {
        "id": "O85p21HlvNb3"
      },
      "source": [
        "# Funciones anónimas\n",
        "\n",
        "Para evitar el tener que estar definiendo funciones auxiliares que luego son\n",
        "utilizadas sólo como parámetro de las funciones **`filtro`**,\n",
        "**`mapa`**, o **`fold`**, es posible definir\n",
        "**funciones anónimas**.  Estas funciones tienen una declaración muy\n",
        "compacta en el código y son funciones \"sin nombre\", ya que están pensadas\n",
        "como funciones que se utilizan **una única vez**.\n",
        "\n",
        "Para definir funciones anónimas en Python se utiliza la instrucción **`lambda`**. La sintáxis es la siguiente:\n",
        "\n",
        "```python\n",
        "lambda id1, id2, ...: expresion\n",
        "```\n",
        "\n",
        "Los identificadores **`id1, id, ...`** corresponde a los parámetros de la\n",
        "función anónima, y **`expresion`** es la expresión que evalúa la función\n",
        "(y devuelve el resultado).  Por ejemplo, una función anónima que suma dos\n",
        "valores se implementa como:\n",
        "\n",
        "```python\n",
        "lambda x,y: x + y\n",
        "```\n",
        "\n",
        "Una función anónima booleana que verifica si un número es menor que 5 se implementa como:\n",
        "\n",
        "```python\n",
        "lambda x: x < 5\n",
        "```\n",
        "\n",
        "Recuerde que las funciones anónimas están pensadas como funciones que se\n",
        "utilizan una sola vez y luego se desechan.  Si la función debe invocarse más\n",
        "de una vez, debe definirse de la manera usual siguiendo la receta de diseño\n",
        "**y no declarar dos veces la misma función anónima**, ya que esto\n",
        "correspondería a duplicación de código, lo que es una mala práctica de\n",
        "programación.\n",
        "\n",
        "### Ej:\n"
      ]
    },
    {
      "cell_type": "code",
      "metadata": {
        "id": "3z2vZDaPznSo"
      },
      "source": [
        "from abstraccion import *\n",
        "def sumarValoresLista(unaLista): \n",
        "  return fold(lambda x,y: x + y, 0, unaLista)"
      ],
      "execution_count": null,
      "outputs": []
    },
    {
      "cell_type": "code",
      "metadata": {
        "id": "6rDvtD4M0TQy"
      },
      "source": [
        "L=crearLista(4,crearLista(10,crearLista(1,listaVacia)))"
      ],
      "execution_count": null,
      "outputs": []
    },
    {
      "cell_type": "code",
      "metadata": {
        "id": "lbirAZHF0v2t",
        "outputId": "5b29e78f-ce20-4884-8af2-826f277790ba",
        "colab": {
          "base_uri": "https://localhost:8080/",
          "height": 35
        }
      },
      "source": [
        "sumarValoresLista(L)"
      ],
      "execution_count": null,
      "outputs": [
        {
          "output_type": "execute_result",
          "data": {
            "text/plain": [
              "15"
            ]
          },
          "metadata": {
            "tags": []
          },
          "execution_count": 3
        }
      ]
    },
    {
      "cell_type": "markdown",
      "metadata": {
        "id": "AKgg54ktvNb4"
      },
      "source": [
        "# Clase 11: Árboles (Capítulo 9.7)\n",
        "\n",
        "\n",
        "## Árbol de Ancestros \n",
        "\n",
        "\n",
        "\n",
        "![Un árbol genealógico de ancestros](https://drive.google.com/uc?export=view&id=0B3jzzeIB00s1Nnk0YndNcHhCcjQ)\n",
        "\n",
        "```python\n",
        "#persona: nombre(str) nacimiento(int) padre(persona) madre(persona)\n",
        "estructura.crear(\"persona\",\"nombre nacimiento padre madre\")\n",
        "```\n",
        "\n",
        "En otras palabras, una **`persona`** se construye a partir de cuatro elementos.\n",
        "\n",
        "\n"
      ]
    },
    {
      "cell_type": "code",
      "metadata": {
        "id": "rD1ftQ4zvNb6"
      },
      "source": [
        "import estructura\n",
        "#persona:nombre(str) nacimiento(int) padre(persona) madre(persona)\n",
        "estructura.crear(\"persona\",\"nombre nacimiento padre madre\")\n",
        "\n",
        "#primera generación (“abuelos”)\n",
        "carlos=persona(\"carlos\",1926,None,None)\n",
        "beatriz=persona(\"beatriz\",1926,None,None)\n",
        "\n",
        "#segunda generacion (“hijos”)\n",
        "andres=persona(\"andres\",1950, carlos, beatriz)\n",
        "david=persona(\"david\",1955,carlos,beatriz)\n",
        "eva=persona(\"eva\",1965,carlos,beatriz)\n",
        "federico=persona(\"federico\",1966,None,None)\n",
        "\n",
        "#tercera generacion (“nietos”)\n",
        "gustavo=persona(\"gustavo\",1996,federico,eva)\n"
      ],
      "execution_count": null,
      "outputs": []
    },
    {
      "cell_type": "code",
      "metadata": {
        "id": "_9jC9YBBvNb9"
      },
      "source": [
        "#esAncestro: persona persona -> bool\n",
        "#True si persona x es ancestro de persona P\n",
        "#ej: esAncestro(carlos,gustavo)->True\n",
        "def esAncestro(x,P):\n",
        "    if P==None: \n",
        "        return False\n",
        "    if P==x:\n",
        "        return True\n",
        "    #ancestro por parte de padre?\n",
        "    if (esAncestro(x,P.padre)):\n",
        "        return True\n",
        "    #ancestro por parte de madre?\n",
        "    elif(esAncestro(x,P.madre)):\n",
        "        return True\n",
        "\n",
        "    # no lo encontramos\n",
        "    return False\n",
        "\n",
        "assert esAncestro(beatriz,gustavo)\n"
      ],
      "execution_count": null,
      "outputs": []
    },
    {
      "cell_type": "markdown",
      "metadata": {
        "id": "IyUpplYvvNcB"
      },
      "source": [
        "## Árboles genealógicos descendentes\n",
        "\n",
        "![Un árbol genealógico de ancestros](https://drive.google.com/uc?export=view&id=0B3jzzeIB00s1M1A0M1FmNWJoLXc)\n",
        "\n",
        "```python\n",
        "#persona:nombre(str) nacimiento(int) hijos(lista(persona))\n",
        "estructura.crear(\"persona\",\"nombre nacimiento hijos\")\n",
        "```\n"
      ]
    },
    {
      "cell_type": "code",
      "metadata": {
        "id": "XFGbhiokvNcD"
      },
      "source": [
        "from lista import *\n",
        "\n",
        "#persona:nombre(str) nacimiento(int) hijos(lista(persona))\n",
        "estructura.crear(\"persona\",\"nombre nacimiento hijos\")\n",
        "\n",
        "#nietos\n",
        "gustavo=persona(\"gustavo\",1996,None)\n",
        "\n",
        "#padres\n",
        "andres=persona(\"andres\",1950, None)\n",
        "david=persona(\"david\",1955,None)\n",
        "eva=persona(\"eva\",1965,lista(gustavo,None))\n",
        "federico=persona(\"federico\",1966,lista(gustavo,None))\n",
        "\n",
        "#abuelos\n",
        "hijosCarlosBeatriz=lista(andres,lista(david,lista(eva,None)))\n",
        "carlos=persona(\"carlos\",1926,hijosCarlosBeatriz)\n",
        "beatriz=persona(\"beatriz\",1926,hijosCarlosBeatriz)\n"
      ],
      "execution_count": null,
      "outputs": []
    },
    {
      "cell_type": "code",
      "metadata": {
        "id": "lh1ZVggf1UGm"
      },
      "source": [
        "#esDescendiente: persona persona -> bool\n",
        "#True si persona x es descendiente de persona P\n",
        "#ej: esDescendiente(gustavo,carlos)->True\n",
        "def esDescendiente(x,P):\n",
        "    if P==None: \n",
        "        return False\n",
        "    if P==x:\n",
        "        return True\n",
        "    else:\n",
        "        return esDescendienteHijos(x,P.hijos)\n",
        "# Test\n",
        "assert esDescendiente(gustavo,carlos)\n"
      ],
      "execution_count": null,
      "outputs": []
    },
    {
      "cell_type": "code",
      "metadata": {
        "id": "5bnqVaDxvNcF"
      },
      "source": [
        "#esDescendienteHijos: persona lista(persona) -> bool\n",
        "#True si persona x es descendiente de listaHijos\n",
        "#ej: esDescendienteHijos(gustavo,hijosCarlosBeatriz) -> True\n",
        "def esDescendienteHijos(x, listaHijos):\n",
        "    if vacia(listaHijos):\n",
        "        return False\n",
        "    else: \n",
        "        if cabeza(listaHijos)==x:\n",
        "            return True\n",
        "        elif esDescendiente(x,cabeza(listaHijos)):\n",
        "            return True\n",
        "        else: \n",
        "            return esDescendienteHijos(x,cola(listaHijos))\n",
        "\n",
        "# Test\n",
        "assert esDescendienteHijos(gustavo,hijosCarlosBeatriz)\n"
      ],
      "execution_count": null,
      "outputs": []
    },
    {
      "cell_type": "markdown",
      "metadata": {
        "id": "F0JRNoMBvNcI"
      },
      "source": [
        "## Árboles binarios (AB)\n",
        "\n",
        "![ab](https://drive.google.com/uc?export=view&id=0B3jzzeIB00s1TzdHRGpJYVllZjg)\n",
        "\n",
        "Cumplen alguna de las siguientes condiciones:\n",
        "- Un AB es vacío, o\n",
        "- Tiene un valor, un AB a la izquierda, y otro AB a la derecha"
      ]
    },
    {
      "cell_type": "code",
      "metadata": {
        "id": "QT4fi54ovNcJ"
      },
      "source": [
        "import estructura\n",
        "#Arbol Binario\n",
        "#AB: valor(any), izq(AB), der(AB)\n",
        "estructura.crear(\"AB\",\"valor izq der\")\n",
        "\n",
        "ab=AB(\"F\",\\\n",
        "    AB(\"B\",\\\n",
        "        AB(\"A\",None,None),\\\n",
        "        AB(\"D\",\\\n",
        "            AB(\"C\",None,None),\\\n",
        "            AB(\"E\",None,None))),\\\n",
        "    AB(\"G\",\\\n",
        "        None,\\\n",
        "        AB(\"I\",\\\n",
        "            AB(\"H\", None, None),\\\n",
        "            None)))  \n"
      ],
      "execution_count": null,
      "outputs": []
    },
    {
      "cell_type": "code",
      "metadata": {
        "id": "AOsp_tMOvNcN"
      },
      "source": [
        "#valores: AB -> int\n",
        "#n° de valores de arbol A\n",
        "#ej: valores(ab) -> 9\n",
        "\n",
        "def valores(A):\n",
        "    assert A==None or type(A)==AB\n",
        "    if A==None: \n",
        "        return 0\n",
        "    return 1 + valores(A.izq) + valores(A.der)\n",
        "\n",
        "assert valores(ab)==9"
      ],
      "execution_count": null,
      "outputs": []
    },
    {
      "cell_type": "code",
      "metadata": {
        "id": "bZgy0O_3vNcQ"
      },
      "source": [
        "#altura: AB -> int\n",
        "#n° de niveles de valores de arbol A\n",
        "#ej: altura(ab) -> 4\n",
        "\n",
        "def altura(A):\n",
        "    assert A==None or type(A)==AB\n",
        "    if A==None:\n",
        "        return 0\n",
        "    return 1 + max(altura(A.izq),altura(A.der))\n",
        "\n",
        "assert altura(ab)==4"
      ],
      "execution_count": null,
      "outputs": []
    },
    {
      "cell_type": "markdown",
      "metadata": {
        "id": "ghEFy91JvTSk"
      },
      "source": [
        "### Ejemplo: Contar las hojas de un AB\n",
        "\n",
        "Las hojas son nodos que no tienen AB izquiero ni AB derecho (es decir, nodos sin hijos). En la figura son A, C, E, H."
      ]
    },
    {
      "cell_type": "code",
      "metadata": {
        "id": "5-Ydl3wSvTSk"
      },
      "source": [
        "#hojas: AB -> int\n",
        "#n° de valores sin \"hijos\"\n",
        "#ej: hojas(ab)->4\n",
        "\n",
        "def hojas(A):\n",
        "    assert A==None or type(A)==AB\n",
        "    if A==None: \n",
        "        return 0\n",
        "    if A.izq==None and A.der==None:\n",
        "        return 1\n",
        "    return hojas(A.izq) + hojas(A.der)\n",
        "\n",
        "assert hojas(ab)==4\n"
      ],
      "execution_count": null,
      "outputs": []
    }
  ]
}