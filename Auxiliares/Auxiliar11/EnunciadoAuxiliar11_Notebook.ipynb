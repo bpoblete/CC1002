{
  "nbformat": 4,
  "nbformat_minor": 0,
  "metadata": {
    "colab": {
      "name": "EnunciadoAuxiliar11_Notebook.ipynb",
      "provenance": [],
      "collapsed_sections": [],
      "toc_visible": true,
      "include_colab_link": true
    },
    "kernelspec": {
      "name": "python3",
      "display_name": "Python 3"
    }
  },
  "cells": [
    {
      "cell_type": "markdown",
      "metadata": {
        "id": "view-in-github",
        "colab_type": "text"
      },
      "source": [
        "<a href=\"https://colab.research.google.com/github/bpoblete/CC1002/blob/master/Auxiliares/Auxiliar11/EnunciadoAuxiliar11_Notebook.ipynb\" target=\"_parent\"><img src=\"https://colab.research.google.com/assets/colab-badge.svg\" alt=\"Open In Colab\"/></a>"
      ]
    },
    {
      "cell_type": "markdown",
      "metadata": {
        "id": "Xw80lrPrXxcl"
      },
      "source": [
        "#Auxiliar 11 - Objetos y Clases\n"
      ]
    },
    {
      "cell_type": "markdown",
      "metadata": {
        "id": "DaVzoP5-UqM_"
      },
      "source": [
        "## P1 Amigo secreto\n",
        " Creamos las siguientes clases que nos permitirán modelar el juego amigo secreto.\n",
        "\n",
        "### A)\n",
        " Defina la clase **Persona**. Esta debe tener los campos nombre y regala_a. El primero será un string y el segundo una Persona.\n",
        "\n",
        "\n",
        "\n",
        "\n",
        "\n",
        "\n"
      ]
    },
    {
      "cell_type": "markdown",
      "metadata": {
        "id": "ilUFZC5-_wEf"
      },
      "source": [
        "### B)\n",
        " Defina la clase **Regalo**. Esta debe tener los campos nombre y destinatario. El primero será un string y el segundo una Persona."
      ]
    },
    {
      "cell_type": "markdown",
      "metadata": {
        "id": "k2AxCGOu_qtD"
      },
      "source": [
        "### C) \n",
        "Defina la clase **Juego**. Esta tendrá los campos participantes y regalos. El primero será una lista de personas y el segundo una lista de regalos.\n",
        "\n",
        "### D)\n",
        "Defina el método sorteo para la clase **Juego**. Este debe devolver una lista que represente a quién le entregará un regalo la persona que tiene la misma posición en la lista participantes.\n",
        "\n",
        "Utilice la función **shuffle del módulo random** de python en su implementación. Además, recuerde que una persona no puede ser amiga secreta de si misma y que todos deben recibir un regalo.\n",
        "\n",
        "### E)\n",
        "Defina el método **asignarAmigos** para la clase Juego. Esta función recibe una lista de personas, que representa a quienes se les hará un regalo a partir de su posición en la lista, es decir, la persona con indice i recibirá un regalo de la persona en la lista de participantes que tenga la posición i. \n",
        "\n",
        "El método deberá setear el valor regala_a para todas las personas de la lista de participantes. Además, para el caso en que las listas tienen un tamaño diferente se debe imprimir un error.\n",
        "\n",
        "### F)\n",
        "Defina el método **entregaRegalos** para la clase Juego. Este debe mostrar en pantalla a todos los participantes, con el regalo que hicieron y a quién se lo entregaron."
      ]
    },
    {
      "cell_type": "markdown",
      "metadata": {
        "id": "zjdjFuc42qNx"
      },
      "source": [
        "## P2. Polinomios\n",
        "Un polinomio de grado n se puede representar como una lista de n+1 coeficientes. \n",
        "### A)\n",
        "Diseñe una clase **Pol** que permita ser utilizada de la siguiente manera:\n",
        "\n",
        "*Pol([a])* crea el polinomio *a*, *Pol([ b, a])* crea *ax+b*, *Pol([c, b, a])* crea *ax^2+bx+c* y así sucesivamente.\n",
        "\n",
        "### B)\n",
        "Defina la función **p.evaluar(x)**, la cual evalúa el argumento x en el polinomio p.\n",
        "\n",
        "### C)\n",
        "Defina la función **p.toString()**, la que devuelve un string que representa al polinomio p.\n",
        "\n",
        "### D)\n",
        "Defina la función **p1.sumar(p2)**, la cual recibe 2 polinomios y devuelve un polinomio correspondiente a la suma de estos. \n",
        "\n",
        "Para ello, cree y luego utilice la función auxiliar **max_lista**, la cual reciba 2 listas y devuelva la lista que tenga el mayor largo, en caso, de que ambas tengan el mismo largo devuelva cualquiera."
      ]
    }
  ]
}