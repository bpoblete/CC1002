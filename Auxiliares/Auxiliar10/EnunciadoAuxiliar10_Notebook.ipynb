{
  "nbformat": 4,
  "nbformat_minor": 0,
  "metadata": {
    "colab": {
      "name": "EnunciadoAuxiliar10_Notebook.ipynb",
      "provenance": [],
      "collapsed_sections": [],
      "toc_visible": true,
      "include_colab_link": true
    },
    "kernelspec": {
      "name": "python3",
      "display_name": "Python 3"
    }
  },
  "cells": [
    {
      "cell_type": "markdown",
      "metadata": {
        "id": "view-in-github",
        "colab_type": "text"
      },
      "source": [
        "<a href=\"https://colab.research.google.com/github/bpoblete/CC1002/blob/master/Auxiliares/Auxiliar10/EnunciadoAuxiliar10_Notebook.ipynb\" target=\"_parent\"><img src=\"https://colab.research.google.com/assets/colab-badge.svg\" alt=\"Open In Colab\"/></a>"
      ]
    },
    {
      "cell_type": "markdown",
      "metadata": {
        "id": "Xw80lrPrXxcl"
      },
      "source": [
        "#Auxiliar 10 - Archivos y Diccionarios "
      ]
    },
    {
      "cell_type": "markdown",
      "metadata": {
        "id": "DaVzoP5-UqM_"
      },
      "source": [
        "### P1 Lectura/Escritura de Archivos\n",
        "El archivo notas.txt contiene una lista con los nombres de los estudiantes y sus respectivas notas. Cada linea del archivo corresponde a un alumno, donde primero se tiene el nombre, seguido por sus notas, separando cada valor con una coma.\n",
        "\n",
        "Programe la función promedio, la cual a partir del archivo notas.txt genere un nuevo archivo llamado promedio_notas.txt el cual contenga los nombres y el promedio de notas de cada alumno.\n",
        "\n",
        "Puede asumir que los datos serán entregados en un formato correcto.\n",
        "\n"
      ]
    },
    {
      "cell_type": "markdown",
      "metadata": {
        "id": "zjdjFuc42qNx"
      },
      "source": [
        "### P2. Diccionarios\n",
        "Para comunicarnos secretamente con nuestros amigos, vamos a crear un programa que reemplace las letras del alfabeto por otra letra del mismo. \n",
        "Para ello debemos definir un alfabeto y su sustitución.\n",
        "\n",
        "Por ejemplo:\n",
        "\n",
        "alfabeto = \"ABCDEFGHIJKLMNOPQRSTUVWXYZ\"\n",
        "\n",
        "substitución = \"QWERTYUIOPASDFGHJKLZXCVBNM\"\n",
        "\n",
        "Para los valores anteriores, tendremos que la letra A es reemplazada por la letra Q, la B por W, la C por la E y así sucesivamente.\n",
        "\n",
        "Programaremos las siguientes funciones que nos permitirán cifrar y decifrar nuestros mensajes."
      ]
    },
    {
      "cell_type": "markdown",
      "metadata": {
        "id": "fH2Oy0EhlqZV"
      },
      "source": [
        "### A) \n",
        "Defina la función crearDiccionario, esta debe recibir dos strings, uno correspondiente al alfabeto y el otro a la substitución que utilizaremos. \n",
        "\n",
        "A partir de estos valores debe devolver un diccionario que contenga todas las letras del alfabeto con sus respectivas subtituciones.\n",
        "\n",
        "Por ejemplo: \n",
        "\n",
        "alfabeto = \"ABCDEFGHIJKLMNOPQRSTUVWXYZ\"\n",
        "\n",
        "substitución = \"QWERTYUIOPASDFGHJKLZXCVBNM\"\n",
        "\n",
        "crearDiccionario(alfabeto, substitucion) devolverá:\n",
        "\n",
        "{'A': 'Q', 'B': 'W', 'C': 'E', 'D': 'R', 'E': 'T',\n",
        " 'F': 'Y', 'G': 'U', 'H': 'I', 'I': 'O', 'J': 'P',\n",
        " 'K': 'A', 'L': 'S', 'M': 'D', 'N': 'F', 'O': 'G',\n",
        " 'P': 'H', 'Q': 'J', 'R': 'K', 'S': 'L', 'T': 'Z', \n",
        " 'U': 'X', 'V': 'C', 'W': 'V', 'X': 'B', 'Y': 'N', 'Z': 'M'}\n",
        " \n"
      ]
    },
    {
      "cell_type": "markdown",
      "metadata": {
        "id": "GATCErZul18r"
      },
      "source": [
        "### B)\n",
        "Programe la función cifrarTexto, esta recibirá un diccionario y un string correspondiente al mensaje que queremos cifrar.La función deberá devolver el mensaje cifrado a partir del diccionario que recibió. Además, si alguna de las letras del mensaje no se encuentra en el diccionario, deberá agregarlas sin substituir su valor.\n",
        " \n",
        "Por ejemplo, si utilizamos el diccionario del ejemplo anterior y el texto \"HOLA UWU\" debemos recibir como respuesta \"IGSQ XVX\", además, en este caso deberíamos agregar \" \" al diccionario."
      ]
    },
    {
      "cell_type": "markdown",
      "metadata": {
        "id": "-f7FQ1vKlNtx"
      },
      "source": [
        "### P3. Iterar en un diccionario\n",
        "Programe una función llamada maxReunión, esta debe busca el horario en el que más personas pueden participar de una reunión (asuma que sólo habrá un máximo). Esta función no recibe parámetros y debe retornar el valor del la maáxima cantidad de participantes. Además, debe mostrar en la pantalla el día, el horario y los participantes de la reunión con mayor asistencia.\n",
        "\n",
        "Para lograr lo descrito, se tendrá la variable global horarios, la cual está definida a continuación. Esta contiene un diccionario con los horarios en que los participantes de la reunión confirmaron su disponibilidad.\n"
      ]
    },
    {
      "cell_type": "code",
      "metadata": {
        "id": "whcMGYTTmhQU"
      },
      "source": [
        "horarios={\n",
        "  \"lunes\": {\n",
        "    \"mañana\": [\"Juan\",\"Andrés\"],\n",
        "    \"tarde\": [\"Pepito\",\"Juan\"], \n",
        "    \"noche\":[\"Anita\", \"Pedrito\"]\n",
        "  },\n",
        "  \"martes\": {\n",
        "    \"mañana\": [\"Andrea\",\"María\"],\n",
        "    \"tarde\": [],\n",
        "    \"noche\":[\"Andrea\", \"Pedrito\", \"María\"]\n",
        "  },\n",
        "  \"miércoles\":{\n",
        "    \"mañana\": [\"Pepito\",\"Juan\",\"Andrea\",\"María\"],\n",
        "    \"tarde\": [],\n",
        "    \"noche\":[]\n",
        "  },\n",
        "  \"jueves\": {\n",
        "    \"mañana\": [\"Juan\",\"Andrés\"],\n",
        "    \"tarde\": [\"Pepito\",\"Juan\",\"María\"],\n",
        "    \"noche\":[\"Pepito\", \"María\"]\n",
        "}\n",
        "}"
      ],
      "execution_count": null,
      "outputs": []
    }
  ]
}