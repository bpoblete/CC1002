{
  "nbformat": 4,
  "nbformat_minor": 0,
  "metadata": {
    "colab": {
      "name": "Aux1.ipynb",
      "provenance": [],
      "include_colab_link": true
    },
    "kernelspec": {
      "name": "python3",
      "display_name": "Python 3"
    },
    "language_info": {
      "name": "python"
    }
  },
  "cells": [
    {
      "cell_type": "markdown",
      "metadata": {
        "id": "view-in-github",
        "colab_type": "text"
      },
      "source": [
        "<a href=\"https://colab.research.google.com/github/bpoblete/CC1002/blob/master/Auxiliares/Auxiliar_1/EnunciadoAuxiliar1.ipynb\" target=\"_parent\"><img src=\"https://colab.research.google.com/assets/colab-badge.svg\" alt=\"Open In Colab\"/></a>"
      ]
    },
    {
      "cell_type": "markdown",
      "metadata": {
        "id": "1ez0Dvt5tXrQ"
      },
      "source": [
        "# Auxiliar 1\n"
      ]
    },
    {
      "cell_type": "markdown",
      "metadata": {
        "id": "lslI5ErE9uyp"
      },
      "source": [
        "### Pregunta 1 - Diferencias de tiempo\n",
        " \n",
        "Crea una función con su respectiva receta de diseño, que te entregue la diferencia entre dos horas entregadas con el formato HHMM, donde los últimos dos dígitos corresponden a los minutos y los primeros dos (o uno, en el caso que la diferencia sea menor a 10 horas) corresponden a las horas. \n",
        " \n",
        "Ejemplo: \n",
        "Si quisiéramos saber la diferencia de tiempo entre las 10:15 y las 11:45 se tiene:\n",
        "  diferenciasDeTiempo(1015,1145) -> 130\n",
        " \n",
        " \n",
        "Descomposición en subproblemas:\n",
        "1. Crea la función aMinutos(x) que pasa del formato HHMM a minutos. *Ej: aMinutos(1015) -> 615*\n",
        " \n",
        "2. Crea la función aHHMM(x) que convierte el número entregado en el formato HHMM, como se explicó anteriormente. *Ej: aHHMM(615) -> 1015*\n"
      ]
    },
    {
      "cell_type": "code",
      "metadata": {
        "id": "J5B8Sgni9udg"
      },
      "source": [
        "#Receta \n",
        "def aMinutos(hora):"
      ],
      "execution_count": null,
      "outputs": []
    },
    {
      "cell_type": "code",
      "metadata": {
        "id": "RLsL9jAGAzqt"
      },
      "source": [
        "#Receta\n",
        "def aHHMM(minutos):"
      ],
      "execution_count": null,
      "outputs": []
    },
    {
      "cell_type": "code",
      "metadata": {
        "id": "Fouh_qrIAzfU"
      },
      "source": [
        "#Receta \n",
        "def diferenciasDeTeimpo(hora1,hora2):"
      ],
      "execution_count": null,
      "outputs": []
    },
    {
      "cell_type": "markdown",
      "metadata": {
        "id": "arukfEjg9uPR"
      },
      "source": [
        "### Pregunta 2 -  Barra de progreso\n",
        "\n",
        "Te han dado la tarea de crear una barra de progreso para la pantalla de carga de un videojuego, donde se representará el porcentaje de carga que lleva el juego. Para eso te entregarán una pantalla que puede mostrar N carácteres y el porcentaje de carga que lleva. Crea la función barraProgreso(valor, N), junto con su receta de diseño, que dado los datos entregados te entrega un texto de largo N compuesto por los carácteres '#' y '-', donde'#' representa el porcentaje ya cargado.\n",
        "\n",
        "Ejemplo: \n",
        "barraProgreso(50,4) -> \"##__\"\n"
      ]
    },
    {
      "cell_type": "code",
      "metadata": {
        "id": "nraSTvDH9t42"
      },
      "source": [
        "#Receta\n",
        "\n",
        "def barraProgreso(valor,N):"
      ],
      "execution_count": null,
      "outputs": []
    },
    {
      "cell_type": "markdown",
      "metadata": {
        "id": "glZkzdIo8dy6"
      },
      "source": [
        "### Pregunta 3 - Invertir\n",
        "Crea una función que reciba un entero de dos dígitos y entregue un número con los dígitos invertidos. Incluye la receta de diseño!\n",
        "Ejemplo: invertir(12) -> 21 "
      ]
    },
    {
      "cell_type": "code",
      "metadata": {
        "id": "rSkjlD0itUHC"
      },
      "source": [
        "#Receta\n",
        "\n",
        "def invertir(n):"
      ],
      "execution_count": null,
      "outputs": []
    },
    {
      "cell_type": "markdown",
      "metadata": {
        "id": "-lLwMr6L9GrI"
      },
      "source": [
        "### Pregunta 4 - Repetir\n",
        "Cree la función repetir(texto, n), con su respectiva receta de diseño, la cual retorna el texto entregado repetido n veces y separados por un\n",
        "espacio. Note que ni el último ni el primer carácter son espacios.\n",
        "\n",
        "Ejemplos: \n",
        "- repetir(’hola’,3) -> ’hola hola hola’\n",
        "- repetir(’arbol’, 4) -> ’arbol arbol arbol arbol’\n",
        "- repetir(’CC1002’, 1) -> ’CC1002’\n",
        " \n"
      ]
    },
    {
      "cell_type": "code",
      "metadata": {
        "id": "MfHZLvzO9HYj"
      },
      "source": [
        "#Receta\n",
        "def repetir(texto,N):"
      ],
      "execution_count": null,
      "outputs": []
    }
  ]
}