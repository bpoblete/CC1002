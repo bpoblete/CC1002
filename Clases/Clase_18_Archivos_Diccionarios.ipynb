{
  "nbformat": 4,
  "nbformat_minor": 0,
  "metadata": {
    "kernelspec": {
      "name": "python3",
      "display_name": "Python 3"
    },
    "colab": {
      "name": "Clase_18_Archivos_Diccionarios.ipynb",
      "provenance": [],
      "collapsed_sections": [],
      "include_colab_link": true
    }
  },
  "cells": [
    {
      "cell_type": "markdown",
      "metadata": {
        "id": "view-in-github",
        "colab_type": "text"
      },
      "source": [
        "<a href=\"https://colab.research.google.com/github/bpoblete/CC1002/blob/master/Clases/Clase_18_Archivos_Diccionarios.ipynb\" target=\"_parent\"><img src=\"https://colab.research.google.com/assets/colab-badge.svg\" alt=\"Open In Colab\"/></a>"
      ]
    },
    {
      "cell_type": "markdown",
      "metadata": {
        "id": "G3Bml3PLRSLs"
      },
      "source": [
        "# Clase 18: lectura/escritura de Archivos y Diccionarios en Python\n",
        "\n",
        "\n",
        "## Lectura/Escritura de Archivos\n",
        "\n",
        "\n",
        "|   | Ram | Disco |\n",
        "| :------------- | :-------------: | :-------------: |\n",
        "| Tipo de Memoria  | volátil  | permanente | \n",
        "| velocidad  | rápida | lenta |\n",
        "| tiempo de acceso| constante | variable|\n",
        "| costo | caro | barato |\n",
        "| capacidad | limitada | mayor |"
      ]
    },
    {
      "cell_type": "markdown",
      "metadata": {
        "id": "3s49oBe2RSLs"
      },
      "source": [
        "### Problema\n",
        "\n",
        "Leer líneas del usuario terminando con la palabra \"fin\" \n",
        "y grabarlas en un archivo en **disco** de nombre `\"lineas.txt\"`."
      ]
    },
    {
      "cell_type": "code",
      "metadata": {
        "colab": {
          "base_uri": "https://localhost:8080/"
        },
        "id": "TiB_gCAXRSLs",
        "outputId": "a9becea0-e282-4a2b-a984-4363022c2ec5"
      },
      "source": [
        "#grabar lineas en archivo\n",
        "\n",
        "#abrir (preparar) archivo para escribir(grabar)\n",
        "A=open(\"lineas.txt\",\"w\")\n",
        "\n",
        "#leer lineas hasta “fin”\n",
        "while True:\n",
        "    linea=input(\"palabra(o fin)? \")\n",
        "    if linea==\"fin\": break\n",
        "\n",
        "    #grabar linea en archivo\n",
        "    A.write(linea+\"\\n\")\n",
        "\n",
        "#cerrar archivo\n",
        "A.close()\n"
      ],
      "execution_count": null,
      "outputs": [
        {
          "output_type": "stream",
          "text": [
            "palabra(o fin)? hola\n",
            "palabra(o fin)? esto\n",
            "palabra(o fin)? es\n",
            "palabra(o fin)? un\n",
            "palabra(o fin)? test\n",
            "palabra(o fin)? fin\n"
          ],
          "name": "stdout"
        }
      ]
    },
    {
      "cell_type": "markdown",
      "metadata": {
        "id": "1PmFJZENRSLt"
      },
      "source": [
        "```python\n",
        "A=open(\"lineas.txt\",\"w\")\n",
        "```\n",
        "\n",
        "- **`A`**: variable (objeto) en memoria que representa al archivo (y contiene sus principales características: ubicación, tamaño, cursor, etc)\n",
        "- **`\"lineas.txt\"`**: nombre externo del archivo (en el disco). \n",
        "- El sufijo **`.txt`** se usa para archivos que contienen texto (caracteres).\n",
        "- Función open \"abre\" (prepara, inicializa) archivo para escritura (**`\"w\"`**)\n",
        "- si archivo no existe, se crea, y si ya existe, se regraba\n",
        "- ubica el cursor del archivo al comienzo del espacio asignado (para grabación de información)\n"
      ]
    },
    {
      "cell_type": "markdown",
      "metadata": {
        "id": "oe7p-htERSLt"
      },
      "source": [
        "```python\n",
        "A.write(linea+\"\\n\")\n",
        "```\n",
        "\n",
        "escribe (graba) una línea en el archivo\n",
        "\n",
        "- graba caracteres del string linea\n",
        "- graba una marca de fin de línea  (carácter especial newline o **`\\n`**)\n",
        "- ubica cursor después de newline\n",
        "\n",
        "**Ejemplo:**\n",
        "\n",
        "```python\n",
        "A.write(\"hola\\n\")\n",
        "```\n",
        "\n",
        "escribe en el archivo en disco:\n",
        "\n",
        "``` python\n",
        "hola\\n\n",
        "      ^ (cursor de archivo)\n",
        "\n",
        "```"
      ]
    },
    {
      "cell_type": "markdown",
      "metadata": {
        "id": "CuUILSsbRSLt"
      },
      "source": [
        "```python\n",
        "A.close()\n",
        "```\n",
        "\n",
        "- \"cierra\" el archivo\n",
        "- graba marca de fin de archivo (eof)\n",
        "- libera recursos (memoria) asociada al objeto **`A`**\n",
        "- archivo no se puede volver usar, salvo después de otro open\n",
        "\n",
        "**Ejemplo:**\n",
        "\n",
        "```python\n",
        "A.write(\"chao\\n\")\n",
        "A.close();\n",
        "```\n",
        "```\n",
        "hola\\nchao\\n█\n",
        "```\n",
        "\n",
        "█ : marca de fin de archivo \n"
      ]
    },
    {
      "cell_type": "markdown",
      "metadata": {
        "id": "wGgZynbpRSLu"
      },
      "source": [
        "```python\n",
        "A=open(\"lineas.txt\",\"r\")\n",
        "```\n",
        "\n",
        "- **`A`**: objeto que representa al archivo\n",
        "- **`\"abre\"`** (prepara, inicializa) archivo para lectura (**`\"r\"`**)\n",
        "- si archivo no existe, aborta\n",
        "- si existe, ubica el cursor al comienzo del archivo\n",
        "- si el 2° argumento es **`\"r\"`** se puede omitir\n",
        "\n",
        "```python\n",
        "A.close()\n",
        "```\n",
        "- \"cierra\" el archivo\n",
        "- si se omite, se cierra al terminar programa\n",
        "\n",
        "```python\n",
        "for linea in A\n",
        "```\n",
        "\n",
        "- lee todas las líneas del archivo\n",
        "- en cada iteración, se lee una línea del archivo\n",
        "- y se asigna a la variable (incluyendo newline)\n",
        "\n"
      ]
    },
    {
      "cell_type": "code",
      "metadata": {
        "id": "EpI5DY3PRSLu",
        "colab": {
          "base_uri": "https://localhost:8080/"
        },
        "outputId": "38845dc3-a5bb-4535-ccb6-b1eef592c58d"
      },
      "source": [
        "A=open(\"lineas.txt\",\"r\")\n",
        "for linea in A:\n",
        "    print (linea)\n",
        "A.close()"
      ],
      "execution_count": null,
      "outputs": [
        {
          "output_type": "stream",
          "text": [
            "hola\n",
            "\n",
            "esto\n",
            "\n",
            "es\n",
            "\n",
            "un\n",
            "\n",
            "test\n",
            "\n"
          ],
          "name": "stdout"
        }
      ]
    },
    {
      "cell_type": "markdown",
      "metadata": {
        "id": "IKKNmB-MRSLu"
      },
      "source": [
        "**Nota:** cómo borro el `'\\n'` del final del string? (hint `strip`)"
      ]
    },
    {
      "cell_type": "code",
      "metadata": {
        "id": "lxdwiFm7RSLu",
        "colab": {
          "base_uri": "https://localhost:8080/"
        },
        "outputId": "5832069e-99f9-41ff-b3a3-99827f336d07"
      },
      "source": [
        "A=open(\"lineas.txt\",\"r\")\n",
        "for linea in A:\n",
        "    print (linea.strip())\n",
        "A.close()"
      ],
      "execution_count": null,
      "outputs": [
        {
          "output_type": "stream",
          "text": [
            "hola\n",
            "esto\n",
            "es\n",
            "un\n",
            "test\n"
          ],
          "name": "stdout"
        }
      ]
    },
    {
      "cell_type": "markdown",
      "metadata": {
        "id": "72MhtMJvRSLu"
      },
      "source": [
        "### Problema\n",
        "Copiar un archivo en otro, obteniendo del usuario los nombres de los archivos\n",
        "\n",
        "**Ejemplo:**\n",
        "```\n",
        "input? lineas.txt\n",
        "output? lineas1.txt\n",
        "```\n"
      ]
    },
    {
      "cell_type": "code",
      "metadata": {
        "id": "Z8EvJjhjRSLu",
        "colab": {
          "base_uri": "https://localhost:8080/"
        },
        "outputId": "f7c24982-68fc-475e-d4b8-58c3687c15eb"
      },
      "source": [
        "#abrir archivos de entrada y salida\n",
        "arch1= input(\"input? \")\n",
        "arch2= input(\"output? \")\n",
        "\n",
        "A=open(arch1,\"r\")\n",
        "B=open(arch2,\"w\")\n",
        "\n",
        "#copiar todas las líneas del archivo\n",
        "for linea in A:\n",
        "    B.write(linea)\n",
        "\n",
        "#cerrar archivos\n",
        "A.close()\n",
        "B.close()\n"
      ],
      "execution_count": null,
      "outputs": [
        {
          "output_type": "stream",
          "text": [
            "input? lineas.txt\n",
            "output? lineas1.txt\n"
          ],
          "name": "stdout"
        }
      ]
    },
    {
      "cell_type": "markdown",
      "metadata": {
        "id": "t4-p-JQ-RSLu"
      },
      "source": [
        "### Problema\n",
        "mostrar las líneas de un archivo que contengan un string\n",
        "\n",
        "**Ejemplo de uso:**\n",
        "\n",
        "```\n",
        "String a buscar? Jose\n",
        "Archivo? nombres.txt\n",
        "\n",
        "Jose Manuel Perez\n",
        "Maria Jose Amigo\n",
        "Josefina Smith\n",
        "```"
      ]
    },
    {
      "cell_type": "code",
      "metadata": {
        "id": "TCVyxsSnRSLu",
        "colab": {
          "base_uri": "https://localhost:8080/"
        },
        "outputId": "399b3915-9a88-48fb-8a9c-85b95d7752b8"
      },
      "source": [
        "#mostrar lineas que contienen un string determinado\n",
        "\n",
        "#obtener strings y abrir archivo\n",
        "s=input(\"string a buscar? \")\n",
        "A=open(input(\"archivo? \"),\"r\")\n",
        "#leer todas las líneas del archivo\n",
        "for linea in A:\n",
        "    #mostrar lineas con string\n",
        "    if s.lower() in linea.lower(): #linea.find(s)>=0\n",
        "        print (linea[0:len(linea)-1])\n",
        "#cerrar archivo\n",
        "A.close()\n"
      ],
      "execution_count": null,
      "outputs": [
        {
          "output_type": "stream",
          "text": [
            "string a buscar? Jose\n",
            "archivo? nombres.txt\n",
            "Jose Manuel Perez\n",
            "Maria Jose Amigo\n",
            "Josefina Smith\n"
          ],
          "name": "stdout"
        }
      ]
    },
    {
      "cell_type": "markdown",
      "metadata": {
        "id": "JVzIZETrRSLu"
      },
      "source": [
        "### Problema 1 (trabajo individual) \n",
        "Contar las líneas y los caracteres de un archivo\n",
        "```\n",
        "Nombre de archivo? nombres.txt\n",
        "Num. lineas: 7\n",
        "Num. caracteres: 105\n",
        "```"
      ]
    },
    {
      "cell_type": "code",
      "metadata": {
        "id": "VncQ-dxzRSLu",
        "colab": {
          "base_uri": "https://localhost:8080/"
        },
        "outputId": "0d2ae755-6ccf-40ca-c586-37f5dd522b73"
      },
      "source": [
        "\n",
        "\n",
        "\n",
        "\n",
        "\n",
        "#obtener strings y abrir archivo\n",
        "A=open(input(\"archivo? \"),\"r\")\n",
        "#leer todas las líneas del archivo\n",
        "contador_lineas=0\n",
        "contador_caracteres=0\n",
        "for linea in A:\n",
        "    contador_lineas+=1\n",
        "    contador_caracteres+=len(linea)\n",
        "print (\"Num. lineas:\", contador_lineas)\n",
        "print (\"Num. caracteres:\", contador_caracteres)\n",
        "#cerrar archivo\n",
        "A.close()\n",
        "\n"
      ],
      "execution_count": null,
      "outputs": [
        {
          "output_type": "stream",
          "text": [
            "archivo? nombres.txt\n",
            "Num. lineas: 7\n",
            "Num. caracteres: 105\n"
          ],
          "name": "stdout"
        }
      ]
    },
    {
      "cell_type": "markdown",
      "metadata": {
        "id": "wxtviISURSLu"
      },
      "source": [
        "### Problema 2 (trabajo individual) \n",
        "Leer un archivo y guardar sus lineas ordenadas en otro archivo\n",
        "```\n",
        "Nombre de archivo?...\n",
        "Nombre archivo de salida?...\n",
        "```"
      ]
    },
    {
      "cell_type": "code",
      "metadata": {
        "id": "8DBhO_NkRSLu",
        "outputId": "d787b3d2-f2e4-490b-b252-b93a4566a44d"
      },
      "source": [
        "\n",
        "#obtener strings y abrir archivo\n",
        "A=open(input(\"Nombre archivo? \"),\"r\")\n",
        "#leer todas las líneas del archivo\n",
        "lineas = []\n",
        "for linea in A:\n",
        "    #leer y guardar en un arreglo\n",
        "    lineas.append(linea)\n",
        "#cerrar archivo\n",
        "A.close()\n",
        "lineas.sort()\n",
        "A=open(input(\"Nombre archivo de salida? \"),\"w\")\n",
        "for linea in lineas:\n",
        "    A.write(linea)\n",
        "    \n",
        "A.close()\n",
        "    \n",
        "\n"
      ],
      "execution_count": null,
      "outputs": [
        {
          "output_type": "stream",
          "text": [
            "Nombre archivo? nombres.txt\n",
            "Nombre archivo de salida? nombres_ordenado.txt\n"
          ],
          "name": "stdout"
        }
      ]
    },
    {
      "cell_type": "markdown",
      "metadata": {
        "id": "X1S77kC8RSLu"
      },
      "source": [
        "# Diccionarios Python\n",
        "\n",
        "Los diccionarios son una estructura indexada mutable, al igual que los arreglos. Sin embargo no están indexados por números, sino que por \"llaves\" (strings)"
      ]
    },
    {
      "cell_type": "code",
      "metadata": {
        "id": "KRzF2kwPRSLu"
      },
      "source": [
        "diccionario = {} # diccionario vacio"
      ],
      "execution_count": null,
      "outputs": []
    },
    {
      "cell_type": "code",
      "metadata": {
        "colab": {
          "base_uri": "https://localhost:8080/"
        },
        "id": "3zFgSekWjKm1",
        "outputId": "024e2caf-08ae-4108-ea5a-5a305f883f85"
      },
      "source": [
        "diccionario"
      ],
      "execution_count": null,
      "outputs": [
        {
          "output_type": "execute_result",
          "data": {
            "text/plain": [
              "{}"
            ]
          },
          "metadata": {
            "tags": []
          },
          "execution_count": 30
        }
      ]
    },
    {
      "cell_type": "code",
      "metadata": {
        "colab": {
          "base_uri": "https://localhost:8080/"
        },
        "id": "RlVcmrRtRSLv",
        "outputId": "4bbf7540-44f4-492f-f4c2-eb3db2c53aa4"
      },
      "source": [
        "diccionario = dict() # otro diccionario vacio\n",
        "diccionario"
      ],
      "execution_count": null,
      "outputs": [
        {
          "output_type": "execute_result",
          "data": {
            "text/plain": [
              "{}"
            ]
          },
          "metadata": {
            "tags": []
          },
          "execution_count": 31
        }
      ]
    },
    {
      "cell_type": "code",
      "metadata": {
        "id": "DYiJVcJLRSLv"
      },
      "source": [
        "D={\"c\":1,\"a\":2,\"d\":4} #secuencia de items llave:valor"
      ],
      "execution_count": null,
      "outputs": []
    },
    {
      "cell_type": "code",
      "metadata": {
        "colab": {
          "base_uri": "https://localhost:8080/"
        },
        "id": "dgDLQXuPg6Zz",
        "outputId": "bc0e332c-92cf-46ba-ed00-7023dcd83f71"
      },
      "source": [
        "D # muestra en orden arbitrario"
      ],
      "execution_count": null,
      "outputs": [
        {
          "output_type": "execute_result",
          "data": {
            "text/plain": [
              "{'a': 2, 'c': 1, 'd': 4}"
            ]
          },
          "metadata": {
            "tags": []
          },
          "execution_count": 33
        }
      ]
    },
    {
      "cell_type": "code",
      "metadata": {
        "colab": {
          "base_uri": "https://localhost:8080/"
        },
        "id": "9llvFsKqgz-o",
        "outputId": "c3fa0a3c-e3ce-4957-d217-764378ec9fda"
      },
      "source": [
        "'c' in D    #pertenencia"
      ],
      "execution_count": null,
      "outputs": [
        {
          "output_type": "execute_result",
          "data": {
            "text/plain": [
              "True"
            ]
          },
          "metadata": {
            "tags": []
          },
          "execution_count": 34
        }
      ]
    },
    {
      "cell_type": "code",
      "metadata": {
        "colab": {
          "base_uri": "https://localhost:8080/"
        },
        "id": "qb3acVToRSLv",
        "outputId": "b08640ed-0b9f-4429-b468-87bcefe761c6"
      },
      "source": [
        "D['d']      #buscar"
      ],
      "execution_count": null,
      "outputs": [
        {
          "output_type": "execute_result",
          "data": {
            "text/plain": [
              "4"
            ]
          },
          "metadata": {
            "tags": []
          },
          "execution_count": 36
        }
      ]
    },
    {
      "cell_type": "code",
      "metadata": {
        "colab": {
          "base_uri": "https://localhost:8080/"
        },
        "id": "hEnVHAMLRSLv",
        "outputId": "4910a6be-7017-47bd-a1b8-58b9dfe2318f"
      },
      "source": [
        "D['a']=2    #agregar\n",
        "D"
      ],
      "execution_count": null,
      "outputs": [
        {
          "output_type": "execute_result",
          "data": {
            "text/plain": [
              "{'a': 2, 'b': 3, 'c': 1, 'd': 4}"
            ]
          },
          "metadata": {
            "tags": []
          },
          "execution_count": 39
        }
      ]
    },
    {
      "cell_type": "code",
      "metadata": {
        "colab": {
          "base_uri": "https://localhost:8080/"
        },
        "id": "0DkC4-GyRSLv",
        "outputId": "b8bc7fe8-9868-4674-881d-0e4d70f3b34b"
      },
      "source": [
        "del D['c']  #borrar\n",
        "D"
      ],
      "execution_count": null,
      "outputs": [
        {
          "output_type": "execute_result",
          "data": {
            "text/plain": [
              "{'a': 2, 'b': 3, 'd': 4}"
            ]
          },
          "metadata": {
            "tags": []
          },
          "execution_count": 40
        }
      ]
    },
    {
      "cell_type": "code",
      "metadata": {
        "colab": {
          "base_uri": "https://localhost:8080/"
        },
        "id": "X48Eef7DRSLv",
        "outputId": "1b899c7c-c8e2-48cc-faef-dc5f2342fab8"
      },
      "source": [
        "D['a']=5    #cambiar\n",
        "D"
      ],
      "execution_count": null,
      "outputs": [
        {
          "output_type": "execute_result",
          "data": {
            "text/plain": [
              "{'a': 5, 'b': 3, 'd': 4}"
            ]
          },
          "metadata": {
            "tags": []
          },
          "execution_count": 41
        }
      ]
    },
    {
      "cell_type": "code",
      "metadata": {
        "id": "VI4mDdl2RSLv",
        "colab": {
          "base_uri": "https://localhost:8080/"
        },
        "outputId": "360ecb3b-ae6c-48af-a92d-a042a50a28ef"
      },
      "source": [
        "for llave in D: \n",
        "    print (D[llave]) #imprime todos los valores guardados en D"
      ],
      "execution_count": null,
      "outputs": [
        {
          "output_type": "stream",
          "text": [
            "5\n",
            "4\n",
            "3\n"
          ],
          "name": "stdout"
        }
      ]
    },
    {
      "cell_type": "markdown",
      "metadata": {
        "id": "fiJZwNIiRSLv"
      },
      "source": [
        "## Agenda con diccionario de Python\n",
        "\n",
        "```python\n",
        "agenda={\"Andres\":22234646,\"Maria\":98723456,\"David\":43335555}\n",
        "```\n"
      ]
    },
    {
      "cell_type": "code",
      "metadata": {
        "id": "KpLABqwXRSLv"
      },
      "source": [
        "#agenda: dict (nombre:fono)\n",
        "agenda={\"Andres\":22234646,\"Maria\":98723456,\"David\":43335555}\n",
        "\n",
        "#buscar: str dict -> int (o None si no esta)\n",
        "#buscar nombre en agenda y devolver fono\n",
        "#ej: buscar(\"c\",agenda)->1\n",
        "def buscar(nombre,agenda):\n",
        "    assert type(agenda)==dict and type(nombre)==str\n",
        "    if nombre in agenda:\n",
        "        return agenda[nombre]\n",
        "    else:\n",
        "        return None \n",
        "assert buscar(\"Andres\",agenda)==22234646\n",
        "\n"
      ],
      "execution_count": null,
      "outputs": []
    }
  ]
}