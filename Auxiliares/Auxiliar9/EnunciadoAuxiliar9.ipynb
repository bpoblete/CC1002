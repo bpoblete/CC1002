{
  "nbformat": 4,
  "nbformat_minor": 0,
  "metadata": {
    "colab": {
      "name": "Auxiliar_9.ipynb",
      "provenance": [],
      "collapsed_sections": [],
      "include_colab_link": true
    },
    "kernelspec": {
      "name": "python3",
      "display_name": "Python 3"
    },
    "language_info": {
      "name": "python"
    }
  },
  "cells": [
    {
      "cell_type": "markdown",
      "metadata": {
        "id": "view-in-github",
        "colab_type": "text"
      },
      "source": [
        "<a href=\"https://colab.research.google.com/github/bpoblete/CC1002/blob/master/Auxiliares/Auxiliar9/EnunciadoAuxiliar9.ipynb\" target=\"_parent\"><img src=\"https://colab.research.google.com/assets/colab-badge.svg\" alt=\"Open In Colab\"/></a>"
      ]
    },
    {
      "cell_type": "markdown",
      "metadata": {
        "id": "LZA4p9pkZVFr"
      },
      "source": [
        "# Auxiliar 9\n",
        "### Árboles binarios (AB) y Árboles de Búsqueda Binaria (ABB)\n",
        "Auxiliares: Nadia Decar, Nelson Marambio, Albani Olvieri, Monserrat Prado, Lucas Torrealba, Ricardo Valdivia"
      ]
    },
    {
      "cell_type": "code",
      "metadata": {
        "id": "nnx9telymxvD"
      },
      "source": [
        "import estructura\n",
        "from ABB import * \n",
        "from lista import * "
      ],
      "execution_count": null,
      "outputs": []
    },
    {
      "cell_type": "markdown",
      "metadata": {
        "id": "KazS9b9ZbqGC"
      },
      "source": [
        "### Pregunta 1 - Hablemos de ABs\n",
        "\n",
        "Si A es un árbol, escriba las siguientes funciones con sus tests correspondientes (usa los árboles definidos a continuación):"
      ]
    },
    {
      "cell_type": "code",
      "metadata": {
        "id": "0Ecux-E8bw2l"
      },
      "source": [
        "A = AB(5, AB(6, AB(3,None,None), AB(2,None,None)), AB(1, AB(4,None,None),None))\n",
        "B = AB(10, AB(8, AB(6, AB(5, None, None), None), None), AB(15, AB(11, None, None), AB(20, None, None)))\n",
        "C = AB(4, AB(2,AB(1,None,None),AB(3,None,None)), AB(6,AB(5,None,None),None))"
      ],
      "execution_count": null,
      "outputs": []
    },
    {
      "cell_type": "code",
      "metadata": {
        "id": "silBQ5_1b0BC"
      },
      "source": [
        "# esAB: any -> bool\n",
        "# True si la estructura entregada es AB\n",
        "def esAB(A):\n"
      ],
      "execution_count": null,
      "outputs": []
    },
    {
      "cell_type": "code",
      "metadata": {
        "id": "V7AqBMxBb41R"
      },
      "source": [
        "# aLista: AB -> lista\n",
        "# Recibe un AB y retorna una lista con valores de arbol izquierdo, valor y valores del arbol derecho\n",
        "def aLista(AB):\n"
      ],
      "execution_count": null,
      "outputs": []
    },
    {
      "cell_type": "markdown",
      "metadata": {
        "id": "_Wa3Fo4XsqpV"
      },
      "source": [
        "##Pregunta 2 - Agenda Telefónica \n",
        "\n",
        "En esta pregunta simularemos una agenda telefónica en formato ABB, por lo que cada valor del árbol será una persona (que tiene nombre, apellido y número telefónico). Usted debe considerar que el árbol se ordena en base al apellido de la persona, si dos personas tienen el mismo apellido entonces habrá que ordenar en base al nombre. Además, no habrán dos personas con mismo nombre y apellido en la agenda telefónica.\n",
        "\n",
        "En base a lo anterior, usted deberá programar 3 funciones que permitirán simular ciertas funcionalidades de una agenda telefónica:\n",
        "\n",
        "\n",
        "1.   Cree la estructura *Persona*, la cual debe tener *nombre*, *apellido* y *telefono*\n",
        "2.   Cree la función ***listaTelefonicaPorApellido(abb, apellido)*** que retorna una lista enlazada ordenada con todos los contactos (personas) que tengan dicho apellido.\n",
        "3.   Cree la función ***ConsultarTelefono(abb, apellido, nombre)***, que dado el nombre y apellido de una persona retorne el número telefónico de dicha persona.\n",
        "\n"
      ]
    },
    {
      "cell_type": "code",
      "metadata": {
        "id": "_9L9qdznP-t4"
      },
      "source": [
        "# 1.\n",
        "\n"
      ],
      "execution_count": null,
      "outputs": []
    },
    {
      "cell_type": "code",
      "metadata": {
        "id": "T7oC4u6OQDo5"
      },
      "source": [
        "# 2.\n",
        "\n",
        "#Inserta aquí la receta de diseño\n",
        "def listaTelefonicaPorApellido(abb, apellido):\n",
        "\n",
        "\n",
        "\n",
        "# Tests \n"
      ],
      "execution_count": null,
      "outputs": []
    },
    {
      "cell_type": "code",
      "metadata": {
        "id": "VO4gu-piQE1w"
      },
      "source": [
        "# 3. \n",
        "\n",
        "#Inserta aquí la receta de diseño\n",
        "def consultarTelefono(abb, apellido, nombre):\n",
        "\n",
        "\n",
        "\n",
        "# Tests"
      ],
      "execution_count": null,
      "outputs": []
    },
    {
      "cell_type": "markdown",
      "metadata": {
        "id": "9h-AasgGHPsr"
      },
      "source": [
        "## Pregunta 3 - Dulces \n",
        "En una pastelería tienen un recuento de los distintos pasteles que tienen en stock. Estos son almacenados en una estructura llamada \"Pasteles\", la cual tiene los siguientes atributos: Nombre, Precio, Stock. La persona que maneja el local consiguió que alguien le ordenara los pasteles en un ABB según el precio, pero no sabe manejarlo, para ayudarle siga los siguientes pasos. \n",
        "\n",
        "1. Cree la estructura \"Pasteles\"\n",
        "2. Cree la función CantidadTiposPasteles, que reciba un ABB y retorne la cantidad de pasteles distintos que posee. (Asuma que no hay dos estructuras con el mismo Nombre). \n",
        "3. Cree la función BusquedaPastel, que reciba el Nombre de un pastel y un ABB de pasteles, e imprima Precio y Stock de los pasteles, de forma clara. Asuma que el pastel que se está buscando siempre va a estar en el ABB.\n",
        "4. Cree la función MasBarato, que reciba un precio y un ABB de pasteles, y retorne una lista con los nombres de los pasteles cuyos precios son menores o iguales al indicado. Hint: Cree la función auxiliar UneListas, que toma dos listas y las une.\n",
        "\n",
        "*Nota: Recuerde hacer las recetas de diseño para todo lo pedido y sus tests correspondientes (use las estructuras y árboles proporcionados)*\n",
        "\n",
        "*Nota2: Recuerda la diferencia entre imprimir y retornar* "
      ]
    },
    {
      "cell_type": "code",
      "metadata": {
        "id": "USQw_dUXQSQv"
      },
      "source": [
        "# 1.\n"
      ],
      "execution_count": null,
      "outputs": []
    },
    {
      "cell_type": "code",
      "metadata": {
        "id": "-BIBZN8wQuaY"
      },
      "source": [
        "# 2. \n",
        "\n",
        "#Inserta aquí la receta de diseño\n",
        "def CantidadTiposPasteles(A): \n",
        "\n",
        "\n",
        "#Tests"
      ],
      "execution_count": null,
      "outputs": []
    },
    {
      "cell_type": "code",
      "metadata": {
        "id": "xwhQIHx4RsFi"
      },
      "source": [
        "# 3.\n",
        "\n",
        "#Inserta aquí la receta de diseño\n",
        "def BusquedaPastel(nombre, A):\n",
        "\n",
        "\n",
        "# Test \n"
      ],
      "execution_count": null,
      "outputs": []
    },
    {
      "cell_type": "code",
      "metadata": {
        "id": "MxBeDbMGSCf4"
      },
      "source": [
        "# 4.\n",
        "\n",
        "#Inserta aquí la receta de diseño\n",
        "def UneListas(l1, l2): \n",
        "\n",
        "\n",
        "#Test\n",
        "\n",
        "\n",
        "#Inserta aquí la receta de diseño\n",
        "def MasBarato(p, A):  \n",
        "\n",
        "      \n",
        "#Tests"
      ],
      "execution_count": null,
      "outputs": []
    },
    {
      "cell_type": "markdown",
      "metadata": {
        "id": "i6zKulHgspdI"
      },
      "source": [
        "##Pregunta 4 - Expresiones lógicas \n",
        "\n",
        "Una expresión lógica se puede representar por un árbol binario. Por ejemplo, p and not (q or r) se representa por:\n",
        "```\n",
        "       “and” \t\t\n",
        "    /           \\\t\t\n",
        " p             “not”\t\t\n",
        "                       \\\t\t  \n",
        "                     “ or”\t\n",
        "                   /        \\\t  \n",
        "                q            r\n",
        "\n",
        "```\n",
        "\n",
        "Notas:\n",
        "\n",
        "- p, q y r son variables de tipo bool (con valores True o False).\n",
        "- Los valores de las hojas del árbol son True o False (de tipo bool) y los otros valores son los strings “and”, “or” o “not”.\n",
        "- En caso del operador “not”, el operando se guarda en el árbol derecho (y el izquierdo está vacío).\n",
        "\n",
        "A) Escriba todas las instrucciones que se necesitan para definir el árbol binario indicado en el ejemplo  anterior. Al respecto, asigne valores a las variables p, q y r de manera que el resultado de la expresión lógica sea True.\n",
        "\n",
        "B) Escriba una función (incluyendo receta de diseño y testing) que reciba un árbol binario que representa una expresión lógica válida, la evalúe y devuelva el resultado (True o False)\n"
      ]
    },
    {
      "cell_type": "code",
      "metadata": {
        "id": "7iX1fTplaEnb"
      },
      "source": [
        "# A.\n",
        "                    "
      ],
      "execution_count": null,
      "outputs": []
    },
    {
      "cell_type": "code",
      "metadata": {
        "id": "GlGnBKghaKiE"
      },
      "source": [
        "# B.\n",
        "\n",
        "#Inserta aquí la receta de diseño               \n",
        "def evaluar(A): \n"
      ],
      "execution_count": null,
      "outputs": []
    }
  ]
}