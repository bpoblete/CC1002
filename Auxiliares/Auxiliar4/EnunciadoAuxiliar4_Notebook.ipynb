{
  "nbformat": 4,
  "nbformat_minor": 0,
  "metadata": {
    "colab": {
      "name": "EnunciadoAuxiliar4_Notebook.ipynb",
      "provenance": [],
      "collapsed_sections": [],
      "include_colab_link": true
    },
    "kernelspec": {
      "name": "python3",
      "display_name": "Python 3"
    }
  },
  "cells": [
    {
      "cell_type": "markdown",
      "metadata": {
        "id": "view-in-github",
        "colab_type": "text"
      },
      "source": [
        "<a href=\"https://colab.research.google.com/github/bpoblete/CC1002/blob/master/Auxiliares/Auxiliar4/EnunciadoAuxiliar4_Notebook.ipynb\" target=\"_parent\"><img src=\"https://colab.research.google.com/assets/colab-badge.svg\" alt=\"Open In Colab\"/></a>"
      ]
    },
    {
      "cell_type": "markdown",
      "metadata": {
        "id": "eJwr7_HH-zbY"
      },
      "source": [
        "#Auxiliar 4 - Recurrencia \n",
        "\n",
        "P1. Un niño está aburrido en su casa, por lo que comienza a sumar los dígitos de los número hasta llegar a un solo dígito. Viendo los resultados que obtiene le surge una duda, ¿qué tan frecuente es obtener uno de estos dígitos?. Su trabajo es resolver esta duda, para eso siga los siguientes pasos: \n",
        " \n",
        "i) Modifique la función sumaDigitos(n), vista en la auxiliar pasada, para que entregue un único dígito\n",
        "\n",
        "ii) Cree la función contarFrecuenciaDigito(d,N)que dado un dígito d y un natural N, retorne la cantidad de números entre 0 y N, cuya suma de dígitos corresponda a d. Ejemplo: contarFrecuenciasDigito(1,100) = 12 , ya que tenemos los numeros 100, 91, 82, 73, 64, 55, 46, 37, 28, 19, 10 y 1. Al sumar los dígitos de cada uno de ellos nos va a entregar el valor 1. \n",
        "\n",
        "iii) Finalmente cree un programa que le solicite el dígito y un natural y le entregue la frecuencia con la que aparece el dígito entre el 0 y el natural ingresado. El programa debe preguntar si quiere volver a consultar y reiniciarse en el caso de que sí.  Para esto, use las funciones definidas anteriormente. \n",
        " \n",
        "\n",
        "```\n",
        "Ejemplo: \n",
        "  Ingrese el dígito cuya frecuencia busca: 1\n",
        "  Ingrese hasta que número se debe revisar: 100\n",
        "  El dígito 1 se repite 12 veces\n",
        "  ¿Volver a calcular?: si\n",
        "  Ingrese el dígito cuya frecuencia busca: 0\n",
        "  Ingrese hasta que número se debe revisar: 100\n",
        "  El dígito 0 se repite 1 vez \n",
        "  ¿Volver a calcular?: no\n",
        "```\n"
      ]
    },
    {
      "cell_type": "code",
      "metadata": {
        "id": "Nfuj5kWjEoMq"
      },
      "source": [
        "#sumaDigitos(n): int -> int \n",
        "#Suma los digitos de un numero\n",
        "#sumaDigitos(12345) = 15\n",
        "\n",
        "def sumaDigitos(n):\n",
        "  if n<10:\n",
        "    return n\n",
        "  else: return n%10 + sumaDigitos(n//10)"
      ],
      "execution_count": null,
      "outputs": []
    },
    {
      "cell_type": "markdown",
      "metadata": {
        "id": "gYjx9KBCDK2o"
      },
      "source": [
        "P2. Escriba la función sumaProductos(x,y) que reciba dos enteros positivos y entregue la suma de los productos de sus dígitos. \n",
        "```\n",
        "Ejemplo: sumaProductos(12345,6789)=110\n",
        "```\n",
        "\n",
        "Lo que corresponde a 5x9 + 4x8 + 3x7 + 2x6 + 1x0 = 45 + 32 + 21 + 12 + 0 = 110\n"
      ]
    }
  ]
}