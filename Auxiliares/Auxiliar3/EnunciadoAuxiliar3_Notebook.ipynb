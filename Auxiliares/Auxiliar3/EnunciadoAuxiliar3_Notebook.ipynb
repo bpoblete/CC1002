{
  "nbformat": 4,
  "nbformat_minor": 0,
  "metadata": {
    "colab": {
      "name": "EnunciadoAuxiliar3_Notebook.ipynb",
      "provenance": [],
      "collapsed_sections": [],
      "include_colab_link": true
    },
    "kernelspec": {
      "name": "python3",
      "display_name": "Python 3"
    }
  },
  "cells": [
    {
      "cell_type": "markdown",
      "metadata": {
        "id": "view-in-github",
        "colab_type": "text"
      },
      "source": [
        "<a href=\"https://colab.research.google.com/github/bpoblete/CC1002/blob/master/Auxiliares/Auxiliar3/EnunciadoAuxiliar3_Notebook.ipynb\" target=\"_parent\"><img src=\"https://colab.research.google.com/assets/colab-badge.svg\" alt=\"Open In Colab\"/></a>"
      ]
    },
    {
      "cell_type": "markdown",
      "metadata": {
        "id": "3XBv0Oxl43QB"
      },
      "source": [
        "#Auxiliar 3 - Recursión\n",
        "\n",
        "\n",
        "P1. Cree la función maxComunDiv(n,m) que entregue el máximo común divisor de los números enteros n y m entregados. Siga el algoritmo recursivo de Euclides para su construcción. \n",
        "\n",
        "Algoritmo de Euclides: \n",
        "- maxComunDiv(n,m) = n si n==m\n",
        "- si n<m -> maxComunDiv(n,m-n)\n",
        "- si n>m -> maxComunDiv(n-m,m) \n",
        "\n",
        "Ej: maxComunDiv(12,40) = 4"
      ]
    },
    {
      "cell_type": "code",
      "metadata": {
        "id": "3UhLPNOOGXLw"
      },
      "source": [
        "#Codigo"
      ],
      "execution_count": null,
      "outputs": []
    },
    {
      "cell_type": "markdown",
      "metadata": {
        "id": "R2K8wZMmO5nr"
      },
      "source": [
        "P2. Defina la función elMayor(n), que a partir de un número entregado devuelva el mayor de ss dígitos. \n",
        "\n",
        "Ej: elMayor(257926) = 9"
      ]
    },
    {
      "cell_type": "code",
      "metadata": {
        "id": "QEJAzdndIELZ"
      },
      "source": [
        "#Codigo"
      ],
      "execution_count": null,
      "outputs": []
    },
    {
      "cell_type": "markdown",
      "metadata": {
        "id": "NSdMTKkdenYk"
      },
      "source": [
        "P3. Cree la función invertir(n) cuya función es invertir el número n, el cual tiene una catidad cualquiera de digitos. \n",
        "\n",
        "Ejemplo: \n",
        "\n",
        "```\n",
        " invertir(123456) = 654321\n",
        "```\n",
        "\n"
      ]
    },
    {
      "cell_type": "code",
      "metadata": {
        "id": "TSgsIPTGekpG"
      },
      "source": [
        "#Codigo"
      ],
      "execution_count": null,
      "outputs": []
    },
    {
      "cell_type": "markdown",
      "metadata": {
        "id": "GO4bGo8xBl0B"
      },
      "source": [
        "P4. Cree de forma recursiva el programa interactivo calculadoraNotas() el cual le vaya pidiendo sus notas y las vaya almacenando junto con la cantidad de notas que ha ingresado. Cuando quiera que el programa deje de funcionar y le entregue el resultado, el usuario deberá ingresar el número: 0, con esto se calculará el promedio con las notas ingresadas y se le aplicará el redondeo al primer dígito, mostando en pantalla `Su nota final es: ` + la nota calculada. En el caso de que el numero entregado sea menor a 1.0 o mayor a 7.0, el programa mostrará en pantalla `Nota invalida` y seguirá corriendo, sin contar la nota ingresada erroneamente.\n",
        "\n",
        "Ejemplo: \n",
        "\n",
        "\n",
        "```\n",
        " Ingrese una nota entre 1.0 y 7.0: 4.1\n",
        " Ingrese una nota entre 1.0 y 7.0: 7.8\n",
        " Nota invalida\n",
        " Ingrese una nota entre 1.0 y 7.0: 4.3\n",
        " Ingrese una nota entre 1.0 y 7.0: 0\n",
        " Su nota final es: 4.2 \n",
        "```\n",
        "\n"
      ]
    },
    {
      "cell_type": "code",
      "metadata": {
        "id": "0OVf1-9QJDwZ"
      },
      "source": [
        "#Codigo"
      ],
      "execution_count": null,
      "outputs": []
    },
    {
      "cell_type": "markdown",
      "metadata": {
        "id": "VkAubAZPhWIJ"
      },
      "source": [
        "P5. Cree la función sumaDigitos(n) la cual va a sumar todos los digitos de el número entregado. \n",
        "\n",
        "Ejemplo:\n",
        "\n",
        "\n",
        "```\n",
        " sumaDigitos(12345) = 15\n",
        "```\n",
        "\n"
      ]
    },
    {
      "cell_type": "code",
      "metadata": {
        "id": "utkCecZokkal"
      },
      "source": [
        "#Codigo"
      ],
      "execution_count": null,
      "outputs": []
    },
    {
      "cell_type": "markdown",
      "metadata": {
        "id": "gycq62paGWJ9"
      },
      "source": [
        "P6. Existe una montaña rusa que posee un sensor de movimiento en la base, el cual va midiendo la altura con respecto al suelo cada cierto tiempo, opteniendo valores enteros entre 1 y 9, considerando que 1 coresponde a 10 metros y las medidas se redondean. \n",
        "\n",
        "Los resultados finales entregados por este sensor son enteros que corresponden a las medidas tomas concatenadas, de forma que el entero 14562 corresponde a las alturas aproximadas de 10, 40, 50, 60 y 20, en ese orden.\n",
        "\n",
        "Creeuna función llamada `diferenciaMax(n)` que dado un entero como el descrito anteriormente devuelva la mayor diferencia (en valor absoluto) entre dos alturas contiguas.\n",
        "\n",
        "Ejemplo: \n",
        "\n",
        "\n",
        "```\n",
        " diferenciaMax(14562) \n",
        " 40 \n",
        "```\n",
        "\n"
      ]
    },
    {
      "cell_type": "code",
      "metadata": {
        "id": "0lvJsitNWN1V"
      },
      "source": [
        "#Codigo"
      ],
      "execution_count": null,
      "outputs": []
    }
  ]
}