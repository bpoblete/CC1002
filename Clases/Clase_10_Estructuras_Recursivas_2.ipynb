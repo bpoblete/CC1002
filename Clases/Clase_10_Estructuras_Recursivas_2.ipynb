{
  "nbformat": 4,
  "nbformat_minor": 0,
  "metadata": {
    "kernelspec": {
      "name": "python3",
      "display_name": "Python 3"
    },
    "colab": {
      "name": "Clase 10 - Estructuras Recursivas 2.ipynb",
      "provenance": [],
      "collapsed_sections": [],
      "include_colab_link": true
    }
  },
  "cells": [
    {
      "cell_type": "markdown",
      "metadata": {
        "id": "view-in-github",
        "colab_type": "text"
      },
      "source": [
        "<a href=\"https://colab.research.google.com/github/bpoblete/CC1002/blob/master/Clases/Clase_10_Estructuras_Recursivas_2.ipynb\" target=\"_parent\"><img src=\"https://colab.research.google.com/assets/colab-badge.svg\" alt=\"Open In Colab\"/></a>"
      ]
    },
    {
      "cell_type": "markdown",
      "metadata": {
        "id": "kmUWTwXXbPg5"
      },
      "source": [
        "# Clase 10: Estructuras de Datos Recursivas II (Cap. 9)\n"
      ]
    },
    {
      "cell_type": "markdown",
      "metadata": {
        "id": "s6iXOPLxbPij"
      },
      "source": [
        "## Listas que contienen estructuras\n",
        "\n",
        "Definiremos un `registro` como una estructura compuesta de un campo\n",
        "de tipo texto para almacenar el nombre del producto, y de un campo de tipo\n",
        "numérico para almacenar el valor de dicho producto.  Así pues, diseñemos la\n",
        "estructura: \n",
        "\n",
        "```python\n",
        "# registro:  producto(str) precio(int)\n",
        "import estructura\n",
        "estructura.crear(\"registro\", \"producto precio\")\n",
        "```\n",
        "\n",
        "\n",
        "Más aún, podemos definir una `colección de registros` para almacenar\n",
        "toda la información que disponemos.  A esto nos referiremos en este problema\n",
        "como **inventario**:\n",
        "\n",
        "```python\n",
        "# inventario:  [registro]*\n",
        "# inventario es una lista de registros de largo indeterminado\n",
        "```\n"
      ]
    },
    {
      "cell_type": "code",
      "metadata": {
        "id": "rM1q4ytwbPik"
      },
      "source": [
        "# registro:  producto(str) precio(int)\n",
        "import estructura\n",
        "estructura.crear(\"registro\", \"producto precio\")"
      ],
      "execution_count": null,
      "outputs": []
    },
    {
      "cell_type": "markdown",
      "metadata": {
        "id": "4imxGADLbPin"
      },
      "source": [
        "Es decir, un **inventario** está compuesto de:\n",
        "\n",
        "1. Una lista vacía: **`listaVacia`**, o bien\n",
        "2. Una lista que contiene un registro, encadenada al inventario: \n",
        "**`crearLista(registro, inventario)`**.\n"
      ]
    },
    {
      "cell_type": "markdown",
      "metadata": {
        "id": "qzfoTc9jeuR2"
      },
      "source": [
        "### Problema: Crear una función que sume todos los precios de un inventario"
      ]
    },
    {
      "cell_type": "code",
      "metadata": {
        "id": "J8jEj-l8bPio"
      },
      "source": [
        "# suma: inventario -> int\n",
        "# calcula la suma de todos los precios en unInventario\n",
        "# suma(listaVacia) == 0\n",
        "# suma(lista(registro(\"muneca\", 2990), lista_vacia)) == 2990\n",
        "# suma(lista(registro(\"robot\", 5990), \\\n",
        "#   lista(registro(\"muneca\", 2990), lista_vacia))) == 8980\n",
        "def suma(unInventario):\n",
        "    if vacia(unInventario):\n",
        "        return 0\n",
        "    else:\n",
        "        item = cabeza(unInventario)\n",
        "        return item.precio + suma(cola(unInventario))\n",
        "\n",
        "# Tests\n",
        "suma(listaVacia) == 0\n",
        "suma(lista(registro(\"muneca\", 2990), listaVacia)) == 2990\n",
        "suma(lista(registro(\"robot\", 5990), \\\n",
        "   lista(registro(\"muneca\", 2990), listaVacia))) == 8980"
      ],
      "execution_count": null,
      "outputs": []
    },
    {
      "cell_type": "markdown",
      "metadata": {
        "id": "A_z_zJpmbPiY"
      },
      "source": [
        "## Funciones que producen listas\n",
        "\n",
        "Recordemos la función **`sueldo`** que definimos anteriormente:\n",
        "\n"
      ]
    },
    {
      "cell_type": "code",
      "metadata": {
        "id": "ZYqlfkkQbPiY"
      },
      "source": [
        "\n",
        "# sueldo: int -> int\n",
        "# calcular el sueldo de un trabajador\n",
        "# (a $4.500 la hora) que ha trabajado h horas\n",
        "def sueldo(h):\n",
        "        return 4500 * h\n",
        "\n"
      ],
      "execution_count": null,
      "outputs": []
    },
    {
      "cell_type": "markdown",
      "metadata": {
        "id": "jkos-bMGbPib"
      },
      "source": [
        "Esta función recibe como parámetro el número de horas trabajadas por un\n",
        "empleado, y produce su sueldo semanal.  Por simplicidad, supondremos que\n",
        "todos los empleados ganan lo mismo por hora, es decir, $4.500.  Sin\n",
        "embargo, una empresa no está necesariamente interesada en una función como\n",
        "**`sueldo`**, que calcula el sueldo de un solo empleado, sino\n",
        "más bien en una función que calcule el sueldo total de todos sus empleados\n",
        "(sobre todo si hay muchos).\n",
        "\n",
        "Llamemos a esta <mark>función **`listaSueldos`**, tal que recibe una **lista de cuántas horas los empleados de la compañía han trabajado**, y\n",
        "devuelva **una lista de los sueldos semanales** por cada uno de ellos.</mark>\n"
      ]
    },
    {
      "cell_type": "markdown",
      "metadata": {
        "id": "C4FJ7AbkbPic"
      },
      "source": [
        "\n",
        "```python\n",
        "# listaSueldos:  lista(int) -> lista(int)\n",
        "# crear una lista de sueldos semanales desde \n",
        "# una lista de horas trabajadas (listaHoras)\n",
        "def listaSueldos(listaHoras):\n",
        "        ...\n",
        "```\n",
        "\n",
        "Luego necesitamos ejemplos de entrada y salida:"
      ]
    },
    {
      "cell_type": "code",
      "metadata": {
        "id": "3cx-CCCebPid"
      },
      "source": [
        "listaSueldos(listaVacia)\n"
      ],
      "execution_count": null,
      "outputs": []
    },
    {
      "cell_type": "code",
      "metadata": {
        "id": "ThPfpPGxbPie"
      },
      "source": [
        "listaSueldos(crearLista(10, listaVacia))\n"
      ],
      "execution_count": null,
      "outputs": []
    },
    {
      "cell_type": "code",
      "metadata": {
        "id": "D3_D5W8mbPig"
      },
      "source": [
        "listaSueldos(crearLista(44, crearLista(10, listaVacia)))"
      ],
      "execution_count": null,
      "outputs": []
    },
    {
      "cell_type": "markdown",
      "metadata": {
        "id": "dzBQbErabPih"
      },
      "source": [
        "### Cuál sería la plantilla de diseño entonces?\n",
        "\n",
        "```python\n",
        "# def listaSueldos(listaHoras):\n",
        "# if (vacia(listaHoras) == True):\n",
        "#       ...\n",
        "# else:\n",
        "#       ...  cabeza(listaHoras)\n",
        "#       ...  listaSueldos(cola(listaHoras)) ...\n",
        "````\n",
        "\n"
      ]
    },
    {
      "cell_type": "code",
      "metadata": {
        "id": "CBLyN2p9bPii"
      },
      "source": [
        "\n",
        "# listaSueldos:  lista(int) -> lista(int)\n",
        "# crear una lista de sueldos semanales desde una\n",
        "# lista de horas trabajadas (listaHoras)\n",
        "def listaSueldos(listaHoras):\n",
        "        if vacia(listaHoras):\n",
        "                return listaVacia\n",
        "        else:\n",
        "                return crearLista(sueldo(cabeza(listaHoras)),\\\n",
        "                                  listaSueldos(cola(listaHoras)))\n"
      ],
      "execution_count": null,
      "outputs": []
    },
    {
      "cell_type": "markdown",
      "metadata": {
        "id": "__5pltc9vwtl"
      },
      "source": [
        "### Otros ejemplos de funciones que devuelven una listas"
      ]
    },
    {
      "cell_type": "code",
      "metadata": {
        "id": "h43nO3DmwVeZ"
      },
      "source": [
        "from lista import *\n",
        "\n",
        "# listaX: int -> lista(int)\n",
        "def listaX(x):\n",
        "    if x > 10:\n",
        "        return listaVacia\n",
        "    else:\n",
        "        return lista(x, listaX(x+1))\n",
        "\n",
        "\n",
        "print listaX(3) # Que muestra en pantalla?"
      ],
      "execution_count": null,
      "outputs": []
    },
    {
      "cell_type": "code",
      "metadata": {
        "id": "Ur_KKZ7QsMC3"
      },
      "source": [
        "# listaXY: int int -> lista(int)\n",
        "def listaXY(x, y):\n",
        "    if x > y:\n",
        "        return listaVacia\n",
        "    else:\n",
        "        return lista(x, listaXY(x+1, y))\n",
        "\n",
        "print listaXY(1, 10) # Que muestra en pantalla?\n",
        "print listaXY(7, 12) # Que muestra en pantalla?"
      ],
      "execution_count": null,
      "outputs": []
    },
    {
      "cell_type": "markdown",
      "metadata": {
        "id": "mN1edOiCu1zf"
      },
      "source": [
        "### Funcion que copia una lista\n",
        "Es decir crear otra lista que contenga los mismos valores:"
      ]
    },
    {
      "cell_type": "code",
      "metadata": {
        "id": "xPUZpbuwtKPn"
      },
      "source": [
        "# copiarLista: lista(any) -> lista(any)\n",
        "# devuelve copia de lista\n",
        "# ejemplo: copiarLista(lista(1, lista(2, listaVacia))) devuelve \n",
        "# lista(1, lista(2, listaVacia))\n",
        "def copiarLista(unaLista):\n",
        "    if vacia(unaLista):\n",
        "        return listaVacia\n",
        "    else:\n",
        "        return lista(cabeza(unaLista), copiarLista(cola(unaLista)))\n",
        "\n",
        "# Test\n",
        "assert copiarLista(lista(1, lista(2, listaVacia))) == lista(1, lista(2, listaVacia))"
      ],
      "execution_count": null,
      "outputs": []
    },
    {
      "cell_type": "markdown",
      "metadata": {
        "id": "j-A-SbOHvI6T"
      },
      "source": [
        "### Función para unir dos listas\n",
        "\n",
        "Pensemos en los tests primero:"
      ]
    },
    {
      "cell_type": "code",
      "metadata": {
        "id": "0qxrqNBFvUM0"
      },
      "source": [
        "unaLista = lista(1, listaVacia)\n",
        "otraLista = lista(2, lista(3, listaVacia))\n",
        "assert unionListas(unaLista, otraLista) == lista(1, lista(2, lista(3, listaVacia)))"
      ],
      "execution_count": null,
      "outputs": []
    },
    {
      "cell_type": "code",
      "metadata": {
        "id": "mFrOrfs5tZvN"
      },
      "source": [
        "unaLista = lista(6, lista(8, listaVacia))\n",
        "otraLista = lista(4, lista(5, listaVacia))\n",
        "assert unionListas(unaLista, otraLista) == lista(6, lista(8, lista(4, lista(5, listaVacia))))"
      ],
      "execution_count": null,
      "outputs": []
    },
    {
      "cell_type": "markdown",
      "metadata": {
        "id": "aV3dpIxSvXTR"
      },
      "source": [
        "Escribimos la función:"
      ]
    },
    {
      "cell_type": "code",
      "metadata": {
        "id": "1neLLnM5tj3i"
      },
      "source": [
        "# unionListas: lista(any) lista(any) -> lista(any)\n",
        "# devuelve lista resultado de unir dos listas\n",
        "# ejemplo: unionListas(lista(1, listaVacia), lista(2, listaVacia)) \n",
        "# devuelve lista(1, lista(2, listaVacia))\n",
        "def unionListas(lista1, lista2):\n",
        "    if vacia(lista1):\n",
        "        return lista2\n",
        "    else:\n",
        "        return lista(cabeza(lista1), unionListas(cola(lista1), lista2))\n",
        "\n",
        "# Test\n",
        "unaLista = lista(1, listaVacia)\n",
        "otraLista = lista(2, lista(3, listaVacia))\n",
        "assert unionListas(unaLista, otraLista) == lista(1, lista(2, lista(3, listaVacia)))\n"
      ],
      "execution_count": null,
      "outputs": []
    }
  ]
}